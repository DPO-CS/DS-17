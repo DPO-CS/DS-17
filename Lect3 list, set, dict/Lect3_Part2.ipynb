{
 "cells": [
  {
   "cell_type": "markdown",
   "metadata": {},
   "source": [
    "Центр непрерывного образования\n",
    "\n",
    "# Программа «Python для автоматизации и анализа данных»"
   ]
  },
  {
   "cell_type": "markdown",
   "metadata": {},
   "source": [
    "## Множества"
   ]
  },
  {
   "cell_type": "markdown",
   "metadata": {},
   "source": [
    "<b>Множество</b> — cоставной тип данных, представляющий собой неупорядоченный набор уникальных объектов (элементов множества) под одним именем. Множества изменяемы и чаще всего используются для удаления дубликатов и всевозможных проверок на вхождение."
   ]
  },
  {
   "cell_type": "markdown",
   "metadata": {},
   "source": [
    "Чтобы задать множество, нужно в фигурных скобках перечислить его элементы.\n",
    "Создадим множество из четырех элементов (названий млекопитающих) и выведем на экран:"
   ]
  },
  {
   "cell_type": "code",
   "execution_count": 36,
   "metadata": {},
   "outputs": [
    {
     "name": "stdout",
     "output_type": "stream",
     "text": [
      "{'wolf', 4, 'dog', 'cat'}\n"
     ]
    }
   ],
   "source": [
    "animals = {'cat', 'dog', 4 , 'wolf'}\n",
    "print(animals)"
   ]
  },
  {
   "cell_type": "markdown",
   "metadata": {},
   "source": [
    "После запуска видим иной порядок, чем мы задали. Так происходит потому, что элементы в множестве Python не упорядочены. "
   ]
  },
  {
   "cell_type": "markdown",
   "metadata": {},
   "source": [
    "### Cоздание множества"
   ]
  },
  {
   "cell_type": "markdown",
   "metadata": {},
   "source": [
    "Для создания пустых множеств обязательно вызывать функцию `set()`:"
   ]
  },
  {
   "cell_type": "code",
   "execution_count": 37,
   "metadata": {},
   "outputs": [],
   "source": [
    "empty = set()"
   ]
  },
  {
   "cell_type": "markdown",
   "metadata": {},
   "source": [
    "Множество может содержать и строки, и числа."
   ]
  },
  {
   "cell_type": "code",
   "execution_count": 38,
   "metadata": {},
   "outputs": [
    {
     "name": "stdout",
     "output_type": "stream",
     "text": [
      "{2, 3, 4, 5, 'fox', 'dog', 'cat', 'wolf'}\n"
     ]
    }
   ],
   "source": [
    "animals_and_num = {'cat', 5, 'dog', 4, 'fox', 3, 'wolf', 2}\n",
    "print(animals_and_num)"
   ]
  },
  {
   "cell_type": "markdown",
   "metadata": {},
   "source": [
    " Обратите внимание, что Python опять выводит элементы множества в случайном порядке. "
   ]
  },
  {
   "cell_type": "markdown",
   "metadata": {},
   "source": [
    "Особенностью множества является то, что один  и тот же элемент <b>не может</b> входить в множество несколько раз. \n",
    "Элементы не упорядочены и нет возможности отличить один элемент от другого. Поэтому множество содержит только уникальные элементы, что делает его удобным инструментом для удаления дубликатов и проверок на вхождение."
   ]
  },
  {
   "cell_type": "code",
   "execution_count": 39,
   "metadata": {},
   "outputs": [
    {
     "name": "stdout",
     "output_type": "stream",
     "text": [
      "{'cat', 'wolf', 'dog', 'fox'}\n"
     ]
    }
   ],
   "source": [
    "animals = {'cat', 'cat', 'cat', 'dog', 'fox', 'wolf'}\n",
    "print(animals)"
   ]
  },
  {
   "cell_type": "markdown",
   "metadata": {},
   "source": [
    "### Важно!"
   ]
  },
  {
   "cell_type": "markdown",
   "metadata": {},
   "source": [
    "Подытожим, у множеств есть три ключевые особенности:\n",
    "<ul>\n",
    "<li>Порядок элементов в множестве не определен</li>\n",
    "<li>Элементы множеств — строки и/или числа</li>\n",
    "<li>Множество не может содержать одинаковых элементов</li>\n",
    "</ul>"
   ]
  },
  {
   "cell_type": "markdown",
   "metadata": {},
   "source": [
    "## Операции над множеством (одним)"
   ]
  },
  {
   "cell_type": "markdown",
   "metadata": {},
   "source": [
    "`len ()` - вычисление количества элементов множества:"
   ]
  },
  {
   "cell_type": "code",
   "execution_count": 41,
   "metadata": {},
   "outputs": [
    {
     "data": {
      "text/plain": [
       "3"
      ]
     },
     "execution_count": 41,
     "metadata": {},
     "output_type": "execute_result"
    }
   ],
   "source": [
    "my_set = {'a', 'b', 'c', 'a'}\n",
    "n = len(my_set)\n",
    "n"
   ]
  },
  {
   "cell_type": "markdown",
   "metadata": {},
   "source": [
    "#### Добавление элемента в множество"
   ]
  },
  {
   "cell_type": "markdown",
   "metadata": {},
   "source": [
    "Выполняется с помощью метода `.add()`. Метод - что-то вроде функции, «приклеенной» к конкретному множеству."
   ]
  },
  {
   "cell_type": "markdown",
   "metadata": {},
   "source": [
    "Если элемент, равный новому элементу, уже существует в множестве, оно не изменится, поскольку не может содержать одинаковых элементов. Ошибки при этом не произойдет."
   ]
  },
  {
   "cell_type": "code",
   "execution_count": 43,
   "metadata": {},
   "outputs": [
    {
     "name": "stdout",
     "output_type": "stream",
     "text": [
      "{'a', 'b'}\n"
     ]
    }
   ],
   "source": [
    "my_set = set()\n",
    "my_set.add('a')\n",
    "my_set.add('b')\n",
    "my_set.add('a')\n",
    "print(my_set)"
   ]
  },
  {
   "cell_type": "markdown",
   "metadata": {},
   "source": [
    "#### Удаление элемента"
   ]
  },
  {
   "cell_type": "markdown",
   "metadata": {},
   "source": [
    "Для удаления есть три метода: \\\n",
    "`.discard()`  - удалить заданный элемент, если он есть в множестве, и ничего не делать, если его нет; \\\n",
    "`.remove()` - удалить заданный элемент, если он есть, и породить ошибку `KeyError`, если нет; \\\n",
    "`.pop()` - удалить некоторый элемент из множества и возвратить его как результат."
   ]
  },
  {
   "cell_type": "code",
   "execution_count": 44,
   "metadata": {},
   "outputs": [
    {
     "name": "stdout",
     "output_type": "stream",
     "text": [
      "{'b', 'c'}\n"
     ]
    }
   ],
   "source": [
    "my_set = {'a', 'b', 'c'} \n",
    "my_set.discard('a')      # будет удален\n",
    "my_set.discard('boom')   # нет в множестве, ничего не делать\n",
    "print(my_set)"
   ]
  },
  {
   "cell_type": "code",
   "execution_count": 45,
   "metadata": {},
   "outputs": [
    {
     "name": "stdout",
     "output_type": "stream",
     "text": [
      "{'c'}\n"
     ]
    }
   ],
   "source": [
    "my_set.remove('b')       # будет удален\n",
    "print(my_set) "
   ]
  },
  {
   "cell_type": "code",
   "execution_count": 46,
   "metadata": {},
   "outputs": [
    {
     "ename": "KeyError",
     "evalue": "'game'",
     "output_type": "error",
     "traceback": [
      "\u001b[0;31m---------------------------------------------------------------------------\u001b[0m",
      "\u001b[0;31mKeyError\u001b[0m                                  Traceback (most recent call last)",
      "\u001b[0;32m/var/folders/qc/dzy0dz5x47q2yd53pdc35csr0000gn/T/ipykernel_3293/1833992487.py\u001b[0m in \u001b[0;36m<module>\u001b[0;34m\u001b[0m\n\u001b[0;32m----> 1\u001b[0;31m \u001b[0mmy_set\u001b[0m\u001b[0;34m.\u001b[0m\u001b[0mremove\u001b[0m\u001b[0;34m(\u001b[0m\u001b[0;34m'game'\u001b[0m\u001b[0;34m)\u001b[0m    \u001b[0;31m# не в множестве, вызовет ошибку KeyError\u001b[0m\u001b[0;34m\u001b[0m\u001b[0;34m\u001b[0m\u001b[0m\n\u001b[0m",
      "\u001b[0;31mKeyError\u001b[0m: 'game'"
     ]
    }
   ],
   "source": [
    "my_set.remove('game')    # не в множестве, вызовет ошибку KeyError"
   ]
  },
  {
   "cell_type": "code",
   "execution_count": 47,
   "metadata": {},
   "outputs": [
    {
     "data": {
      "text/plain": [
       "'c'"
      ]
     },
     "execution_count": 47,
     "metadata": {},
     "output_type": "execute_result"
    }
   ],
   "source": [
    "elem = my_set.pop() # удаляет из множества случайный элемент и возвращает его значение\n",
    "elem"
   ]
  },
  {
   "cell_type": "markdown",
   "metadata": {},
   "source": [
    "#### Очистка множества"
   ]
  },
  {
   "cell_type": "markdown",
   "metadata": {},
   "source": [
    "Очистить множество от всех элементов можно с помощью метода <b>clear</b>:"
   ]
  },
  {
   "cell_type": "code",
   "execution_count": 48,
   "metadata": {},
   "outputs": [],
   "source": [
    "my_set.clear()"
   ]
  },
  {
   "cell_type": "markdown",
   "metadata": {
    "id": "4yef-bLboqId"
   },
   "source": [
    "## Операции над множествам\n",
    "\n",
    "Еще одно очень полезное свойство множеств в Python — возможность выполнять операции над множествами, которые вам могут быть знакомы из математики или логики. Это операции *объединения*, *пересечения* и *разности*. \n",
    "\n",
    "Например, с их помощью мы можем решить следующие задачи:\n",
    "* получим список всех студентов, которые записались хотя бы на один из трех курсов по выбору (*объединение множеств студентов, записавшихся на каждый из курсов*);\n",
    "* выберем время для консультации, которое удобно всем студентам (*пересечение множеств временных интервалов, которые указал каждый студент как удобные*);\n",
    "* получим перечень продуктов, которые нужно докупить, чтобы приготовить шоколадный торт (*разность продуктов, перечисленных в рецепте, и тех, которые есть дома*).\n",
    "\n",
    "Давайте разбираться, как эти операции реализованы в Python.\n",
    "\n",
    "Представим, что вы и ваш друг снимаете квартиру, и вы решили завести домашнее животное. Хозяева согласны, но только одно! Каждый из вас составил список животных, на которых он согласен. "
   ]
  },
  {
   "cell_type": "code",
   "execution_count": null,
   "metadata": {
    "colab": {
     "base_uri": "https://localhost:8080/",
     "height": 51
    },
    "id": "S3OoyMDnSDLl",
    "outputId": "59d18ffc-244a-4c26-fe11-32b76a62d419"
   },
   "outputs": [
    {
     "name": "stdout",
     "output_type": "stream",
     "text": [
      "Животные, которых хочу завести я: ужик кошка шиншилла рыбка\n",
      "Животные, которых хочет завести мой друг: ужик питон собака кошка хамелеон\n"
     ]
    }
   ],
   "source": [
    "my_pets_list = {'кошка', 'рыбка', 'шиншилла', 'ужик'}\n",
    "friend_pets_list = {'собака', 'питон', 'ужик', 'кошка', 'хамелеон'}\n",
    "\n",
    "print(f'Животные, которых хочу завести я:', *my_pets_list)\n",
    "print(f'Животные, которых хочет завести мой друг:', *friend_pets_list)"
   ]
  },
  {
   "cell_type": "markdown",
   "metadata": {
    "id": "WjWtOvf5T9FA"
   },
   "source": [
    "Множества удобно представлять в виде диаграмм Эйлера — Венна, и мы тоже будем ими пользоваться.  \n",
    "\n",
    "<img src='https://github.com/rogovich/Data/blob/master/img/eiler_1.png?raw=true' width=\"300\">\n",
    "\n",
    "\n",
    "\n",
    "* Зеленый круг — животные, которых хотите завести вы. \n",
    "* Оранжевый круг — животные, которых хочет завести ваш друг.\n",
    "* Голубая область на пересечении кругов — животные, которых хотите завести вы оба."
   ]
  },
  {
   "cell_type": "markdown",
   "metadata": {
    "id": "KNCAm84ZpdSN"
   },
   "source": [
    "## Объединение\n",
    "\n",
    "Операция *объединения* множеств A и B создает множество, содержащее все уникальные элементы входящие в оба множества.\n",
    "\n",
    "<img src='https://github.com/rogovich/Data/blob/master/img/eiler_2.png?raw=true' width=\"300\">\n",
    "\n",
    "В нашем примере объединением будет список всех животных, которых хотя бы кто-то из вас не против завести\n",
    "\n",
    "В Python объедение множеств можно получить двумя способами\n",
    "* `A | B` — с помощью оператора объединения `|` (вертикальная черта)\n",
    "* `A.union(B)` — с помощью метода множеств `.union()`, который вызывается от одного множества и берет аргументом второе.\n",
    "\n",
    "Какой бы способ вы ни использовали, для операции объединения порядок множеств не важен. Так, результат объединения `A | B` совпадёт с результатом объединения `B | A`.\n",
    "\n",
    "\n"
   ]
  },
  {
   "cell_type": "code",
   "execution_count": null,
   "metadata": {
    "colab": {
     "base_uri": "https://localhost:8080/",
     "height": 51
    },
    "id": "HDzSOTjAoYsd",
    "outputId": "6d7a1526-0b37-4151-c92d-1a83c3fc904c"
   },
   "outputs": [
    {
     "name": "stdout",
     "output_type": "stream",
     "text": [
      "Животные, которых мы не против завести: {'ужик', 'питон', 'рыбка', 'собака', 'кошка', 'хамелеон', 'шиншилла'}\n",
      "Животные, которых мы не против завести: {'ужик', 'питон', 'рыбка', 'собака', 'кошка', 'хамелеон', 'шиншилла'}\n"
     ]
    }
   ],
   "source": [
    "my_pets_list = {'кошка', 'рыбка', 'шиншилла', 'ужик'}\n",
    "friend_pets_list = {'собака', 'питон', 'ужик', 'кошка', 'хамелеон'}\n",
    "\n",
    "# Находим объединение с помощью оператора `|`\n",
    "print(f'Животные, которых мы не против завести: {my_pets_list | friend_pets_list}')\n",
    "\n",
    "# Находим объединение с помощью метода `.union()`\n",
    "print(f'Животные, которых мы не против завести: {my_pets_list.union(friend_pets_list)}')"
   ]
  },
  {
   "cell_type": "markdown",
   "metadata": {
    "id": "J1Ynb-cesUDh"
   },
   "source": [
    "## Пересечение\n",
    "\n",
    "Операция *пересечения* множеств A и B создает множество, содержащее только те элементы, которые одновременно входят и в A, и в B.\n",
    "\n",
    "В нашем примере пересечением будут те животные, которых одновременно хотите завести и вы, и ваш друг — голубая область на рисунке.\n",
    "\n",
    "<img src='https://github.com/rogovich/Data/blob/master/img/eiler_1.png?raw=true' width=\"300\">\n",
    "\n",
    "В Python пересечение множеств можно получить двумя способами\n",
    "* `A & B` — с помощью оператора пересечения `&` (амперсанд)\n",
    "* `A.intersection(B)` — с помощью метода множеств `.intersection()`, который вызывается от одного множества и берет аргументом второе.\n",
    "\n",
    "Как и в случае с объединением множеств, порядок множеств для операции пересечения не важен.\n"
   ]
  },
  {
   "cell_type": "code",
   "execution_count": null,
   "metadata": {
    "colab": {
     "base_uri": "https://localhost:8080/",
     "height": 51
    },
    "id": "I4jp7Fc9rx5v",
    "outputId": "8b6dbc43-5483-4963-e23d-6c9b6e6eeb82"
   },
   "outputs": [
    {
     "name": "stdout",
     "output_type": "stream",
     "text": [
      "Животные, которые нравятся нам обоим: {'ужик', 'кошка'}\n",
      "Животные, которые нравятся нам обоим: {'ужик', 'кошка'}\n"
     ]
    }
   ],
   "source": [
    "my_pets_list = {'кошка', 'рыбка', 'шиншилла', 'ужик'}\n",
    "friend_pets_list = {'собака', 'питон', 'ужик', 'кошка', 'хамелеон'}\n",
    "\n",
    "# Находим пересечение с помощью оператора `&`\n",
    "print(f'Животные, которые нравятся нам обоим: {my_pets_list & friend_pets_list}')\n",
    "\n",
    "# Находим объединение с помощью метода `.intersection()`\n",
    "print(f'Животные, которые нравятся нам обоим: {my_pets_list.intersection(friend_pets_list)}')"
   ]
  },
  {
   "cell_type": "markdown",
   "metadata": {
    "id": "JzEYkU8DvB5g"
   },
   "source": [
    "## Разность \n",
    "\n",
    "Операция *разности* множеств A и B создает множество, содержащее только те элементы, которые входят в A, но не входят в B (или наоборот).\n",
    "\n",
    "В нашем примере результатом разности множеств будет либо множество животных, которые нравятся вам, но не нравятся вашему другу, и наоборот.\n",
    "\n",
    "Животные, которые нравятся мне и не нравятся другу:  \n",
    "<img src='https://github.com/rogovich/Data/blob/master/img/eiler_4.png?raw=true' width=\"300\">\n",
    "\n",
    "Животные, которые нравятся другу и не нравятся мне:  \n",
    "<img src='https://github.com/rogovich/Data/blob/master/img/eiler_3.png?raw=true' width=\"300\">\n",
    "\n",
    "В Python разность множеств можно получить двумя способами\n",
    "* `A - B` — с помощью оператора `-` \n",
    "* `A.difference(B)` — с помощью метода множеств `.difference()`, который вызывается от одного множества и берет аргументом второе.\n",
    "\n",
    "**ВАЖНО!** В отличие от операций объединения и пересечения, для операции разности важен порядок элементов. Так `A - B` вернет множество только тех элементов, которые входят в A, но не входят в B. А `B - A` — наоборот.\n",
    "\n"
   ]
  },
  {
   "cell_type": "code",
   "execution_count": null,
   "metadata": {
    "colab": {
     "base_uri": "https://localhost:8080/",
     "height": 51
    },
    "id": "YUQH3j2QNZe3",
    "outputId": "24bcb89f-6f8e-41f8-cd1e-79ac3e508a68"
   },
   "outputs": [
    {
     "name": "stdout",
     "output_type": "stream",
     "text": [
      "Животные, которые нравятся мне, но не нравятся другу: {'шиншилла', 'рыбка'}\n",
      "Животные, которые нравятся другу, но не нравятся мне: {'питон', 'хамелеон', 'собака'}\n"
     ]
    }
   ],
   "source": [
    "my_pets_list = {'кошка', 'рыбка', 'шиншилла', 'ужик'}\n",
    "friend_pets_list = {'собака', 'питон', 'ужик', 'кошка', 'хамелеон'}\n",
    "\n",
    "# Находим разность с помощью оператора `-`\n",
    "print(f'Животные, которые нравятся мне, но не нравятся другу: {my_pets_list - friend_pets_list}')\n",
    "\n",
    "# Находим разность с помощью метода `.difference()`\n",
    "# Обратите внимание, что мы поменяли наши множества местами и результат изменится\n",
    "print(f'Животные, которые нравятся другу, но не нравятся мне: {friend_pets_list.difference(my_pets_list)}')"
   ]
  },
  {
   "cell_type": "markdown",
   "metadata": {
    "id": "5D2CGOAn32pB"
   },
   "source": [
    "## Симметрическая разность\n",
    "\n",
    "Иногда нам нужно найти все элементы, входящие в A или в B, но не в оба из них одновременно.\n",
    "\n",
    "В нашем примере это те животные, которых мы точно не заведем (они не нравятся кому-то из вас, а значит в шорт-лист точно не попадут).\n",
    "\n",
    "<img src='https://github.com/rogovich/Data/blob/master/img/eiler_5.png?raw=true' width=\"300\">\n",
    "\n",
    "Операция, которая возвращает нам такое множество, называется операцией *симметрической разности*.\n",
    "\n",
    "В Python симметрическую разность множеств можно получить двумя способами\n",
    "\n",
    "* `A ^ B` — с помощью оператора `^`\n",
    "* `A.symmetric_difference(B)` — с помощью метода множеств `.symmetric_difference()`, который вызывается от одного множества и берет аргументом второе.\n",
    "\n",
    "Здесь, в отличие от разности, порядок множеств опять не важен."
   ]
  },
  {
   "cell_type": "code",
   "execution_count": null,
   "metadata": {
    "colab": {
     "base_uri": "https://localhost:8080/",
     "height": 51
    },
    "id": "TkOBjFv5NpfI",
    "outputId": "0af4fc5b-3e51-4c72-ecf8-635e2a2b36e1"
   },
   "outputs": [
    {
     "name": "stdout",
     "output_type": "stream",
     "text": [
      "Этих животных мы точно заводить не будем: {'питон', 'рыбка', 'хамелеон', 'собака', 'шиншилла'}\n",
      "Этих животных мы точно заводить не будем: {'питон', 'рыбка', 'хамелеон', 'собака', 'шиншилла'}\n"
     ]
    }
   ],
   "source": [
    "my_pets_list = {'кошка', 'рыбка', 'шиншилла', 'ужик'}\n",
    "friend_pets_list = {'собака', 'питон', 'ужик', 'кошка', 'хамелеон'}\n",
    "\n",
    "# Находим симметрическую разность с помощью оператора `^`\n",
    "print(f'Этих животных мы точно заводить не будем: {my_pets_list ^ friend_pets_list}')\n",
    "\n",
    "# Находим симметрическую разность с помощью метода `.symmetric_difference()`\n",
    "print(f'Этих животных мы точно заводить не будем: {my_pets_list.symmetric_difference(friend_pets_list)}')"
   ]
  },
  {
   "cell_type": "markdown",
   "metadata": {
    "id": "xj5PYsvH5o90"
   },
   "source": [
    "Если вдруг вам так проще, то симметрическую разность можно представить как разность между объединением и пересечением множеств A и B :) Или как объединение разностей `A - B` и `B - A`.\n",
    "\n",
    "Мы можем выполнять операции над множествами последовательно в одной строке. Операции будут выполняться слева направо, никаких особых приоритетов у операций нет (таких как, например, приоритет умножения над сложением в арифметике). Поэтому не забудьте расставить скобки для определения приоритета операций, если это требуется.\n"
   ]
  },
  {
   "cell_type": "code",
   "execution_count": null,
   "metadata": {
    "colab": {
     "base_uri": "https://localhost:8080/",
     "height": 34
    },
    "id": "RSeAyBkE4zWh",
    "outputId": "bd3f9cbe-e67c-4b86-845e-afc80fd586c0"
   },
   "outputs": [
    {
     "name": "stdout",
     "output_type": "stream",
     "text": [
      "Этих животных мы точно заводить не будем: {'питон', 'рыбка', 'собака', 'хамелеон', 'шиншилла'}\n"
     ]
    }
   ],
   "source": [
    "my_pets_list = {'кошка', 'рыбка', 'шиншилла', 'ужик'}\n",
    "friend_pets_list = {'собака', 'питон', 'ужик', 'кошка', 'хамелеон'}\n",
    "\n",
    "# Найдем симметрическую разность, как разность объединения и пересечения двух множеств\n",
    "# Обратите внимание, что сейчас скобки расставлены корректно и порядок действий правильный\n",
    "pets_sym_diff = (my_pets_list | friend_pets_list) - (my_pets_list & friend_pets_list)\n",
    "print(f'Этих животных мы точно заводить не будем: {pets_sym_diff}')\n"
   ]
  },
  {
   "cell_type": "markdown",
   "metadata": {
    "id": "qg_V6aQ2YhuU"
   },
   "source": [
    "Давайте разберем по шагам, как сработало наше выражение   \n",
    "`(my_pets_list | friend_pets_list) - (my_pets_list & friend_pets_list)`\n",
    "\n",
    "* Сначала вычислим объединение двух множеств в первых скобках — всех животных, которых хотя бы один из вас не против завести. \n",
    "`my_pets_list | friend_pets_list`  \n"
   ]
  },
  {
   "cell_type": "code",
   "execution_count": null,
   "metadata": {
    "colab": {
     "base_uri": "https://localhost:8080/",
     "height": 51
    },
    "id": "uF5evWUgYudj",
    "outputId": "56a91f24-1f2f-4cac-9b8a-6eeca10b7a25"
   },
   "outputs": [
    {
     "name": "stdout",
     "output_type": "stream",
     "text": [
      "Шаг 1. Объединение множеств my_pets_list | friend_pets_list:\n",
      "{'ужик', 'питон', 'рыбка', 'собака', 'кошка', 'хамелеон', 'шиншилла'}\n"
     ]
    }
   ],
   "source": [
    "my_pets_list = {'кошка', 'рыбка', 'шиншилла', 'ужик'}\n",
    "friend_pets_list = {'собака', 'питон', 'ужик', 'кошка', 'хамелеон'}\n",
    "\n",
    "pets_union = my_pets_list | friend_pets_list\n",
    "\n",
    "print(f'Шаг 1. Объединение множеств my_pets_list | friend_pets_list:\\n{pets_union}')"
   ]
  },
  {
   "cell_type": "markdown",
   "metadata": {
    "id": "0wDgaSR1YzZ4"
   },
   "source": [
    "* Теперь вычислим пересечение двух множеств во вторых скобках — те животные, которые нравятся одновременно вам обоим.\n",
    "`my_pets_list & friend_pets_list`"
   ]
  },
  {
   "cell_type": "code",
   "execution_count": null,
   "metadata": {
    "colab": {
     "base_uri": "https://localhost:8080/",
     "height": 86
    },
    "id": "PMZgFEh-Y_Vt",
    "outputId": "7c3fc415-de0f-4683-b554-f46b10d2ffaf"
   },
   "outputs": [
    {
     "name": "stdout",
     "output_type": "stream",
     "text": [
      "Шаг 1. Объединение множеств my_pets_list и friend_pets_list:\n",
      "{'ужик', 'питон', 'рыбка', 'собака', 'кошка', 'хамелеон', 'шиншилла'}\n",
      "Шаг 2. Пересечение множеств my_pets_list и friend_pets_list:\n",
      "{'ужик', 'кошка'}\n"
     ]
    }
   ],
   "source": [
    "my_pets_list = {'кошка', 'рыбка', 'шиншилла', 'ужик'}\n",
    "friend_pets_list = {'собака', 'питон', 'ужик', 'кошка', 'хамелеон'}\n",
    "\n",
    "pets_union = my_pets_list | friend_pets_list\n",
    "\n",
    "print(f'Шаг 1. Объединение множеств my_pets_list и friend_pets_list:\\n{pets_union}')\n",
    "\n",
    "pets_intersection = my_pets_list & friend_pets_list\n",
    "print(f'Шаг 2. Пересечение множеств my_pets_list и friend_pets_list:\\n{pets_intersection}')"
   ]
  },
  {
   "cell_type": "markdown",
   "metadata": {
    "id": "pyPAtzNiZDf2"
   },
   "source": [
    "* Теперь найдем разность объединения множеств `pets_union` и пересечения множеств `pets_intersection` — животные, которые нравятся хоть кому-то из вас, минус животные, которые нравятся вам обоим одновременно. Это и есть симметрическая разность по определению."
   ]
  },
  {
   "cell_type": "code",
   "execution_count": null,
   "metadata": {
    "colab": {
     "base_uri": "https://localhost:8080/",
     "height": 137
    },
    "id": "7g0YmF4_ZObh",
    "outputId": "e5e16842-fb81-41fa-ad8a-721ae3261fb4"
   },
   "outputs": [
    {
     "name": "stdout",
     "output_type": "stream",
     "text": [
      "Шаг 1. Объединение множеств my_pets_list и friend_pets_list:\n",
      "{'ужик', 'питон', 'рыбка', 'собака', 'кошка', 'хамелеон', 'шиншилла'}\n",
      "Шаг 2. Пересечение множеств my_pets_list и friend_pets_list:\n",
      "{'ужик', 'кошка'}\n",
      "Шаг 3. Симметрическая разность my_pets_list и friend_pets_list:\n",
      "{'питон', 'рыбка', 'собака', 'хамелеон', 'шиншилла'}\n",
      "В симметрической разности этих двух множеств 5 элементов.\n"
     ]
    }
   ],
   "source": [
    "my_pets_list = {'кошка', 'рыбка', 'шиншилла', 'ужик'}\n",
    "friend_pets_list = {'собака', 'питон', 'ужик', 'кошка', 'хамелеон'}\n",
    "\n",
    "pets_union = my_pets_list | friend_pets_list\n",
    "\n",
    "print(f'Шаг 1. Объединение множеств my_pets_list и friend_pets_list:\\n{pets_union}')\n",
    "\n",
    "pets_intersection = my_pets_list & friend_pets_list\n",
    "print(f'Шаг 2. Пересечение множеств my_pets_list и friend_pets_list:\\n{pets_intersection}')\n",
    "\n",
    "pets_sym_diff = pets_union - pets_intersection\n",
    "print(f'Шаг 3. Симметрическая разность my_pets_list и friend_pets_list:', pets_sym_diff, sep='\\n')\n",
    "print(f'В симметрической разности этих двух множеств {len(pets_sym_diff)} элементов.')"
   ]
  },
  {
   "cell_type": "markdown",
   "metadata": {
    "id": "5Nsvlfw-6h0z"
   },
   "source": [
    "Давайте посмотрим, что получится, если скобки не расставлять и записать все действия подряд:  \n",
    "`my_pets_list | friend_pets_list - my_pets_list & friend_pets_list`"
   ]
  },
  {
   "cell_type": "code",
   "execution_count": null,
   "metadata": {
    "colab": {
     "base_uri": "https://localhost:8080/",
     "height": 69
    },
    "id": "iSkjE9Ke6cgp",
    "outputId": "6bb889ac-d95d-4a21-b575-71439512ee41"
   },
   "outputs": [
    {
     "name": "stdout",
     "output_type": "stream",
     "text": [
      "Это НЕ симметрическая разность my_pets_list и friend_pets_list:\n",
      "{'ужик', 'питон', 'кошка', 'рыбка', 'хамелеон', 'собака', 'шиншилла'}\n",
      "В этом множестве 7 элементов\n"
     ]
    }
   ],
   "source": [
    "pets_sym_diff_error = my_pets_list | friend_pets_list - my_pets_list & friend_pets_list\n",
    "print(f'Это НЕ симметрическая разность my_pets_list и friend_pets_list:', pets_sym_diff_error, sep='\\n')\n",
    "print(f'В этом множестве {len(pets_sym_diff_error)} элементов')"
   ]
  },
  {
   "cell_type": "markdown",
   "metadata": {
    "id": "FF6dr34UYXNA"
   },
   "source": [
    "Здесь мы сначала нашли объединение ` my_pets_list | friend_pets_list` (как и в правильном порядке действий), потом разность этого пересечения с множеством `my_pets_list` и эту разность пересекли с множеством `friend_pets_list`. Как мы видим, порядок действий нарушился и ответ получился неправильный — симметрическую разность таким образом мы не нашли.\n",
    "\n",
    "Попробуйте разобрать этот код по шагам и посмотреть, какие множества получаются на каждом шаге."
   ]
  },
  {
   "cell_type": "markdown",
   "metadata": {
    "id": "DzwcvgQQfZjZ"
   },
   "source": [
    "## Так кого же заведем?\n",
    "\n",
    "Как вы уже поняли, заводить мы будем кого-то из тех животных, которые попали в пересечение множеств животных, которые нравятся и вам и вашему другу."
   ]
  },
  {
   "cell_type": "code",
   "execution_count": null,
   "metadata": {
    "colab": {
     "base_uri": "https://localhost:8080/",
     "height": 34
    },
    "id": "VOR3hl_dfnEq",
    "outputId": "ef9e928c-0057-4dcd-8ad1-e00b4662c875"
   },
   "outputs": [
    {
     "name": "stdout",
     "output_type": "stream",
     "text": [
      "Будем выбирать из: {'ужик', 'кошка'}\n"
     ]
    }
   ],
   "source": [
    "my_pets_list = {'кошка', 'рыбка', 'шиншилла', 'ужик'}\n",
    "friend_pets_list = {'собака', 'питон', 'ужик', 'кошка', 'хамелеон'}\n",
    "\n",
    "pets_short_list = my_pets_list & friend_pets_list\n",
    "print(f'Будем выбирать из: {pets_short_list}')"
   ]
  },
  {
   "cell_type": "markdown",
   "metadata": {
    "id": "96CRZZvMf_m2"
   },
   "source": [
    "Тут ваш друг напомнил вам про такое прекрасное животное как черепашка. Так как черепашки нравятся вам обоим вы немедленно добавили ее в шорт-лист."
   ]
  },
  {
   "cell_type": "code",
   "execution_count": null,
   "metadata": {
    "colab": {
     "base_uri": "https://localhost:8080/",
     "height": 34
    },
    "id": "YS0BTaOLfzLn",
    "outputId": "29ca790e-d9d6-4390-f1c9-b5ab64808a4e"
   },
   "outputs": [
    {
     "name": "stdout",
     "output_type": "stream",
     "text": [
      "Будем выбирать из: {'ужик', 'черепашка', 'кошка'}\n"
     ]
    }
   ],
   "source": [
    "pets_short_list.add('черепашка')\n",
    "print(f'Будем выбирать из: {pets_short_list}')"
   ]
  },
  {
   "cell_type": "markdown",
   "metadata": {
    "id": "C38jooptgpAX"
   },
   "source": [
    "Вы решили отправить список финалистов на роль вашего нового питомца на утверждение хозяевам квартиры. Они все еще не против животных, но теперь поставили условие, что животное обязательно должно жить в аквариуме или клетке. Никаких кошек!"
   ]
  },
  {
   "cell_type": "code",
   "execution_count": null,
   "metadata": {
    "colab": {
     "base_uri": "https://localhost:8080/",
     "height": 86
    },
    "id": "z5Xdo-nQgV14",
    "outputId": "2226691a-b384-4ca9-e929-02c2920ef692"
   },
   "outputs": [
    {
     "name": "stdout",
     "output_type": "stream",
     "text": [
      "Кто из животных, которые нравятся нам обоим, может жить в клетке:\n",
      "set()\n",
      "Кто из животных, которые нравятся нам обоим, может жить в аквариуме:\n",
      "{'ужик', 'черепашка'}\n"
     ]
    }
   ],
   "source": [
    "pets_cage = {'шиншилла', 'хомячок', 'морская свинка', 'попугайчик', 'канарейка'}\n",
    "pets_aquarium = {'ужик', 'рыбка', 'хамелено', 'питон', 'черепашка', 'улитка'}\n",
    "\n",
    "# В выводе увидим пустое множество, потому что ни одно из наших животных не может жить в клетке\n",
    "print(f'Кто из животных, которые нравятся нам обоим, может жить в клетке:\\n{pets_short_list & pets_cage}') \n",
    "\n",
    "print(f'Кто из животных, которые нравятся нам обоим, может жить в аквариуме:\\n{pets_short_list & pets_aquarium}')"
   ]
  },
  {
   "cell_type": "markdown",
   "metadata": {
    "id": "rjw7mO8ZiEB9"
   },
   "source": [
    "Ну что ж, покупаем аквариум и выбираем из двух вариантов: ужик или черепашка."
   ]
  },
  {
   "cell_type": "code",
   "execution_count": null,
   "metadata": {
    "colab": {
     "base_uri": "https://localhost:8080/",
     "height": 51
    },
    "id": "R6ofrHmHhzVD",
    "outputId": "836fd181-1366-49c3-9d1d-76fc31d16ec0",
    "scrolled": true
   },
   "outputs": [
    {
     "name": "stdout",
     "output_type": "stream",
     "text": [
      "Ну что, кто здесь лишний? черепашка\n",
      "Решено! Наше домашнее животное — ужик\n"
     ]
    }
   ],
   "source": [
    "# Пересечение множеств животных из нашего шорт-листа и животных, которые могут жить в аквариуме, — \n",
    "# итоговое множество, из которого будем выбирать\n",
    "pets_final = pets_short_list & pets_aquarium  \n",
    "\n",
    "pet = input('Ну что, кто здесь лишний? ')\n",
    "pets_final.remove(pet) # Удалим введенное животное из множества финалистов\n",
    "\n",
    "print('Решено! Наше домашнее животное —', *pets_final)"
   ]
  },
  {
   "cell_type": "markdown",
   "metadata": {},
   "source": [
    "## Сравнение множеств"
   ]
  },
  {
   "cell_type": "markdown",
   "metadata": {},
   "source": [
    "Чтобы проверить, равны ли два множества, можно использовать оператор `==`."
   ]
  },
  {
   "cell_type": "code",
   "execution_count": 3,
   "metadata": {},
   "outputs": [
    {
     "name": "stdout",
     "output_type": "stream",
     "text": [
      "Множества одинаковые\n"
     ]
    }
   ],
   "source": [
    "set1 = {1, 2, 3}\n",
    "set2 = {3, 2, 1}\n",
    "\n",
    "if set1 == set2:\n",
    "    print(\"Множества одинаковые\")\n",
    "else:\n",
    "    print(\"Множества не одинаковые\")"
   ]
  },
  {
   "cell_type": "markdown",
   "metadata": {},
   "source": [
    "Чтобы проверить, является ли одно множество **подмножеством** другого множества, можно использовать оператор `<=`."
   ]
  },
  {
   "cell_type": "code",
   "execution_count": 6,
   "metadata": {},
   "outputs": [
    {
     "name": "stdout",
     "output_type": "stream",
     "text": [
      "set1 – это подмножество set2\n"
     ]
    }
   ],
   "source": [
    "set1 = {1, 2, 3}\n",
    "set2 = {1, 2, 3, 4, 5}\n",
    "\n",
    "if set1 <= set2:\n",
    "    print(\"set1 – это подмножество set2\")\n",
    "else:\n",
    "    print(\"set1 не является подмножеством set2\")"
   ]
  },
  {
   "cell_type": "markdown",
   "metadata": {},
   "source": [
    "Чтобы проверить, является ли одно множество **супермножеством** другого множества, можно использовать оператор `>=`."
   ]
  },
  {
   "cell_type": "code",
   "execution_count": 8,
   "metadata": {},
   "outputs": [
    {
     "name": "stdout",
     "output_type": "stream",
     "text": [
      "set1 – это супермножество set2\n"
     ]
    }
   ],
   "source": [
    "set1 = {1, 2, 3, 4, 5}\n",
    "set2 = {1, 2, 3}\n",
    "\n",
    "if set1 >= set2:\n",
    "    print(\"set1 – это супермножество set2\")\n",
    "else:\n",
    "    print(\"set1 не является супермножеством set2\")"
   ]
  },
  {
   "cell_type": "markdown",
   "metadata": {},
   "source": [
    "Наконец, чтобы проверить, **строго ли одно множество больше другого** (т.е. содержит ли оно все элементы другого множества и еще хотя бы один элемент), можно использовать оператор `>`."
   ]
  },
  {
   "cell_type": "code",
   "execution_count": 12,
   "metadata": {},
   "outputs": [
    {
     "name": "stdout",
     "output_type": "stream",
     "text": [
      "set1 строго больше set2\n"
     ]
    }
   ],
   "source": [
    "set1 = {1, 2, 3, 4}\n",
    "set2 = {1, 2, 3}\n",
    "\n",
    "if set1 >= set2:\n",
    "    print(\"set1 строго больше set2\")\n",
    "else:\n",
    "    print(\"set1 не строго больше set2\")"
   ]
  },
  {
   "cell_type": "code",
   "execution_count": null,
   "metadata": {},
   "outputs": [],
   "source": [
    "set1 = {1, 2, 3}\n",
    "set2 = {2, 3, 4}\n",
    "set3 = {1, 2, 3, 4}\n",
    "\n",
    "print(set1 == set2)  # False\n",
    "print(set1 < set2)   # False\n",
    "print(set1 > set2)   # False\n",
    "print(set1 <= set2)  # False\n",
    "print(set1 >= set2)  # False\n",
    "\n",
    "print(set1 == set3)  # False\n",
    "print(set1 < set3)   # True\n",
    "print(set1 > set3)   # False\n",
    "print(set1 <= set3)  # True\n",
    "print(set1 >= set3)  # False"
   ]
  },
  {
   "cell_type": "markdown",
   "metadata": {},
   "source": [
    "**Задача 1.**\n",
    "\n",
    "Аня и Маша  играют в игру. Аня вводит число, а Маша должна ввести число, в котором есть только те цифры, которые есть в числе Ани.\n",
    "Если Маша ввела верное число, то выводится \"Верное число!\". В противном случае \"Такое число нельзя использовать(\""
   ]
  },
  {
   "cell_type": "code",
   "execution_count": 4,
   "metadata": {
    "scrolled": true
   },
   "outputs": [
    {
     "name": "stdout",
     "output_type": "stream",
     "text": [
      "123\n",
      "32\n",
      "{'2', '1', '3'}\n",
      "{'2', '3'}\n"
     ]
    }
   ],
   "source": [
    "anya = set(input())\n",
    "masha = set(input())\n",
    "\n",
    "print(anya)\n",
    "print(masha)"
   ]
  },
  {
   "cell_type": "code",
   "execution_count": 5,
   "metadata": {},
   "outputs": [
    {
     "data": {
      "text/plain": [
       "{'2', '3'}"
      ]
     },
     "execution_count": 5,
     "metadata": {},
     "output_type": "execute_result"
    }
   ],
   "source": [
    "anya & masha"
   ]
  },
  {
   "cell_type": "code",
   "execution_count": 6,
   "metadata": {},
   "outputs": [
    {
     "name": "stdout",
     "output_type": "stream",
     "text": [
      "Верное число!\n"
     ]
    }
   ],
   "source": [
    "if anya & masha == masha:\n",
    "    print('Верное число!')\n",
    "else:\n",
    "    print('Такое число нельзя использовать(')"
   ]
  },
  {
   "cell_type": "markdown",
   "metadata": {},
   "source": [
    "**Задача 2.**\n",
    "\n",
    "В онлайн-магазине существует автоматическая проверка на наличие товаров из корзины пользователя на складе. Маша положила в корзину хлеб, молоко, бананы и манго. Товары на складе указаны в переменной `inventory`.\n",
    "\n",
    "Напишите программу, которая выдаст Маше \"Вы можете оплатить покупку\", если все товары есть на складе. И \"Один или несколько товаров недоступны к покупке.\", если не все товары есть."
   ]
  },
  {
   "cell_type": "code",
   "execution_count": 14,
   "metadata": {},
   "outputs": [
    {
     "name": "stdout",
     "output_type": "stream",
     "text": [
      "Один или несколько товаров недоступны к покупке.\n"
     ]
    }
   ],
   "source": [
    "masha = {'хлеб', 'молоко', 'бананы', 'манго', 'компьютер'}\n",
    "inventory = {'хлеб', 'булочка', 'бананы', 'молоко', 'кефир', 'йогурт', 'яблоки', 'помидоры', 'манго'}\n",
    "\n",
    "# ваш код\n",
    "\n"
   ]
  },
  {
   "cell_type": "markdown",
   "metadata": {},
   "source": [
    "**Задача 3.**\n",
    "\n",
    "Вам поручили проанализировать список гостей на свадьбе. В качестве данных вам предоставили два множества: гости со стороны жениха (groom) и гости со стороны невесты (bride). При этом некоторые гости есть в списках и жениха, и невесты одновременно. \n",
    "\n",
    "Нужно вывести: \n",
    "\n",
    "* Количество гостей на свадьбе (помните, что некоторые гости есть в списках и жениха, и невесты одновременно)\n",
    "* Выведите имена общих гостей жениха и невесты отсортированные по алфавиту\n",
    "* Выведите имена тех гостей, которые не являются общими гостями жениха и невесты отсортированные по алфавиту\n",
    "* Выведите имена гостей невесты, но только тех, кто не являются при этом гостями жениха отсортированные по алфавиту"
   ]
  },
  {
   "cell_type": "code",
   "execution_count": null,
   "metadata": {},
   "outputs": [],
   "source": [
    "groom = {'Татьяна', 'Мария', 'Ирина', 'Юлия', 'Александр', 'Михаил', 'Максим',\n",
    "         'Лев', 'Артём', 'Марк', 'Иван', 'Дмитрий', 'Матвей', 'Даниил'}\n",
    "bride = {'Анастасия', 'Елена', 'Даниил', 'Ольга', 'Наталья', 'Екатерина', \n",
    "         'Анна', 'Татьяна', 'Мария', 'Ирина', 'Юлия', 'Марк', 'Иван'}\n",
    "\n",
    "# ваш код"
   ]
  }
 ],
 "metadata": {
  "kernelspec": {
   "display_name": "Python 3 (ipykernel)",
   "language": "python",
   "name": "python3"
  },
  "language_info": {
   "codemirror_mode": {
    "name": "ipython",
    "version": 3
   },
   "file_extension": ".py",
   "mimetype": "text/x-python",
   "name": "python",
   "nbconvert_exporter": "python",
   "pygments_lexer": "ipython3",
   "version": "3.9.18"
  }
 },
 "nbformat": 4,
 "nbformat_minor": 4
}
