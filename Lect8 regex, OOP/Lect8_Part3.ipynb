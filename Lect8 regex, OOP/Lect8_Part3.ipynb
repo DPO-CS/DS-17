{
 "cells": [
  {
   "cell_type": "markdown",
   "id": "9205b164",
   "metadata": {},
   "source": [
    "Центр непрерывного образования\n",
    "\n",
    "# Программа «Python для автоматизации и анализа данных»\n",
    "\n",
    "# Декораторы\n",
    "\n",
    "*Дарья Касьяненко, НИУ ВШЭ*"
   ]
  },
  {
   "cell_type": "markdown",
   "id": "7bd8a433",
   "metadata": {},
   "source": [
    "Декоратор в Python - это специальная конструкция, которая позволяет изменять поведение функции без изменения её самой. \n",
    "\n",
    "Представьте, что у вас есть функция, которую вы хотите изменить или расширить. Вместо того, чтобы изменять код этой функции, вы можете создать декоратор, который будет добавлять нужное вам дополнительное поведение. Декоратор обычно принимает оригинальную функцию в качестве аргумента, создаёт новую функцию (обертку) вокруг неё и возвращает эту обертку.\n",
    "\n",
    "Когда вы применяете декоратор к функции, вы фактически заменяете оригинальную функцию обёрнутой версией. При вызове функции, украшенной декоратором, будет выполняться дополнительный код, определенный в декораторе, до и после вызова оригинальной функции.\n",
    "\n",
    "Преимущество декораторов заключается в их гибкости и возможности повторного использования. Они позволяют добавлять функциональность к функциям без изменения самих функций, что делает код более модульным и понятным."
   ]
  },
  {
   "cell_type": "markdown",
   "id": "c2f849ff",
   "metadata": {},
   "source": [
    "## Где используются декораторы?\n",
    "\n",
    "* Логирование: Декораторы могут использоваться для добавления логирования к функциям. Это позволяет отслеживать вызовы функций, передаваемые аргументы и результаты работы. Логирование может быть полезным для отладки кода.\n",
    "\n",
    "\n",
    "* Аутентификация и авторизация: Декораторы могут применяться для проверки прав доступа пользователя к определенным функциям или страницам веб-приложений. Например, декоратор может проверять, авторизован ли пользователь и имеет ли он достаточные права для выполнения определенной операции.\n",
    "\n",
    "\n",
    "* Кэширование: Декораторы могут использоваться для кэширования результатов выполнения функций. Это может сэкономить время выполнения, особенно для функций, которые требуют длительных вычислений или обращений к внешним источникам данных. Кэширование позволяет сохранять результаты выполнения функции и возвращать их без повторного выполнения кода функции, если входные аргументы остаются неизменными.\n",
    "\n",
    "\n",
    "* Метрики и отслеживание: Декораторы могут использоваться для сбора метрик и статистики о выполнении функций. Например, они могут измерять время выполнения функции или считать количество вызовов функции. Это может быть полезно для мониторинга производительности приложений или определения наиболее ресурсоемких участков кода.\n",
    "\n",
    "\n",
    "* Проверка типов: Декораторы могут применяться для проверки типов аргументов функции. Они позволяют автоматически проверять, соответствуют ли переданные аргументы определенным типам данных, и предотвращать ошибки типизации."
   ]
  },
  {
   "cell_type": "markdown",
   "id": "22a5bb1e",
   "metadata": {},
   "source": [
    "<hr>\n",
    "\n",
    "### Пример 1\n",
    "Мы с вами пишем две функции, возвращающие только согласные буквы дважды. Нам интересно, сколько времени будет выполняться каждая функция. Напишем код."
   ]
  },
  {
   "cell_type": "code",
   "execution_count": 1,
   "id": "6f2aa8e8",
   "metadata": {},
   "outputs": [],
   "source": [
    "def str_to_list(string):\n",
    "    lst = [i*2 for i in string if i not in 'aeiou']\n",
    "    return lst"
   ]
  },
  {
   "cell_type": "code",
   "execution_count": 2,
   "id": "214e2797",
   "metadata": {},
   "outputs": [],
   "source": [
    "def str_to_set(string):\n",
    "    str_set = {i+i for i in string if i not in 'aeiou'}\n",
    "    return str_set"
   ]
  },
  {
   "cell_type": "code",
   "execution_count": 3,
   "id": "40622f70",
   "metadata": {},
   "outputs": [],
   "source": [
    "import string\n",
    "import random\n",
    "\n",
    "char_set = string.ascii_lowercase\n",
    "string = ''.join(random.sample(char_set, 10))"
   ]
  },
  {
   "cell_type": "code",
   "execution_count": 4,
   "id": "fc564f0d",
   "metadata": {},
   "outputs": [
    {
     "data": {
      "text/plain": [
       "['zz', 'nn', 'jj', 'pp', 'yy', 'rr', 'kk', 'ww', 'tt', 'xx']"
      ]
     },
     "execution_count": 4,
     "metadata": {},
     "output_type": "execute_result"
    }
   ],
   "source": [
    "str_to_list(string)"
   ]
  },
  {
   "cell_type": "code",
   "execution_count": 5,
   "id": "66c9d323",
   "metadata": {},
   "outputs": [
    {
     "data": {
      "text/plain": [
       "{'jj', 'kk', 'nn', 'pp', 'rr', 'tt', 'ww', 'xx', 'yy', 'zz'}"
      ]
     },
     "execution_count": 5,
     "metadata": {},
     "output_type": "execute_result"
    }
   ],
   "source": [
    "str_to_set(string)"
   ]
  },
  {
   "cell_type": "markdown",
   "id": "cfde310f",
   "metadata": {},
   "source": [
    "Добавим к функциям печать времени ее исполнения."
   ]
  },
  {
   "cell_type": "code",
   "execution_count": 6,
   "id": "9bf8bbad",
   "metadata": {},
   "outputs": [],
   "source": [
    "from datetime import datetime as dt\n",
    "\n",
    "def str_to_list(string):\n",
    "    start = float(dt.utcnow().timestamp())\n",
    "    lst = [i*2 for i in string if i not in 'aeiou']\n",
    "    end = float(dt.utcnow().timestamp())\n",
    "    print(f'Выполнение функции заняло {end-start:.6f} секунд')\n",
    "    return lst"
   ]
  },
  {
   "cell_type": "code",
   "execution_count": 7,
   "id": "a686ef3d",
   "metadata": {},
   "outputs": [],
   "source": [
    "def str_to_set(string):\n",
    "    start = float(dt.utcnow().timestamp())\n",
    "    str_set = {i + i for i in string if i not in 'aeiou'}\n",
    "    end = float(dt.utcnow().timestamp())\n",
    "    print(f'Выполнение функции заняло {end-start:.6f} секунд')\n",
    "    return str_set"
   ]
  },
  {
   "cell_type": "code",
   "execution_count": 8,
   "id": "99c6ed15",
   "metadata": {},
   "outputs": [],
   "source": [
    "string = ''.join(random.sample(char_set, 10))"
   ]
  },
  {
   "cell_type": "code",
   "execution_count": 9,
   "id": "615ad953",
   "metadata": {},
   "outputs": [
    {
     "name": "stdout",
     "output_type": "stream",
     "text": [
      "Выполнение функции заняло 0.000067 секунд\n"
     ]
    },
    {
     "data": {
      "text/plain": [
       "['kk', 'vv', 'cc', 'dd', 'ff', 'yy', 'qq']"
      ]
     },
     "execution_count": 9,
     "metadata": {},
     "output_type": "execute_result"
    }
   ],
   "source": [
    "str_to_list(string)"
   ]
  },
  {
   "cell_type": "code",
   "execution_count": 10,
   "id": "42dfeb99",
   "metadata": {
    "scrolled": true
   },
   "outputs": [
    {
     "name": "stdout",
     "output_type": "stream",
     "text": [
      "Выполнение функции заняло 0.000026 секунд\n"
     ]
    },
    {
     "data": {
      "text/plain": [
       "{'cc', 'dd', 'ff', 'kk', 'qq', 'vv', 'yy'}"
      ]
     },
     "execution_count": 10,
     "metadata": {},
     "output_type": "execute_result"
    }
   ],
   "source": [
    "str_to_set(string)"
   ]
  },
  {
   "cell_type": "markdown",
   "id": "e48c9204",
   "metadata": {},
   "source": [
    "Прописать к каждой новой функции дополнительные 3 строчки кода кажется лишней работой. Здесь и выходят на сцену декораторы."
   ]
  },
  {
   "cell_type": "code",
   "execution_count": 12,
   "id": "4ed63499",
   "metadata": {},
   "outputs": [],
   "source": [
    "def dt_stamp(func):\n",
    "    def wrapper(*args, **kwargs):\n",
    "        start = float(dt.utcnow().timestamp())\n",
    "        result = func(*args,**kwargs)\n",
    "        end = float(dt.utcnow().timestamp())\n",
    "        print(f'Выполнение {func.__name__} заняло {end-start:.10f} секунд\"')\n",
    "        return result\n",
    "    return wrapper"
   ]
  },
  {
   "cell_type": "code",
   "execution_count": 13,
   "id": "87cb530a",
   "metadata": {},
   "outputs": [],
   "source": [
    "@dt_stamp\n",
    "def str_to_list(string):\n",
    "    lst = [i*2 for i in string if i not in 'aeiou']\n",
    "    return lst\n",
    "\n",
    "@dt_stamp\n",
    "def str_to_set(string):\n",
    "    str_set = {i+i for i in string if i not in 'aeiou'}\n",
    "    return str_set"
   ]
  },
  {
   "cell_type": "code",
   "execution_count": 14,
   "id": "84969358",
   "metadata": {},
   "outputs": [
    {
     "name": "stdout",
     "output_type": "stream",
     "text": [
      "Выполнение str_to_list заняло 0.0000190735 секунд\"\n",
      "['kk', 'ww', 'rr', 'tt', 'll', 'xx', 'bb', 'mm']\n",
      "\n",
      "Выполнение str_to_set заняло 0.0000109673 секунд\"\n",
      "{'rr', 'bb', 'ww', 'tt', 'xx', 'll', 'mm', 'kk'}\n"
     ]
    }
   ],
   "source": [
    "string = ''.join(random.sample(char_set, 10))\n",
    "\n",
    "print(str_to_list(string))\n",
    "print()\n",
    "print(str_to_set(string))"
   ]
  },
  {
   "cell_type": "markdown",
   "id": "48160df1",
   "metadata": {},
   "source": [
    "<hr>\n",
    "\n",
    "### Пример 2\n",
    "Посмотрим на еще один пример с кэшированием данных."
   ]
  },
  {
   "cell_type": "code",
   "execution_count": 15,
   "id": "c29061df",
   "metadata": {},
   "outputs": [],
   "source": [
    "import time\n",
    "import pickle"
   ]
  },
  {
   "cell_type": "code",
   "execution_count": 27,
   "id": "86f2f4d9",
   "metadata": {},
   "outputs": [],
   "source": [
    "def memorize(func): # декоратор для кэширования данных\n",
    "    cache = {}\n",
    "    def wrapper(*args,**kwargs):\n",
    "        t = (pickle.dumps(args), pickle.dumps(kwargs))\n",
    "        if t not in cache:\n",
    "            print(f\"Кэширую новые данные {func.__name__}{args}\")\n",
    "            cache[t] = func(*args, **kwargs)\n",
    "        else:\n",
    "            print(f\"Использую старые данные {func.__name__}{args}\")\n",
    "        return cache[t]\n",
    "    return wrapper"
   ]
  },
  {
   "cell_type": "code",
   "execution_count": 22,
   "id": "b3bafd42",
   "metadata": {},
   "outputs": [],
   "source": [
    "def timeit(func): # декоратор для засечения времени\n",
    "    def wrapper(*args,**kwargs):\n",
    "        start = time.time()\n",
    "        result = func(*args, **kwargs)\n",
    "        end = time.time()\n",
    "        print(f\"{end-start:.4f} секунд\")\n",
    "        return result\n",
    "    return wrapper"
   ]
  },
  {
   "cell_type": "code",
   "execution_count": 29,
   "id": "49b56b70",
   "metadata": {},
   "outputs": [],
   "source": [
    "@timeit\n",
    "@memorize\n",
    "def add(a,b):\n",
    "    time.sleep(3)\n",
    "    return a+b"
   ]
  },
  {
   "cell_type": "code",
   "execution_count": 30,
   "id": "3d5be316",
   "metadata": {},
   "outputs": [
    {
     "name": "stdout",
     "output_type": "stream",
     "text": [
      "Кэширую новые данные add(3, 5)\n",
      "3.0027 секунд\n"
     ]
    },
    {
     "data": {
      "text/plain": [
       "8"
      ]
     },
     "execution_count": 30,
     "metadata": {},
     "output_type": "execute_result"
    }
   ],
   "source": [
    "add(3,5)"
   ]
  },
  {
   "cell_type": "code",
   "execution_count": 31,
   "id": "3cda8c0c",
   "metadata": {},
   "outputs": [
    {
     "name": "stdout",
     "output_type": "stream",
     "text": [
      "Кэширую новые данные add(3, 7)\n",
      "3.0057 секунд\n"
     ]
    },
    {
     "data": {
      "text/plain": [
       "10"
      ]
     },
     "execution_count": 31,
     "metadata": {},
     "output_type": "execute_result"
    }
   ],
   "source": [
    "add(3,7)"
   ]
  },
  {
   "cell_type": "code",
   "execution_count": 32,
   "id": "f37e2e25",
   "metadata": {},
   "outputs": [
    {
     "name": "stdout",
     "output_type": "stream",
     "text": [
      "Использую старые данные add(3, 5)\n",
      "0.0001 секунд\n"
     ]
    },
    {
     "data": {
      "text/plain": [
       "8"
      ]
     },
     "execution_count": 32,
     "metadata": {},
     "output_type": "execute_result"
    }
   ],
   "source": [
    "add(3,5)"
   ]
  },
  {
   "cell_type": "markdown",
   "id": "61febefd",
   "metadata": {},
   "source": [
    "<hr>\n",
    "\n",
    "Декораторы могут работать с аргументами, но для этого потребуется сделать обертку внутри обертки."
   ]
  },
  {
   "cell_type": "code",
   "execution_count": 35,
   "id": "10ba14d0",
   "metadata": {},
   "outputs": [],
   "source": [
    "def as_charlist(upcase=False):\n",
    "    def outer(fn):\n",
    "        def inner(*args):\n",
    "            s = fn(*args)\n",
    "            if upcase:\n",
    "                s = s.upper()\n",
    "            return list(s)\n",
    "        return inner\n",
    "    return outer"
   ]
  },
  {
   "cell_type": "code",
   "execution_count": 36,
   "id": "f01d2c99",
   "metadata": {
    "scrolled": true
   },
   "outputs": [
    {
     "data": {
      "text/plain": [
       "['H', 'I', ',', ' ', 'E', 'V', 'E', 'R', 'Y', 'O', 'N', 'E']"
      ]
     },
     "execution_count": 36,
     "metadata": {},
     "output_type": "execute_result"
    }
   ],
   "source": [
    "@as_charlist(True)\n",
    "def greeting(who='world'):\n",
    "    return f'Hi, {who}'\n",
    "\n",
    "greeting('everyone')"
   ]
  },
  {
   "cell_type": "markdown",
   "id": "2625104f",
   "metadata": {},
   "source": [
    "## Использование декораторов в классах\n",
    "\n",
    "Использование декораторов в классах позволяет добавлять и изменять функциональность методов, подобно тому, как это делается с функциями. "
   ]
  },
  {
   "cell_type": "code",
   "execution_count": 38,
   "id": "3b615330",
   "metadata": {},
   "outputs": [],
   "source": [
    "from decorator import decorator # библиотека для помощи в декорировании"
   ]
  },
  {
   "cell_type": "code",
   "execution_count": 39,
   "id": "2950611d",
   "metadata": {},
   "outputs": [],
   "source": [
    "@decorator\n",
    "def reduce_repeated_class_logic(func, self, *args, **kwargs):\n",
    "    self.is_important = not self.is_important\n",
    "    return func(self, *args, **kwargs)"
   ]
  },
  {
   "cell_type": "code",
   "execution_count": 40,
   "id": "3c32e502",
   "metadata": {},
   "outputs": [],
   "source": [
    "class MyClass:\n",
    "    is_important = True\n",
    "    \n",
    "    @reduce_repeated_class_logic\n",
    "    def do_something_important(self):\n",
    "        pass\n",
    "    \n",
    "    @reduce_repeated_class_logic\n",
    "    def do_another_important_thing(self):\n",
    "        pass"
   ]
  },
  {
   "cell_type": "code",
   "execution_count": 41,
   "id": "dc7fc40c",
   "metadata": {
    "scrolled": true
   },
   "outputs": [
    {
     "data": {
      "text/plain": [
       "True"
      ]
     },
     "execution_count": 41,
     "metadata": {},
     "output_type": "execute_result"
    }
   ],
   "source": [
    "my_class = MyClass()\n",
    "my_class.is_important"
   ]
  },
  {
   "cell_type": "code",
   "execution_count": 42,
   "id": "ba40895c",
   "metadata": {},
   "outputs": [
    {
     "data": {
      "text/plain": [
       "False"
      ]
     },
     "execution_count": 42,
     "metadata": {},
     "output_type": "execute_result"
    }
   ],
   "source": [
    "my_class.do_something_important()\n",
    "my_class.is_important"
   ]
  },
  {
   "cell_type": "code",
   "execution_count": 45,
   "id": "4a18bb37",
   "metadata": {},
   "outputs": [
    {
     "data": {
      "text/plain": [
       "True"
      ]
     },
     "execution_count": 45,
     "metadata": {},
     "output_type": "execute_result"
    }
   ],
   "source": [
    "my_class.do_another_important_thing()\n",
    "my_class.is_important"
   ]
  }
 ],
 "metadata": {
  "kernelspec": {
   "display_name": "Python 3 (ipykernel)",
   "language": "python",
   "name": "python3"
  },
  "language_info": {
   "codemirror_mode": {
    "name": "ipython",
    "version": 3
   },
   "file_extension": ".py",
   "mimetype": "text/x-python",
   "name": "python",
   "nbconvert_exporter": "python",
   "pygments_lexer": "ipython3",
   "version": "3.9.7"
  }
 },
 "nbformat": 4,
 "nbformat_minor": 5
}
