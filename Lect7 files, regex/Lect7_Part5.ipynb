{
 "cells": [
  {
   "cell_type": "markdown",
   "metadata": {},
   "source": [
    "# Python для анализа данных\n",
    "\n",
    "## Регулярные выражения (Regular Expressions)\n",
    "\n",
    "На основе блокнота *Аллы Тамбовцевой, НИУ ВШЭ*\n",
    "\n",
    "Дополнения 1: *Татьяна Рогович, НИУ ВШЭ*\n",
    "\n",
    "Дополнения 2: *Ян Пиле, Яндекс.Маркет*"
   ]
  },
  {
   "cell_type": "code",
   "execution_count": 4,
   "metadata": {},
   "outputs": [],
   "source": [
    "import re"
   ]
  },
  {
   "cell_type": "markdown",
   "metadata": {},
   "source": [
    "### Задача 3. Проверить номера автомобилей \n",
    "\n",
    "В России применяются регистрационные знаки нескольких видов. \n",
    "Общего в них то, что они состоят из цифр и букв. Причём используются только 12 букв кириллицы,\n",
    "имеющие графические аналоги в латинском алфавите — А, В, Е, К, М, Н, О, Р, С, Т, У и Х.\n",
    "\n",
    "У частных легковых автомобилей номера — это буква, три цифры, две буквы, затем две или три цифры с кодом региона. У такси — две буквы, три цифры, затем две или три цифры с кодом региона. Есть также и другие виды, но в этой задаче они не понадобятся.\n",
    "\n",
    "Создайте программу, которая будет проверять номер автомобиля и выдавать тип автомобиля: 'Private' для частных автомобилей, 'Taxi' для такси, 'Fail' для всех остальных."
   ]
  },
  {
   "cell_type": "code",
   "execution_count": 1,
   "metadata": {},
   "outputs": [],
   "source": [
    "numbers = ['С227НА777','КУ22777','Т22В7477','М227К19У9','С227НА8777']\n",
    "# правильные ответы\n",
    "Answers = ['Private','Taxi','Fail','Fail','Fail']"
   ]
  },
  {
   "cell_type": "code",
   "execution_count": 3,
   "metadata": {},
   "outputs": [],
   "source": [
    "# ваш код"
   ]
  },
  {
   "cell_type": "markdown",
   "metadata": {},
   "source": [
    "### Задача 4. Извлечь информацию из html-файла\n",
    "\n",
    "Допустим, нам надо извлечь информацию из html-файла, заключенную между `<td>` и `</td>` (из таблицы), кроме первого столбца с номером. Также будем считать, что html-код содержится в строке.\n",
    "\n",
    "Пример содержимого html-файла:"
   ]
  },
  {
   "cell_type": "code",
   "execution_count": 23,
   "metadata": {},
   "outputs": [
    {
     "data": {
      "text/plain": [
       "'1NoahEmma2LiamOlivia3MasonSophia4JacobIsabella5WilliamAva6EthanMia7MichaelEmily'"
      ]
     },
     "execution_count": 23,
     "metadata": {},
     "output_type": "execute_result"
    }
   ],
   "source": [
    "test_str = \"1NoahEmma2LiamOlivia3MasonSophia4JacobIsabella5WilliamAva6EthanMia7MichaelEmily\"\n",
    "test_str"
   ]
  },
  {
   "cell_type": "markdown",
   "metadata": {},
   "source": [
    "Для лучшего понимания строки, распишем ее в другом виде:\n",
    "\n",
    "1. NoahEmma\n",
    "2. LiamOlivia\n",
    "3. MasonSophia\n",
    "4. ...\n",
    "\n",
    "Сначала мы ищем число, которое будет у нас означать начало новой строки в таблице (стартовую позицию поиска в строке) `\\d`. После этого мы указываем, что имя начинается с заглавной буквы `[A-Z]`. Получим число и первую букву имени."
   ]
  },
  {
   "cell_type": "code",
   "execution_count": 42,
   "metadata": {},
   "outputs": [
    {
     "data": {
      "text/plain": [
       "['1N', '2L', '3M', '4J', '5W', '6E', '7M']"
      ]
     },
     "execution_count": 42,
     "metadata": {},
     "output_type": "execute_result"
    }
   ],
   "source": [
    "re.findall(r'\\d[A-Z]', test_str)"
   ]
  },
  {
   "cell_type": "markdown",
   "metadata": {},
   "source": [
    "Далее забираем основную часть имени `[a-z]`, там уже строчные буквы. Используем модификатор `+`, чтобы взять все буквы."
   ]
  },
  {
   "cell_type": "code",
   "execution_count": 47,
   "metadata": {},
   "outputs": [
    {
     "data": {
      "text/plain": [
       "['1Noah', '2Liam', '3Mason', '4Jacob', '5William', '6Ethan', '7Michael']"
      ]
     },
     "execution_count": 47,
     "metadata": {},
     "output_type": "execute_result"
    }
   ],
   "source": [
    "re.findall(r'\\d[A-Z][a-z]+', test_str)"
   ]
  },
  {
   "cell_type": "markdown",
   "metadata": {},
   "source": [
    "Но у нас в начале есть номер и имя с фамилией слеплены вместе. Сначала разберемся с номером: `()` позволяют нам указать, что мы будем выводить `([A-Z][a-z]+)`, число останется вне вывода и будет использоваться только для определения позиции следующего применения паттерна."
   ]
  },
  {
   "cell_type": "code",
   "execution_count": 48,
   "metadata": {},
   "outputs": [
    {
     "data": {
      "text/plain": [
       "['Noah', 'Liam', 'Mason', 'Jacob', 'William', 'Ethan', 'Michael']"
      ]
     },
     "execution_count": 48,
     "metadata": {},
     "output_type": "execute_result"
    }
   ],
   "source": [
    "re.findall(r'\\d([A-Z][a-z]+)', test_str)"
   ]
  },
  {
   "cell_type": "markdown",
   "metadata": {},
   "source": [
    "Теперь займемся фамилией. По условию задачи мы знаем, что фамилия тоже начинается с заглавной буквы. Поэтому мы укажем второй (аналогичный имени) паттерн и занесем его в `()` для отдельного вывода"
   ]
  },
  {
   "cell_type": "code",
   "execution_count": 161,
   "metadata": {},
   "outputs": [
    {
     "data": {
      "text/plain": [
       "[('Noah', 'Emma'),\n",
       " ('Liam', 'Olivia'),\n",
       " ('Mason', 'Sophia'),\n",
       " ('Jacob', 'Isabella'),\n",
       " ('William', 'Ava'),\n",
       " ('Ethan', 'Mia'),\n",
       " ('Michael', 'Emily')]"
      ]
     },
     "execution_count": 161,
     "metadata": {},
     "output_type": "execute_result"
    }
   ],
   "source": [
    "re.findall(r'\\d([A-Z][a-z]+)([A-Z][a-z]+)', test_str)"
   ]
  },
  {
   "cell_type": "markdown",
   "metadata": {},
   "source": [
    "Как видно по выводу, фамилия теперь отображается как второй элемент первого вывода паттерна."
   ]
  },
  {
   "cell_type": "markdown",
   "metadata": {},
   "source": [
    "### Задача 5. Поиск однокоренных слов\n",
    "\n",
    "Нужно в тексте найти все однокоренные слова. Будем выполнять на данной скороговорке:\n",
    "\n",
    "Рыла свинья белорыла, тупорыла; полдвора рылом изрыла, вырыла, подрыла."
   ]
  },
  {
   "cell_type": "code",
   "execution_count": 109,
   "metadata": {},
   "outputs": [
    {
     "data": {
      "text/plain": [
       "'Рыла свинья белорыла, тупорыла; полдвора рылом изрыла, вырыла, подрыла.'"
      ]
     },
     "execution_count": 109,
     "metadata": {},
     "output_type": "execute_result"
    }
   ],
   "source": [
    "pig = \"Рыла свинья белорыла, тупорыла; полдвора рылом изрыла, вырыла, подрыла.\"\n",
    "pig"
   ]
  },
  {
   "cell_type": "markdown",
   "metadata": {},
   "source": [
    "Корень может быть как в начале слова, так и где-то в середине. Поэтому учтем это. Сначала у нас могут быть буквы `[а-яА-Я]` длиной от 0 до бесконечности `*`"
   ]
  },
  {
   "cell_type": "code",
   "execution_count": 59,
   "metadata": {},
   "outputs": [
    {
     "data": {
      "text/plain": [
       "['Рыла',\n",
       " '',\n",
       " 'свинья',\n",
       " '',\n",
       " 'белорыла',\n",
       " '',\n",
       " '',\n",
       " 'тупорыла',\n",
       " '',\n",
       " '',\n",
       " 'полдвора',\n",
       " '',\n",
       " 'рылом',\n",
       " '',\n",
       " 'изрыла',\n",
       " '',\n",
       " '',\n",
       " 'вырыла',\n",
       " '',\n",
       " '',\n",
       " 'подрыла',\n",
       " '',\n",
       " '']"
      ]
     },
     "execution_count": 59,
     "metadata": {},
     "output_type": "execute_result"
    }
   ],
   "source": [
    "re.findall(r'[а-яА-Я]*', \"Рыла свинья белорыла, тупорыла; полдвора рылом изрыла, вырыла, подрыла.\")"
   ]
  },
  {
   "cell_type": "markdown",
   "metadata": {},
   "source": [
    "Нам попались все слова и пробелы, так как `*`. Далее будем искать наш корень. Нам нужно точное совпадение с `рыл` или `Рыл` для случая с началом предложения `(?:рыл|Рыл)`. `|` говорит нам о выборе между `рыл` и `Рыл`, т.е. подойдет любой из них.\n",
    "\n",
    "Что делает `(?:)` ? Этот символ помогает нам вернуть последовательность полностью. Выше мы уже видели, что, то, что последовательность в скобках соответствует формату вывода. В этом случае `(?:)` это меняет: если последовательность символов подходит ВСЕМУ шаблону, то оно и будет возвращено функцией findall.\n",
    "\n",
    "Но если мы уберем ?:, то любая последовательность подходящая под внутренний паттерн скобок будет выведена."
   ]
  },
  {
   "cell_type": "code",
   "execution_count": 25,
   "metadata": {},
   "outputs": [
    {
     "data": {
      "text/plain": [
       "['Рыл', 'белорыл', 'тупорыл', 'рыл', 'изрыл', 'вырыл', 'подрыл']"
      ]
     },
     "execution_count": 25,
     "metadata": {},
     "output_type": "execute_result"
    }
   ],
   "source": [
    "re.findall(r'[а-яА-Я]*(?:рыл|Рыл)', \"Рыла свинья белорыла, тупорыла; полдвора рылом изрыла, вырыла, подрыла.\")"
   ]
  },
  {
   "cell_type": "code",
   "execution_count": 29,
   "metadata": {},
   "outputs": [
    {
     "data": {
      "text/plain": [
       "['Рыл', 'рыл', 'рыл', 'рыл', 'рыл', 'рыл', 'рыл']"
      ]
     },
     "execution_count": 29,
     "metadata": {},
     "output_type": "execute_result"
    }
   ],
   "source": [
    "re.findall(r'[а-яА-Я]*(рыл|Рыл)', \"Рыла свинья белорыла, тупорыла; полдвора рылом изрыла, вырыла, подрыла.\")"
   ]
  },
  {
   "cell_type": "markdown",
   "metadata": {},
   "source": [
    "Есть начало слова и его корень. Осталось добавить окончание. Все аналогично началу слова:"
   ]
  },
  {
   "cell_type": "code",
   "execution_count": 18,
   "metadata": {},
   "outputs": [
    {
     "data": {
      "text/plain": [
       "['Рыла', 'белорыла', 'тупорыла', 'рылом', 'изрыла', 'вырыла', 'подрыла']"
      ]
     },
     "execution_count": 18,
     "metadata": {},
     "output_type": "execute_result"
    }
   ],
   "source": [
    "re.findall(r'[а-яА-Я]*(?:рыл|Рыл)[а-яА-Я]*', \"Рыла свинья белорыла, тупорыла; полдвора рылом изрыла, вырыла, подрыла.\")"
   ]
  },
  {
   "cell_type": "markdown",
   "metadata": {},
   "source": [
    "### Задача 6. Проверка пароля\n",
    "\n",
    "На сайте нужно вывести сообщение, если пароль не валиден. \\\n",
    "Обычно пароль должен содержать не менее 8 символов, не менее одной заглавной буквы, не менее одной строчной буквы и, опционально, символ"
   ]
  },
  {
   "cell_type": "code",
   "execution_count": 5,
   "metadata": {},
   "outputs": [
    {
     "name": "stdout",
     "output_type": "stream",
     "text": [
      "Ваш пароль надежен. Хорошая работа!\n"
     ]
    }
   ],
   "source": [
    "passwordText = 'fbbE4gfhdsjk'\n",
    "\n",
    "charRegex = re.compile(r'(\\w{8,})')  # Не менее 8 символов (тут не считаются знаки препинания)\n",
    "lowerRegex = re.compile(r'[a-z]+') # Не менее 1 маленькой буквы\n",
    "upperRegex = re.compile(r'[A-Z]+')# Не менее 1 большой буквы\n",
    "digitRegex = re.compile(r'[0-9]+') # Не менее 1 цифры\n",
    "\n",
    "''' Сейчас мы их проверим...'''\n",
    "if charRegex.findall(passwordText) == []:  \n",
    "    print('Пароль должен содержать 8 символов')\n",
    "elif lowerRegex.findall(passwordText)== []: \n",
    "    print('Пароль должен содержать хотя бы одну маленькую букву')\n",
    "elif upperRegex.findall(passwordText)==[]: \n",
    "    print('Пароль должен содержать хотя бы одну большую букву')\n",
    "elif digitRegex.findall(passwordText)==[]: \n",
    "    print('Пароль должен содержать хотя бы одну цифру')\n",
    "else:  \n",
    "    print('Ваш пароль надежен. Хорошая работа!')"
   ]
  },
  {
   "cell_type": "markdown",
   "metadata": {},
   "source": [
    "## Группирующие скобки (...)\n",
    "\n",
    "Если в шаблоне регулярного выражения встречаются скобки (...) без ?:, то они становятся группирующими. В match-объекте по каждой такой группе можно получить ту же информацию, что и по всему шаблону. А именно часть подстроки, которая соответствует (...), а также индексы начала и окончания в исходной строке."
   ]
  },
  {
   "cell_type": "code",
   "execution_count": 50,
   "metadata": {},
   "outputs": [
    {
     "name": "stdout",
     "output_type": "stream",
     "text": [
      "Найдена подстрока >   Опять45   < с позиции 3 до 16\n",
      "Группа букв >Опять< с позиции 6 до 11\n",
      "Группа цифр >45< с позиции 11 до 13\n"
     ]
    }
   ],
   "source": [
    "import re \n",
    "pattern = r'\\s*([А-Яа-яЁё]+)(\\d+)\\s*' \n",
    "\n",
    "string = r'---   Опять45   ---' \n",
    "\n",
    "match = re.search(pattern, string) \n",
    "\n",
    "print(f'Найдена подстрока >{match[0]}< с позиции {match.start(0)} до {match.end(0)}') \n",
    "\n",
    "print(f'Группа букв >{match[1]}< с позиции {match.start(1)} до {match.end(1)}') \n",
    "print(f'Группа цифр >{match[2]}< с позиции {match.start(2)} до {match.end(2)}') \n",
    "### \n",
    "# -> Найдена подстрока >   Опять45   < с позиции 3 до 16 \n",
    "# -> Группа букв >Опять< с позиции 6 до 11 \n",
    "# -> Группа цифр >45< с позиции 11 до 13 "
   ]
  },
  {
   "cell_type": "code",
   "execution_count": 52,
   "metadata": {},
   "outputs": [
    {
     "data": {
      "text/plain": [
       "'45'"
      ]
     },
     "execution_count": 52,
     "metadata": {},
     "output_type": "execute_result"
    }
   ],
   "source": [
    "match.group(2)"
   ]
  },
  {
   "cell_type": "markdown",
   "metadata": {},
   "source": [
    "## Заглядывание вперед и назад или позиционные шаблоны\n",
    "\n",
    "Следующие шаблоны применяются в основном в тех случаях, когда нужно уточнить, что должно идти непосредственно перед или после шаблона, но при этом \n",
    "не включать найденное в match-объект."
   ]
  },
  {
   "cell_type": "markdown",
   "metadata": {},
   "source": [
    "* `(?=...)` lookahead assertion, соответствует каждой позиции, сразу после которой начинается соответствие шаблону \n",
    "\n",
    "* `(?!...)` negative lookahead assertion, соответствует каждой позиции, сразу после которой НЕ может начинаться шаблон\n",
    "* `(?<=...)` positive lookbehind assertion, соответствует каждой позиции, которой может заканчиваться шаблон. Длина шаблона должна быть фиксированной, то есть abc и a|b — это ОК, а a* и a{2,3} — нет.\n",
    "\n",
    "* `(?<!...)` negative lookbehind assertion, соответствует каждой позиции, которой НЕ может заканчиваться шаблон"
   ]
  },
  {
   "cell_type": "code",
   "execution_count": 58,
   "metadata": {},
   "outputs": [
    {
     "data": {
      "text/plain": [
       "['ЛюдовикVI', 'ЛюдовикVII', 'ЛюдовикVIII']"
      ]
     },
     "execution_count": 58,
     "metadata": {},
     "output_type": "execute_result"
    }
   ],
   "source": [
    "string = 'КарлIV, КарлIX, КарлV, КарлVI, КарлVII, КарлVIII,ЛюдовикIX, \\\n",
    "ЛюдовикVI, ЛюдовикVII, ЛюдовикVIII, ЛюдовикX, ..., ЛюдовикXVIII, ФилиппI, \\\n",
    "ФилиппII, ФилиппIII, ФилиппIV, ФилиппV, ФилиппVI'\n",
    "\n",
    "# Людовик, после которого первые два символа == VI\n",
    "re.findall(r'Людовик(?=VI)\\w{2,4}',string)"
   ]
  },
  {
   "cell_type": "code",
   "execution_count": 59,
   "metadata": {},
   "outputs": [
    {
     "data": {
      "text/plain": [
       "['ЛюдовикIX', 'ЛюдовикX', 'ЛюдовикXVII']"
      ]
     },
     "execution_count": 59,
     "metadata": {},
     "output_type": "execute_result"
    }
   ],
   "source": [
    "string = 'КарлIV, КарлIX, КарлV, КарлVI, КарлVII, КарлVIII,ЛюдовикIX, \\\n",
    "ЛюдовикVI, ЛюдовикVII, ЛюдовикVIII, ЛюдовикX, ..., ЛюдовикXVIII, ФилиппI, \\\n",
    "ФилиппII, ФилиппIII, ФилиппIV, ФилиппV, ФилиппVI'\n",
    "# Людовик, после которого первые два символа != VI\n",
    "\n",
    "re.findall(r'Людовик(?!VI)\\w{1,4}',string)"
   ]
  },
  {
   "cell_type": "code",
   "execution_count": 105,
   "metadata": {},
   "outputs": [
    {
     "data": {
      "text/plain": [
       "['ЛюдовигVI', 'ЛюдовикVII', 'ЛюдовикVIII']"
      ]
     },
     "execution_count": 105,
     "metadata": {},
     "output_type": "execute_result"
    }
   ],
   "source": [
    "string = 'КарлIV, КарлIX, КарлV, КарлVI, КарлVII, КарлVIII,ЛюдовикIX, \\\n",
    "ЛюдовикVI, ЛюдовикVII, ЛюдовикVIII, ЛюдовикX, ..., ЛюдовикXVIII, ФилиппI, \\\n",
    "ФилиппII, ФилиппIII, ФилиппIV, ФилиппV, ФилиппVI'\n",
    "# цифра, начинающаяся на VI, только если перед ней стоит Людовик\n",
    "\n",
    "re.findall(r'\\w*(?<=Людови.)VI\\w{,2}',string)"
   ]
  },
  {
   "cell_type": "code",
   "execution_count": 104,
   "metadata": {},
   "outputs": [
    {
     "data": {
      "text/plain": [
       "['КарлVI', 'КарлVII', 'КарлVIII', 'ФилиппVI']"
      ]
     },
     "execution_count": 104,
     "metadata": {},
     "output_type": "execute_result"
    }
   ],
   "source": [
    "import re\n",
    "string = 'КарлIV, КарлIX, КарлV, КарлVI, КарлVII, КарлVIII,ЛюдовигIX, \\\n",
    "ЛюдовикVI, ЛюдовикVII, ЛюдовикVIII, ЛюдовикX, ..., ЛюдовикXVIII, ФилиппI, \\\n",
    "ФилиппII, ФилиппIII, ФилиппIV, ФилиппV, ФилиппVI'\n",
    "\n",
    "# цифра, начинающаяся на VI, только если перед ней НЕ стоит Людовик\n",
    "re.findall(r'[а-яА-Я]+(?<!Людови.)VI\\w{,2}',string)"
   ]
  },
  {
   "cell_type": "markdown",
   "metadata": {},
   "source": [
    "## Упражения"
   ]
  },
  {
   "cell_type": "markdown",
   "metadata": {},
   "source": [
    "### 1. Достать из строки имена-фамилии на русском языке"
   ]
  },
  {
   "cell_type": "code",
   "execution_count": 104,
   "metadata": {},
   "outputs": [],
   "source": [
    "users = 'Василий Зайцев, Erwin König, Людмила Павличенко, Josef Allerberger, Matthäus Hetzenauer, Александр Башлачёв'"
   ]
  },
  {
   "cell_type": "code",
   "execution_count": 21,
   "metadata": {},
   "outputs": [],
   "source": [
    "# ваш код"
   ]
  },
  {
   "cell_type": "markdown",
   "metadata": {},
   "source": [
    "### 2. Выделить из строки email'ы "
   ]
  },
  {
   "cell_type": "markdown",
   "metadata": {},
   "source": [
    "'iawpghnube1206@gmail.com\\r\\n+79151489999 (telegram @vasiiesal) test.tewst2@subsubdomain.subdomain.domain.ru.!'"
   ]
  },
  {
   "cell_type": "code",
   "execution_count": 90,
   "metadata": {},
   "outputs": [
    {
     "data": {
      "text/plain": [
       "['',\n",
       " '',\n",
       " '',\n",
       " '',\n",
       " '',\n",
       " '',\n",
       " '',\n",
       " '',\n",
       " '',\n",
       " '',\n",
       " '',\n",
       " '',\n",
       " '',\n",
       " '',\n",
       " '',\n",
       " '',\n",
       " '',\n",
       " '',\n",
       " '',\n",
       " '',\n",
       " '',\n",
       " '',\n",
       " '',\n",
       " '',\n",
       " '',\n",
       " '']"
      ]
     },
     "execution_count": 90,
     "metadata": {},
     "output_type": "execute_result"
    }
   ],
   "source": [
    "x = 'iawpgh-----nube1206@gmail.com\\r\\n+79151489999 (telegram @vasiiesal) test.tewst2@subsubdomain.subdomain.domain.ru.!'\n",
    "re.findall(r'\\b', x) # строки в выводе пустые, потому что не указали какой паттерн искать"
   ]
  },
  {
   "cell_type": "markdown",
   "metadata": {},
   "source": [
    "Далее идет блок в `[ ]`, в котором как раз определяем паттерн, который ищем, в нашем случае это `S`, где `\\S` любой непробельный символ. НО это только один символ, попадающий в эту маску. Для того чтобы получить неограниченную длинной последовательность, мы добавим + к квадратным скобкам.\n",
    "\n",
    "Получим такие вот подстроки:\n",
    "- iawpghnube1206@gmail.com\n",
    "- 79151489999\n",
    "- telegram\n",
    "- vasiiesal)\n",
    "- test.tewst2!@subsubdomain.subdomain.domain.ru.!"
   ]
  },
  {
   "cell_type": "code",
   "execution_count": 91,
   "metadata": {},
   "outputs": [
    {
     "data": {
      "text/plain": [
       "['iawpgh-----nube1206@gmail.com',\n",
       " '79151489999',\n",
       " 'telegram',\n",
       " 'vasiiesal)',\n",
       " 'test.tewst2@subsubdomain.subdomain.domain.ru.!']"
      ]
     },
     "execution_count": 91,
     "metadata": {},
     "output_type": "execute_result"
    }
   ],
   "source": [
    "re.findall(r'\\b[\\S]+', x)"
   ]
  },
  {
   "cell_type": "markdown",
   "metadata": {},
   "source": [
    "`@` показывает нам, что далее нужно найти 1 символ `@`. Что даст следующие подстроки:\n",
    "\n",
    "- iawpghnube1206@\n",
    "- test.tewst2!@"
   ]
  },
  {
   "cell_type": "code",
   "execution_count": 92,
   "metadata": {},
   "outputs": [
    {
     "data": {
      "text/plain": [
       "['iawpgh-----nube1206@', 'test.tewst2@']"
      ]
     },
     "execution_count": 92,
     "metadata": {},
     "output_type": "execute_result"
    }
   ],
   "source": [
    "re.findall(r'\\b[\\S]+@', x)"
   ]
  },
  {
   "cell_type": "markdown",
   "metadata": {},
   "source": [
    "После `@` всегда идет домен. Как говорилось выше он может иметь несколько уровней. Поэтому мы снова ищем последовательность из букв, цифр и спец знаков, причем данная последовательность встречается от 1 и более раз `{1,}`\n",
    "\n",
    "Получим такие строки:\n",
    "- iawpghnube1206@gmail.com'\n",
    "- test.tewst2!@subsubdomain.subdomain.domain.ru.!"
   ]
  },
  {
   "cell_type": "code",
   "execution_count": 93,
   "metadata": {},
   "outputs": [
    {
     "data": {
      "text/plain": [
       "['iawpgh-----nube1206@gmail.com',\n",
       " 'test.tewst2@subsubdomain.subdomain.domain.ru.!']"
      ]
     },
     "execution_count": 93,
     "metadata": {},
     "output_type": "execute_result"
    }
   ],
   "source": [
    "re.findall(r'\\b[\\S]+@[\\S]{1,}', x)"
   ]
  },
  {
   "cell_type": "markdown",
   "metadata": {},
   "source": [
    "Все выглядит хорошо, кроме того что мы захватили с собой лишние знаки. Однако мы знаем, что почта всегда заканчивается точкой и доменной зоной. Попробуем, это учесть. Укажем, что мы хотим ровно одну точку `\\.` и неограниченное количество букв `\\w+`.В данном случае мы прямо указываем на то что должны быть только буквы, цифры и спецсимволы не могу быть в доменной зоне. Получим:\n",
    "- iawpghnube1206@gmail.com\n",
    "- test.tewst2!@subsubdomain.subdomain.domain.ru"
   ]
  },
  {
   "cell_type": "code",
   "execution_count": 94,
   "metadata": {},
   "outputs": [
    {
     "data": {
      "text/plain": [
       "['iawpgh-----nube1206@gmail.com',\n",
       " 'test.tewst2@subsubdomain.subdomain.domain.ru']"
      ]
     },
     "execution_count": 94,
     "metadata": {},
     "output_type": "execute_result"
    }
   ],
   "source": [
    "re.findall(r'\\b[\\w\\d\\S]+@[\\w\\d\\S]{1,}\\.\\w+', x)"
   ]
  },
  {
   "cell_type": "markdown",
   "metadata": {},
   "source": [
    "### Заключение\n",
    "Сегодня мы познакомились с функциями из модуля `re`. Дополнительно про них можно почитать в официальной [документации](https://docs.python.org/3/library/re.html). Кроме того, есть очень хороший ресурс [regex101.com](https://regex101.com), который позволяет скопировать нужный текст и в интерактивном режиме следить, какие совпадения находятся при изменении регулярного выражения, введенного в отдельном окне (не забудьте поставить галочку Python в разделе FLAVOR слева)."
   ]
  },
  {
   "cell_type": "markdown",
   "metadata": {},
   "source": [
    "## Самостоятельная работа"
   ]
  },
  {
   "cell_type": "markdown",
   "metadata": {},
   "source": [
    "### Сопоставление даты\n",
    "\n",
    "Предположим, у нас есть строка, содержащая дату в формате `dd/mm/yyyy`. Мы хотим извлечь дату из строки и проверить, является ли она действительной (вдруг там 95/32/2930).\n",
    "\n",
    "Напишите функцию `extract_date(text)`, которая принимает на вход строку `text` и возвращает строку, содержащую извлеченную дату в формате `yyyy-mm-dd`, если дата действительна, или пустую строку, если дата не найдена или не действительна.\n",
    "\n",
    "\n",
    "Используйте функцию `re.search()` для поиска шаблона, который соответствует дате в строке.<br>\n",
    "Используйте функцию `datetime.datetime.strptime()` для преобразования извлеченной строки даты в объект datetime.<br>\n",
    "Используйте функцию `datetime.datetime.strftime()`, чтобы преобразовать объект даты обратно в строку в нужном формате."
   ]
  },
  {
   "cell_type": "code",
   "execution_count": 71,
   "metadata": {},
   "outputs": [],
   "source": [
    "# ваш код"
   ]
  },
  {
   "cell_type": "code",
   "execution_count": 70,
   "metadata": {},
   "outputs": [
    {
     "data": {
      "text/plain": [
       "'2023-06-05'"
      ]
     },
     "execution_count": 70,
     "metadata": {},
     "output_type": "execute_result"
    }
   ],
   "source": [
    "text = \"Сегодняшняя дата: 05/06/2023\"\n",
    "extract_date(text)"
   ]
  },
  {
   "cell_type": "markdown",
   "metadata": {},
   "source": [
    "### Извлечение URL-адресов\n",
    "\n",
    "Предположим, у нас есть строка, содержащая один или несколько URL-адресов. Мы хотим извлечь URL-адреса из строки и сохранить их в списке.\n",
    "\n",
    "Напишите функцию `extract_urls(text)`, которая принимает на вход строку `text` и возвращает список строк, содержащих извлеченные URL.\n",
    "\n",
    "Используйте функцию `re.findall()` для поиска всех вхождений шаблона, который соответствует URL в строке.<br>\n",
    "Используйте regex-шаблон, который соответствует URL в различных форматах, например http://example.com, https://www.example.com и www.example.com."
   ]
  },
  {
   "cell_type": "code",
   "execution_count": 78,
   "metadata": {},
   "outputs": [],
   "source": [
    "# ваш код"
   ]
  },
  {
   "cell_type": "code",
   "execution_count": 77,
   "metadata": {
    "scrolled": true
   },
   "outputs": [
    {
     "data": {
      "text/plain": [
       "['http://www.example.com,', 'http://google.com', 'www.learnonline.hse.ru']"
      ]
     },
     "execution_count": 77,
     "metadata": {},
     "output_type": "execute_result"
    }
   ],
   "source": [
    "text = \"Посетите мой веб-сайт: http://www.example.com, а также https://google.com и www.learnonline.hse.ru\"\n",
    "extract_urls(text)"
   ]
  },
  {
   "cell_type": "markdown",
   "metadata": {},
   "source": [
    "30 упражнений на regex на [kaggle](https://www.kaggle.com/code/albeffe/regex-exercises-solutions)"
   ]
  }
 ],
 "metadata": {
  "kernelspec": {
   "display_name": "Python 3 (ipykernel)",
   "language": "python",
   "name": "python3"
  },
  "language_info": {
   "codemirror_mode": {
    "name": "ipython",
    "version": 3
   },
   "file_extension": ".py",
   "mimetype": "text/x-python",
   "name": "python",
   "nbconvert_exporter": "python",
   "pygments_lexer": "ipython3",
   "version": "3.9.18"
  }
 },
 "nbformat": 4,
 "nbformat_minor": 2
}
