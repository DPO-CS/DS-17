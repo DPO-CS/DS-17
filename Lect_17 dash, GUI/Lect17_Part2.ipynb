{
 "cells": [
  {
   "cell_type": "markdown",
   "id": "67f2a626",
   "metadata": {},
   "source": [
    "# Tkinter\n",
    "\n",
    "### Строим программу для генерации и хранения паролей\n",
    "\n",
    "Tkinter - это стандартная библиотека GUI (графического интерфейса пользователя) для Python. Она предоставляет набор инструментов для создания окон, кнопок, ярлыков, меню, текстовых полей и других виджетов для создания настольных приложений. Это кроссплатформенная библиотека, что означает, что ее можно использовать в Windows, macOS и Linux.\n",
    "\n",
    "[Документация](https://docs.python.org/3/library/tkinter.html) \\\n",
    "[TkDocs](https://tkdocs.com/) \\\n",
    "[Tk Tutorial](https://tk-tutorial.readthedocs.io/en/latest/index.html)"
   ]
  },
  {
   "cell_type": "markdown",
   "id": "9c2901a4",
   "metadata": {},
   "source": [
    "## Немного истории\n",
    "\n",
    "<p style=\"text-align: center;\">MS-DOS, 1981</p>\n",
    "<img src ='https://betawiki.net/images/9/9e/MS-DOS-6.22-Demo.png'>"
   ]
  },
  {
   "cell_type": "markdown",
   "id": "ed4645a7",
   "metadata": {},
   "source": [
    "<p style=\"text-align: center;\">Apple Lisa, 1983</p>\n",
    "<img src='https://computerhistory.org/wp-content/uploads/2022/12/Lisa-desktop-screen.jpg'>"
   ]
  },
  {
   "cell_type": "markdown",
   "id": "4fd20e8d",
   "metadata": {},
   "source": [
    "<p style=\"text-align: center;\">Windows 1.0, 1985</p>\n",
    "<img src='https://images.ctfassets.net/freurdme1ae3/5OB5buARxXIEt5SYevIwD/886d10cd42ae1318b0b084ffdd7a1e4c/2016042Windows1.0.png?fm=jpg&w=1480&q=70'>"
   ]
  },
  {
   "cell_type": "code",
   "execution_count": 1,
   "id": "e902ef03",
   "metadata": {
    "scrolled": true
   },
   "outputs": [],
   "source": [
    "import tkinter\n",
    "\n",
    "window = tkinter.Tk()\n",
    "window.mainloop()"
   ]
  },
  {
   "cell_type": "markdown",
   "id": "50f3d7fe",
   "metadata": {},
   "source": [
    "Класс `Tk()` создает новый объект \"окно\", а метод `mainloop()` запускает цикл событий, который \"слушает\" пользовательский ввод – нажатие мыши и нажатия на клавиатуру.\n",
    "\n",
    "### Создание виджетов:\n",
    "\n",
    "**Tkinter** предоставляет несколько виджетов, которые вы можете использовать для создания графических интерфейсов. Вот некоторые из наиболее часто используемых виджетов:\n",
    "\n",
    "* Лейбл (Label): отображает текст или изображение\n",
    "* Кнопка (Button): кликабельная кнопка, выполняющая действие при нажатии\n",
    "* Ввод (Entry): текстовое поле для ввода пользователем\n",
    "* Текст (Text): многострочное текстовое поле для ввода или отображения пользователем\n",
    "* Фрейм (Frame): контейнер для других виджетов\n",
    "\n",
    "Чтобы создать виджет, необходимо вызвать его конструктор и указать ему родительский виджет – виджет, который будет содержать новый виджет."
   ]
  },
  {
   "cell_type": "code",
   "execution_count": null,
   "id": "bc39a80a",
   "metadata": {
    "scrolled": true
   },
   "outputs": [],
   "source": [
    "# Создаем окно\n",
    "window = tkinter.Tk()\n",
    "\n",
    "# Создаем лейбл\n",
    "label = tkinter.Label(window, text=\"Hello, world!\")\n",
    "\n",
    "# Создаем кнопку\n",
    "button = tkinter.Button(window, text=\"Клик!\")\n",
    "\n",
    "# Добавляем виджеты в окно\n",
    "label.pack()\n",
    "button.pack()\n",
    "\n",
    "window.mainloop()"
   ]
  },
  {
   "cell_type": "markdown",
   "id": "28edc379",
   "metadata": {},
   "source": [
    "### Настройка окна:\n",
    "\n",
    "Вы можете настроить внешний вид окна, задав его свойства. Вот некоторые часто используемые методы:\n",
    "\n",
    "* title: текст, который отображается в строке заголовка окна\n",
    "* geometry: размер и положение окна (в пикселях)\n",
    "\n",
    "В Tkinter можно конфигурировать виджеты и окна, задавая их свойства с помощью метода `configure()`. Этот метод принимает один или несколько аргументов с ключевыми словами (\\**kwargs), которые соответствуют свойствам, которые вы хотите установить."
   ]
  },
  {
   "cell_type": "code",
   "execution_count": null,
   "id": "539daebe",
   "metadata": {
    "scrolled": true
   },
   "outputs": [],
   "source": [
    "# Создаем окно\n",
    "window = tkinter.Tk()\n",
    "window.title('Hello')\n",
    "window.configure(padx=200, pady=300)\n",
    "\n",
    "# Создаем лейбл\n",
    "label = tkinter.Label(window, text=\"Hello, world!\")\n",
    "\n",
    "# Создаем кнопку\n",
    "button = tkinter.Button(window, text=\"Клик!\")\n",
    "\n",
    "# Добавляем виджеты в окно\n",
    "label.pack()\n",
    "button.pack()\n",
    "\n",
    "window.mainloop()"
   ]
  },
  {
   "cell_type": "markdown",
   "id": "66dc2d76",
   "metadata": {},
   "source": [
    "### Свойства виджета:\n",
    "\n",
    "Виджеты имеют множество свойств, которые вы можете установить для настройки их внешнего вида и поведения. Вот некоторые из наиболее часто используемых свойств:\n",
    "\n",
    "* text: текст, отображаемый на виджете\n",
    "* bg: цвет фона виджета\n",
    "* fg: цвет переднего плана (цвет текста) виджета\n",
    "* font: шрифт, используемый для текста на виджете\n",
    "* command: функция, которая будет вызвана при нажатии на виджет"
   ]
  },
  {
   "cell_type": "code",
   "execution_count": null,
   "id": "2c8c6070",
   "metadata": {
    "scrolled": true
   },
   "outputs": [],
   "source": [
    "# Создаем окно\n",
    "window = tkinter.Tk()\n",
    "window.title('Hello')\n",
    "window.configure(padx=200, pady=300)\n",
    "\n",
    "# Создаем лейбл\n",
    "label = tkinter.Label(window, text=\"Hello, world!\", bg=\"white\", fg=\"blue\", font=('Arial', 20))\n",
    "\n",
    "# Создаем кнопку\n",
    "button = tkinter.Button(window, text=\"Клик!\", command=lambda: label.config(text='Кнопка нажата!'))\n",
    "\n",
    "# Добавляем виджеты в окно\n",
    "label.pack()\n",
    "button.pack()\n",
    "\n",
    "window.mainloop()"
   ]
  },
  {
   "cell_type": "markdown",
   "id": "96ee77dd",
   "metadata": {},
   "source": [
    "### Расположение виджетов\n",
    "\n",
    "Чтобы добавить виджеты в окно, необходимо создать их, а затем добавить в окно с помощью одного из менеджеров компоновки, предоставляемых Tkinter. Вот некоторые часто используемые менеджеры компоновки:\n",
    "\n",
    "* pack: упаковывает виджеты плотно друг к другу в вертикальную или горизонтальную рамку\n",
    "* grid: располагает виджеты в виде сетки из строк и столбцов\n",
    "* place: позиционирует виджеты, используя абсолютные координаты\n",
    "\n",
    "### Посмотрим на кучу виджетов"
   ]
  },
  {
   "cell_type": "code",
   "execution_count": 2,
   "id": "c58a63c6",
   "metadata": {
    "scrolled": true
   },
   "outputs": [
    {
     "name": "stdout",
     "output_type": "stream",
     "text": [
      "Текст для начала.\n",
      "Пример строки на несколько строчек\n",
      "\n"
     ]
    }
   ],
   "source": [
    "from tkinter import *\n",
    "\n",
    "# Создаем новое окно и конфигурацию\n",
    "window = Tk()\n",
    "window.title(\"Примеры виджетов\")\n",
    "window.minsize(width=500, height=500)\n",
    "\n",
    "# Лейблы\n",
    "label = Label(text=\"Это старый текст\")\n",
    "label.config(text=\"Это новый текст\")\n",
    "label.pack()\n",
    "\n",
    "# Кнопки\n",
    "def action():\n",
    "    print(\"Сделай что-нибудь\")\n",
    "\n",
    "# Вызывает команду, когда нажимаем на кнопку\n",
    "button = Button(text=\"Клик\", command=action)\n",
    "button.pack()\n",
    "\n",
    "# Entries\n",
    "entry = Entry(width=30)\n",
    "# Добавим текст для начала\n",
    "entry.insert(END, string=\"Текст для начала.\")\n",
    "# Получаем введенный текст\n",
    "print(entry.get())\n",
    "entry.pack()\n",
    "\n",
    "# Текст\n",
    "text = Text(height=5, width=30)\n",
    "# Помещаем курсор в этот виджет\n",
    "text.focus()\n",
    "# Добавим текст для начала\n",
    "text.insert(END, \"Пример строки на несколько строчек\")\n",
    "# Получаем значения из окошка для текста (начиная со строки 1, символа 0 до конца)\n",
    "print(text.get(\"1.0\", END))\n",
    "text.pack()\n",
    "\n",
    "# Cчетчик\n",
    "def spinbox_used():\n",
    "    # получает текущее значение счетчика\n",
    "    print(spinbox.get())\n",
    "spinbox = Spinbox(from_=0, to=10, width=5, command=spinbox_used)\n",
    "spinbox.pack()\n",
    "\n",
    "# Шкала\n",
    "# Вызывается с текущим уровнем шкалы\n",
    "def scale_used(value):\n",
    "    print(value)\n",
    "scale = Scale(from_=0, to=100, command=scale_used)\n",
    "scale.pack()\n",
    "\n",
    "# Флажок\n",
    "def checkbutton_used():\n",
    "    # Печатает 1, если нажат флажок, иначе 0\n",
    "    print(checked_state.get())\n",
    "# Переменная, чтобы зафиксировать текущий выбор, 0 off, 1 on.\n",
    "checked_state = IntVar()\n",
    "checkbutton = Checkbutton(text=\"Вкл?\", variable=checked_state, command=checkbutton_used)\n",
    "checkbutton.pack()\n",
    "\n",
    "# Выбор\n",
    "def radio_used():\n",
    "    print(radio_state.get())\n",
    "# Переменная, чтобы зафиксировать текущий выбор\n",
    "radio_state = IntVar()\n",
    "radiobutton1 = Radiobutton(text=\"Вариант1\", value=1, variable=radio_state, command=radio_used)\n",
    "radiobutton2 = Radiobutton(text=\"Вариант2\", value=2, variable=radio_state, command=radio_used)\n",
    "radiobutton1.pack()\n",
    "radiobutton2.pack()\n",
    "\n",
    "\n",
    "# Список\n",
    "def listbox_used(event):\n",
    "    # Получает текущий выбор из списка\n",
    "    print(listbox.get(listbox.curselection()))\n",
    "\n",
    "listbox = Listbox(height=4)\n",
    "fruits = [\"Яблоко\", \"Груша\", \"Банан\", \"Апельсин\"]\n",
    "for item in fruits:\n",
    "    listbox.insert(fruits.index(item), item)\n",
    "listbox.bind(\"<<ListboxSelect>>\", listbox_used)\n",
    "listbox.pack()\n",
    "\n",
    "\n",
    "window.mainloop()"
   ]
  },
  {
   "cell_type": "markdown",
   "id": "620b7444",
   "metadata": {},
   "source": [
    "# Калькулятор"
   ]
  },
  {
   "cell_type": "code",
   "execution_count": 3,
   "id": "e96b15ed",
   "metadata": {
    "scrolled": true
   },
   "outputs": [],
   "source": [
    "from tkinter import *\n",
    "\n",
    "class MathButton:\n",
    "    \n",
    "    def __init__(self, action):\n",
    "        self.but = Button(text=action, width=10, command=self.math)\n",
    "        self.operator = action\n",
    "        self.but.pack()\n",
    "        \n",
    "    def math(self):\n",
    "        try:\n",
    "            n1 = float(ent_n1.get())\n",
    "            n2 = float(ent_n2.get())\n",
    "        except ValueError:\n",
    "            lab_result['text'] = 'Error'\n",
    "        else:\n",
    "            if self.operator == '+':\n",
    "                lab_result['text'] = n1 + n2\n",
    "            elif self.operator == '-':\n",
    "                lab_result['text'] = n1 - n2\n",
    "            elif self.operator == '*':\n",
    "                lab_result['text'] = n1 * n2\n",
    "            elif self.operator == '/':\n",
    "                if n2 != 0:\n",
    "                    lab_result['text'] = n1 / n2\n",
    "                else:\n",
    "                    lab_result['text'] = 'ZeroDivisionError'\n",
    "root = Tk()\n",
    "\n",
    "ent_n1 = Entry(width=10)\n",
    "ent_n1.pack()\n",
    "\n",
    "ent_n2 = Entry(width=10)\n",
    "ent_n2.pack()\n",
    "\n",
    "but_summa = MathButton('+')\n",
    "but_diff = MathButton('-')\n",
    "but_prod = MathButton('*')\n",
    "but_div = MathButton('/')\n",
    "\n",
    "lab_result = Label(width=15)\n",
    "lab_result.pack()\n",
    "\n",
    "root.mainloop()"
   ]
  },
  {
   "cell_type": "markdown",
   "id": "6699a687",
   "metadata": {},
   "source": [
    "# Менеджер паролей\n",
    "\n",
    "Построим GUI менеджера паролей, который будет а) генерировать пароли; б) сохранять пароли в файл; в) хорошо общаться с пользователем."
   ]
  },
  {
   "cell_type": "code",
   "execution_count": null,
   "id": "bdc044e3",
   "metadata": {
    "scrolled": true
   },
   "outputs": [],
   "source": [
    "!pip install pyperclip"
   ]
  },
  {
   "cell_type": "code",
   "execution_count": null,
   "id": "c72bcd19",
   "metadata": {
    "scrolled": true
   },
   "outputs": [],
   "source": [
    "from tkinter import *\n",
    "from tkinter import messagebox\n",
    "from random import choice, randint, shuffle\n",
    "import pyperclip\n",
    "\n",
    "# ---------------------------- ГЕНЕРАТОР ПАРОЛЯ ------------------------------- #\n",
    "\n",
    "def generate_password():\n",
    "    letters = ['a', 'b', 'c', 'd', 'e', 'f', 'g', 'h', 'i', 'j', 'k', 'l', 'm', 'n', 'o', 'p', 'q', 'r', 's', 't', 'u', 'v', 'w', 'x', 'y', 'z', 'A', 'B', 'C', 'D', 'E', 'F', 'G', 'H', 'I', 'J', 'K', 'L', 'M', 'N', 'O', 'P', 'Q', 'R', 'S', 'T', 'U', 'V', 'W', 'X', 'Y', 'Z']\n",
    "    numbers = ['0', '1', '2', '3', '4', '5', '6', '7', '8', '9']\n",
    "    symbols = ['!', '#', '$', '%', '&', '(', ')', '*', '+']\n",
    "\n",
    "    password_letters = [choice(letters) for _ in range(randint(8, 10))]\n",
    "    password_symbols = [choice(symbols) for _ in range(randint(2, 4))]\n",
    "    password_numbers = [choice(numbers) for _ in range(randint(2, 4))]\n",
    "\n",
    "    password_list = password_letters + password_symbols + password_numbers\n",
    "    shuffle(password_list)\n",
    "\n",
    "    password = \"\".join(password_list)\n",
    "    password_entry.delete(0, END)\n",
    "    password_entry.insert(0, password)\n",
    "    pyperclip.copy(password)\n",
    "\n",
    "# ---------------------------- СОХРАНЕНИЕ ПАРОЛЯ ------------------------------- #\n",
    "def save():\n",
    "\n",
    "    website = website_entry.get()\n",
    "    email = email_entry.get()\n",
    "    password = password_entry.get()\n",
    "\n",
    "    if len(website) == 0 or len(password) == 0:\n",
    "        messagebox.showinfo(title=\"Упс!\", message=\"Не все поля заполнены.\")\n",
    "    else:\n",
    "        is_ok = messagebox.askokcancel(title=website, message=f\"Введенные данные: \\nEmail: {email} \"\n",
    "                                                      f\"\\nПароль: {password} \\nСохранить?\")\n",
    "        if is_ok:\n",
    "            with open(\"data.txt\", \"a\") as data_file:\n",
    "                data_file.write(f\"{website} | {email} | {password}\\n\")\n",
    "                website_entry.delete(0, END) # константа END из tkinter хранит в себе индекс последнего элемента Entry\n",
    "                password_entry.delete(0, END) # то есть эта запись удалит все данные от начала (0) до конца (END) Entry\n",
    "\n",
    "\n",
    "# ---------------------------- НАСТРОЙКА UI ------------------------------- #\n",
    "\n",
    "window = Tk()\n",
    "window.title(\"Хранитель паролей\")\n",
    "window.configure(padx=50, pady=50)\n",
    "\n",
    "# Загружаем изображение\n",
    "canvas = Canvas(height=200, width=200)\n",
    "logo_img = PhotoImage(file=\"logo.png\")\n",
    "canvas.create_image(100, 100, image=logo_img)\n",
    "canvas.grid(row=0, column=1)\n",
    "\n",
    "# Лейблы\n",
    "website_label = Label(text=\"Сайт:\")\n",
    "website_label.grid(row=1, column=0)\n",
    "\n",
    "email_label = Label(text=\"Email/Username:\")\n",
    "email_label.grid(row=2, column=0)\n",
    "\n",
    "password_label = Label(text=\"Пароль:\")\n",
    "password_label.grid(row=3, column=0)\n",
    "\n",
    "# Текстовые вставки\n",
    "website_entry = Entry(width=35)\n",
    "website_entry.grid(row=1, column=1, columnspan=2)\n",
    "website_entry.focus() # этот метод позволяет пользователю без клика на поле вводить текст\n",
    "\n",
    "email_entry = Entry(width=35)\n",
    "email_entry.grid(row=2, column=1, columnspan=2)\n",
    "email_entry.insert(0, \"dkasyanenko@hse.ru\")\n",
    "\n",
    "password_entry = Entry(width=21)\n",
    "password_entry.grid(row=3, column=1)\n",
    "\n",
    "# Кнопки\n",
    "generate_password_button = Button(text=\"Генерация\", command=generate_password)\n",
    "generate_password_button.grid(row=3, column=2)\n",
    "\n",
    "add_button = Button(text=\"Добавить\", width=36, command=save)\n",
    "add_button.grid(row=4, column=1, columnspan=2)\n",
    "\n",
    "window.mainloop()"
   ]
  }
 ],
 "metadata": {
  "kernelspec": {
   "display_name": "Python 3 (ipykernel)",
   "language": "python",
   "name": "python3"
  },
  "language_info": {
   "codemirror_mode": {
    "name": "ipython",
    "version": 3
   },
   "file_extension": ".py",
   "mimetype": "text/x-python",
   "name": "python",
   "nbconvert_exporter": "python",
   "pygments_lexer": "ipython3",
   "version": "3.11.5"
  }
 },
 "nbformat": 4,
 "nbformat_minor": 5
}
