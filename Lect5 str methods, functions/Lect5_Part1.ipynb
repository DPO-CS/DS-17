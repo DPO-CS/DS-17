{
 "cells": [
  {
   "cell_type": "markdown",
   "metadata": {},
   "source": [
    "# Методы строк"
   ]
  },
  {
   "cell_type": "markdown",
   "metadata": {},
   "source": [
    "## Строки: срезы и методы\n",
    "Строки (strings) в питоне предназначаются для хранения и отображения текстовой информации. \n",
    "Строки представляют собой последовательность символов, которые имеют свой порядок, \n",
    "что значит, что питон отслеживает положение каждого элемента строки. Это позволит нам, например, \n",
    "удобно индексировать строки. Для создания строки нужно использовать одинарные или двойные кавычки. \n",
    "Попробуем создать строку."
   ]
  },
  {
   "cell_type": "code",
   "execution_count": 1,
   "metadata": {},
   "outputs": [
    {
     "name": "stdout",
     "output_type": "stream",
     "text": [
      "Welcome to Brasil!\n",
      "Welcome to Brasil!\n"
     ]
    }
   ],
   "source": [
    "s = 'Welcome to Brasil!' # одинарные кавычки\n",
    "print(s)\n",
    "\n",
    "s = \"Welcome to Brasil!\" # Двойные кавычки\n",
    "print(s)"
   ]
  },
  {
   "cell_type": "markdown",
   "metadata": {},
   "source": [
    "Если мы хотим в строке использовать кавычки, например, для какого-то названия, \n",
    "то следует использовать разные кавычки для текста внутри строки и для самой страны."
   ]
  },
  {
   "cell_type": "code",
   "execution_count": 2,
   "metadata": {},
   "outputs": [
    {
     "name": "stdout",
     "output_type": "stream",
     "text": [
      "Welcome to \"Brasil!\"\n"
     ]
    }
   ],
   "source": [
    "s = 'Welcome to \"Brasil!\"' # Правильно так (или наоборот - двойные снаружи и одинарные внтури)\n",
    "print(s)"
   ]
  },
  {
   "cell_type": "markdown",
   "metadata": {},
   "source": [
    "Также можно посчитать количество символов в строке (ее длину) с помощью функции len()"
   ]
  },
  {
   "cell_type": "code",
   "execution_count": 3,
   "metadata": {},
   "outputs": [],
   "source": [
    "f = 'gfhdsjk.   '"
   ]
  },
  {
   "cell_type": "code",
   "execution_count": 4,
   "metadata": {},
   "outputs": [
    {
     "data": {
      "text/plain": [
       "11"
      ]
     },
     "execution_count": 4,
     "metadata": {},
     "output_type": "execute_result"
    }
   ],
   "source": [
    "len(f)"
   ]
  },
  {
   "cell_type": "markdown",
   "metadata": {},
   "source": [
    "Строка представляет собой последовательность, а это значит, что мы можем обратиться к любому ее элементу по индексу.\n",
    "Для выполнения такой операции в питоне используются квадратные скобки [] после объекта. \n",
    "В квадратных скобках указывается желаемый индекс. Индексирование начинается с 0."
   ]
  },
  {
   "cell_type": "code",
   "execution_count": 5,
   "metadata": {},
   "outputs": [
    {
     "name": "stdout",
     "output_type": "stream",
     "text": [
      "W\n",
      "e\n",
      "l\n",
      "\"\n",
      "!\n",
      "Welcome to \"Brasil!\"\n"
     ]
    }
   ],
   "source": [
    "print(s[0]) # первый элемент\n",
    "print(s[1]) # второй\n",
    "print(s[2]) # третий\n",
    "print(s[-1]) # последний\n",
    "print(s[-2]) # второй с конца\n",
    "\n",
    "#Предыдущие действия никак не изменили строку\n",
    "print(s)"
   ]
  },
  {
   "cell_type": "markdown",
   "metadata": {},
   "source": [
    "Кроме выбора одного элемента с помощью индексирования можно получить подстроку. \n",
    "Для этого надо указать индексы границ подстроки через двоеточие. \n",
    "\n",
    "Первое число - от какого индекса начинаем, если ничего не написать, то начнем сначала. Этот индекс включается в отрезок. Второе число (после первого двоеточия) - каким индексом заканчивается срез, если ничего не написать, то питон возьмет последний символ. Здесь уже не включительно - если вы укажите срез [0:2], то питон вернет только два символа под индексами 0 и 1. Третье число (необязательное, после второго двоеточия) - шаг, по умолчанию там стоит параметр 1 (выводится каждая буква).\n",
    "\n",
    "Таким образом, использовав одно число без двоеточий мы получим один символ. Использовав два числа через двоеточие - срез строки, включая первый индекс и не включая второй (первое число обязательно меньше второго). Использовав три числа через два двоеточих - срез строки с определенным шагом, заданным третьим числом."
   ]
  },
  {
   "cell_type": "code",
   "execution_count": 18,
   "metadata": {},
   "outputs": [
    {
     "name": "stdout",
     "output_type": "stream",
     "text": [
      "elcome to \"Brasil!\"\n",
      "Welc\n",
      "Welcome to \"Brasil!\"\n",
      "Welcome to \"Brasil!\n",
      "Wloet Bai!\n",
      "\"!lisarB\" ot emocleW\n"
     ]
    }
   ],
   "source": [
    "print(s[1:])\n",
    "print(s[:4])   # четыре первых символа до порядкового номера 4\n",
    "print(s[:])    # копия строки (срез от первого до последнего символа)\n",
    "print(s[:-1])  # вся строка кроме последнего символа\n",
    "print(s[::2])  # также можно выбирать символы из строки с каким-то шагом\n",
    "print(s[::-1]) # например, с помощью шага -1 можно получить строку наоборот"
   ]
  },
  {
   "cell_type": "markdown",
   "metadata": {},
   "source": [
    "Стоит заметить, что строка - это неизменяемый объект. Если вдруг вы хотите заменить первую букву строки - ничего не выйдет."
   ]
  },
  {
   "cell_type": "markdown",
   "metadata": {},
   "source": [
    "Срезы работают и со списками."
   ]
  },
  {
   "cell_type": "code",
   "execution_count": 1,
   "metadata": {},
   "outputs": [
    {
     "name": "stdout",
     "output_type": "stream",
     "text": [
      "['to', 'wonderful', 'and', 'bright', 'Brazil']\n",
      "['Welcome', 'to', 'wonderful', 'and']\n",
      "['Welcome', 'to', 'wonderful', 'and', 'bright', 'Brazil']\n",
      "['Welcome', 'to', 'wonderful', 'and', 'bright']\n",
      "['Welcome', 'wonderful', 'bright']\n",
      "['Brazil', 'bright', 'and', 'wonderful', 'to', 'Welcome']\n"
     ]
    }
   ],
   "source": [
    "a = ['Welcome', 'to', 'wonderful', 'and', 'bright', 'Brazil']\n",
    "\n",
    "print(a[1:])\n",
    "print(a[:4])   # четыре первых элемента\n",
    "print(a[:])    # копия списка (срез от первого до последнего элемента)\n",
    "print(a[:-1])  # весь список кроме последнего элемента\n",
    "print(a[::2])  # каждый второй элемент списка\n",
    "print(a[::-1]) # список наоборот"
   ]
  },
  {
   "cell_type": "markdown",
   "metadata": {},
   "source": [
    "## Методы строк\n",
    "Теперь перейдем к задачам поинтереснее. Пусть нам нужно найти в строке какое-нибудь слово. Мы можем проверять наличие подстроки в строке с помощью специального слова in."
   ]
  },
  {
   "cell_type": "code",
   "execution_count": 9,
   "metadata": {},
   "outputs": [
    {
     "name": "stdout",
     "output_type": "stream",
     "text": [
      "True\n"
     ]
    }
   ],
   "source": [
    "lyrics = '''The unlocked variant of the Galaxy Z Flip was quickly sold in stores as well \n",
    "            as on Samsung’s website in the US after the launch. The company had also claimed\n",
    "            that it was overwhelmed with the response it received from consumers for its second \n",
    "            foldable phone. Now, the South Korean smartphone giant says that the Galaxy Z Flip \n",
    "            will be back in stock in the US tomorrow.'''\n",
    "\n",
    "print('smartphone' in lyrics)"
   ]
  },
  {
   "cell_type": "markdown",
   "metadata": {},
   "source": [
    "Если бы новостей у нас было много, мы бы могли написать код, который заходил бы в каждую из них и прибавлял бы новость к числу упоминаний, если название компании в ней встречалось. Пока мы не умеем работать с типами данных, которые могут содержать в себе несколько строк, поэтому давайте еще раз потренируемся писать цикл while. Предположим, что с утра нам на оценку прилетело пять новостей."
   ]
  },
  {
   "cell_type": "code",
   "execution_count": 10,
   "metadata": {},
   "outputs": [
    {
     "name": "stdout",
     "output_type": "stream",
     "text": [
      "Samsung is one of the biggest tech companies\n",
      "Samsung is one of the biggest tech companies\n",
      "asdfgh\n",
      "asdfg\n",
      "Samsung is one of the biggest tech companies\n",
      "3\n"
     ]
    }
   ],
   "source": [
    "mentions = 0 # переменная, в которой будем считать упоминания\n",
    "news_number = 1 # счетчик новостей, начинаем работать с первой\n",
    "\n",
    "while news_number <= 5:\n",
    "    news = input()\n",
    "    if 'Samsung' in news:\n",
    "        mentions += 1\n",
    "    news_number += 1\n",
    "    \n",
    "print(mentions)"
   ]
  },
  {
   "cell_type": "markdown",
   "metadata": {},
   "source": [
    "Обратите внимание, что строка, в которой samsung написан с маленькой буквы, не учлась. Напоминаю, что питон чувствителен к регистру. Бороться с этой бедой научимся чуть ниже.\n",
    "\n",
    "Работая со строками, мы будем использовать очень много методов. Методы отличаются от функций тем, что вызываются от имени переменной через точку. Например news.upper() - метод upper() вызывается от строковой переменной news. По сути методы, это функции, которые применимы только к особому типу данных. Так, например, функция print() напечатает все, что бы мы ей не передали, а перевод к верхнему регистру (а именно это делает метод upper()) ни с одним типом данных кроме строки уже не сработает."
   ]
  },
  {
   "cell_type": "code",
   "execution_count": 1,
   "metadata": {},
   "outputs": [
    {
     "name": "stdout",
     "output_type": "stream",
     "text": [
      "THE UNLOCKED VARIANT OF THE GALAXY Z FLIP WAS QUICKLY SOLD IN STORES AS WELL \n",
      "            AS ON SAMSUNG’S WEBSITE IN THE US AFTER THE LAUNCH. THE COMPANY HAD ALSO CLAIMED\n",
      "            THAT IT WAS OVERWHELMED WITH THE RESPONSE IT RECEIVED FROM CONSUMERS FOR ITS SECOND \n",
      "            FOLDABLE PHONE. NOW, THE SOUTH KOREAN SMARTPHONE GIANT SAYS THAT THE GALAXY Z FLIP \n",
      "            WILL BE BACK IN STOCK IN THE US TOMORROW.\n",
      "the unlocked variant of the galaxy z flip was quickly sold in stores as well \n",
      "            as on samsung’s website in the us after the launch. the company had also claimed\n",
      "            that it was overwhelmed with the response it received from consumers for its second \n",
      "            foldable phone. now, the south korean smartphone giant says that the galaxy z flip \n",
      "            will be back in stock in the us tomorrow.\n"
     ]
    }
   ],
   "source": [
    "news = '''The unlocked variant of the Galaxy Z Flip was quickly sold in stores as well \n",
    "            as on Samsung’s website in the US after the launch. The company had also claimed\n",
    "            that it was overwhelmed with the response it received from consumers for its second \n",
    "            foldable phone. Now, the South Korean smartphone giant says that the Galaxy Z Flip \n",
    "            will be back in stock in the US tomorrow.'''\n",
    "\n",
    "\n",
    "print(news.upper()) # приводит строку к верхнему регистру\n",
    "print(news.lower()) # приводит строку к нижнему регистру"
   ]
  },
  {
   "cell_type": "markdown",
   "metadata": {},
   "source": [
    "Обратите внимание, что метод, как правило, не изменяет объект и наша строка осталась такой как была."
   ]
  },
  {
   "cell_type": "code",
   "execution_count": 2,
   "metadata": {},
   "outputs": [
    {
     "data": {
      "text/plain": [
       "'The unlocked variant of the Galaxy Z Flip was quickly sold in stores as well \\n            as on Samsung’s website in the US after the launch. The company had also claimed\\n            that it was overwhelmed with the response it received from consumers for its second \\n            foldable phone. Now, the South Korean smartphone giant says that the Galaxy Z Flip \\n            will be back in stock in the US tomorrow.'"
      ]
     },
     "execution_count": 2,
     "metadata": {},
     "output_type": "execute_result"
    }
   ],
   "source": [
    "news"
   ]
  },
  {
   "cell_type": "markdown",
   "metadata": {},
   "source": [
    "Мы с вами рассмотрим самые основные методы работы со строками, которые в будущем позволят нам решать более интересные задачи.\n",
    "\n",
    "**find()**  \n",
    "Метод find() возвращает индекс вхождения символа в строку (или индекс первого символа подстроки в строке, если мы ищем подстроку). Зная индекс первого элемента, мы можем достать интересующую нас информацию.\n",
    "\n",
    "Например, мы скачали с сайта информацию о цене нового планшета и хотим достать оттуда собственно цену. Мы знаем, что цена идет после подстроки \"ЦЕНА:\" и что после самой цены идет постфикс \"руб.\""
   ]
  },
  {
   "cell_type": "code",
   "execution_count": 11,
   "metadata": {},
   "outputs": [
    {
     "name": "stdout",
     "output_type": "stream",
     "text": [
      "11\n",
      "24\n",
      "39 990\n"
     ]
    }
   ],
   "source": [
    "info = 'iPad 64 GB ЦЕНА: 39 990 руб. Скидка: 5% ЦЕНА:'\n",
    "print(info.find('ЦЕНА:')) # нашли индекс Ц - начала подстроки \"ЦЕНА:\"\n",
    "print(info.find('руб.')) # нашли индекс р\n",
    "price = info[info.find('ЦЕНА:')+6:info.find('руб.')-1] # вывели срез от от начала до конца цены (с помощью\n",
    "                                               # слогаемых 6 и -1 откорретировали индексы до начала и конца цены)\n",
    "print(price)"
   ]
  },
  {
   "cell_type": "markdown",
   "metadata": {},
   "source": [
    "Кстати, если в строке нет искомой подстроки, то выведется -1. Это не значит, что первый символ находится на последнем месте, это значит, что такой подстроки в строке не встречается."
   ]
  },
  {
   "cell_type": "markdown",
   "metadata": {},
   "source": [
    "А если подстрока входит в строку несколько раз, то find() вернет индекс только для первого вхождения."
   ]
  },
  {
   "cell_type": "code",
   "execution_count": 13,
   "metadata": {},
   "outputs": [
    {
     "data": {
      "text/plain": [
       "-1"
      ]
     },
     "execution_count": 13,
     "metadata": {},
     "output_type": "execute_result"
    }
   ],
   "source": [
    "info.find('asdfg')"
   ]
  },
  {
   "cell_type": "markdown",
   "metadata": {},
   "source": [
    "Есть модификация метода find(): rfind(substring) - возвращает позицию самого правого вхождения подстроки substring в строку string или -1, если подстрока не найдена. "
   ]
  },
  {
   "cell_type": "code",
   "execution_count": 26,
   "metadata": {},
   "outputs": [
    {
     "data": {
      "text/plain": [
       "'39 990'"
      ]
     },
     "execution_count": 26,
     "metadata": {},
     "output_type": "execute_result"
    }
   ],
   "source": [
    "price"
   ]
  },
  {
   "cell_type": "code",
   "execution_count": 14,
   "metadata": {},
   "outputs": [
    {
     "data": {
      "text/plain": [
       "39990"
      ]
     },
     "execution_count": 14,
     "metadata": {},
     "output_type": "execute_result"
    }
   ],
   "source": [
    "price = price.replace(' ', '')\n",
    "int(price)"
   ]
  },
  {
   "cell_type": "markdown",
   "metadata": {},
   "source": [
    "Продолжим с нашим мини-парсингом. Нашли цену и с ней уже почти можно работать (например, мы хотим что-то считать). Но пробел в середине не даст нам сделать из нее целое число. Тут на помощь приходит метод **replace()**. С помощью него мы можем заменить символ или подстроку в строке. Метод принимает два аргумента - что меняем и на что меняем."
   ]
  },
  {
   "cell_type": "code",
   "execution_count": 15,
   "metadata": {},
   "outputs": [
    {
     "name": "stdout",
     "output_type": "stream",
     "text": [
      "39990\n"
     ]
    },
    {
     "data": {
      "text/plain": [
       "79980"
      ]
     },
     "execution_count": 15,
     "metadata": {},
     "output_type": "execute_result"
    }
   ],
   "source": [
    "print(price.replace(' ', '')) # меняем пробел на \"ничего\"\n",
    "int(price.replace(' ', '')) * 2 # ура! теперь можно перевести цену в int и узнать, сколько стоят два планшета"
   ]
  },
  {
   "cell_type": "markdown",
   "metadata": {},
   "source": [
    "Метод replace() заменяет все вхождения, если мы не укажем ограничение специальным третьим аргументом, который как раз ограничивает количество замен."
   ]
  },
  {
   "cell_type": "code",
   "execution_count": 17,
   "metadata": {},
   "outputs": [
    {
     "data": {
      "text/plain": [
       "'39990'"
      ]
     },
     "execution_count": 17,
     "metadata": {},
     "output_type": "execute_result"
    }
   ],
   "source": [
    "price"
   ]
  },
  {
   "cell_type": "code",
   "execution_count": 16,
   "metadata": {},
   "outputs": [
    {
     "name": "stdout",
     "output_type": "stream",
     "text": [
      "31110\n",
      "31190\n"
     ]
    }
   ],
   "source": [
    "print(price.replace('9', '1')) # заменяем на 1 все девятки\n",
    "print(price.replace('9', '1', 2)) # заменяет на 1 только первые две девятки"
   ]
  },
  {
   "cell_type": "markdown",
   "metadata": {},
   "source": [
    "Конечно, это не все. У строк есть еще множестве методов, которые позволяют искать паттерны и как-то их редактировать. Методы **startswith()** и **endswith()** проверяют, стоит ли искомая построка в начале или в конце строки."
   ]
  },
  {
   "cell_type": "code",
   "execution_count": 3,
   "metadata": {},
   "outputs": [
    {
     "name": "stdout",
     "output_type": "stream",
     "text": [
      "We have to choose from a lot of resorts, but finnaly we made up our mind \n",
      "    for Palladium Resort which is an enormous, stunning complex of villas, \n",
      "    all having their own terrace.\n",
      "True\n"
     ]
    }
   ],
   "source": [
    "s = '''We have to choose from a lot of resorts, but finnaly we made up our mind \n",
    "    for Palladium Resort which is an enormous, stunning complex of villas, \n",
    "    all having their own terrace.'''\n",
    "\n",
    "print(s)\n",
    "print(s.startswith('We')) # данный метод проверяет, оканчивается ли исходная строка на данную подстроку"
   ]
  },
  {
   "cell_type": "markdown",
   "metadata": {},
   "source": [
    "Пусть у нас есть отзыв посетителя о кафе. Мы заранее знаем, что пользователь \n",
    "для отзыва выбирает только последнее слово из предложенных двух: 'good', 'bad'. \n",
    "Попробуем оценить, остался ли доволен клиент."
   ]
  },
  {
   "cell_type": "code",
   "execution_count": 10,
   "metadata": {},
   "outputs": [
    {
     "name": "stdout",
     "output_type": "stream",
     "text": [
      "Client was disappointed\n"
     ]
    }
   ],
   "source": [
    "feedback = 'This place was bad.' # сам отзыв\n",
    "\n",
    "if feedback.endswith('bad.'): # если строка заканчивается на 'bad'\n",
    "    print('Client was disappointed') # то клиент расстроен\n",
    "else:\n",
    "    print('Client was satisfied') # иначе - клиенту все понравилось"
   ]
  },
  {
   "cell_type": "markdown",
   "metadata": {},
   "source": [
    "Теперь усложним задачу. Что если слово находится не в конце предложения? Попробуем его найти!\n"
   ]
  },
  {
   "cell_type": "code",
   "execution_count": 4,
   "metadata": {},
   "outputs": [
    {
     "name": "stdout",
     "output_type": "stream",
     "text": [
      "Client was disappointed\n"
     ]
    }
   ],
   "source": [
    "feedback2 = 'This place was bad enough'\n",
    "\n",
    "if feedback2.find('bad') != -1: \n",
    "    print('Client was disappointed') # то клиент расстроен\n",
    "else:\n",
    "    print('Client was satisfied') # иначе - клиенту все понравилось"
   ]
  },
  {
   "cell_type": "markdown",
   "metadata": {},
   "source": [
    "Метод **strip()** (и его собратья **lstrip()** и **rstrip()**, работающие только с одной стороны строки, удаляет незначимые символы (пробелы, табуляцию и т.д.) с краев строк. Очень полезный метод, когда мы собираем информацию из интернета. Если этим методам передать аргумент, то они удалят подстроку."
   ]
  },
  {
   "cell_type": "code",
   "execution_count": 5,
   "metadata": {},
   "outputs": [
    {
     "name": "stdout",
     "output_type": "stream",
     "text": [
      "135133\n",
      "hse.\n",
      "hse.ru\n",
      "ruhse.\n"
     ]
    }
   ],
   "source": [
    "print(' 135133   '.strip()) # удалили пробельные символы слева и справа\n",
    "print('ruhse.ru'.strip('ru')) # удалили ru с обеих сторон\n",
    "print('ruhse.ru'.lstrip('ru')) # удалили ru слева\n",
    "print('ruhse.ru'.rstrip('ru')) # удалили ru справа"
   ]
  },
  {
   "cell_type": "markdown",
   "metadata": {},
   "source": [
    "В реальности strip часто используется для нормализации email'ов или дргуих идентификторов"
   ]
  },
  {
   "cell_type": "code",
   "execution_count": 2,
   "metadata": {},
   "outputs": [
    {
     "name": "stdout",
     "output_type": "stream",
     "text": [
      "test@gmail.com\n"
     ]
    }
   ],
   "source": [
    "print('      test@gmail.com       '.strip())"
   ]
  },
  {
   "cell_type": "markdown",
   "metadata": {},
   "source": [
    "Теперь научимся считать количество вхождений подстроки в строку с помощью метода **count()**\n"
   ]
  },
  {
   "cell_type": "code",
   "execution_count": 6,
   "metadata": {},
   "outputs": [
    {
     "name": "stdout",
     "output_type": "stream",
     "text": [
      "0\n",
      "5\n",
      "2\n",
      "1\n",
      "0\n",
      "2\n",
      "3\n"
     ]
    }
   ],
   "source": [
    "s = \"Mushroooom soup\" # исходная строка\n",
    "print(s.count(\"O\")) # ищем заглавную букву О, не находим\n",
    "print(s.count(\"o\")) # ищем строчную букву о, находим 5 штук\n",
    "print(s.count(\"oo\")) # ищем две буквы о подряд, находим две таких подстроки\n",
    "print(s.count(\"ooo\")) # ищем три букв о подряд, находим одно такое вхождение\n",
    "print(s.count(\"push\")) # ищем подстроку 'push', не находим\n",
    "print(s.count(\"o\", 4, 7)) # ищем букву о в s[4:7]\n",
    "print(s.count(\"o\", 7)) # ищем букву о в s[7:]"
   ]
  },
  {
   "cell_type": "markdown",
   "metadata": {},
   "source": [
    "Отдельное семейство методов строк отвечает за проверку на соответствие условиям."
   ]
  },
  {
   "cell_type": "code",
   "execution_count": 6,
   "metadata": {},
   "outputs": [
    {
     "name": "stdout",
     "output_type": "stream",
     "text": [
      "False\n",
      "True\n",
      "True\n",
      "False\n",
      "True\n",
      "True\n",
      "True\n"
     ]
    }
   ],
   "source": [
    "# isalpha - проверяет, что все символы строки являются буквами.\n",
    "print('Ask me a question'.isalpha())\n",
    "print('Ask'.isalpha())\n",
    "\n",
    "# isdigit - проверяет, что все символы строки являются цифрами.\n",
    "print('13242'.isdigit())\n",
    "\n",
    "# isalnum - проверяет, что все символы строки являются буквами или цифрами.\n",
    "print('Ask me a question!'.isalnum())\n",
    "print('Ask232'.isalnum())\n",
    "\n",
    "# islower - проверяет, что все символы строки являются маленькими (строчными) буквами.\n",
    "print('ask me a question!1'.islower())\n",
    "\n",
    "# isupper - проверяет, что все символы строки являются большими (заглавными, прописными) буквами.\n",
    "print('Ask me a question!'.isupper())"
   ]
  },
  {
   "cell_type": "markdown",
   "metadata": {},
   "source": [
    "На этом методы строк не заканчиваются) Например, можно менять регистр букв или переводить в верхний регистр первые буквы слов"
   ]
  },
  {
   "cell_type": "code",
   "execution_count": 4,
   "metadata": {},
   "outputs": [
    {
     "name": "stdout",
     "output_type": "stream",
     "text": [
      "Ask, Hgfjdk? Me A Question!\n",
      "ASK ME A QUESTION!\n"
     ]
    }
   ],
   "source": [
    "# title - переводит первую букву всех слов к верхнему регистру\n",
    "print('ask, hgfjdk? me a question!'.title())\n",
    "\n",
    "# swapcase - меняет регистр на противоположный\n",
    "print('ask me a question!'.swapcase())"
   ]
  },
  {
   "cell_type": "code",
   "execution_count": 9,
   "metadata": {},
   "outputs": [
    {
     "data": {
      "text/plain": [
       "'Ipad 64 gb цена: 39 990 руб. скидка: 5%'"
      ]
     },
     "execution_count": 9,
     "metadata": {},
     "output_type": "execute_result"
    }
   ],
   "source": [
    "info = 'iPad 64 GB ЦЕНА: 39 990 руб. Скидка: 5%'\n",
    "# capitalize - Переводит первую букву строки в верхний регистра, а остальные - в нижний\n",
    "info.capitalize()"
   ]
  },
  {
   "cell_type": "markdown",
   "metadata": {},
   "source": [
    "Может возникнуть вопрос: а зачем нам проверять, из каких символов состоит строка? Ведь даже, если строка состоит из цифр, числом она автоматически не станет. Давайте рассмотрим две ситуации, в которых очень полезно знать, какие символы входят в нашу строку.\n",
    "\n",
    "### Задача 1\n",
    "\n",
    "Пользователь должен придумать пароль для своей учетной записи. Пароль должен состоять только из цифр и букв."
   ]
  },
  {
   "cell_type": "code",
   "execution_count": null,
   "metadata": {},
   "outputs": [],
   "source": [
    "password = input(\"Введите пароль: \")\n",
    "\n",
    "# ваш код"
   ]
  },
  {
   "cell_type": "markdown",
   "metadata": {},
   "source": [
    "А теперь давайте усложним и добавим проверку на то, что буквы должны быть разного регистра."
   ]
  },
  {
   "cell_type": "code",
   "execution_count": null,
   "metadata": {},
   "outputs": [],
   "source": [
    "password = input(\"Введите пароль: \")\n",
    "\n",
    "# ваш код"
   ]
  },
  {
   "cell_type": "markdown",
   "metadata": {},
   "source": [
    "### Задача 1.2\n",
    "\n",
    "Вам нужно написать программу, которая проверяет корректность созданных паролей. Пароль - это строка из разных символов, которая подается на вход вашей программе, гарантируется, что строка не нулевая. Реализуйте проверку следующих требований к паролям:\n",
    "\n",
    "* есть ровно 3 цифры\n",
    "* пароль не начинается на: qwerty, 12345, password\n",
    "* количество букв в верхнем регистре совпадает с количеством букв в нижнем.\n",
    "\n",
    "Если пароль **соответствует** всем 3 критериям, то вывести:\n",
    "\n",
    "V есть ровно 3 цифры \\\n",
    "V пароль не начинается с фраз: qwerty, 12345, password \\\n",
    "V количество букв в верхнем регистре совпадает с количеством букв в нижнем\n",
    "\n",
    "Если пароль **не соответствует** какому-либо условию вывести, какие условия нарушены, а какие выполнены:\n",
    "\n",
    "**Ввод**\n",
    "\n",
    "12345Aа\n",
    "\n",
    "**Вывод**\n",
    "\n",
    "X есть ровно 3 цифры \\\n",
    "X пароль не начинается с фраз: qwerty, 12345, password \\\n",
    "V количество букв в верхнем регистре совпадает с количеством букв в нижнем\n",
    "\n",
    "**АЛГОРИТМ РЕШЕНИЯ** \\\n",
    "Это один из возможных алгоритмов решения задачи. \n",
    "\n",
    "1. Вводим пароль \n",
    "\n",
    "2. Делаем счетчик для количества цифр\n",
    "\n",
    "3. Делаем счетчик для заглавных букв\n",
    "\n",
    "4. Делаем счетчик для строчных букв\n",
    "\n",
    "5. Запускаем цикл for по строке, где i будет поочередно принимать символы из строки\n",
    "\n",
    "6. Если символ число (.isdigit()), то добавляем к счетчику количества цифр 1\n",
    "\n",
    "7. Elif символ буква (.isalpha()), то проверяем на регистр(.isupper()/.islower()) и добавляем к соответствующему  счетчику 1\n",
    "\n",
    "8. Если количество цифр равно 3, то выводим 'V есть ровно 3 цифры', иначе 'X есть ровно 3 цифры'\n",
    "\n",
    "9. Если `пароль.startswith(('qwerty', '12345', 'password'))==False`, то выводим `print('V пароль не начинается с фраз: qwerty, 12345, password')`, иначе `print('X пароль не начинается с фраз: qwerty, 12345, password')`\n",
    "8. Если количество букв верхнего регистра равно количеству букв нижнего, то выводим: 'V количество букв в верхнем регистре совпадает с количеством букв в нижнем', иначе 'X количество букв в верхнем регистре совпадает с количеством букв в нижнем'"
   ]
  },
  {
   "cell_type": "code",
   "execution_count": null,
   "metadata": {},
   "outputs": [],
   "source": []
  }
 ],
 "metadata": {
  "kernelspec": {
   "display_name": "Python 3 (ipykernel)",
   "language": "python",
   "name": "python3"
  },
  "language_info": {
   "codemirror_mode": {
    "name": "ipython",
    "version": 3
   },
   "file_extension": ".py",
   "mimetype": "text/x-python",
   "name": "python",
   "nbconvert_exporter": "python",
   "pygments_lexer": "ipython3",
   "version": "3.9.18"
  }
 },
 "nbformat": 4,
 "nbformat_minor": 2
}
