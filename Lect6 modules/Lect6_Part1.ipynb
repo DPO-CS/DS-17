{
 "cells": [
  {
   "cell_type": "markdown",
   "metadata": {
    "id": "aeCztTKUEUMg"
   },
   "source": [
    "# Библиотеки и модули\n",
    "\n",
    "Мы умеем пользоваться некоторыми встроенными функциями Python и научились создавать собственные функции. Но это еще не все возможности. Поговорим про библиотеки и модули и научимся их использовать.\n",
    "\n",
    "Если несколько функций позволяют решать схожие задачи, то их объединяют в **модули**.  Например, модуль `math` объединяет в себе математические функции , модуль `string` предназначен для работы со строками, модуль `random` предлагает функции для генерации псевдослучайных чисел.  Причем в модуле могут быть собраны не только функции, но и, например, значения переменных.\n",
    "\n",
    "Эти модули и многие другие объединены в **Стандартную библиотеку Python**. Эта библиотека поставляется в составе Python, ее не нужно отдельно скачивать и устанавливать. Библиотека и входящие в нее модули описана в документации: https://docs.python.org/3/library/.\n",
    "\n",
    "\n",
    "При этом многие программисты и корпорации создают свои модули и готовы делиться ими с другими. В частности, вы можете найти библиотеки и модули для написания игр, для работы с Telegram и vk.com и многие другие. Возможность пользоваться чужими наработками существенно упрощает работу программиста. В отличие от модулей Стандартной библиотеки Python, другие модули нужно скачивать и устанавливать отдельно. А информацию о них искать в поисковиках — это тоже часть работы программиста.\n",
    "\n",
    "\n",
    "\n",
    "\n",
    "Сейчас мы научимся использовать модули Стандартной библиотеки Python. "
   ]
  },
  {
   "cell_type": "markdown",
   "metadata": {
    "id": "fKNEhWQKEUMk"
   },
   "source": [
    "## Пример использования модуля Стандартной библиотеки Python\n",
    "\n",
    "Допустим, мы хотим сделать квадратную лужайку и засадить ее искусственным газоном. Такой газон продается маленькими квадратами метр на метр. Какова будет длина стороны лужайки, если мы купили 16 таких маленьких квадратов? Вспоминаем школьную программу: длина стороны квадратной лужайки будет равна корню из 16. Корень из 16 равен 4, так как 4 * 4 = 16. Попробуем написать программу, которая сможет дать ответ на этот вопрос. Ведь если квадратов всего 16, мы легко посчитаем все в уме. А если 4489? Пусть за нас это сделает компьютер. \n",
    "Воспользуемся функцией `sqrt()` из модуля  `math`. Эта функция как раз вычисляет квадратный корень, попробуем ее вызвать."
   ]
  },
  {
   "cell_type": "code",
   "execution_count": 1,
   "metadata": {
    "id": "Y2qpyo4kEUMl",
    "outputId": "bceae8e7-ae5f-4a47-a501-ae88c1e91c00"
   },
   "outputs": [
    {
     "ename": "NameError",
     "evalue": "name 'sqrt' is not defined",
     "output_type": "error",
     "traceback": [
      "\u001b[0;31m---------------------------------------------------------------------------\u001b[0m",
      "\u001b[0;31mNameError\u001b[0m                                 Traceback (most recent call last)",
      "\u001b[0;32m/var/folders/qc/dzy0dz5x47q2yd53pdc35csr0000gn/T/ipykernel_80698/358759758.py\u001b[0m in \u001b[0;36m<module>\u001b[0;34m\u001b[0m\n\u001b[0;32m----> 1\u001b[0;31m \u001b[0msqrt\u001b[0m\u001b[0;34m(\u001b[0m\u001b[0;36m16\u001b[0m\u001b[0;34m)\u001b[0m \u001b[0;31m# Пытаемся вызвать функцию sqrt() из модуля math\u001b[0m\u001b[0;34m\u001b[0m\u001b[0;34m\u001b[0m\u001b[0m\n\u001b[0m",
      "\u001b[0;31mNameError\u001b[0m: name 'sqrt' is not defined"
     ]
    }
   ],
   "source": [
    "sqrt(16) # Пытаемся вызвать функцию sqrt() из модуля math"
   ]
  },
  {
   "cell_type": "markdown",
   "metadata": {
    "id": "a3ap8pGHEUMn"
   },
   "source": [
    "Не получилось. Потому что в отличие от тех частых, нужных, популярных функций типа `print()`, которые мы уже использовали, функция `sqrt()` \"убрана\" в отдельный модуль — и этот модуль надо **импортировать**. "
   ]
  },
  {
   "cell_type": "code",
   "execution_count": 2,
   "metadata": {
    "id": "XieNCrq9EUMn"
   },
   "outputs": [],
   "source": [
    "import math # Импортируем модуль math"
   ]
  },
  {
   "cell_type": "code",
   "execution_count": 3,
   "metadata": {
    "id": "cwYsJhZJEUMo",
    "outputId": "6406f594-59e6-488a-a8d5-e52214ac65b6"
   },
   "outputs": [
    {
     "ename": "NameError",
     "evalue": "name 'sqrt' is not defined",
     "output_type": "error",
     "traceback": [
      "\u001b[0;31m---------------------------------------------------------------------------\u001b[0m",
      "\u001b[0;31mNameError\u001b[0m                                 Traceback (most recent call last)",
      "\u001b[0;32m/var/folders/qc/dzy0dz5x47q2yd53pdc35csr0000gn/T/ipykernel_80698/3744987139.py\u001b[0m in \u001b[0;36m<module>\u001b[0;34m\u001b[0m\n\u001b[0;32m----> 1\u001b[0;31m \u001b[0msqrt\u001b[0m\u001b[0;34m(\u001b[0m\u001b[0;36m16\u001b[0m\u001b[0;34m)\u001b[0m \u001b[0;31m# Снова пытаемся вызвать функцию sqrt() из модуля math, предварительно его импортировав\u001b[0m\u001b[0;34m\u001b[0m\u001b[0;34m\u001b[0m\u001b[0m\n\u001b[0m",
      "\u001b[0;31mNameError\u001b[0m: name 'sqrt' is not defined"
     ]
    }
   ],
   "source": [
    "sqrt(16) # Снова пытаемся вызвать функцию sqrt() из модуля math, предварительно его импортировав"
   ]
  },
  {
   "cell_type": "markdown",
   "metadata": {
    "id": "igtDQnoFEUMo"
   },
   "source": [
    "Снова не получилось. Дело в том, что мы никак не пояснили, что это _именно та_ функция `sqrt()`, которая лежит в модуле `math`, а не какая-то другая. Чтобы это указать, нужно написать через точку: `<модуль>.<функция()>`. Попробуем."
   ]
  },
  {
   "cell_type": "code",
   "execution_count": 4,
   "metadata": {
    "id": "85Yb61feEUMp",
    "outputId": "9c373c1c-94cc-4891-8ad1-aa734b2eccc6"
   },
   "outputs": [
    {
     "data": {
      "text/plain": [
       "4.0"
      ]
     },
     "execution_count": 4,
     "metadata": {},
     "output_type": "execute_result"
    }
   ],
   "source": [
    "math.sqrt(16) # снова пытаемся вызвать функцию sqrt(), указав, что это функция из модуля math"
   ]
  },
  {
   "cell_type": "markdown",
   "metadata": {
    "id": "myPNwIGrEUMp"
   },
   "source": [
    "Получилось! Мы могли бы сделать печать значения через `print`: `print(math.sqrt(16))` — попробуйте.\n",
    "\n",
    "Теперь посчитаем сторону квадратной лужайки для случая с 4489 квадратиками."
   ]
  },
  {
   "cell_type": "code",
   "execution_count": 5,
   "metadata": {
    "id": "rt7F_izwEUMp",
    "outputId": "28a6f8f5-0dd2-4b21-de0b-86577419f661"
   },
   "outputs": [],
   "source": [
    "x = math.sqrt(4489) # Или распечатаем: print(math.sqrt(4489))"
   ]
  },
  {
   "cell_type": "code",
   "execution_count": 6,
   "metadata": {},
   "outputs": [
    {
     "name": "stdout",
     "output_type": "stream",
     "text": [
      "67.0\n"
     ]
    }
   ],
   "source": [
    "print(x)"
   ]
  },
  {
   "cell_type": "code",
   "execution_count": 7,
   "metadata": {},
   "outputs": [
    {
     "data": {
      "text/plain": [
       "3.141592653589793"
      ]
     },
     "execution_count": 7,
     "metadata": {},
     "output_type": "execute_result"
    }
   ],
   "source": [
    "math.pi"
   ]
  },
  {
   "cell_type": "markdown",
   "metadata": {
    "id": "2EPoCbhnEUMq"
   },
   "source": [
    "Длина стороны равна 67 метрам — большая будет лужайка!"
   ]
  },
  {
   "cell_type": "markdown",
   "metadata": {
    "id": "O_RfnljHEUMq"
   },
   "source": [
    "# Импорт отдельных компонент модуля\n",
    "\n",
    "Вам может показаться, что не слишком удобно писать каждый раз название модуля, точку, название функции. \n",
    "\n",
    "Чтобы этого избежать, можем явно указать, _что именно_ мы импортируем из модуля.\n",
    "\n",
    "Давайте сделаем это для двух функций из модуля `random`, позволяющих генерировать псевдослучайные числа. На псевдослучайных числах основаны \"непредсказуемые\" передвижения персонажей в компьютерных играх, а также с их помощью обеспечивается защита банковских операций по кредитным картам."
   ]
  },
  {
   "cell_type": "code",
   "execution_count": 9,
   "metadata": {
    "id": "jb8XgX_0EUMq"
   },
   "outputs": [],
   "source": [
    "from random import randint, uniform # Импортируем две функции из модуля random, здесь скобки не нужны"
   ]
  },
  {
   "cell_type": "markdown",
   "metadata": {
    "id": "ACVfRQPyEUMr"
   },
   "source": [
    "Чтобы узнать, что делают эти функции и какие аргументы им нужно подавать, можно посмотреть документацию или воспользоваться функцией `help()`:"
   ]
  },
  {
   "cell_type": "code",
   "execution_count": 10,
   "metadata": {
    "id": "47l6FMnLEUMr",
    "outputId": "4bb92cc1-2559-4b59-aaaa-268acdf66256"
   },
   "outputs": [
    {
     "name": "stdout",
     "output_type": "stream",
     "text": [
      "Help on method randint in module random:\n",
      "\n",
      "randint(a, b) method of random.Random instance\n",
      "    Return random integer in range [a, b], including both end points.\n",
      "\n"
     ]
    }
   ],
   "source": [
    "help(randint)"
   ]
  },
  {
   "cell_type": "code",
   "execution_count": 11,
   "metadata": {},
   "outputs": [
    {
     "name": "stdout",
     "output_type": "stream",
     "text": [
      "Help on method uniform in module random:\n",
      "\n",
      "uniform(a, b) method of random.Random instance\n",
      "    Get a random number in the range [a, b) or [a, b] depending on rounding.\n",
      "\n"
     ]
    }
   ],
   "source": [
    "help(uniform)"
   ]
  },
  {
   "cell_type": "markdown",
   "metadata": {
    "id": "A2Qw5LsdEUMr"
   },
   "source": [
    "Мы видим всю информацию о функции `randint()`: она содержится в модуле `random`, возвращает целое псевдослучайное число в заданном диапазоне, принимая на вход границы диапазона.\n",
    "\n",
    "Аналогичным образом можно узнать, что функция `uniform()` принимает границы диапазона и возвращает дробное псевдослучайное число.\n",
    "\n",
    "Посмотрим, как сработают эти функции в диапазоне от 100 до 200:"
   ]
  },
  {
   "cell_type": "code",
   "execution_count": 16,
   "metadata": {
    "id": "kjuUZ5w8EUMr",
    "outputId": "fa04c1f2-c2e8-4599-d825-902fc7b97779"
   },
   "outputs": [
    {
     "name": "stdout",
     "output_type": "stream",
     "text": [
      "[183, 125, 187, 185, 167]\n",
      "[156.55980360929016, 139.3144988870402, 182.81095514455941, 158.57445667733464, 163.6508828828986]\n"
     ]
    }
   ],
   "source": [
    "# Вызываем функции по 5 раз\n",
    "print([randint(100, 200) for _ in range(5)])\n",
    "print([uniform(100, 200) for _ in range(5)])"
   ]
  },
  {
   "cell_type": "markdown",
   "metadata": {},
   "source": [
    "Посмотреть на документацию можно не только у функций, но и у методов:"
   ]
  },
  {
   "cell_type": "code",
   "execution_count": 17,
   "metadata": {},
   "outputs": [
    {
     "name": "stdout",
     "output_type": "stream",
     "text": [
      "Help on method_descriptor:\n",
      "\n",
      "upper(self, /)\n",
      "    Return a copy of the string converted to uppercase.\n",
      "\n"
     ]
    }
   ],
   "source": [
    "help(str.upper)"
   ]
  },
  {
   "cell_type": "markdown",
   "metadata": {
    "id": "nF7F8X2IEUMv"
   },
   "source": [
    "# Импорт под псевдонимом\n",
    "\n",
    "Можно воспользоваться следующим упрощением: дать модулю псевдоним. Посмотрим на примере модуля `string`, предназначенного для работы со строками. Допустим, мы решили, что целиком слово `string` писать слишком долго, и хотим писать просто `s`. Посмотрим, как это можно сделать."
   ]
  },
  {
   "cell_type": "code",
   "execution_count": 18,
   "metadata": {
    "id": "OBUja_geEUMv",
    "outputId": "05933234-9378-4a6b-c8c1-b40873556ac9"
   },
   "outputs": [
    {
     "name": "stdout",
     "output_type": "stream",
     "text": [
      "!\"#$%&'()*+,-./:;<=>?@[\\]^_`{|}~\n"
     ]
    }
   ],
   "source": [
    "import string as s    # Даем псевдоним модулю string\n",
    "print(s.punctuation)  # Печатаем строку со знаками препинания, хранящуюся в модуле "
   ]
  },
  {
   "cell_type": "code",
   "execution_count": 19,
   "metadata": {},
   "outputs": [
    {
     "data": {
      "text/plain": [
       "'ABCDEFGHIJKLMNOPQRSTUVWXYZ'"
      ]
     },
     "execution_count": 19,
     "metadata": {},
     "output_type": "execute_result"
    }
   ],
   "source": [
    "s.ascii_uppercase"
   ]
  },
  {
   "cell_type": "markdown",
   "metadata": {
    "id": "IzB9YC1dEUMw"
   },
   "source": [
    "Теперь мы вместо `string.punctuation` будем писать `s.punctuation`, а `string.punctuation` не сработает."
   ]
  },
  {
   "cell_type": "code",
   "execution_count": 20,
   "metadata": {
    "id": "ZypEiwekEUMw",
    "outputId": "35482cb6-d4e4-4ac9-e57a-ace034713d1e"
   },
   "outputs": [
    {
     "ename": "NameError",
     "evalue": "name 'string' is not defined",
     "output_type": "error",
     "traceback": [
      "\u001b[0;31m---------------------------------------------------------------------------\u001b[0m",
      "\u001b[0;31mNameError\u001b[0m                                 Traceback (most recent call last)",
      "\u001b[0;32m/var/folders/qc/dzy0dz5x47q2yd53pdc35csr0000gn/T/ipykernel_80698/264101693.py\u001b[0m in \u001b[0;36m<module>\u001b[0;34m\u001b[0m\n\u001b[0;32m----> 1\u001b[0;31m \u001b[0mprint\u001b[0m\u001b[0;34m(\u001b[0m\u001b[0mstring\u001b[0m\u001b[0;34m.\u001b[0m\u001b[0mpunctuation\u001b[0m\u001b[0;34m)\u001b[0m\u001b[0;34m\u001b[0m\u001b[0;34m\u001b[0m\u001b[0m\n\u001b[0m",
      "\u001b[0;31mNameError\u001b[0m: name 'string' is not defined"
     ]
    }
   ],
   "source": [
    "print(string.punctuation)"
   ]
  },
  {
   "cell_type": "markdown",
   "metadata": {},
   "source": [
    "# Пример модуля: pprint\n",
    "\n",
    "Позволяет отображать объекты Python различными способами. Документация: https://docs.python.org/3/library/pprint.html"
   ]
  },
  {
   "cell_type": "code",
   "execution_count": 21,
   "metadata": {},
   "outputs": [
    {
     "name": "stdout",
     "output_type": "stream",
     "text": [
      "[['Греция', 'Афины', 131940, 10793526], ['Грузия', 'Тбилиси', 69700, 3720400], ['Дания', 'Копенгаген', 43094, 5707251]]\n",
      "\n",
      "-----------------------------\n",
      "\n",
      "[['Греция', 'Афины', 131940, 10793526],\n",
      " ['Грузия', 'Тбилиси', 69700, 3720400],\n",
      " ['Дания', 'Копенгаген', 43094, 5707251]]\n"
     ]
    }
   ],
   "source": [
    "from pprint import pprint, pformat\n",
    "\n",
    "s = [['Греция', 'Афины', 131_940, 10_793_526],['Грузия', 'Тбилиси', 69_700, 3_720_400],['Дания', 'Копенгаген', 43_094, 5_707_251]]\n",
    "\n",
    "print(s)\n",
    "print(\"\\n-----------------------------\\n\")\n",
    "pprint(s)"
   ]
  },
  {
   "cell_type": "code",
   "execution_count": 25,
   "metadata": {},
   "outputs": [
    {
     "name": "stdout",
     "output_type": "stream",
     "text": [
      "{'Азия': [...], 'Европа': [...]}\n",
      "\n",
      "-----------------------------\n",
      "\n",
      "{'Азия': [[...]], 'Европа': [[...], [...]]}\n",
      "\n",
      "-----------------------------\n",
      "\n",
      "{'Азия': [['Грузия', 'Тбилиси', 69700, 3720400]],\n",
      " 'Европа': [['Греция', 'Афины', 131940, 10793526],\n",
      "            ['Дания', 'Копенгаген', 43094, 5707251]]}\n",
      "\n",
      "-----------------------------\n",
      "\n",
      "{'Европа': [[...], [...]], 'Азия': [[...]]}\n"
     ]
    }
   ],
   "source": [
    "m = {'Европа': [['Греция', 'Афины', 131_940, 10_793_526], ['Дания', 'Копенгаген', 43_094, 5_707_251]], 'Азия': [['Грузия', 'Тбилиси', 69_700, 3_720_400]]}\n",
    "\n",
    "pprint(m, depth=1) # показать 1 уровень вложенности\n",
    "print(\"\\n-----------------------------\\n\")\n",
    "pprint(m, depth=2) # показать 2 уровня вложенности\n",
    "print(\"\\n-----------------------------\\n\")\n",
    "pprint(m, depth=3) # показать 3 уровня вложенности\n",
    "print(\"\\n-----------------------------\\n\")\n",
    "\n",
    "# pprint сортирует словари при выводе, что не всегда удобно. Но сортировку можно отключить.\n",
    "pprint(m, depth=2, sort_dicts=False)"
   ]
  },
  {
   "cell_type": "code",
   "execution_count": 27,
   "metadata": {},
   "outputs": [
    {
     "name": "stdout",
     "output_type": "stream",
     "text": [
      "['generate_csv\\\\train_00.csv', 'generate_csv\\\\train_01.csv', 'generate_csv\\\\train_02.csv', 'generate_csv\\\\train_03.csv', 'generate_csv\\\\train_04.csv', 'generate_csv\\\\train_05.csv', 'generate_csv\\\\train_06.csv', 'generate_csv\\\\train_07.csv', 'generate_csv\\\\train_08.csv', 'generate_csv\\\\train_09.csv', 'generate_csv\\\\train_10.csv', 'generate_csv\\\\train_11.csv']\n",
      "\n",
      "-------- Граница --------------\n",
      "\n",
      "['generate_csv\\\\train_00.csv',\n",
      " 'generate_csv\\\\train_01.csv',\n",
      " 'generate_csv\\\\train_02.csv',\n",
      " 'generate_csv\\\\train_03.csv',\n",
      " 'generate_csv\\\\train_04.csv',\n",
      " 'generate_csv\\\\train_05.csv',\n",
      " 'generate_csv\\\\train_06.csv',\n",
      " 'generate_csv\\\\train_07.csv',\n",
      " 'generate_csv\\\\train_08.csv',\n",
      " 'generate_csv\\\\train_09.csv',\n",
      " 'generate_csv\\\\train_10.csv',\n",
      " 'generate_csv\\\\train_11.csv']\n"
     ]
    }
   ],
   "source": [
    "data=['generate_csv\\\\train_00.csv', 'generate_csv\\\\train_01.csv', \n",
    "      'generate_csv\\\\train_02.csv', 'generate_csv\\\\train_03.csv',\n",
    "      'generate_csv\\\\train_04.csv', 'generate_csv\\\\train_05.csv', \n",
    "      'generate_csv\\\\train_06.csv', 'generate_csv\\\\train_07.csv', \n",
    "      'generate_csv\\\\train_08.csv', 'generate_csv\\\\train_09.csv',\n",
    "      'generate_csv\\\\train_10.csv', 'generate_csv\\\\train_11.csv']\n",
    "print(data)\n",
    "print(\"\\n-------- Граница --------------\\n\")\n",
    "pprint(data)"
   ]
  },
  {
   "cell_type": "code",
   "execution_count": 28,
   "metadata": {},
   "outputs": [
    {
     "name": "stdout",
     "output_type": "stream",
     "text": [
      "['generate_csv\\\\train_00.csv',\n",
      " 'generate_csv\\\\train_01.csv',\n",
      " 'generate_csv\\\\train_02.csv',\n",
      " 'generate_csv\\\\train_03.csv',\n",
      " 'generate_csv\\\\train_04.csv',\n",
      " 'generate_csv\\\\train_05.csv',\n",
      " 'generate_csv\\\\train_06.csv',\n",
      " 'generate_csv\\\\train_07.csv',\n",
      " 'generate_csv\\\\train_08.csv',\n",
      " 'generate_csv\\\\train_09.csv',\n",
      " 'generate_csv\\\\train_10.csv',\n",
      " 'generate_csv\\\\train_11.csv']\n"
     ]
    }
   ],
   "source": [
    "o = pformat(data)\n",
    "print(o)"
   ]
  },
  {
   "cell_type": "code",
   "execution_count": 32,
   "metadata": {},
   "outputs": [
    {
     "name": "stdout",
     "output_type": "stream",
     "text": [
      "{   'r1': {   'IOS': '15.4',\n",
      "              'IP': '10.255.0.1',\n",
      "              'hostname': 'london_r1',\n",
      "              'location': '21 New Globe Walk',\n",
      "              'model': '4451',\n",
      "              'vendor': 'Cisco'},\n",
      "    'r2': {   'IOS': '15.4',\n",
      "              'IP': '10.255.0.2',\n",
      "              'hostname': 'london_r2',\n",
      "              'location': '21 New Globe Walk',\n",
      "              'model': '4451',\n",
      "              'vendor': 'Cisco'},\n",
      "    'sw1': {   'IOS': '3.6.XE',\n",
      "               'IP': '10.255.0.101',\n",
      "               'hostname': 'london_sw1',\n",
      "               'location': '21 New Globe Walk',\n",
      "               'model': '3850',\n",
      "               'vendor': 'Cisco'}}\n",
      "\n",
      "-------- Граница --------------\n",
      "\n",
      "{'r1': {'hostname': 'london_r1', 'location': '21 New Globe Walk', 'vendor': 'Cisco', 'model': '4451', 'IOS': '15.4', 'IP': '10.255.0.1'}, 'r2': {'hostname': 'london_r2', 'location': '21 New Globe Walk', 'vendor': 'Cisco', 'model': '4451', 'IOS': '15.4', 'IP': '10.255.0.2'}, 'sw1': {'hostname': 'london_sw1', 'location': '21 New Globe Walk', 'vendor': 'Cisco', 'model': '3850', 'IOS': '3.6.XE', 'IP': '10.255.0.101'}}\n"
     ]
    }
   ],
   "source": [
    "import pprint\n",
    "\n",
    "london_co = {'r1': {'hostname': 'london_r1', 'location': '21 New Globe Walk', 'vendor': 'Cisco', 'model': '4451', 'IOS': '15.4', 'IP': '10.255.0.1'},\n",
    "   'r2': {'hostname': 'london_r2', 'location': '21 New Globe Walk', 'vendor': 'Cisco', 'model': '4451', 'IOS': '15.4', 'IP': '10.255.0.2'}, \n",
    "   'sw1': {'hostname': 'london_sw1', 'location': '21 New Globe Walk', 'vendor': 'Cisco', 'model': '3850', 'IOS': '3.6.XE', 'IP': '10.255.0.101'}}\n",
    "\n",
    "pp = pprint.PrettyPrinter(indent=4) #создает объект PrettyPrinter с отступом последующего уровня вложенности\n",
    "\n",
    "pp.pprint(london_co)\n",
    "print(\"\\n-------- Граница --------------\\n\")\n",
    "print(london_co)"
   ]
  },
  {
   "cell_type": "markdown",
   "metadata": {},
   "source": [
    "# Пример модуля operator\n",
    "\n",
    "Предоставляет набор функций, многие из которых соответствуют встроенным операторам (+, -, \\**), но не заменяют их  Документация: https://docs.python.org/3/library/operator.html"
   ]
  },
  {
   "cell_type": "code",
   "execution_count": 33,
   "metadata": {},
   "outputs": [],
   "source": [
    "from operator import itemgetter"
   ]
  },
  {
   "cell_type": "code",
   "execution_count": 34,
   "metadata": {},
   "outputs": [],
   "source": [
    "# (название материка, площадь, количество косударств/стран)\n",
    "lands = [('Евразия', 54.6, 108), ('Африка', 30.3, 62), ('Северная Америка', 24.4, 23), ('Южная Америка', 17.8, 12), ('Австралия', 7.7, 1), ('Антарктида', 14.1, 0)]"
   ]
  },
  {
   "cell_type": "code",
   "execution_count": 35,
   "metadata": {},
   "outputs": [
    {
     "name": "stdout",
     "output_type": "stream",
     "text": [
      "[('Евразия', 54.6, 108),\n",
      " ('Африка', 30.3, 62),\n",
      " ('Северная Америка', 24.4, 23),\n",
      " ('Южная Америка', 17.8, 12),\n",
      " ('Австралия', 7.7, 1),\n",
      " ('Антарктида', 14.1, 0)]\n"
     ]
    }
   ],
   "source": [
    "pprint.pprint(lands)"
   ]
  },
  {
   "cell_type": "code",
   "execution_count": 38,
   "metadata": {},
   "outputs": [
    {
     "data": {
      "text/plain": [
       "[('Антарктида', 14.1, 0),\n",
       " ('Австралия', 7.7, 1),\n",
       " ('Южная Америка', 17.8, 12),\n",
       " ('Северная Америка', 24.4, 23),\n",
       " ('Африка', 30.3, 62),\n",
       " ('Евразия', 54.6, 108)]"
      ]
     },
     "execution_count": 38,
     "metadata": {},
     "output_type": "execute_result"
    }
   ],
   "source": [
    "sorted(lands, key=lambda x : x[2])"
   ]
  },
  {
   "cell_type": "code",
   "execution_count": 41,
   "metadata": {},
   "outputs": [
    {
     "data": {
      "text/plain": [
       "[('Антарктида', 14.1, 0),\n",
       " ('Австралия', 7.7, 1),\n",
       " ('Южная Америка', 17.8, 12),\n",
       " ('Северная Америка', 24.4, 23),\n",
       " ('Африка', 30.3, 62),\n",
       " ('Евразия', 54.6, 108)]"
      ]
     },
     "execution_count": 41,
     "metadata": {},
     "output_type": "execute_result"
    }
   ],
   "source": [
    "sorted(lands, key=itemgetter(2))"
   ]
  },
  {
   "cell_type": "code",
   "execution_count": 42,
   "metadata": {},
   "outputs": [
    {
     "data": {
      "text/plain": [
       "{'Евразия': [54.6, 108],\n",
       " 'Африка': [30.3, 62],\n",
       " 'Северная Америка': [24.4, 23],\n",
       " 'Южная Америка': [17.8, 12],\n",
       " 'Австралия': [7.7, 1],\n",
       " 'Антарктида': [14.1, 0]}"
      ]
     },
     "execution_count": 42,
     "metadata": {},
     "output_type": "execute_result"
    }
   ],
   "source": [
    "lands_dict = {}\n",
    "\n",
    "for x in lands:\n",
    "      lands_dict[x[0]] = [x[1], x[2]]\n",
    "        \n",
    "lands_dict"
   ]
  },
  {
   "cell_type": "code",
   "execution_count": 43,
   "metadata": {},
   "outputs": [
    {
     "data": {
      "text/plain": [
       "[('Австралия', [7.7, 1]),\n",
       " ('Антарктида', [14.1, 0]),\n",
       " ('Южная Америка', [17.8, 12]),\n",
       " ('Северная Америка', [24.4, 23]),\n",
       " ('Африка', [30.3, 62]),\n",
       " ('Евразия', [54.6, 108])]"
      ]
     },
     "execution_count": 43,
     "metadata": {},
     "output_type": "execute_result"
    }
   ],
   "source": [
    "sorted(lands_dict.items(), key = lambda x: x[1][0])"
   ]
  },
  {
   "cell_type": "code",
   "execution_count": 52,
   "metadata": {},
   "outputs": [
    {
     "data": {
      "text/plain": [
       "[('Австралия', [7.7, 1]),\n",
       " ('Антарктида', [14.1, 0]),\n",
       " ('Южная Америка', [17.8, 12]),\n",
       " ('Северная Америка', [24.4, 23]),\n",
       " ('Африка', [30.3, 62]),\n",
       " ('Евразия', [54.6, 108])]"
      ]
     },
     "execution_count": 52,
     "metadata": {},
     "output_type": "execute_result"
    }
   ],
   "source": [
    "sorted(lands_dict.items(), key = itemgetter(1))"
   ]
  },
  {
   "cell_type": "code",
   "execution_count": 53,
   "metadata": {},
   "outputs": [
    {
     "data": {
      "text/plain": [
       "[('Австралия', [7.7, 1]),\n",
       " ('Антарктида', [14.1, 0]),\n",
       " ('Африка', [30.3, 62]),\n",
       " ('Евразия', [54.6, 108]),\n",
       " ('Северная Америка', [24.4, 23]),\n",
       " ('Южная Америка', [17.8, 12])]"
      ]
     },
     "execution_count": 53,
     "metadata": {},
     "output_type": "execute_result"
    }
   ],
   "source": [
    "sorted(lands_dict.items(), key = itemgetter(0))"
   ]
  },
  {
   "cell_type": "code",
   "execution_count": 54,
   "metadata": {},
   "outputs": [
    {
     "data": {
      "text/plain": [
       "[('Антарктида', [14.1, 0]),\n",
       " ('Австралия', [7.7, 1]),\n",
       " ('Южная Америка', [17.8, 12]),\n",
       " ('Северная Америка', [24.4, 23]),\n",
       " ('Африка', [30.3, 62]),\n",
       " ('Евразия', [54.6, 108])]"
      ]
     },
     "execution_count": 54,
     "metadata": {},
     "output_type": "execute_result"
    }
   ],
   "source": [
    "sorted(lands_dict.items(), key = lambda x: x[1][1])"
   ]
  },
  {
   "cell_type": "code",
   "execution_count": 55,
   "metadata": {},
   "outputs": [
    {
     "data": {
      "text/plain": [
       "[('Австралия', [7.7, 1]),\n",
       " ('Антарктида', [14.1, 0]),\n",
       " ('Южная Америка', [17.8, 12]),\n",
       " ('Северная Америка', [24.4, 23]),\n",
       " ('Африка', [30.3, 62]),\n",
       " ('Евразия', [54.6, 108])]"
      ]
     },
     "execution_count": 55,
     "metadata": {},
     "output_type": "execute_result"
    }
   ],
   "source": [
    "sorted(lands_dict.items(), key = itemgetter(1, 1)) # не то же самое, что key = lambda x: x[1][1]"
   ]
  },
  {
   "cell_type": "code",
   "execution_count": 56,
   "metadata": {},
   "outputs": [
    {
     "data": {
      "text/plain": [
       "[(1, 1), (1, 13), (1, 5), (1, 0), (2, 3)]"
      ]
     },
     "execution_count": 56,
     "metadata": {},
     "output_type": "execute_result"
    }
   ],
   "source": [
    "points = [(1, 1), (1, 13), (2, 3), (1, 5), (1, 0)]\n",
    "sorted(points, key = lambda x: x[0])"
   ]
  },
  {
   "cell_type": "code",
   "execution_count": 57,
   "metadata": {},
   "outputs": [
    {
     "data": {
      "text/plain": [
       "[(1, 1), (1, 13), (1, 5), (1, 0), (2, 3)]"
      ]
     },
     "execution_count": 57,
     "metadata": {},
     "output_type": "execute_result"
    }
   ],
   "source": [
    "sorted(points, key = itemgetter(0)) "
   ]
  },
  {
   "cell_type": "code",
   "execution_count": 58,
   "metadata": {},
   "outputs": [
    {
     "data": {
      "text/plain": [
       "[(1, 0), (1, 1), (1, 5), (1, 13), (2, 3)]"
      ]
     },
     "execution_count": 58,
     "metadata": {},
     "output_type": "execute_result"
    }
   ],
   "source": [
    "sorted(points, key = lambda x: (x[0], x[1]))"
   ]
  },
  {
   "cell_type": "code",
   "execution_count": 59,
   "metadata": {},
   "outputs": [
    {
     "data": {
      "text/plain": [
       "[(1, 0), (1, 1), (1, 5), (1, 13), (2, 3)]"
      ]
     },
     "execution_count": 59,
     "metadata": {},
     "output_type": "execute_result"
    }
   ],
   "source": [
    "sorted(points, key = itemgetter(0, 1)) # то же самое, что key = lambda x: (x[0], x[1])"
   ]
  },
  {
   "cell_type": "markdown",
   "metadata": {},
   "source": [
    "# Создание собственных модулей"
   ]
  },
  {
   "cell_type": "markdown",
   "metadata": {},
   "source": [
    "Давайте создадим простой модуль с несколькими функциями. Создадим файл 'hello.py' в той же папке, где мы работаем.\n",
    "\n",
    "Внутри файла сохраним следующий код:\n",
    "\n",
    "    def greet(name):\n",
    "        return f\"Привет, {name}!\"\n",
    "\n",
    "    def square(x):\n",
    "        return x ** 2\n",
    "\n",
    "Теперь мы можем импортировать его и использовать в других программах. "
   ]
  },
  {
   "cell_type": "code",
   "execution_count": 60,
   "metadata": {},
   "outputs": [
    {
     "name": "stdout",
     "output_type": "stream",
     "text": [
      "Привет, Дарья!\n",
      "4\n"
     ]
    }
   ],
   "source": [
    "import hello\n",
    "\n",
    "print(hello.greet(\"Дарья\"))\n",
    "print(hello.square(2))"
   ]
  },
  {
   "cell_type": "markdown",
   "metadata": {},
   "source": [
    "Можно импортировать только отдельные функции."
   ]
  },
  {
   "cell_type": "code",
   "execution_count": 61,
   "metadata": {},
   "outputs": [
    {
     "name": "stdout",
     "output_type": "stream",
     "text": [
      "Привет, Мария!\n"
     ]
    }
   ],
   "source": [
    "from hello import greet\n",
    "\n",
    "print(greet(\"Мария\"))"
   ]
  },
  {
   "cell_type": "code",
   "execution_count": 63,
   "metadata": {},
   "outputs": [
    {
     "name": "stdout",
     "output_type": "stream",
     "text": [
      "Help on function greet in module hello:\n",
      "\n",
      "greet(name)\n",
      "\n"
     ]
    }
   ],
   "source": [
    "help(greet)"
   ]
  },
  {
   "cell_type": "code",
   "execution_count": 62,
   "metadata": {},
   "outputs": [
    {
     "data": {
      "text/plain": [
       "['__builtins__',\n",
       " '__cached__',\n",
       " '__doc__',\n",
       " '__file__',\n",
       " '__loader__',\n",
       " '__name__',\n",
       " '__package__',\n",
       " '__spec__',\n",
       " 'greet',\n",
       " 'square']"
      ]
     },
     "execution_count": 62,
     "metadata": {},
     "output_type": "execute_result"
    }
   ],
   "source": [
    "dir(hello) # так найдем все функции, методы, константы и атрибуты"
   ]
  },
  {
   "cell_type": "markdown",
   "metadata": {},
   "source": [
    "Почитать подробнее про атрибуты при импортировании модулей можно здесь: https://docs.python.org/3/library/importlib.html\n",
    "\n",
    "<hr>"
   ]
  },
  {
   "cell_type": "markdown",
   "metadata": {},
   "source": [
    "Поскольку модули -- это всего лишь файлы .py, то вы можете найти их у себя на компьютере в папке. А если вы закинете туда свой файл с модулем, то можно будет писать просто import <название модуля> без добавления файла в текущую рабочую папку.\n",
    "\n",
    "Обычно модули лежат по адресу: C:\\\\Users\\\\<имя пользователя>\\\\AppData\\\\Local\\\\anaconda3\\\\Lib\\\\site-packages\n",
    "\n",
    "*AppData -- это скрытая папка. Чтобы ее открыть, нужно нажать в проводнике раздел \"Вид\" и поставить галку \"Скрытые элементы\".*"
   ]
  },
  {
   "cell_type": "code",
   "execution_count": 69,
   "metadata": {},
   "outputs": [
    {
     "data": {
      "text/plain": [
       "'/Users/kasyanenko/opt/anaconda3/lib/python3.9/site-packages/pandas/__init__.py'"
      ]
     },
     "execution_count": 69,
     "metadata": {},
     "output_type": "execute_result"
    }
   ],
   "source": [
    "import pandas as pd\n",
    "pd.__file__ # так можно найти, где лежит конкретный модуль"
   ]
  },
  {
   "cell_type": "code",
   "execution_count": 8,
   "metadata": {},
   "outputs": [
    {
     "data": {
      "text/plain": [
       "{'__name__': 'pandas',\n",
       " '__doc__': '\\npandas - a powerful data analysis and manipulation library for Python\\n=====================================================================\\n\\n**pandas** is a Python package providing fast, flexible, and expressive data\\nstructures designed to make working with \"relational\" or \"labeled\" data both\\neasy and intuitive. It aims to be the fundamental high-level building block for\\ndoing practical, **real world** data analysis in Python. Additionally, it has\\nthe broader goal of becoming **the most powerful and flexible open source data\\nanalysis / manipulation tool available in any language**. It is already well on\\nits way toward this goal.\\n\\nMain Features\\n-------------\\nHere are just a few of the things that pandas does well:\\n\\n  - Easy handling of missing data in floating point as well as non-floating\\n    point data.\\n  - Size mutability: columns can be inserted and deleted from DataFrame and\\n    higher dimensional objects\\n  - Automatic and explicit data alignment: objects can be explicitly aligned\\n    to a set of labels, or the user can simply ignore the labels and let\\n    `Series`, `DataFrame`, etc. automatically align the data for you in\\n    computations.\\n  - Powerful, flexible group by functionality to perform split-apply-combine\\n    operations on data sets, for both aggregating and transforming data.\\n  - Make it easy to convert ragged, differently-indexed data in other Python\\n    and NumPy data structures into DataFrame objects.\\n  - Intelligent label-based slicing, fancy indexing, and subsetting of large\\n    data sets.\\n  - Intuitive merging and joining data sets.\\n  - Flexible reshaping and pivoting of data sets.\\n  - Hierarchical labeling of axes (possible to have multiple labels per tick).\\n  - Robust IO tools for loading data from flat files (CSV and delimited),\\n    Excel files, databases, and saving/loading data from the ultrafast HDF5\\n    format.\\n  - Time series-specific functionality: date range generation and frequency\\n    conversion, moving window statistics, date shifting and lagging.\\n',\n",
       " '__package__': 'pandas',\n",
       " '__loader__': <_frozen_importlib_external.SourceFileLoader at 0x7fb829d21250>,\n",
       " '__spec__': ModuleSpec(name='pandas', loader=<_frozen_importlib_external.SourceFileLoader object at 0x7fb829d21250>, origin='/Users/kasyanenko/opt/anaconda3/lib/python3.9/site-packages/pandas/__init__.py', submodule_search_locations=['/Users/kasyanenko/opt/anaconda3/lib/python3.9/site-packages/pandas']),\n",
       " '__path__': ['/Users/kasyanenko/opt/anaconda3/lib/python3.9/site-packages/pandas'],\n",
       " '__file__': '/Users/kasyanenko/opt/anaconda3/lib/python3.9/site-packages/pandas/__init__.py',\n",
       " '__cached__': '/Users/kasyanenko/opt/anaconda3/lib/python3.9/site-packages/pandas/__pycache__/__init__.cpython-39.pyc',\n",
       " '__builtins__': {'__name__': 'builtins',\n",
       "  '__doc__': \"Built-in functions, exceptions, and other objects.\\n\\nNoteworthy: None is the `nil' object; Ellipsis represents `...' in slices.\",\n",
       "  '__package__': '',\n",
       "  '__loader__': _frozen_importlib.BuiltinImporter,\n",
       "  '__spec__': ModuleSpec(name='builtins', loader=<class '_frozen_importlib.BuiltinImporter'>, origin='built-in'),\n",
       "  '__build_class__': <function __build_class__>,\n",
       "  '__import__': <function __import__>,\n",
       "  'abs': <function abs(x, /)>,\n",
       "  'all': <function all(iterable, /)>,\n",
       "  'any': <function any(iterable, /)>,\n",
       "  'ascii': <function ascii(obj, /)>,\n",
       "  'bin': <function bin(number, /)>,\n",
       "  'breakpoint': <function breakpoint>,\n",
       "  'callable': <function callable(obj, /)>,\n",
       "  'chr': <function chr(i, /)>,\n",
       "  'compile': <function compile(source, filename, mode, flags=0, dont_inherit=False, optimize=-1, *, _feature_version=-1)>,\n",
       "  'delattr': <function delattr(obj, name, /)>,\n",
       "  'dir': <function dir>,\n",
       "  'divmod': <function divmod(x, y, /)>,\n",
       "  'eval': <function eval(source, globals=None, locals=None, /)>,\n",
       "  'exec': <function exec(source, globals=None, locals=None, /)>,\n",
       "  'format': <function format(value, format_spec='', /)>,\n",
       "  'getattr': <function getattr>,\n",
       "  'globals': <function globals()>,\n",
       "  'hasattr': <function hasattr(obj, name, /)>,\n",
       "  'hash': <function hash(obj, /)>,\n",
       "  'hex': <function hex(number, /)>,\n",
       "  'id': <function id(obj, /)>,\n",
       "  'input': <bound method Kernel.raw_input of <ipykernel.ipkernel.IPythonKernel object at 0x7fb808151460>>,\n",
       "  'isinstance': <function isinstance(obj, class_or_tuple, /)>,\n",
       "  'issubclass': <function issubclass(cls, class_or_tuple, /)>,\n",
       "  'iter': <function iter>,\n",
       "  'len': <function len(obj, /)>,\n",
       "  'locals': <function locals()>,\n",
       "  'max': <function max>,\n",
       "  'min': <function min>,\n",
       "  'next': <function next>,\n",
       "  'oct': <function oct(number, /)>,\n",
       "  'ord': <function ord(c, /)>,\n",
       "  'pow': <function pow(base, exp, mod=None)>,\n",
       "  'print': <function print>,\n",
       "  'repr': <function repr(obj, /)>,\n",
       "  'round': <function round(number, ndigits=None)>,\n",
       "  'setattr': <function setattr(obj, name, value, /)>,\n",
       "  'sorted': <function sorted(iterable, /, *, key=None, reverse=False)>,\n",
       "  'sum': <function sum(iterable, /, start=0)>,\n",
       "  'vars': <function vars>,\n",
       "  'None': None,\n",
       "  'Ellipsis': Ellipsis,\n",
       "  'NotImplemented': NotImplemented,\n",
       "  'False': False,\n",
       "  'True': True,\n",
       "  'bool': bool,\n",
       "  'memoryview': memoryview,\n",
       "  'bytearray': bytearray,\n",
       "  'bytes': bytes,\n",
       "  'classmethod': classmethod,\n",
       "  'complex': complex,\n",
       "  'dict': dict,\n",
       "  'enumerate': enumerate,\n",
       "  'filter': filter,\n",
       "  'float': float,\n",
       "  'frozenset': frozenset,\n",
       "  'property': property,\n",
       "  'int': int,\n",
       "  'list': list,\n",
       "  'map': map,\n",
       "  'object': object,\n",
       "  'range': range,\n",
       "  'reversed': reversed,\n",
       "  'set': set,\n",
       "  'slice': slice,\n",
       "  'staticmethod': staticmethod,\n",
       "  'str': str,\n",
       "  'super': super,\n",
       "  'tuple': tuple,\n",
       "  'type': type,\n",
       "  'zip': zip,\n",
       "  '__debug__': True,\n",
       "  'BaseException': BaseException,\n",
       "  'Exception': Exception,\n",
       "  'TypeError': TypeError,\n",
       "  'StopAsyncIteration': StopAsyncIteration,\n",
       "  'StopIteration': StopIteration,\n",
       "  'GeneratorExit': GeneratorExit,\n",
       "  'SystemExit': SystemExit,\n",
       "  'KeyboardInterrupt': KeyboardInterrupt,\n",
       "  'ImportError': ImportError,\n",
       "  'ModuleNotFoundError': ModuleNotFoundError,\n",
       "  'OSError': OSError,\n",
       "  'EnvironmentError': OSError,\n",
       "  'IOError': OSError,\n",
       "  'EOFError': EOFError,\n",
       "  'RuntimeError': RuntimeError,\n",
       "  'RecursionError': RecursionError,\n",
       "  'NotImplementedError': NotImplementedError,\n",
       "  'NameError': NameError,\n",
       "  'UnboundLocalError': UnboundLocalError,\n",
       "  'AttributeError': AttributeError,\n",
       "  'SyntaxError': SyntaxError,\n",
       "  'IndentationError': IndentationError,\n",
       "  'TabError': TabError,\n",
       "  'LookupError': LookupError,\n",
       "  'IndexError': IndexError,\n",
       "  'KeyError': KeyError,\n",
       "  'ValueError': ValueError,\n",
       "  'UnicodeError': UnicodeError,\n",
       "  'UnicodeEncodeError': UnicodeEncodeError,\n",
       "  'UnicodeDecodeError': UnicodeDecodeError,\n",
       "  'UnicodeTranslateError': UnicodeTranslateError,\n",
       "  'AssertionError': AssertionError,\n",
       "  'ArithmeticError': ArithmeticError,\n",
       "  'FloatingPointError': FloatingPointError,\n",
       "  'OverflowError': OverflowError,\n",
       "  'ZeroDivisionError': ZeroDivisionError,\n",
       "  'SystemError': SystemError,\n",
       "  'ReferenceError': ReferenceError,\n",
       "  'MemoryError': MemoryError,\n",
       "  'BufferError': BufferError,\n",
       "  'Warning': Warning,\n",
       "  'UserWarning': UserWarning,\n",
       "  'DeprecationWarning': DeprecationWarning,\n",
       "  'PendingDeprecationWarning': PendingDeprecationWarning,\n",
       "  'SyntaxWarning': SyntaxWarning,\n",
       "  'RuntimeWarning': RuntimeWarning,\n",
       "  'FutureWarning': FutureWarning,\n",
       "  'ImportWarning': ImportWarning,\n",
       "  'UnicodeWarning': UnicodeWarning,\n",
       "  'BytesWarning': BytesWarning,\n",
       "  'ResourceWarning': ResourceWarning,\n",
       "  'ConnectionError': ConnectionError,\n",
       "  'BlockingIOError': BlockingIOError,\n",
       "  'BrokenPipeError': BrokenPipeError,\n",
       "  'ChildProcessError': ChildProcessError,\n",
       "  'ConnectionAbortedError': ConnectionAbortedError,\n",
       "  'ConnectionRefusedError': ConnectionRefusedError,\n",
       "  'ConnectionResetError': ConnectionResetError,\n",
       "  'FileExistsError': FileExistsError,\n",
       "  'FileNotFoundError': FileNotFoundError,\n",
       "  'IsADirectoryError': IsADirectoryError,\n",
       "  'NotADirectoryError': NotADirectoryError,\n",
       "  'InterruptedError': InterruptedError,\n",
       "  'PermissionError': PermissionError,\n",
       "  'ProcessLookupError': ProcessLookupError,\n",
       "  'TimeoutError': TimeoutError,\n",
       "  'open': <function io.open(file, mode='r', buffering=-1, encoding=None, errors=None, newline=None, closefd=True, opener=None)>,\n",
       "  'copyright': Copyright (c) 2001-2023 Python Software Foundation.\n",
       "  All Rights Reserved.\n",
       "  \n",
       "  Copyright (c) 2000 BeOpen.com.\n",
       "  All Rights Reserved.\n",
       "  \n",
       "  Copyright (c) 1995-2001 Corporation for National Research Initiatives.\n",
       "  All Rights Reserved.\n",
       "  \n",
       "  Copyright (c) 1991-1995 Stichting Mathematisch Centrum, Amsterdam.\n",
       "  All Rights Reserved.,\n",
       "  'credits':     Thanks to CWI, CNRI, BeOpen.com, Zope Corporation and a cast of thousands\n",
       "      for supporting Python development.  See www.python.org for more information.,\n",
       "  'license': Type license() to see the full license text,\n",
       "  'help': Type help() for interactive help, or help(object) for help about object.,\n",
       "  'execfile': <function _pydev_bundle._pydev_execfile.execfile(file, glob=None, loc=None)>,\n",
       "  'runfile': <function _pydev_bundle.pydev_umd.runfile(filename, args=None, wdir=None, namespace=None)>,\n",
       "  '__IPYTHON__': True,\n",
       "  'display': <function IPython.core.display.display(*objs, include=None, exclude=None, metadata=None, transient=None, display_id=None, **kwargs)>,\n",
       "  'get_ipython': <bound method InteractiveShell.get_ipython of <ipykernel.zmqshell.ZMQInteractiveShell object at 0x7fb8081515b0>>},\n",
       " '__docformat__': 'restructuredtext',\n",
       " '_typing': <module 'pandas._typing' from '/Users/kasyanenko/opt/anaconda3/lib/python3.9/site-packages/pandas/_typing.py'>,\n",
       " '_config': <module 'pandas._config' from '/Users/kasyanenko/opt/anaconda3/lib/python3.9/site-packages/pandas/_config/__init__.py'>,\n",
       " '_libs': <module 'pandas._libs' from '/Users/kasyanenko/opt/anaconda3/lib/python3.9/site-packages/pandas/_libs/__init__.py'>,\n",
       " 'core': <module 'pandas.core' from '/Users/kasyanenko/opt/anaconda3/lib/python3.9/site-packages/pandas/core/__init__.py'>,\n",
       " 'errors': <module 'pandas.errors' from '/Users/kasyanenko/opt/anaconda3/lib/python3.9/site-packages/pandas/errors/__init__.py'>,\n",
       " 'util': <module 'pandas.util' from '/Users/kasyanenko/opt/anaconda3/lib/python3.9/site-packages/pandas/util/__init__.py'>,\n",
       " 'compat': <module 'pandas.compat' from '/Users/kasyanenko/opt/anaconda3/lib/python3.9/site-packages/pandas/compat/__init__.py'>,\n",
       " '_is_numpy_dev': False,\n",
       " 'get_option': <pandas._config.config.CallableDynamicDoc at 0x7fb82a1f80d0>,\n",
       " 'set_option': <pandas._config.config.CallableDynamicDoc at 0x7fb82a1f82b0>,\n",
       " 'reset_option': <pandas._config.config.CallableDynamicDoc at 0x7fb82a1f8310>,\n",
       " 'describe_option': <pandas._config.config.CallableDynamicDoc at 0x7fb82a1f8670>,\n",
       " 'option_context': pandas._config.config.option_context,\n",
       " 'options': <pandas._config.config.DictWrapper at 0x7fb82a1f8700>,\n",
       " 'pandas': <module 'pandas' from '/Users/kasyanenko/opt/anaconda3/lib/python3.9/site-packages/pandas/__init__.py'>,\n",
       " 'io': <module 'pandas.io' from '/Users/kasyanenko/opt/anaconda3/lib/python3.9/site-packages/pandas/io/__init__.py'>,\n",
       " 'tseries': <module 'pandas.tseries' from '/Users/kasyanenko/opt/anaconda3/lib/python3.9/site-packages/pandas/tseries/__init__.py'>,\n",
       " 'arrays': <module 'pandas.arrays' from '/Users/kasyanenko/opt/anaconda3/lib/python3.9/site-packages/pandas/arrays/__init__.py'>,\n",
       " 'plotting': <module 'pandas.plotting' from '/Users/kasyanenko/opt/anaconda3/lib/python3.9/site-packages/pandas/plotting/__init__.py'>,\n",
       " 'Int8Dtype': pandas.core.arrays.integer.Int8Dtype,\n",
       " 'Int16Dtype': pandas.core.arrays.integer.Int16Dtype,\n",
       " 'Int32Dtype': pandas.core.arrays.integer.Int32Dtype,\n",
       " 'Int64Dtype': pandas.core.arrays.integer.Int64Dtype,\n",
       " 'UInt8Dtype': pandas.core.arrays.integer.UInt8Dtype,\n",
       " 'UInt16Dtype': pandas.core.arrays.integer.UInt16Dtype,\n",
       " 'UInt32Dtype': pandas.core.arrays.integer.UInt32Dtype,\n",
       " 'UInt64Dtype': pandas.core.arrays.integer.UInt64Dtype,\n",
       " 'Float32Dtype': pandas.core.arrays.floating.Float32Dtype,\n",
       " 'Float64Dtype': pandas.core.arrays.floating.Float64Dtype,\n",
       " 'CategoricalDtype': pandas.core.dtypes.dtypes.CategoricalDtype,\n",
       " 'PeriodDtype': pandas.core.dtypes.dtypes.PeriodDtype,\n",
       " 'IntervalDtype': pandas.core.dtypes.dtypes.IntervalDtype,\n",
       " 'DatetimeTZDtype': pandas.core.dtypes.dtypes.DatetimeTZDtype,\n",
       " 'StringDtype': pandas.core.arrays.string_.StringDtype,\n",
       " 'BooleanDtype': pandas.core.arrays.boolean.BooleanDtype,\n",
       " 'NA': <NA>,\n",
       " 'isna': <function pandas.core.dtypes.missing.isna(obj)>,\n",
       " 'isnull': <function pandas.core.dtypes.missing.isna(obj)>,\n",
       " 'notna': <function pandas.core.dtypes.missing.notna(obj)>,\n",
       " 'notnull': <function pandas.core.dtypes.missing.notna(obj)>,\n",
       " 'Index': pandas.core.indexes.base.Index,\n",
       " 'CategoricalIndex': pandas.core.indexes.category.CategoricalIndex,\n",
       " 'RangeIndex': pandas.core.indexes.range.RangeIndex,\n",
       " 'MultiIndex': pandas.core.indexes.multi.MultiIndex,\n",
       " 'IntervalIndex': pandas.core.indexes.interval.IntervalIndex,\n",
       " 'TimedeltaIndex': pandas.core.indexes.timedeltas.TimedeltaIndex,\n",
       " 'DatetimeIndex': pandas.core.indexes.datetimes.DatetimeIndex,\n",
       " 'PeriodIndex': pandas.core.indexes.period.PeriodIndex,\n",
       " 'IndexSlice': <pandas.core.indexing._IndexSlice at 0x7fb8387d9ca0>,\n",
       " 'NaT': NaT,\n",
       " 'Period': pandas._libs.tslibs.period.Period,\n",
       " 'period_range': <function pandas.core.indexes.period.period_range(start=None, end=None, periods: 'int | None' = None, freq=None, name=None) -> 'PeriodIndex'>,\n",
       " 'Timedelta': pandas._libs.tslibs.timedeltas.Timedelta,\n",
       " 'timedelta_range': <function pandas.core.indexes.timedeltas.timedelta_range(start=None, end=None, periods: 'int | None' = None, freq=None, name=None, closed=None) -> 'TimedeltaIndex'>,\n",
       " 'Timestamp': pandas._libs.tslibs.timestamps.Timestamp,\n",
       " 'date_range': <function pandas.core.indexes.datetimes.date_range(start=None, end=None, periods=None, freq=None, tz=None, normalize: 'bool' = False, name: 'Hashable' = None, closed: 'str | None | lib.NoDefault' = <no_default>, inclusive: 'str | None' = None, **kwargs) -> 'DatetimeIndex'>,\n",
       " 'bdate_range': <function pandas.core.indexes.datetimes.bdate_range(start=None, end=None, periods: 'int | None' = None, freq='B', tz=None, normalize: 'bool' = True, name: 'Hashable' = None, weekmask=None, holidays=None, closed: 'lib.NoDefault' = <no_default>, inclusive: 'str | None' = None, **kwargs) -> 'DatetimeIndex'>,\n",
       " 'Interval': pandas._libs.interval.Interval,\n",
       " 'interval_range': <function pandas.core.indexes.interval.interval_range(start=None, end=None, periods=None, freq=None, name: 'Hashable' = None, closed='right') -> 'IntervalIndex'>,\n",
       " 'DateOffset': pandas._libs.tslibs.offsets.DateOffset,\n",
       " 'to_numeric': <function pandas.core.tools.numeric.to_numeric(arg, errors='raise', downcast=None)>,\n",
       " 'to_datetime': <function pandas.core.tools.datetimes.to_datetime(arg: 'DatetimeScalarOrArrayConvertible', errors: 'str' = 'raise', dayfirst: 'bool' = False, yearfirst: 'bool' = False, utc: 'bool | None' = None, format: 'str | None' = None, exact: 'bool' = True, unit: 'str | None' = None, infer_datetime_format: 'bool' = False, origin='unix', cache: 'bool' = True) -> 'DatetimeIndex | Series | DatetimeScalar | NaTType | None'>,\n",
       " 'to_timedelta': <function pandas.core.tools.timedeltas.to_timedelta(arg, unit=None, errors='raise')>,\n",
       " 'Flags': pandas.core.flags.Flags,\n",
       " 'Grouper': pandas.core.groupby.grouper.Grouper,\n",
       " 'factorize': <function pandas.core.algorithms.factorize(values, sort: 'bool' = False, na_sentinel: 'int | None' = -1, size_hint: 'int | None' = None) -> 'tuple[np.ndarray, np.ndarray | Index]'>,\n",
       " 'unique': <function pandas.core.algorithms.unique(values)>,\n",
       " 'value_counts': <function pandas.core.algorithms.value_counts(values, sort: 'bool' = True, ascending: 'bool' = False, normalize: 'bool' = False, bins=None, dropna: 'bool' = True) -> 'Series'>,\n",
       " 'NamedAgg': pandas.core.groupby.generic.NamedAgg,\n",
       " 'array': <function pandas.core.construction.array(data: 'Sequence[object] | AnyArrayLike', dtype: 'Dtype | None' = None, copy: 'bool' = True) -> 'ExtensionArray'>,\n",
       " 'Categorical': pandas.core.arrays.categorical.Categorical,\n",
       " 'set_eng_float_format': <function pandas.io.formats.format.set_eng_float_format(accuracy: 'int' = 3, use_eng_prefix: 'bool' = False) -> 'None'>,\n",
       " 'Series': pandas.core.series.Series,\n",
       " 'DataFrame': pandas.core.frame.DataFrame,\n",
       " 'SparseDtype': pandas.core.arrays.sparse.dtype.SparseDtype,\n",
       " 'infer_freq': <function pandas.tseries.frequencies.infer_freq(index, warn: 'bool' = True) -> 'str | None'>,\n",
       " 'offsets': <module 'pandas.tseries.offsets' from '/Users/kasyanenko/opt/anaconda3/lib/python3.9/site-packages/pandas/tseries/offsets.py'>,\n",
       " 'eval': <function pandas.core.computation.eval.eval(expr: 'str | BinOp', parser: 'str' = 'pandas', engine: 'str | None' = None, truediv=<no_default>, local_dict=None, global_dict=None, resolvers=(), level=0, target=None, inplace=False)>,\n",
       " 'concat': <function pandas.core.reshape.concat.concat(objs: 'Iterable[NDFrame] | Mapping[Hashable, NDFrame]', axis: 'Axis' = 0, join: 'str' = 'outer', ignore_index: 'bool' = False, keys=None, levels=None, names=None, verify_integrity: 'bool' = False, sort: 'bool' = False, copy: 'bool' = True) -> 'DataFrame | Series'>,\n",
       " 'lreshape': <function pandas.core.reshape.melt.lreshape(data: 'DataFrame', groups, dropna: 'bool' = True, label=None) -> 'DataFrame'>,\n",
       " 'melt': <function pandas.core.reshape.melt.melt(frame: 'DataFrame', id_vars=None, value_vars=None, var_name=None, value_name='value', col_level=None, ignore_index: 'bool' = True) -> 'DataFrame'>,\n",
       " 'wide_to_long': <function pandas.core.reshape.melt.wide_to_long(df: 'DataFrame', stubnames, i, j, sep: 'str' = '', suffix: 'str' = '\\\\d+') -> 'DataFrame'>,\n",
       " 'merge': <function pandas.core.reshape.merge.merge(left: 'DataFrame | Series', right: 'DataFrame | Series', how: 'str' = 'inner', on: 'IndexLabel | None' = None, left_on: 'IndexLabel | None' = None, right_on: 'IndexLabel | None' = None, left_index: 'bool' = False, right_index: 'bool' = False, sort: 'bool' = False, suffixes: 'Suffixes' = ('_x', '_y'), copy: 'bool' = True, indicator: 'bool' = False, validate: 'str | None' = None) -> 'DataFrame'>,\n",
       " 'merge_asof': <function pandas.core.reshape.merge.merge_asof(left: 'DataFrame | Series', right: 'DataFrame | Series', on: 'IndexLabel | None' = None, left_on: 'IndexLabel | None' = None, right_on: 'IndexLabel | None' = None, left_index: 'bool' = False, right_index: 'bool' = False, by=None, left_by=None, right_by=None, suffixes: 'Suffixes' = ('_x', '_y'), tolerance=None, allow_exact_matches: 'bool' = True, direction: 'str' = 'backward') -> 'DataFrame'>,\n",
       " 'merge_ordered': <function pandas.core.reshape.merge.merge_ordered(left: 'DataFrame', right: 'DataFrame', on: 'IndexLabel | None' = None, left_on: 'IndexLabel | None' = None, right_on: 'IndexLabel | None' = None, left_by=None, right_by=None, fill_method: 'str | None' = None, suffixes: 'Suffixes' = ('_x', '_y'), how: 'str' = 'outer') -> 'DataFrame'>,\n",
       " 'crosstab': <function pandas.core.reshape.pivot.crosstab(index, columns, values=None, rownames=None, colnames=None, aggfunc=None, margins: 'bool' = False, margins_name: 'str' = 'All', dropna: 'bool' = True, normalize=False) -> 'DataFrame'>,\n",
       " 'pivot': <function pandas.core.reshape.pivot.pivot(data: 'DataFrame', index: 'IndexLabel | None' = None, columns: 'IndexLabel | None' = None, values: 'IndexLabel | None' = None) -> 'DataFrame'>,\n",
       " 'pivot_table': <function pandas.core.reshape.pivot.pivot_table(data: 'DataFrame', values=None, index=None, columns=None, aggfunc: 'AggFuncType' = 'mean', fill_value=None, margins: 'bool' = False, dropna: 'bool' = True, margins_name: 'str' = 'All', observed: 'bool' = False, sort: 'bool' = True) -> 'DataFrame'>,\n",
       " 'get_dummies': <function pandas.core.reshape.reshape.get_dummies(data, prefix=None, prefix_sep='_', dummy_na: 'bool' = False, columns=None, sparse: 'bool' = False, drop_first: 'bool' = False, dtype: 'Dtype | None' = None) -> 'DataFrame'>,\n",
       " 'cut': <function pandas.core.reshape.tile.cut(x, bins, right: 'bool' = True, labels=None, retbins: 'bool' = False, precision: 'int' = 3, include_lowest: 'bool' = False, duplicates: 'str' = 'raise', ordered: 'bool' = True)>,\n",
       " 'qcut': <function pandas.core.reshape.tile.qcut(x, q, labels=None, retbins: 'bool' = False, precision: 'int' = 3, duplicates: 'str' = 'raise')>,\n",
       " 'api': <module 'pandas.api' from '/Users/kasyanenko/opt/anaconda3/lib/python3.9/site-packages/pandas/api/__init__.py'>,\n",
       " '_testing': <module 'pandas._testing' from '/Users/kasyanenko/opt/anaconda3/lib/python3.9/site-packages/pandas/_testing/__init__.py'>,\n",
       " 'testing': <module 'pandas.testing' from '/Users/kasyanenko/opt/anaconda3/lib/python3.9/site-packages/pandas/testing.py'>,\n",
       " 'show_versions': <function pandas.util._print_versions.show_versions(as_json: 'str | bool' = False) -> 'None'>,\n",
       " 'ExcelFile': pandas.io.excel._base.ExcelFile,\n",
       " 'ExcelWriter': pandas.io.excel._base.ExcelWriter,\n",
       " 'read_excel': <function pandas.io.excel._base.read_excel(io, sheet_name: 'str | int | list[IntStrT] | None' = 0, header: 'int | Sequence[int] | None' = 0, names=None, index_col: 'int | Sequence[int] | None' = None, usecols=None, squeeze: 'bool | None' = None, dtype: 'DtypeArg | None' = None, engine: \"Literal['xlrd', 'openpyxl', 'odf', 'pyxlsb'] | None\" = None, converters=None, true_values: 'Iterable[Hashable] | None' = None, false_values: 'Iterable[Hashable] | None' = None, skiprows: 'Sequence[int] | int | Callable[[int], object] | None' = None, nrows: 'int | None' = None, na_values=None, keep_default_na: 'bool' = True, na_filter: 'bool' = True, verbose: 'bool' = False, parse_dates=False, date_parser=None, thousands: 'str | None' = None, decimal: 'str' = '.', comment: 'str | None' = None, skipfooter: 'int' = 0, convert_float: 'bool | None' = None, mangle_dupe_cols: 'bool' = True, storage_options: 'StorageOptions' = None) -> 'DataFrame | dict[IntStrT, DataFrame]'>,\n",
       " 'read_csv': <function pandas.io.parsers.readers.read_csv(filepath_or_buffer: 'FilePath | ReadCsvBuffer[bytes] | ReadCsvBuffer[str]', sep=<no_default>, delimiter=None, header='infer', names=<no_default>, index_col=None, usecols=None, squeeze=None, prefix=<no_default>, mangle_dupe_cols=True, dtype: 'DtypeArg | None' = None, engine: 'CSVEngine | None' = None, converters=None, true_values=None, false_values=None, skipinitialspace=False, skiprows=None, skipfooter=0, nrows=None, na_values=None, keep_default_na=True, na_filter=True, verbose=False, skip_blank_lines=True, parse_dates=None, infer_datetime_format=False, keep_date_col=False, date_parser=None, dayfirst=False, cache_dates=True, iterator=False, chunksize=None, compression: 'CompressionOptions' = 'infer', thousands=None, decimal: 'str' = '.', lineterminator=None, quotechar='\"', quoting=0, doublequote=True, escapechar=None, comment=None, encoding=None, encoding_errors: 'str | None' = 'strict', dialect=None, error_bad_lines=None, warn_bad_lines=None, on_bad_lines=None, delim_whitespace=False, low_memory=True, memory_map=False, float_precision=None, storage_options: 'StorageOptions' = None)>,\n",
       " 'read_fwf': <function pandas.io.parsers.readers.read_fwf(filepath_or_buffer: 'FilePath | ReadCsvBuffer[bytes] | ReadCsvBuffer[str]', colspecs: 'list[tuple[int, int]] | str | None' = 'infer', widths: 'list[int] | None' = None, infer_nrows: 'int' = 100, **kwds) -> 'DataFrame | TextFileReader'>,\n",
       " 'read_table': <function pandas.io.parsers.readers.read_table(filepath_or_buffer: 'FilePath | ReadCsvBuffer[bytes] | ReadCsvBuffer[str]', sep=<no_default>, delimiter=None, header='infer', names=<no_default>, index_col=None, usecols=None, squeeze=None, prefix=<no_default>, mangle_dupe_cols=True, dtype: 'DtypeArg | None' = None, engine: 'CSVEngine | None' = None, converters=None, true_values=None, false_values=None, skipinitialspace=False, skiprows=None, skipfooter=0, nrows=None, na_values=None, keep_default_na=True, na_filter=True, verbose=False, skip_blank_lines=True, parse_dates=False, infer_datetime_format=False, keep_date_col=False, date_parser=None, dayfirst=False, cache_dates=True, iterator=False, chunksize=None, compression: 'CompressionOptions' = 'infer', thousands=None, decimal: 'str' = '.', lineterminator=None, quotechar='\"', quoting=0, doublequote=True, escapechar=None, comment=None, encoding=None, encoding_errors: 'str | None' = 'strict', dialect=None, error_bad_lines=None, warn_bad_lines=None, on_bad_lines=None, delim_whitespace=False, low_memory=True, memory_map=False, float_precision=None, storage_options: 'StorageOptions' = None)>,\n",
       " 'read_pickle': <function pandas.io.pickle.read_pickle(filepath_or_buffer: 'FilePath | ReadPickleBuffer', compression: 'CompressionOptions' = 'infer', storage_options: 'StorageOptions' = None)>,\n",
       " 'to_pickle': <function pandas.io.pickle.to_pickle(obj: 'Any', filepath_or_buffer: 'FilePath | WriteBuffer[bytes]', compression: 'CompressionOptions' = 'infer', protocol: 'int' = 5, storage_options: 'StorageOptions' = None) -> 'None'>,\n",
       " 'HDFStore': pandas.io.pytables.HDFStore,\n",
       " 'read_hdf': <function pandas.io.pytables.read_hdf(path_or_buf, key=None, mode: 'str' = 'r', errors: 'str' = 'strict', where=None, start: 'int | None' = None, stop: 'int | None' = None, columns=None, iterator=False, chunksize: 'int | None' = None, **kwargs)>,\n",
       " 'read_sql': <function pandas.io.sql.read_sql(sql, con, index_col: 'str | Sequence[str] | None' = None, coerce_float: 'bool' = True, params=None, parse_dates=None, columns=None, chunksize: 'int | None' = None) -> 'DataFrame | Iterator[DataFrame]'>,\n",
       " 'read_sql_query': <function pandas.io.sql.read_sql_query(sql, con, index_col=None, coerce_float: 'bool' = True, params=None, parse_dates=None, chunksize: 'int | None' = None, dtype: 'DtypeArg | None' = None) -> 'DataFrame | Iterator[DataFrame]'>,\n",
       " 'read_sql_table': <function pandas.io.sql.read_sql_table(table_name: 'str', con, schema: 'str | None' = None, index_col: 'str | Sequence[str] | None' = None, coerce_float: 'bool' = True, parse_dates=None, columns=None, chunksize: 'int | None' = None) -> 'DataFrame | Iterator[DataFrame]'>,\n",
       " 'read_clipboard': <function pandas.io.clipboards.read_clipboard(sep: 'str' = '\\\\s+', **kwargs)>,\n",
       " 'read_parquet': <function pandas.io.parquet.read_parquet(path, engine: 'str' = 'auto', columns=None, storage_options: 'StorageOptions' = None, use_nullable_dtypes: 'bool' = False, **kwargs) -> 'DataFrame'>,\n",
       " 'read_orc': <function pandas.io.orc.read_orc(path: 'FilePath | ReadBuffer[bytes]', columns: 'list[str] | None' = None, **kwargs) -> 'DataFrame'>,\n",
       " 'read_feather': <function pandas.io.feather_format.read_feather(path: 'FilePath | ReadBuffer[bytes]', columns: 'Sequence[Hashable] | None' = None, use_threads: 'bool' = True, storage_options: 'StorageOptions' = None)>,\n",
       " 'read_gbq': <function pandas.io.gbq.read_gbq(query: 'str', project_id: 'str | None' = None, index_col: 'str | None' = None, col_order: 'list[str] | None' = None, reauth: 'bool' = False, auth_local_webserver: 'bool' = False, dialect: 'str | None' = None, location: 'str | None' = None, configuration: 'dict[str, Any] | None' = None, credentials=None, use_bqstorage_api: 'bool | None' = None, max_results: 'int | None' = None, progress_bar_type: 'str | None' = None) -> 'DataFrame'>,\n",
       " 'read_html': <function pandas.io.html.read_html(io: 'FilePath | ReadBuffer[str]', match: 'str | Pattern' = '.+', flavor: 'str | None' = None, header: 'int | Sequence[int] | None' = None, index_col: 'int | Sequence[int] | None' = None, skiprows: 'int | Sequence[int] | slice | None' = None, attrs: 'dict[str, str] | None' = None, parse_dates: 'bool' = False, thousands: 'str | None' = ',', encoding: 'str | None' = None, decimal: 'str' = '.', converters: 'dict | None' = None, na_values=None, keep_default_na: 'bool' = True, displayed_only: 'bool' = True) -> 'list[DataFrame]'>,\n",
       " 'read_xml': <function pandas.io.xml.read_xml(path_or_buffer: 'FilePath | ReadBuffer[bytes] | ReadBuffer[str]', xpath: 'str' = './*', namespaces: 'dict[str, str] | None' = None, elems_only: 'bool' = False, attrs_only: 'bool' = False, names: 'Sequence[str] | None' = None, encoding: 'str | None' = 'utf-8', parser: 'XMLParsers' = 'lxml', stylesheet: 'FilePath | ReadBuffer[bytes] | ReadBuffer[str] | None' = None, compression: 'CompressionOptions' = 'infer', storage_options: 'StorageOptions' = None) -> 'DataFrame'>,\n",
       " 'read_json': <function pandas.io.json._json.read_json(path_or_buf=None, orient=None, typ='frame', dtype: 'DtypeArg | None' = None, convert_axes=None, convert_dates=True, keep_default_dates: 'bool' = True, numpy: 'bool' = False, precise_float: 'bool' = False, date_unit=None, encoding=None, encoding_errors: 'str | None' = 'strict', lines: 'bool' = False, chunksize: 'int | None' = None, compression: 'CompressionOptions' = 'infer', nrows: 'int | None' = None, storage_options: 'StorageOptions' = None)>,\n",
       " 'read_stata': <function pandas.io.stata.read_stata(filepath_or_buffer: 'FilePath | ReadBuffer[bytes]', convert_dates: 'bool' = True, convert_categoricals: 'bool' = True, index_col: 'str | None' = None, convert_missing: 'bool' = False, preserve_dtypes: 'bool' = True, columns: 'Sequence[str] | None' = None, order_categoricals: 'bool' = True, chunksize: 'int | None' = None, iterator: 'bool' = False, compression: 'CompressionOptions' = 'infer', storage_options: 'StorageOptions' = None) -> 'DataFrame | StataReader'>,\n",
       " 'read_sas': <function pandas.io.sas.sasreader.read_sas(filepath_or_buffer: 'FilePath | ReadBuffer[bytes]', format: 'str | None' = None, index: 'Hashable | None' = None, encoding: 'str | None' = None, chunksize: 'int | None' = None, iterator: 'bool' = False) -> 'DataFrame | ReaderBase'>,\n",
       " 'read_spss': <function pandas.io.spss.read_spss(path: 'str | Path', usecols: 'Sequence[str] | None' = None, convert_categoricals: 'bool' = True) -> 'DataFrame'>,\n",
       " 'json_normalize': <function pandas.io.json._normalize._json_normalize(data: 'dict | list[dict]', record_path: 'str | list | None' = None, meta: 'str | list[str | list[str]] | None' = None, meta_prefix: 'str | None' = None, record_prefix: 'str | None' = None, errors: 'str' = 'raise', sep: 'str' = '.', max_level: 'int | None' = None) -> 'DataFrame'>,\n",
       " 'test': <function pandas.util._tester.test(extra_args=None)>,\n",
       " '_version': <module 'pandas._version' from '/Users/kasyanenko/opt/anaconda3/lib/python3.9/site-packages/pandas/_version.py'>,\n",
       " '__version__': '1.4.4',\n",
       " '__git_version__': 'ca60aab7340d9989d9428e11a51467658190bb6b',\n",
       " '__deprecated_num_index_names': ['Float64Index', 'Int64Index', 'UInt64Index'],\n",
       " '__dir__': <function pandas.__dir__()>,\n",
       " '__getattr__': <function pandas.__getattr__(name)>,\n",
       " '__all__': ['BooleanDtype',\n",
       "  'Categorical',\n",
       "  'CategoricalDtype',\n",
       "  'CategoricalIndex',\n",
       "  'DataFrame',\n",
       "  'DateOffset',\n",
       "  'DatetimeIndex',\n",
       "  'DatetimeTZDtype',\n",
       "  'ExcelFile',\n",
       "  'ExcelWriter',\n",
       "  'Flags',\n",
       "  'Float32Dtype',\n",
       "  'Float64Dtype',\n",
       "  'Grouper',\n",
       "  'HDFStore',\n",
       "  'Index',\n",
       "  'IndexSlice',\n",
       "  'Int16Dtype',\n",
       "  'Int32Dtype',\n",
       "  'Int64Dtype',\n",
       "  'Int8Dtype',\n",
       "  'Interval',\n",
       "  'IntervalDtype',\n",
       "  'IntervalIndex',\n",
       "  'MultiIndex',\n",
       "  'NA',\n",
       "  'NaT',\n",
       "  'NamedAgg',\n",
       "  'Period',\n",
       "  'PeriodDtype',\n",
       "  'PeriodIndex',\n",
       "  'RangeIndex',\n",
       "  'Series',\n",
       "  'SparseDtype',\n",
       "  'StringDtype',\n",
       "  'Timedelta',\n",
       "  'TimedeltaIndex',\n",
       "  'Timestamp',\n",
       "  'UInt16Dtype',\n",
       "  'UInt32Dtype',\n",
       "  'UInt64Dtype',\n",
       "  'UInt8Dtype',\n",
       "  'api',\n",
       "  'array',\n",
       "  'arrays',\n",
       "  'bdate_range',\n",
       "  'concat',\n",
       "  'crosstab',\n",
       "  'cut',\n",
       "  'date_range',\n",
       "  'describe_option',\n",
       "  'errors',\n",
       "  'eval',\n",
       "  'factorize',\n",
       "  'get_dummies',\n",
       "  'get_option',\n",
       "  'infer_freq',\n",
       "  'interval_range',\n",
       "  'io',\n",
       "  'isna',\n",
       "  'isnull',\n",
       "  'json_normalize',\n",
       "  'lreshape',\n",
       "  'melt',\n",
       "  'merge',\n",
       "  'merge_asof',\n",
       "  'merge_ordered',\n",
       "  'notna',\n",
       "  'notnull',\n",
       "  'offsets',\n",
       "  'option_context',\n",
       "  'options',\n",
       "  'period_range',\n",
       "  'pivot',\n",
       "  'pivot_table',\n",
       "  'plotting',\n",
       "  'qcut',\n",
       "  'read_clipboard',\n",
       "  'read_csv',\n",
       "  'read_excel',\n",
       "  'read_feather',\n",
       "  'read_fwf',\n",
       "  'read_gbq',\n",
       "  'read_hdf',\n",
       "  'read_html',\n",
       "  'read_json',\n",
       "  'read_orc',\n",
       "  'read_parquet',\n",
       "  'read_pickle',\n",
       "  'read_sas',\n",
       "  'read_spss',\n",
       "  'read_sql',\n",
       "  'read_sql_query',\n",
       "  'read_sql_table',\n",
       "  'read_stata',\n",
       "  'read_table',\n",
       "  'read_xml',\n",
       "  'reset_option',\n",
       "  'set_eng_float_format',\n",
       "  'set_option',\n",
       "  'show_versions',\n",
       "  'test',\n",
       "  'testing',\n",
       "  'timedelta_range',\n",
       "  'to_datetime',\n",
       "  'to_numeric',\n",
       "  'to_pickle',\n",
       "  'to_timedelta',\n",
       "  'tseries',\n",
       "  'unique',\n",
       "  'value_counts',\n",
       "  'wide_to_long']}"
      ]
     },
     "execution_count": 8,
     "metadata": {},
     "output_type": "execute_result"
    }
   ],
   "source": [
    "pd.__dict__ # так создастся словарь с описанием каждого элемента библиотеки"
   ]
  },
  {
   "cell_type": "markdown",
   "metadata": {},
   "source": [
    "Почитать подробнее про модули и пакеты в Python: https://habr.com/ru/articles/718828/"
   ]
  }
 ],
 "metadata": {
  "colab": {
   "provenance": []
  },
  "kernelspec": {
   "display_name": "Python 3 (ipykernel)",
   "language": "python",
   "name": "python3"
  },
  "language_info": {
   "codemirror_mode": {
    "name": "ipython",
    "version": 3
   },
   "file_extension": ".py",
   "mimetype": "text/x-python",
   "name": "python",
   "nbconvert_exporter": "python",
   "pygments_lexer": "ipython3",
   "version": "3.9.18"
  }
 },
 "nbformat": 4,
 "nbformat_minor": 1
}
