{
 "cells": [
  {
   "cell_type": "markdown",
   "id": "3e258d77",
   "metadata": {},
   "source": [
    " # Парсинг данных и анализ. Кассовые сборы фильмов и бюджеты\n",
    " \n",
    "Поработаем с данными о бюджетах фильмов и финансовых показателях с помощью сайта [The Numbers](https://www.the-numbers.com/movie/budgets/all)."
   ]
  },
  {
   "cell_type": "code",
   "execution_count": null,
   "id": "e4f71ccc",
   "metadata": {},
   "outputs": [],
   "source": [
    "!pip install fake_useragent"
   ]
  },
  {
   "cell_type": "code",
   "execution_count": 2,
   "id": "bc04ff69",
   "metadata": {},
   "outputs": [],
   "source": [
    "# импортируйте нужные библиотеки\n",
    "import requests\n",
    "from bs4 import BeautifulSoup\n",
    "import pandas as pd\n",
    "from fake_useragent import UserAgent\n",
    "from tqdm import tqdm\n",
    "from time import sleep\n",
    "import matplotlib\n",
    "%matplotlib inline "
   ]
  },
  {
   "cell_type": "code",
   "execution_count": 3,
   "id": "6efbb20e",
   "metadata": {},
   "outputs": [],
   "source": [
    "import warnings\n",
    "warnings.filterwarnings(\"ignore\")"
   ]
  },
  {
   "cell_type": "markdown",
   "id": "09b9db02",
   "metadata": {},
   "source": [
    "### Парсинг данных"
   ]
  },
  {
   "cell_type": "code",
   "execution_count": 4,
   "id": "48c45760",
   "metadata": {},
   "outputs": [
    {
     "name": "stdout",
     "output_type": "stream",
     "text": [
      "<Response [403]>\n"
     ]
    }
   ],
   "source": [
    "req = requests.get('https://www.the-numbers.com/movie/budgets/all')\n",
    "print(req)"
   ]
  },
  {
   "cell_type": "markdown",
   "id": "7c855e28",
   "metadata": {},
   "source": [
    "Мы впервые сталкиваемся с тем, что сервер не отдает нам данные по запросу. Но и из этой ситуации есть выход! Библиотека `fake_useragent`."
   ]
  },
  {
   "cell_type": "code",
   "execution_count": 5,
   "id": "16449db2",
   "metadata": {},
   "outputs": [],
   "source": [
    "ua = UserAgent()\n",
    "headers = {'User-Agent': ua.chrome}"
   ]
  },
  {
   "cell_type": "code",
   "execution_count": 6,
   "id": "05994a6d",
   "metadata": {},
   "outputs": [
    {
     "name": "stdout",
     "output_type": "stream",
     "text": [
      "<Response [200]>\n"
     ]
    }
   ],
   "source": [
    "req = requests.get('https://www.the-numbers.com/movie/budgets/all', headers=headers)\n",
    "print(req)"
   ]
  },
  {
   "cell_type": "code",
   "execution_count": 7,
   "id": "127a0aa7",
   "metadata": {},
   "outputs": [],
   "source": [
    "soup = BeautifulSoup(req.text, 'html')"
   ]
  },
  {
   "cell_type": "code",
   "execution_count": 11,
   "id": "780ad5c4",
   "metadata": {},
   "outputs": [],
   "source": [
    "df = pd.read_html(str(soup.find('table')))[0]"
   ]
  },
  {
   "cell_type": "code",
   "execution_count": 12,
   "id": "3756aa5c",
   "metadata": {},
   "outputs": [
    {
     "data": {
      "text/html": [
       "<div>\n",
       "<style scoped>\n",
       "    .dataframe tbody tr th:only-of-type {\n",
       "        vertical-align: middle;\n",
       "    }\n",
       "\n",
       "    .dataframe tbody tr th {\n",
       "        vertical-align: top;\n",
       "    }\n",
       "\n",
       "    .dataframe thead th {\n",
       "        text-align: right;\n",
       "    }\n",
       "</style>\n",
       "<table border=\"1\" class=\"dataframe\">\n",
       "  <thead>\n",
       "    <tr style=\"text-align: right;\">\n",
       "      <th></th>\n",
       "      <th>Unnamed: 0</th>\n",
       "      <th>Release Date</th>\n",
       "      <th>Movie</th>\n",
       "      <th>Production Budget</th>\n",
       "      <th>Domestic Gross</th>\n",
       "      <th>Worldwide Gross</th>\n",
       "    </tr>\n",
       "  </thead>\n",
       "  <tbody>\n",
       "    <tr>\n",
       "      <th>0</th>\n",
       "      <td>1</td>\n",
       "      <td>Dec 16, 2015</td>\n",
       "      <td>Star Wars Ep. VII: The Force Awakens</td>\n",
       "      <td>$533,200,000</td>\n",
       "      <td>$936,662,225</td>\n",
       "      <td>$2,064,615,817</td>\n",
       "    </tr>\n",
       "    <tr>\n",
       "      <th>1</th>\n",
       "      <td>2</td>\n",
       "      <td>Dec 9, 2022</td>\n",
       "      <td>Avatar: The Way of Water</td>\n",
       "      <td>$460,000,000</td>\n",
       "      <td>$684,075,767</td>\n",
       "      <td>$2,317,514,386</td>\n",
       "    </tr>\n",
       "    <tr>\n",
       "      <th>2</th>\n",
       "      <td>3</td>\n",
       "      <td>Jun 28, 2023</td>\n",
       "      <td>Indiana Jones and the Dial of Destiny</td>\n",
       "      <td>$402,300,000</td>\n",
       "      <td>$174,480,468</td>\n",
       "      <td>$383,963,057</td>\n",
       "    </tr>\n",
       "    <tr>\n",
       "      <th>3</th>\n",
       "      <td>4</td>\n",
       "      <td>Apr 23, 2019</td>\n",
       "      <td>Avengers: Endgame</td>\n",
       "      <td>$400,000,000</td>\n",
       "      <td>$858,373,000</td>\n",
       "      <td>$2,748,242,781</td>\n",
       "    </tr>\n",
       "    <tr>\n",
       "      <th>4</th>\n",
       "      <td>5</td>\n",
       "      <td>May 20, 2011</td>\n",
       "      <td>Pirates of the Caribbean: On Stranger Tides</td>\n",
       "      <td>$379,000,000</td>\n",
       "      <td>$241,071,802</td>\n",
       "      <td>$1,045,713,802</td>\n",
       "    </tr>\n",
       "    <tr>\n",
       "      <th>...</th>\n",
       "      <td>...</td>\n",
       "      <td>...</td>\n",
       "      <td>...</td>\n",
       "      <td>...</td>\n",
       "      <td>...</td>\n",
       "      <td>...</td>\n",
       "    </tr>\n",
       "    <tr>\n",
       "      <th>95</th>\n",
       "      <td>96</td>\n",
       "      <td>Nov 22, 2023</td>\n",
       "      <td>Wish</td>\n",
       "      <td>$200,000,000</td>\n",
       "      <td>$63,973,821</td>\n",
       "      <td>$240,274,313</td>\n",
       "    </tr>\n",
       "    <tr>\n",
       "      <th>96</th>\n",
       "      <td>97</td>\n",
       "      <td>Feb 28, 2020</td>\n",
       "      <td>Onward</td>\n",
       "      <td>$200,000,000</td>\n",
       "      <td>$61,555,145</td>\n",
       "      <td>$133,357,601</td>\n",
       "    </tr>\n",
       "    <tr>\n",
       "      <th>97</th>\n",
       "      <td>98</td>\n",
       "      <td>Nov 22, 2023</td>\n",
       "      <td>Napoleon</td>\n",
       "      <td>$200,000,000</td>\n",
       "      <td>$61,524,375</td>\n",
       "      <td>$217,917,156</td>\n",
       "    </tr>\n",
       "    <tr>\n",
       "      <th>98</th>\n",
       "      <td>99</td>\n",
       "      <td>Dec 16, 2020</td>\n",
       "      <td>Wonder Woman 1984</td>\n",
       "      <td>$200,000,000</td>\n",
       "      <td>$46,801,036</td>\n",
       "      <td>$166,360,232</td>\n",
       "    </tr>\n",
       "    <tr>\n",
       "      <th>99</th>\n",
       "      <td>100</td>\n",
       "      <td>Jan 31, 2024</td>\n",
       "      <td>Argylle</td>\n",
       "      <td>$200,000,000</td>\n",
       "      <td>$45,207,275</td>\n",
       "      <td>$96,210,855</td>\n",
       "    </tr>\n",
       "  </tbody>\n",
       "</table>\n",
       "<p>100 rows × 6 columns</p>\n",
       "</div>"
      ],
      "text/plain": [
       "    Unnamed: 0  Release Date                                        Movie  \\\n",
       "0            1  Dec 16, 2015         Star Wars Ep. VII: The Force Awakens   \n",
       "1            2   Dec 9, 2022                     Avatar: The Way of Water   \n",
       "2            3  Jun 28, 2023        Indiana Jones and the Dial of Destiny   \n",
       "3            4  Apr 23, 2019                            Avengers: Endgame   \n",
       "4            5  May 20, 2011  Pirates of the Caribbean: On Stranger Tides   \n",
       "..         ...           ...                                          ...   \n",
       "95          96  Nov 22, 2023                                         Wish   \n",
       "96          97  Feb 28, 2020                                       Onward   \n",
       "97          98  Nov 22, 2023                                     Napoleon   \n",
       "98          99  Dec 16, 2020                            Wonder Woman 1984   \n",
       "99         100  Jan 31, 2024                                      Argylle   \n",
       "\n",
       "   Production Budget Domestic Gross Worldwide Gross  \n",
       "0       $533,200,000   $936,662,225  $2,064,615,817  \n",
       "1       $460,000,000   $684,075,767  $2,317,514,386  \n",
       "2       $402,300,000   $174,480,468    $383,963,057  \n",
       "3       $400,000,000   $858,373,000  $2,748,242,781  \n",
       "4       $379,000,000   $241,071,802  $1,045,713,802  \n",
       "..               ...            ...             ...  \n",
       "95      $200,000,000    $63,973,821    $240,274,313  \n",
       "96      $200,000,000    $61,555,145    $133,357,601  \n",
       "97      $200,000,000    $61,524,375    $217,917,156  \n",
       "98      $200,000,000    $46,801,036    $166,360,232  \n",
       "99      $200,000,000    $45,207,275     $96,210,855  \n",
       "\n",
       "[100 rows x 6 columns]"
      ]
     },
     "execution_count": 12,
     "metadata": {},
     "output_type": "execute_result"
    }
   ],
   "source": [
    "df"
   ]
  },
  {
   "cell_type": "markdown",
   "id": "d2fd54c0",
   "metadata": {},
   "source": [
    "Спарсим все данные по ссылке выше."
   ]
  },
  {
   "cell_type": "code",
   "execution_count": 26,
   "id": "cdae1958",
   "metadata": {},
   "outputs": [
    {
     "name": "stderr",
     "output_type": "stream",
     "text": [
      "100%|███████████████████████████████████████████| 64/64 [03:29<00:00,  3.27s/it]\n"
     ]
    }
   ],
   "source": [
    "main = pd.DataFrame()\n",
    "\n",
    "for i in tqdm(range(1, 66)):\n",
    "    req = requests.get(f'https://www.the-numbers.com/movie/budgets/all/{i}01', headers=headers)\n",
    "    soup = BeautifulSoup(req.text, 'html')\n",
    "    table = soup.find('table')\n",
    "    df1 = pd.read_html(str(table))[0]\n",
    "    main = pd.concat([main, df1])\n",
    "    sleep(3)"
   ]
  },
  {
   "cell_type": "code",
   "execution_count": 27,
   "id": "c8a5f52a",
   "metadata": {},
   "outputs": [],
   "source": [
    "df = pd.concat([df, main])"
   ]
  },
  {
   "cell_type": "code",
   "execution_count": 28,
   "id": "26fbbda6",
   "metadata": {},
   "outputs": [],
   "source": [
    "df = df.set_index('Unnamed: 0')"
   ]
  },
  {
   "cell_type": "code",
   "execution_count": 29,
   "id": "be429202",
   "metadata": {},
   "outputs": [
    {
     "data": {
      "text/plain": [
       "(6434, 5)"
      ]
     },
     "execution_count": 29,
     "metadata": {},
     "output_type": "execute_result"
    }
   ],
   "source": [
    "df.shape"
   ]
  },
  {
   "cell_type": "markdown",
   "id": "a4152d7e",
   "metadata": {},
   "source": [
    "### EDA\n",
    "\n",
    "* Сколько строк и столбцов содержит набор данных?\n",
    "* Присутствуют ли значения NaN?\n",
    "* Есть ли дублирующиеся строки?\n",
    "* Какие типы данных столбцов?"
   ]
  },
  {
   "cell_type": "code",
   "execution_count": 30,
   "id": "343d59c5",
   "metadata": {},
   "outputs": [
    {
     "data": {
      "text/plain": [
       "False"
      ]
     },
     "execution_count": 30,
     "metadata": {},
     "output_type": "execute_result"
    }
   ],
   "source": [
    "# ваш код\n",
    "df.isna().values.any()"
   ]
  },
  {
   "cell_type": "code",
   "execution_count": 31,
   "id": "9b02bb5e",
   "metadata": {
    "scrolled": true
   },
   "outputs": [
    {
     "data": {
      "text/plain": [
       "False"
      ]
     },
     "execution_count": 31,
     "metadata": {},
     "output_type": "execute_result"
    }
   ],
   "source": [
    "df.duplicated().values.any()"
   ]
  },
  {
   "cell_type": "code",
   "execution_count": null,
   "id": "cbab8707",
   "metadata": {},
   "outputs": [],
   "source": [
    "?df.dropna"
   ]
  },
  {
   "cell_type": "code",
   "execution_count": null,
   "id": "fb019103",
   "metadata": {},
   "outputs": [],
   "source": [
    "?df.drop_duplicates"
   ]
  },
  {
   "cell_type": "code",
   "execution_count": 32,
   "id": "3cf837a9",
   "metadata": {},
   "outputs": [
    {
     "name": "stdout",
     "output_type": "stream",
     "text": [
      "<class 'pandas.core.frame.DataFrame'>\n",
      "Int64Index: 6434 entries, 1 to 6434\n",
      "Data columns (total 5 columns):\n",
      " #   Column            Non-Null Count  Dtype \n",
      "---  ------            --------------  ----- \n",
      " 0   ReleaseDate       6434 non-null   object\n",
      " 1   Movie             6434 non-null   object\n",
      " 2   ProductionBudget  6434 non-null   object\n",
      " 3   DomesticGross     6434 non-null   object\n",
      " 4   WorldwideGross    6434 non-null   object\n",
      "dtypes: object(5)\n",
      "memory usage: 301.6+ KB\n"
     ]
    }
   ],
   "source": [
    "df.info()"
   ]
  },
  {
   "cell_type": "markdown",
   "id": "60bf75ae",
   "metadata": {},
   "source": [
    "### Перевод данных\n",
    "\n",
    "Переводим столбцы в нужные типы данных"
   ]
  },
  {
   "cell_type": "code",
   "execution_count": 33,
   "id": "a46eb39c",
   "metadata": {},
   "outputs": [
    {
     "data": {
      "text/plain": [
       "['ReleaseDate', 'Movie', 'ProductionBudget', 'DomesticGross', 'WorldwideGross']"
      ]
     },
     "execution_count": 33,
     "metadata": {},
     "output_type": "execute_result"
    }
   ],
   "source": [
    "my_cols = list(df.columns)\n",
    "my_cols"
   ]
  },
  {
   "cell_type": "code",
   "execution_count": null,
   "id": "da43a069",
   "metadata": {},
   "outputs": [],
   "source": [
    "cols = ['ProductionBudget', 'DomesticGross', 'WorldwideGross']\n",
    "\n",
    "for col in cols:\n",
    "    df[col] = df[col].str.replace('$', '')\n",
    "    df[col] = df[col].str.replace(',', '')\n",
    "    df[col] = pd.to_numeric(df[col])"
   ]
  },
  {
   "cell_type": "code",
   "execution_count": 38,
   "id": "f3a0bb9a",
   "metadata": {},
   "outputs": [
    {
     "name": "stdout",
     "output_type": "stream",
     "text": [
      "<class 'pandas.core.frame.DataFrame'>\n",
      "Int64Index: 6434 entries, 1 to 6434\n",
      "Data columns (total 5 columns):\n",
      " #   Column            Non-Null Count  Dtype \n",
      "---  ------            --------------  ----- \n",
      " 0   ReleaseDate       6434 non-null   object\n",
      " 1   Movie             6434 non-null   object\n",
      " 2   ProductionBudget  6434 non-null   int64 \n",
      " 3   DomesticGross     6434 non-null   int64 \n",
      " 4   WorldwideGross    6434 non-null   int64 \n",
      "dtypes: int64(3), object(2)\n",
      "memory usage: 301.6+ KB\n"
     ]
    }
   ],
   "source": [
    "df.info()"
   ]
  },
  {
   "cell_type": "markdown",
   "id": "718b07f7",
   "metadata": {},
   "source": [
    "### Описательная статистика\n",
    "\n",
    "* Какой средний бюджет фильмов в наборе данных?\n",
    "* Какой средний мировой доход фильмов?\n",
    "* Какие минимальные показатели мирового и локального дохода фильмов?\n",
    "* Какие самый высокий бюджет и самый высокий мировой доход среди фильмов?\n",
    "* Какой доход принесли фильмы с самым низким и самым высоким бюджетом?"
   ]
  },
  {
   "cell_type": "code",
   "execution_count": 51,
   "id": "0d99b702",
   "metadata": {},
   "outputs": [
    {
     "data": {
      "text/html": [
       "<div>\n",
       "<style scoped>\n",
       "    .dataframe tbody tr th:only-of-type {\n",
       "        vertical-align: middle;\n",
       "    }\n",
       "\n",
       "    .dataframe tbody tr th {\n",
       "        vertical-align: top;\n",
       "    }\n",
       "\n",
       "    .dataframe thead th {\n",
       "        text-align: right;\n",
       "    }\n",
       "</style>\n",
       "<table border=\"1\" class=\"dataframe\">\n",
       "  <thead>\n",
       "    <tr style=\"text-align: right;\">\n",
       "      <th></th>\n",
       "      <th>ProductionBudget</th>\n",
       "      <th>DomesticGross</th>\n",
       "      <th>WorldwideGross</th>\n",
       "    </tr>\n",
       "  </thead>\n",
       "  <tbody>\n",
       "    <tr>\n",
       "      <th>count</th>\n",
       "      <td>6,434.00</td>\n",
       "      <td>6,434.00</td>\n",
       "      <td>6,434.00</td>\n",
       "    </tr>\n",
       "    <tr>\n",
       "      <th>mean</th>\n",
       "      <td>32,493,886.84</td>\n",
       "      <td>41,954,185.26</td>\n",
       "      <td>93,284,689.47</td>\n",
       "    </tr>\n",
       "    <tr>\n",
       "      <th>std</th>\n",
       "      <td>43,755,883.27</td>\n",
       "      <td>71,929,639.07</td>\n",
       "      <td>186,045,067.85</td>\n",
       "    </tr>\n",
       "    <tr>\n",
       "      <th>min</th>\n",
       "      <td>86.00</td>\n",
       "      <td>0.00</td>\n",
       "      <td>0.00</td>\n",
       "    </tr>\n",
       "    <tr>\n",
       "      <th>25%</th>\n",
       "      <td>5,000,000.00</td>\n",
       "      <td>1,084,873.75</td>\n",
       "      <td>3,747,858.75</td>\n",
       "    </tr>\n",
       "    <tr>\n",
       "      <th>50%</th>\n",
       "      <td>17,000,000.00</td>\n",
       "      <td>16,083,016.50</td>\n",
       "      <td>27,147,670.00</td>\n",
       "    </tr>\n",
       "    <tr>\n",
       "      <th>75%</th>\n",
       "      <td>40,000,000.00</td>\n",
       "      <td>51,566,931.75</td>\n",
       "      <td>96,671,373.00</td>\n",
       "    </tr>\n",
       "    <tr>\n",
       "      <th>max</th>\n",
       "      <td>460,000,000.00</td>\n",
       "      <td>936,662,225.00</td>\n",
       "      <td>2,923,706,026.00</td>\n",
       "    </tr>\n",
       "  </tbody>\n",
       "</table>\n",
       "</div>"
      ],
      "text/plain": [
       "       ProductionBudget  DomesticGross   WorldwideGross\n",
       "count          6,434.00       6,434.00         6,434.00\n",
       "mean      32,493,886.84  41,954,185.26    93,284,689.47\n",
       "std       43,755,883.27  71,929,639.07   186,045,067.85\n",
       "min               86.00           0.00             0.00\n",
       "25%        5,000,000.00   1,084,873.75     3,747,858.75\n",
       "50%       17,000,000.00  16,083,016.50    27,147,670.00\n",
       "75%       40,000,000.00  51,566,931.75    96,671,373.00\n",
       "max      460,000,000.00 936,662,225.00 2,923,706,026.00"
      ]
     },
     "execution_count": 51,
     "metadata": {},
     "output_type": "execute_result"
    }
   ],
   "source": [
    "# ваш код\n",
    "df.describe()"
   ]
  },
  {
   "cell_type": "code",
   "execution_count": null,
   "id": "da187720",
   "metadata": {},
   "outputs": [],
   "source": [
    "# ваш код"
   ]
  },
  {
   "cell_type": "markdown",
   "id": "1e064a94",
   "metadata": {},
   "source": [
    "### Фильмы, потерявшие деньги\n",
    "\n",
    "* Какой процент фильмов, в которых затраты на производство превысили мировой доход?"
   ]
  },
  {
   "cell_type": "code",
   "execution_count": null,
   "id": "8a17f246",
   "metadata": {},
   "outputs": [],
   "source": [
    "# ваш код"
   ]
  }
 ],
 "metadata": {
  "kernelspec": {
   "display_name": "Python 3 (ipykernel)",
   "language": "python",
   "name": "python3"
  },
  "language_info": {
   "codemirror_mode": {
    "name": "ipython",
    "version": 3
   },
   "file_extension": ".py",
   "mimetype": "text/x-python",
   "name": "python",
   "nbconvert_exporter": "python",
   "pygments_lexer": "ipython3",
   "version": "3.11.5"
  }
 },
 "nbformat": 4,
 "nbformat_minor": 5
}
