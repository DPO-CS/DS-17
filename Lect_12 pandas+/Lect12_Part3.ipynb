{
 "cells": [
  {
   "cell_type": "markdown",
   "id": "ce397de8",
   "metadata": {},
   "source": [
    "# Слияние таблиц, практика"
   ]
  },
  {
   "cell_type": "markdown",
   "id": "1a3a3f56",
   "metadata": {},
   "source": [
    "Вам предоставлены данные по рынку недвижимости в регионах России по данным сайта Дом Клик: domclick.csv\n",
    "\n",
    "Признаки в данных:\n",
    "\n",
    "- rating_announcement - рейтинг регионов по количеству объявлений о продаже\n",
    "- rating_announcement_change - изменение рейтинга регионов по количеству объявлений о продаже\n",
    "- region - регион\n",
    "- announcement_count - общее количество активных объявлений о продаже\n",
    "- announcement_count_resale - активных объявлений, вторичка\n",
    "- announcement_count_new - активных объявлений, новостройки\n",
    "- avg_price_resale - cредняя стоимость м², вторичка\n",
    "- avg_price_new - cредняя стоимость м², новостройки\n",
    "- rating_loan - рейтинг регионов по количеству заявок на кредит\n",
    "- rating_loan_change - изменение рейтинга регионов по количеству заявок на кредит\n",
    "- min_numb_of_appr_loan - минимальное количество одобренных заявок\n",
    "- share_of_onln_loan - доля онлайн-заявок на кредит\n",
    "- share_of_office_loan - доля заявок в офисе банка"
   ]
  },
  {
   "cell_type": "markdown",
   "id": "a4d9716c",
   "metadata": {},
   "source": [
    "Вам предоставлены данные по субъектам РФ: FO.xlsx\n",
    "\n",
    "Признаки в данных: \n",
    "- Субъект РФ\t\n",
    "- Всё население\t\n",
    "- % от общ. населения\t\n",
    "- Городское население\t\n",
    "- % городского населения\t\n",
    "- Сельское население\t\n",
    "- % сельского населения\t\n",
    "- Площадь\t\n",
    "- Плотность населения\t\n",
    "- Федеральный округ"
   ]
  },
  {
   "cell_type": "code",
   "execution_count": null,
   "id": "0cf962e9",
   "metadata": {},
   "outputs": [],
   "source": [
    "# загрузите датасеты"
   ]
  },
  {
   "cell_type": "markdown",
   "id": "47629dbd",
   "metadata": {},
   "source": [
    "### Задание 1\n",
    "\n",
    "Создайте новый датафрейм, в котором к данным по рынку недвижимости у регионов будет проставлено всё население, % от общего населения"
   ]
  },
  {
   "cell_type": "code",
   "execution_count": null,
   "id": "8dca4b64",
   "metadata": {},
   "outputs": [],
   "source": []
  },
  {
   "cell_type": "markdown",
   "id": "f0ba41c3",
   "metadata": {},
   "source": [
    "### Задание 2\n",
    "\n",
    "Создайте новый датафрейм, где будет агрегированная информация о том, сколько в сумме активных объявлений вторичек и новостроек в каждом федеральном округе."
   ]
  },
  {
   "cell_type": "code",
   "execution_count": null,
   "id": "a2816fa9",
   "metadata": {},
   "outputs": [],
   "source": []
  },
  {
   "cell_type": "markdown",
   "id": "1da2ee03",
   "metadata": {},
   "source": [
    "### Задание 3\n",
    "\n",
    "Создайте новый датафрейм, где сохранится информация по населению в субъектах РФ, а также добавится информация по средней стоимости квадратного метра вторички и новостроек."
   ]
  },
  {
   "cell_type": "code",
   "execution_count": null,
   "id": "1a765675",
   "metadata": {},
   "outputs": [],
   "source": []
  },
  {
   "cell_type": "markdown",
   "id": "691af686",
   "metadata": {},
   "source": [
    "### Задание 4\n",
    "\n",
    "Посмотрите на корреляцию между данными по субъектам РФ и стоимости квадратного метра."
   ]
  },
  {
   "cell_type": "code",
   "execution_count": null,
   "id": "7bd186f2",
   "metadata": {},
   "outputs": [],
   "source": []
  }
 ],
 "metadata": {
  "kernelspec": {
   "display_name": "Python 3 (ipykernel)",
   "language": "python",
   "name": "python3"
  },
  "language_info": {
   "codemirror_mode": {
    "name": "ipython",
    "version": 3
   },
   "file_extension": ".py",
   "mimetype": "text/x-python",
   "name": "python",
   "nbconvert_exporter": "python",
   "pygments_lexer": "ipython3",
   "version": "3.9.18"
  }
 },
 "nbformat": 4,
 "nbformat_minor": 5
}
