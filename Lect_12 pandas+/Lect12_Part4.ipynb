{
 "cells": [
  {
   "cell_type": "markdown",
   "id": "0a1b24fc",
   "metadata": {},
   "source": [
    "# Практика EDA (разведочный анализ данных)"
   ]
  },
  {
   "cell_type": "markdown",
   "id": "9bca479d",
   "metadata": {},
   "source": [
    "Анализируем датасет с информацией об атлетах, участвовавших в Олимпийских играх (olymp.csv). Разделитель запятая.\n",
    "\n",
    "Данные содержат следующие признаки: \\\n",
    "ID - уникальный номер спортсмена \\\n",
    "Name - имя атлета \\\n",
    "Sex - пол (мужской - M,  женский - F) \\\n",
    "Age - возраст атлета \\\n",
    "Height - рост (в см) \\\n",
    "Weight - вес (в кг) \\\n",
    "Team - cтрана \\\n",
    "NOC - код страны от Олимпийского комитета (3 буквы) \\\n",
    "Games - год и сезон Олимпийских игр \\\n",
    "Year - год Олимпийских игр \\\n",
    "Season - сезон (Зимние - Winter,  Лето - Summer) \\\n",
    "City - город проведения Олимпийских игр \\\n",
    "Sport - спортивная дисциплина \\\n",
    "Event - категория спортивной дисциплины \\\n",
    "Medal - достоинство медали (Золото - Gold, Серебро - Silver, Бронза - Bronze, Без медали - NaN)"
   ]
  },
  {
   "cell_type": "markdown",
   "id": "231d9f6c",
   "metadata": {},
   "source": [
    "**Задание 1**. Загрузите данные"
   ]
  },
  {
   "cell_type": "code",
   "execution_count": 1,
   "id": "8cf1d54d",
   "metadata": {},
   "outputs": [],
   "source": [
    "# ваш код"
   ]
  },
  {
   "cell_type": "markdown",
   "id": "24c6ed82",
   "metadata": {},
   "source": [
    "**Задание 2**. Проверьте данные на пропуски"
   ]
  },
  {
   "cell_type": "code",
   "execution_count": null,
   "id": "b8655254",
   "metadata": {},
   "outputs": [],
   "source": [
    "# ваш код"
   ]
  },
  {
   "cell_type": "markdown",
   "id": "13ee25f8",
   "metadata": {},
   "source": [
    "**Задание 3**. Узнайте размер датафрейма. Получите список всех колонок."
   ]
  },
  {
   "cell_type": "code",
   "execution_count": null,
   "id": "1451ff41",
   "metadata": {},
   "outputs": [],
   "source": [
    "# ваш код"
   ]
  },
  {
   "cell_type": "markdown",
   "id": "3c7a8be2",
   "metadata": {},
   "source": [
    "**Задание 4**. Сколько лет было самому молодому участнику олимпийских игр в 1992 году?"
   ]
  },
  {
   "cell_type": "code",
   "execution_count": null,
   "id": "52f40bfe",
   "metadata": {},
   "outputs": [],
   "source": [
    "# ваш код"
   ]
  },
  {
   "cell_type": "markdown",
   "id": "795d1eb6",
   "metadata": {},
   "source": [
    "**Задание 5**. Сколько всего уникальных участников Олимпийских игр было в 2012 году? Примените метод `.drop_duplicates(\"признак\")` по признаку ID, чтобы оставить строки, только с уникальными атлетами"
   ]
  },
  {
   "cell_type": "code",
   "execution_count": null,
   "id": "2761fd5b",
   "metadata": {},
   "outputs": [],
   "source": [
    "# ваш код"
   ]
  },
  {
   "cell_type": "markdown",
   "id": "7ee359d3",
   "metadata": {},
   "source": [
    "**Задание 6**. Какую долю составляют мужчины-баскетболисты среди всех участников игр 2012 года? Округлите ответ до двух знаков."
   ]
  },
  {
   "cell_type": "code",
   "execution_count": null,
   "id": "7f745c16",
   "metadata": {},
   "outputs": [],
   "source": [
    "# ваш код"
   ]
  },
  {
   "cell_type": "markdown",
   "id": "f47268db",
   "metadata": {},
   "source": [
    "**Задание 7**. В каких годах проводились соревнования по керлингу (Curling)? Примените метод `.unique()` к столбцу `Year`."
   ]
  },
  {
   "cell_type": "code",
   "execution_count": null,
   "id": "a6b0096f",
   "metadata": {},
   "outputs": [],
   "source": [
    "# ваш код"
   ]
  },
  {
   "cell_type": "markdown",
   "id": "40804cd6",
   "metadata": {},
   "source": [
    "**Задание 8**\n",
    "\n",
    "Cоздайте новый признак BMI в датафрейме, который содержит информацию об индексе массы тела для каждого спортсмена на основе столбца с массой (Weight) и ростом (Height):\n",
    "\n",
    "$$𝐵𝑀𝐼=\\frac{Масса(кг.)}{Рост(м.)^2}$$\n",
    "\n",
    "HINT: Обратите внимание, что рост(Height) в таблице дан в сантиметрах, а по формуле рост нужен в метрах"
   ]
  },
  {
   "cell_type": "code",
   "execution_count": null,
   "id": "8484d2f4",
   "metadata": {},
   "outputs": [],
   "source": [
    "# ваш код"
   ]
  },
  {
   "cell_type": "markdown",
   "id": "09159e4e",
   "metadata": {},
   "source": [
    "**Задание 9**. Найдите модуль разности между максимальным и минимальным значением индекса массы тела атлетов (BMI). Ответ округлите до двух знаков."
   ]
  },
  {
   "cell_type": "code",
   "execution_count": null,
   "id": "c4b99e9c",
   "metadata": {},
   "outputs": [],
   "source": [
    "# ваш код"
   ]
  },
  {
   "cell_type": "markdown",
   "id": "969291e2",
   "metadata": {},
   "source": [
    "**Задание 10**.\n",
    "\n",
    "Определите количество атлетов из Советского Союза (Soviet Union) чей процент успеха на олимпиаде не менее 50%. Показатель процента успеха рассчитывается как частное (количество завоеванных медалей к количеству категорий спортивных дисциплин, в которых они приняли участие), умноженное на 100."
   ]
  },
  {
   "cell_type": "code",
   "execution_count": null,
   "id": "0ef99646",
   "metadata": {},
   "outputs": [],
   "source": [
    "# ваш код"
   ]
  }
 ],
 "metadata": {
  "kernelspec": {
   "display_name": "Python 3 (ipykernel)",
   "language": "python",
   "name": "python3"
  },
  "language_info": {
   "codemirror_mode": {
    "name": "ipython",
    "version": 3
   },
   "file_extension": ".py",
   "mimetype": "text/x-python",
   "name": "python",
   "nbconvert_exporter": "python",
   "pygments_lexer": "ipython3",
   "version": "3.9.18"
  }
 },
 "nbformat": 4,
 "nbformat_minor": 5
}
