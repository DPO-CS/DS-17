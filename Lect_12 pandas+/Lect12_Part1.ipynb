{
 "cells": [
  {
   "cell_type": "markdown",
   "metadata": {
    "id": "wgVcBt8nMnpp"
   },
   "source": [
    "# Работа с пропусками. Выбросы"
   ]
  },
  {
   "cell_type": "code",
   "execution_count": 7,
   "metadata": {
    "colab": {
     "base_uri": "https://localhost:8080/",
     "height": 580
    },
    "id": "WxkC1ZKTMnCF",
    "outputId": "c20782d9-a1d5-485d-d866-69527b85f3a1"
   },
   "outputs": [
    {
     "data": {
      "text/html": [
       "<div>\n",
       "<style scoped>\n",
       "    .dataframe tbody tr th:only-of-type {\n",
       "        vertical-align: middle;\n",
       "    }\n",
       "\n",
       "    .dataframe tbody tr th {\n",
       "        vertical-align: top;\n",
       "    }\n",
       "\n",
       "    .dataframe thead th {\n",
       "        text-align: right;\n",
       "    }\n",
       "</style>\n",
       "<table border=\"1\" class=\"dataframe\">\n",
       "  <thead>\n",
       "    <tr style=\"text-align: right;\">\n",
       "      <th></th>\n",
       "      <th>PassengerId</th>\n",
       "      <th>Survived</th>\n",
       "      <th>Pclass</th>\n",
       "      <th>Name</th>\n",
       "      <th>Sex</th>\n",
       "      <th>Age</th>\n",
       "      <th>SibSp</th>\n",
       "      <th>Parch</th>\n",
       "      <th>Ticket</th>\n",
       "      <th>Fare</th>\n",
       "      <th>Cabin</th>\n",
       "      <th>Embarked</th>\n",
       "    </tr>\n",
       "  </thead>\n",
       "  <tbody>\n",
       "    <tr>\n",
       "      <th>0</th>\n",
       "      <td>1</td>\n",
       "      <td>0</td>\n",
       "      <td>3</td>\n",
       "      <td>Braund, Mr. Owen Harris</td>\n",
       "      <td>male</td>\n",
       "      <td>22.0</td>\n",
       "      <td>1</td>\n",
       "      <td>0</td>\n",
       "      <td>A/5 21171</td>\n",
       "      <td>7.2500</td>\n",
       "      <td>NaN</td>\n",
       "      <td>S</td>\n",
       "    </tr>\n",
       "    <tr>\n",
       "      <th>1</th>\n",
       "      <td>2</td>\n",
       "      <td>1</td>\n",
       "      <td>1</td>\n",
       "      <td>Cumings, Mrs. John Bradley (Florence Briggs Th...</td>\n",
       "      <td>female</td>\n",
       "      <td>38.0</td>\n",
       "      <td>1</td>\n",
       "      <td>0</td>\n",
       "      <td>PC 17599</td>\n",
       "      <td>71.2833</td>\n",
       "      <td>C85</td>\n",
       "      <td>C</td>\n",
       "    </tr>\n",
       "    <tr>\n",
       "      <th>2</th>\n",
       "      <td>3</td>\n",
       "      <td>1</td>\n",
       "      <td>3</td>\n",
       "      <td>Heikkinen, Miss. Laina</td>\n",
       "      <td>female</td>\n",
       "      <td>26.0</td>\n",
       "      <td>0</td>\n",
       "      <td>0</td>\n",
       "      <td>STON/O2. 3101282</td>\n",
       "      <td>7.9250</td>\n",
       "      <td>NaN</td>\n",
       "      <td>S</td>\n",
       "    </tr>\n",
       "    <tr>\n",
       "      <th>3</th>\n",
       "      <td>4</td>\n",
       "      <td>1</td>\n",
       "      <td>1</td>\n",
       "      <td>Futrelle, Mrs. Jacques Heath (Lily May Peel)</td>\n",
       "      <td>female</td>\n",
       "      <td>35.0</td>\n",
       "      <td>1</td>\n",
       "      <td>0</td>\n",
       "      <td>113803</td>\n",
       "      <td>53.1000</td>\n",
       "      <td>C123</td>\n",
       "      <td>S</td>\n",
       "    </tr>\n",
       "    <tr>\n",
       "      <th>4</th>\n",
       "      <td>5</td>\n",
       "      <td>0</td>\n",
       "      <td>3</td>\n",
       "      <td>Allen, Mr. William Henry</td>\n",
       "      <td>male</td>\n",
       "      <td>35.0</td>\n",
       "      <td>0</td>\n",
       "      <td>0</td>\n",
       "      <td>373450</td>\n",
       "      <td>8.0500</td>\n",
       "      <td>NaN</td>\n",
       "      <td>S</td>\n",
       "    </tr>\n",
       "    <tr>\n",
       "      <th>...</th>\n",
       "      <td>...</td>\n",
       "      <td>...</td>\n",
       "      <td>...</td>\n",
       "      <td>...</td>\n",
       "      <td>...</td>\n",
       "      <td>...</td>\n",
       "      <td>...</td>\n",
       "      <td>...</td>\n",
       "      <td>...</td>\n",
       "      <td>...</td>\n",
       "      <td>...</td>\n",
       "      <td>...</td>\n",
       "    </tr>\n",
       "    <tr>\n",
       "      <th>886</th>\n",
       "      <td>887</td>\n",
       "      <td>0</td>\n",
       "      <td>2</td>\n",
       "      <td>Montvila, Rev. Juozas</td>\n",
       "      <td>male</td>\n",
       "      <td>27.0</td>\n",
       "      <td>0</td>\n",
       "      <td>0</td>\n",
       "      <td>211536</td>\n",
       "      <td>13.0000</td>\n",
       "      <td>NaN</td>\n",
       "      <td>S</td>\n",
       "    </tr>\n",
       "    <tr>\n",
       "      <th>887</th>\n",
       "      <td>888</td>\n",
       "      <td>1</td>\n",
       "      <td>1</td>\n",
       "      <td>Graham, Miss. Margaret Edith</td>\n",
       "      <td>female</td>\n",
       "      <td>19.0</td>\n",
       "      <td>0</td>\n",
       "      <td>0</td>\n",
       "      <td>112053</td>\n",
       "      <td>30.0000</td>\n",
       "      <td>B42</td>\n",
       "      <td>S</td>\n",
       "    </tr>\n",
       "    <tr>\n",
       "      <th>888</th>\n",
       "      <td>889</td>\n",
       "      <td>0</td>\n",
       "      <td>3</td>\n",
       "      <td>Johnston, Miss. Catherine Helen \"Carrie\"</td>\n",
       "      <td>female</td>\n",
       "      <td>NaN</td>\n",
       "      <td>1</td>\n",
       "      <td>2</td>\n",
       "      <td>W./C. 6607</td>\n",
       "      <td>23.4500</td>\n",
       "      <td>NaN</td>\n",
       "      <td>S</td>\n",
       "    </tr>\n",
       "    <tr>\n",
       "      <th>889</th>\n",
       "      <td>890</td>\n",
       "      <td>1</td>\n",
       "      <td>1</td>\n",
       "      <td>Behr, Mr. Karl Howell</td>\n",
       "      <td>male</td>\n",
       "      <td>26.0</td>\n",
       "      <td>0</td>\n",
       "      <td>0</td>\n",
       "      <td>111369</td>\n",
       "      <td>30.0000</td>\n",
       "      <td>C148</td>\n",
       "      <td>C</td>\n",
       "    </tr>\n",
       "    <tr>\n",
       "      <th>890</th>\n",
       "      <td>891</td>\n",
       "      <td>0</td>\n",
       "      <td>3</td>\n",
       "      <td>Dooley, Mr. Patrick</td>\n",
       "      <td>male</td>\n",
       "      <td>32.0</td>\n",
       "      <td>0</td>\n",
       "      <td>0</td>\n",
       "      <td>370376</td>\n",
       "      <td>7.7500</td>\n",
       "      <td>NaN</td>\n",
       "      <td>Q</td>\n",
       "    </tr>\n",
       "  </tbody>\n",
       "</table>\n",
       "<p>891 rows × 12 columns</p>\n",
       "</div>"
      ],
      "text/plain": [
       "     PassengerId  Survived  Pclass  \\\n",
       "0              1         0       3   \n",
       "1              2         1       1   \n",
       "2              3         1       3   \n",
       "3              4         1       1   \n",
       "4              5         0       3   \n",
       "..           ...       ...     ...   \n",
       "886          887         0       2   \n",
       "887          888         1       1   \n",
       "888          889         0       3   \n",
       "889          890         1       1   \n",
       "890          891         0       3   \n",
       "\n",
       "                                                  Name     Sex   Age  SibSp  \\\n",
       "0                              Braund, Mr. Owen Harris    male  22.0      1   \n",
       "1    Cumings, Mrs. John Bradley (Florence Briggs Th...  female  38.0      1   \n",
       "2                               Heikkinen, Miss. Laina  female  26.0      0   \n",
       "3         Futrelle, Mrs. Jacques Heath (Lily May Peel)  female  35.0      1   \n",
       "4                             Allen, Mr. William Henry    male  35.0      0   \n",
       "..                                                 ...     ...   ...    ...   \n",
       "886                              Montvila, Rev. Juozas    male  27.0      0   \n",
       "887                       Graham, Miss. Margaret Edith  female  19.0      0   \n",
       "888           Johnston, Miss. Catherine Helen \"Carrie\"  female   NaN      1   \n",
       "889                              Behr, Mr. Karl Howell    male  26.0      0   \n",
       "890                                Dooley, Mr. Patrick    male  32.0      0   \n",
       "\n",
       "     Parch            Ticket     Fare Cabin Embarked  \n",
       "0        0         A/5 21171   7.2500   NaN        S  \n",
       "1        0          PC 17599  71.2833   C85        C  \n",
       "2        0  STON/O2. 3101282   7.9250   NaN        S  \n",
       "3        0            113803  53.1000  C123        S  \n",
       "4        0            373450   8.0500   NaN        S  \n",
       "..     ...               ...      ...   ...      ...  \n",
       "886      0            211536  13.0000   NaN        S  \n",
       "887      0            112053  30.0000   B42        S  \n",
       "888      2        W./C. 6607  23.4500   NaN        S  \n",
       "889      0            111369  30.0000  C148        C  \n",
       "890      0            370376   7.7500   NaN        Q  \n",
       "\n",
       "[891 rows x 12 columns]"
      ]
     },
     "execution_count": 7,
     "metadata": {},
     "output_type": "execute_result"
    }
   ],
   "source": [
    "import pandas as pd\n",
    "import numpy as np\n",
    "import matplotlib.pyplot as plt\n",
    "\n",
    "df = pd.read_csv('train.csv')\n",
    "df"
   ]
  },
  {
   "cell_type": "markdown",
   "metadata": {
    "id": "t7hKsRF7Okbs"
   },
   "source": [
    "## **Пропущенные значения**"
   ]
  },
  {
   "cell_type": "markdown",
   "metadata": {
    "id": "HjbDPQWkOqbA"
   },
   "source": [
    "### Поиск"
   ]
  },
  {
   "cell_type": "code",
   "execution_count": 8,
   "metadata": {
    "colab": {
     "base_uri": "https://localhost:8080/"
    },
    "id": "VF1xeoflM1fN",
    "outputId": "dc51c497-0560-4920-c0be-1ecabfee21f4"
   },
   "outputs": [
    {
     "data": {
      "text/plain": [
       "PassengerId      0\n",
       "Survived         0\n",
       "Pclass           0\n",
       "Name             0\n",
       "Sex              0\n",
       "Age            177\n",
       "SibSp            0\n",
       "Parch            0\n",
       "Ticket           0\n",
       "Fare             0\n",
       "Cabin          687\n",
       "Embarked         2\n",
       "dtype: int64"
      ]
     },
     "execution_count": 8,
     "metadata": {},
     "output_type": "execute_result"
    }
   ],
   "source": [
    "df.isna().sum()"
   ]
  },
  {
   "cell_type": "code",
   "execution_count": 9,
   "metadata": {
    "colab": {
     "base_uri": "https://localhost:8080/"
    },
    "id": "5K9mYx2AxC1H",
    "outputId": "bf012d6f-c433-4383-8658-81356154caa9"
   },
   "outputs": [
    {
     "data": {
      "text/plain": [
       "24.00    30\n",
       "22.00    27\n",
       "18.00    26\n",
       "19.00    25\n",
       "28.00    25\n",
       "         ..\n",
       "36.50     1\n",
       "55.50     1\n",
       "0.92      1\n",
       "23.50     1\n",
       "74.00     1\n",
       "Name: Age, Length: 88, dtype: int64"
      ]
     },
     "execution_count": 9,
     "metadata": {},
     "output_type": "execute_result"
    }
   ],
   "source": [
    "df['Age'].value_counts()"
   ]
  },
  {
   "cell_type": "code",
   "execution_count": 10,
   "metadata": {
    "colab": {
     "base_uri": "https://localhost:8080/"
    },
    "id": "KeOxIHUnO4rA",
    "outputId": "59bbe27a-0a5b-4aa7-c41b-c14dfbe4da66"
   },
   "outputs": [
    {
     "data": {
      "text/plain": [
       "NaN      177\n",
       "24.00     30\n",
       "22.00     27\n",
       "18.00     26\n",
       "28.00     25\n",
       "        ... \n",
       "36.50      1\n",
       "55.50      1\n",
       "0.92       1\n",
       "23.50      1\n",
       "74.00      1\n",
       "Name: Age, Length: 89, dtype: int64"
      ]
     },
     "execution_count": 10,
     "metadata": {},
     "output_type": "execute_result"
    }
   ],
   "source": [
    "df['Age'].value_counts(dropna=False)"
   ]
  },
  {
   "cell_type": "markdown",
   "metadata": {
    "id": "eCLteKtBQ4hw"
   },
   "source": [
    "### Просмотр пропусков"
   ]
  },
  {
   "cell_type": "code",
   "execution_count": 11,
   "metadata": {
    "colab": {
     "base_uri": "https://localhost:8080/",
     "height": 424
    },
    "id": "IZqm2s-PPvzp",
    "outputId": "e77def04-34a9-46ad-93b7-e1a5b3894d04"
   },
   "outputs": [
    {
     "data": {
      "text/html": [
       "<div>\n",
       "<style scoped>\n",
       "    .dataframe tbody tr th:only-of-type {\n",
       "        vertical-align: middle;\n",
       "    }\n",
       "\n",
       "    .dataframe tbody tr th {\n",
       "        vertical-align: top;\n",
       "    }\n",
       "\n",
       "    .dataframe thead th {\n",
       "        text-align: right;\n",
       "    }\n",
       "</style>\n",
       "<table border=\"1\" class=\"dataframe\">\n",
       "  <thead>\n",
       "    <tr style=\"text-align: right;\">\n",
       "      <th></th>\n",
       "      <th>PassengerId</th>\n",
       "      <th>Survived</th>\n",
       "      <th>Pclass</th>\n",
       "      <th>Name</th>\n",
       "      <th>Sex</th>\n",
       "      <th>Age</th>\n",
       "      <th>SibSp</th>\n",
       "      <th>Parch</th>\n",
       "      <th>Ticket</th>\n",
       "      <th>Fare</th>\n",
       "      <th>Cabin</th>\n",
       "      <th>Embarked</th>\n",
       "    </tr>\n",
       "  </thead>\n",
       "  <tbody>\n",
       "    <tr>\n",
       "      <th>5</th>\n",
       "      <td>6</td>\n",
       "      <td>0</td>\n",
       "      <td>3</td>\n",
       "      <td>Moran, Mr. James</td>\n",
       "      <td>male</td>\n",
       "      <td>NaN</td>\n",
       "      <td>0</td>\n",
       "      <td>0</td>\n",
       "      <td>330877</td>\n",
       "      <td>8.4583</td>\n",
       "      <td>NaN</td>\n",
       "      <td>Q</td>\n",
       "    </tr>\n",
       "    <tr>\n",
       "      <th>17</th>\n",
       "      <td>18</td>\n",
       "      <td>1</td>\n",
       "      <td>2</td>\n",
       "      <td>Williams, Mr. Charles Eugene</td>\n",
       "      <td>male</td>\n",
       "      <td>NaN</td>\n",
       "      <td>0</td>\n",
       "      <td>0</td>\n",
       "      <td>244373</td>\n",
       "      <td>13.0000</td>\n",
       "      <td>NaN</td>\n",
       "      <td>S</td>\n",
       "    </tr>\n",
       "    <tr>\n",
       "      <th>19</th>\n",
       "      <td>20</td>\n",
       "      <td>1</td>\n",
       "      <td>3</td>\n",
       "      <td>Masselmani, Mrs. Fatima</td>\n",
       "      <td>female</td>\n",
       "      <td>NaN</td>\n",
       "      <td>0</td>\n",
       "      <td>0</td>\n",
       "      <td>2649</td>\n",
       "      <td>7.2250</td>\n",
       "      <td>NaN</td>\n",
       "      <td>C</td>\n",
       "    </tr>\n",
       "    <tr>\n",
       "      <th>26</th>\n",
       "      <td>27</td>\n",
       "      <td>0</td>\n",
       "      <td>3</td>\n",
       "      <td>Emir, Mr. Farred Chehab</td>\n",
       "      <td>male</td>\n",
       "      <td>NaN</td>\n",
       "      <td>0</td>\n",
       "      <td>0</td>\n",
       "      <td>2631</td>\n",
       "      <td>7.2250</td>\n",
       "      <td>NaN</td>\n",
       "      <td>C</td>\n",
       "    </tr>\n",
       "    <tr>\n",
       "      <th>28</th>\n",
       "      <td>29</td>\n",
       "      <td>1</td>\n",
       "      <td>3</td>\n",
       "      <td>O'Dwyer, Miss. Ellen \"Nellie\"</td>\n",
       "      <td>female</td>\n",
       "      <td>NaN</td>\n",
       "      <td>0</td>\n",
       "      <td>0</td>\n",
       "      <td>330959</td>\n",
       "      <td>7.8792</td>\n",
       "      <td>NaN</td>\n",
       "      <td>Q</td>\n",
       "    </tr>\n",
       "    <tr>\n",
       "      <th>...</th>\n",
       "      <td>...</td>\n",
       "      <td>...</td>\n",
       "      <td>...</td>\n",
       "      <td>...</td>\n",
       "      <td>...</td>\n",
       "      <td>...</td>\n",
       "      <td>...</td>\n",
       "      <td>...</td>\n",
       "      <td>...</td>\n",
       "      <td>...</td>\n",
       "      <td>...</td>\n",
       "      <td>...</td>\n",
       "    </tr>\n",
       "    <tr>\n",
       "      <th>859</th>\n",
       "      <td>860</td>\n",
       "      <td>0</td>\n",
       "      <td>3</td>\n",
       "      <td>Razi, Mr. Raihed</td>\n",
       "      <td>male</td>\n",
       "      <td>NaN</td>\n",
       "      <td>0</td>\n",
       "      <td>0</td>\n",
       "      <td>2629</td>\n",
       "      <td>7.2292</td>\n",
       "      <td>NaN</td>\n",
       "      <td>C</td>\n",
       "    </tr>\n",
       "    <tr>\n",
       "      <th>863</th>\n",
       "      <td>864</td>\n",
       "      <td>0</td>\n",
       "      <td>3</td>\n",
       "      <td>Sage, Miss. Dorothy Edith \"Dolly\"</td>\n",
       "      <td>female</td>\n",
       "      <td>NaN</td>\n",
       "      <td>8</td>\n",
       "      <td>2</td>\n",
       "      <td>CA. 2343</td>\n",
       "      <td>69.5500</td>\n",
       "      <td>NaN</td>\n",
       "      <td>S</td>\n",
       "    </tr>\n",
       "    <tr>\n",
       "      <th>868</th>\n",
       "      <td>869</td>\n",
       "      <td>0</td>\n",
       "      <td>3</td>\n",
       "      <td>van Melkebeke, Mr. Philemon</td>\n",
       "      <td>male</td>\n",
       "      <td>NaN</td>\n",
       "      <td>0</td>\n",
       "      <td>0</td>\n",
       "      <td>345777</td>\n",
       "      <td>9.5000</td>\n",
       "      <td>NaN</td>\n",
       "      <td>S</td>\n",
       "    </tr>\n",
       "    <tr>\n",
       "      <th>878</th>\n",
       "      <td>879</td>\n",
       "      <td>0</td>\n",
       "      <td>3</td>\n",
       "      <td>Laleff, Mr. Kristo</td>\n",
       "      <td>male</td>\n",
       "      <td>NaN</td>\n",
       "      <td>0</td>\n",
       "      <td>0</td>\n",
       "      <td>349217</td>\n",
       "      <td>7.8958</td>\n",
       "      <td>NaN</td>\n",
       "      <td>S</td>\n",
       "    </tr>\n",
       "    <tr>\n",
       "      <th>888</th>\n",
       "      <td>889</td>\n",
       "      <td>0</td>\n",
       "      <td>3</td>\n",
       "      <td>Johnston, Miss. Catherine Helen \"Carrie\"</td>\n",
       "      <td>female</td>\n",
       "      <td>NaN</td>\n",
       "      <td>1</td>\n",
       "      <td>2</td>\n",
       "      <td>W./C. 6607</td>\n",
       "      <td>23.4500</td>\n",
       "      <td>NaN</td>\n",
       "      <td>S</td>\n",
       "    </tr>\n",
       "  </tbody>\n",
       "</table>\n",
       "<p>177 rows × 12 columns</p>\n",
       "</div>"
      ],
      "text/plain": [
       "     PassengerId  Survived  Pclass                                      Name  \\\n",
       "5              6         0       3                          Moran, Mr. James   \n",
       "17            18         1       2              Williams, Mr. Charles Eugene   \n",
       "19            20         1       3                   Masselmani, Mrs. Fatima   \n",
       "26            27         0       3                   Emir, Mr. Farred Chehab   \n",
       "28            29         1       3             O'Dwyer, Miss. Ellen \"Nellie\"   \n",
       "..           ...       ...     ...                                       ...   \n",
       "859          860         0       3                          Razi, Mr. Raihed   \n",
       "863          864         0       3         Sage, Miss. Dorothy Edith \"Dolly\"   \n",
       "868          869         0       3               van Melkebeke, Mr. Philemon   \n",
       "878          879         0       3                        Laleff, Mr. Kristo   \n",
       "888          889         0       3  Johnston, Miss. Catherine Helen \"Carrie\"   \n",
       "\n",
       "        Sex  Age  SibSp  Parch      Ticket     Fare Cabin Embarked  \n",
       "5      male  NaN      0      0      330877   8.4583   NaN        Q  \n",
       "17     male  NaN      0      0      244373  13.0000   NaN        S  \n",
       "19   female  NaN      0      0        2649   7.2250   NaN        C  \n",
       "26     male  NaN      0      0        2631   7.2250   NaN        C  \n",
       "28   female  NaN      0      0      330959   7.8792   NaN        Q  \n",
       "..      ...  ...    ...    ...         ...      ...   ...      ...  \n",
       "859    male  NaN      0      0        2629   7.2292   NaN        C  \n",
       "863  female  NaN      8      2    CA. 2343  69.5500   NaN        S  \n",
       "868    male  NaN      0      0      345777   9.5000   NaN        S  \n",
       "878    male  NaN      0      0      349217   7.8958   NaN        S  \n",
       "888  female  NaN      1      2  W./C. 6607  23.4500   NaN        S  \n",
       "\n",
       "[177 rows x 12 columns]"
      ]
     },
     "execution_count": 11,
     "metadata": {},
     "output_type": "execute_result"
    }
   ],
   "source": [
    "df[df['Age'].isna()]"
   ]
  },
  {
   "cell_type": "markdown",
   "metadata": {
    "id": "7Q3v5AvhRS4e"
   },
   "source": [
    "Если нужно все кроме пропусков, то тогда так:"
   ]
  },
  {
   "cell_type": "code",
   "execution_count": 12,
   "metadata": {
    "colab": {
     "base_uri": "https://localhost:8080/",
     "height": 424
    },
    "id": "ndjI6RK2RRlF",
    "outputId": "8fb725bd-b4a1-485f-a3c8-fd3d0b35716f"
   },
   "outputs": [
    {
     "data": {
      "text/html": [
       "<div>\n",
       "<style scoped>\n",
       "    .dataframe tbody tr th:only-of-type {\n",
       "        vertical-align: middle;\n",
       "    }\n",
       "\n",
       "    .dataframe tbody tr th {\n",
       "        vertical-align: top;\n",
       "    }\n",
       "\n",
       "    .dataframe thead th {\n",
       "        text-align: right;\n",
       "    }\n",
       "</style>\n",
       "<table border=\"1\" class=\"dataframe\">\n",
       "  <thead>\n",
       "    <tr style=\"text-align: right;\">\n",
       "      <th></th>\n",
       "      <th>PassengerId</th>\n",
       "      <th>Survived</th>\n",
       "      <th>Pclass</th>\n",
       "      <th>Name</th>\n",
       "      <th>Sex</th>\n",
       "      <th>Age</th>\n",
       "      <th>SibSp</th>\n",
       "      <th>Parch</th>\n",
       "      <th>Ticket</th>\n",
       "      <th>Fare</th>\n",
       "      <th>Cabin</th>\n",
       "      <th>Embarked</th>\n",
       "    </tr>\n",
       "  </thead>\n",
       "  <tbody>\n",
       "    <tr>\n",
       "      <th>0</th>\n",
       "      <td>1</td>\n",
       "      <td>0</td>\n",
       "      <td>3</td>\n",
       "      <td>Braund, Mr. Owen Harris</td>\n",
       "      <td>male</td>\n",
       "      <td>22.0</td>\n",
       "      <td>1</td>\n",
       "      <td>0</td>\n",
       "      <td>A/5 21171</td>\n",
       "      <td>7.2500</td>\n",
       "      <td>NaN</td>\n",
       "      <td>S</td>\n",
       "    </tr>\n",
       "    <tr>\n",
       "      <th>1</th>\n",
       "      <td>2</td>\n",
       "      <td>1</td>\n",
       "      <td>1</td>\n",
       "      <td>Cumings, Mrs. John Bradley (Florence Briggs Th...</td>\n",
       "      <td>female</td>\n",
       "      <td>38.0</td>\n",
       "      <td>1</td>\n",
       "      <td>0</td>\n",
       "      <td>PC 17599</td>\n",
       "      <td>71.2833</td>\n",
       "      <td>C85</td>\n",
       "      <td>C</td>\n",
       "    </tr>\n",
       "    <tr>\n",
       "      <th>2</th>\n",
       "      <td>3</td>\n",
       "      <td>1</td>\n",
       "      <td>3</td>\n",
       "      <td>Heikkinen, Miss. Laina</td>\n",
       "      <td>female</td>\n",
       "      <td>26.0</td>\n",
       "      <td>0</td>\n",
       "      <td>0</td>\n",
       "      <td>STON/O2. 3101282</td>\n",
       "      <td>7.9250</td>\n",
       "      <td>NaN</td>\n",
       "      <td>S</td>\n",
       "    </tr>\n",
       "    <tr>\n",
       "      <th>3</th>\n",
       "      <td>4</td>\n",
       "      <td>1</td>\n",
       "      <td>1</td>\n",
       "      <td>Futrelle, Mrs. Jacques Heath (Lily May Peel)</td>\n",
       "      <td>female</td>\n",
       "      <td>35.0</td>\n",
       "      <td>1</td>\n",
       "      <td>0</td>\n",
       "      <td>113803</td>\n",
       "      <td>53.1000</td>\n",
       "      <td>C123</td>\n",
       "      <td>S</td>\n",
       "    </tr>\n",
       "    <tr>\n",
       "      <th>4</th>\n",
       "      <td>5</td>\n",
       "      <td>0</td>\n",
       "      <td>3</td>\n",
       "      <td>Allen, Mr. William Henry</td>\n",
       "      <td>male</td>\n",
       "      <td>35.0</td>\n",
       "      <td>0</td>\n",
       "      <td>0</td>\n",
       "      <td>373450</td>\n",
       "      <td>8.0500</td>\n",
       "      <td>NaN</td>\n",
       "      <td>S</td>\n",
       "    </tr>\n",
       "    <tr>\n",
       "      <th>...</th>\n",
       "      <td>...</td>\n",
       "      <td>...</td>\n",
       "      <td>...</td>\n",
       "      <td>...</td>\n",
       "      <td>...</td>\n",
       "      <td>...</td>\n",
       "      <td>...</td>\n",
       "      <td>...</td>\n",
       "      <td>...</td>\n",
       "      <td>...</td>\n",
       "      <td>...</td>\n",
       "      <td>...</td>\n",
       "    </tr>\n",
       "    <tr>\n",
       "      <th>885</th>\n",
       "      <td>886</td>\n",
       "      <td>0</td>\n",
       "      <td>3</td>\n",
       "      <td>Rice, Mrs. William (Margaret Norton)</td>\n",
       "      <td>female</td>\n",
       "      <td>39.0</td>\n",
       "      <td>0</td>\n",
       "      <td>5</td>\n",
       "      <td>382652</td>\n",
       "      <td>29.1250</td>\n",
       "      <td>NaN</td>\n",
       "      <td>Q</td>\n",
       "    </tr>\n",
       "    <tr>\n",
       "      <th>886</th>\n",
       "      <td>887</td>\n",
       "      <td>0</td>\n",
       "      <td>2</td>\n",
       "      <td>Montvila, Rev. Juozas</td>\n",
       "      <td>male</td>\n",
       "      <td>27.0</td>\n",
       "      <td>0</td>\n",
       "      <td>0</td>\n",
       "      <td>211536</td>\n",
       "      <td>13.0000</td>\n",
       "      <td>NaN</td>\n",
       "      <td>S</td>\n",
       "    </tr>\n",
       "    <tr>\n",
       "      <th>887</th>\n",
       "      <td>888</td>\n",
       "      <td>1</td>\n",
       "      <td>1</td>\n",
       "      <td>Graham, Miss. Margaret Edith</td>\n",
       "      <td>female</td>\n",
       "      <td>19.0</td>\n",
       "      <td>0</td>\n",
       "      <td>0</td>\n",
       "      <td>112053</td>\n",
       "      <td>30.0000</td>\n",
       "      <td>B42</td>\n",
       "      <td>S</td>\n",
       "    </tr>\n",
       "    <tr>\n",
       "      <th>889</th>\n",
       "      <td>890</td>\n",
       "      <td>1</td>\n",
       "      <td>1</td>\n",
       "      <td>Behr, Mr. Karl Howell</td>\n",
       "      <td>male</td>\n",
       "      <td>26.0</td>\n",
       "      <td>0</td>\n",
       "      <td>0</td>\n",
       "      <td>111369</td>\n",
       "      <td>30.0000</td>\n",
       "      <td>C148</td>\n",
       "      <td>C</td>\n",
       "    </tr>\n",
       "    <tr>\n",
       "      <th>890</th>\n",
       "      <td>891</td>\n",
       "      <td>0</td>\n",
       "      <td>3</td>\n",
       "      <td>Dooley, Mr. Patrick</td>\n",
       "      <td>male</td>\n",
       "      <td>32.0</td>\n",
       "      <td>0</td>\n",
       "      <td>0</td>\n",
       "      <td>370376</td>\n",
       "      <td>7.7500</td>\n",
       "      <td>NaN</td>\n",
       "      <td>Q</td>\n",
       "    </tr>\n",
       "  </tbody>\n",
       "</table>\n",
       "<p>714 rows × 12 columns</p>\n",
       "</div>"
      ],
      "text/plain": [
       "     PassengerId  Survived  Pclass  \\\n",
       "0              1         0       3   \n",
       "1              2         1       1   \n",
       "2              3         1       3   \n",
       "3              4         1       1   \n",
       "4              5         0       3   \n",
       "..           ...       ...     ...   \n",
       "885          886         0       3   \n",
       "886          887         0       2   \n",
       "887          888         1       1   \n",
       "889          890         1       1   \n",
       "890          891         0       3   \n",
       "\n",
       "                                                  Name     Sex   Age  SibSp  \\\n",
       "0                              Braund, Mr. Owen Harris    male  22.0      1   \n",
       "1    Cumings, Mrs. John Bradley (Florence Briggs Th...  female  38.0      1   \n",
       "2                               Heikkinen, Miss. Laina  female  26.0      0   \n",
       "3         Futrelle, Mrs. Jacques Heath (Lily May Peel)  female  35.0      1   \n",
       "4                             Allen, Mr. William Henry    male  35.0      0   \n",
       "..                                                 ...     ...   ...    ...   \n",
       "885               Rice, Mrs. William (Margaret Norton)  female  39.0      0   \n",
       "886                              Montvila, Rev. Juozas    male  27.0      0   \n",
       "887                       Graham, Miss. Margaret Edith  female  19.0      0   \n",
       "889                              Behr, Mr. Karl Howell    male  26.0      0   \n",
       "890                                Dooley, Mr. Patrick    male  32.0      0   \n",
       "\n",
       "     Parch            Ticket     Fare Cabin Embarked  \n",
       "0        0         A/5 21171   7.2500   NaN        S  \n",
       "1        0          PC 17599  71.2833   C85        C  \n",
       "2        0  STON/O2. 3101282   7.9250   NaN        S  \n",
       "3        0            113803  53.1000  C123        S  \n",
       "4        0            373450   8.0500   NaN        S  \n",
       "..     ...               ...      ...   ...      ...  \n",
       "885      5            382652  29.1250   NaN        Q  \n",
       "886      0            211536  13.0000   NaN        S  \n",
       "887      0            112053  30.0000   B42        S  \n",
       "889      0            111369  30.0000  C148        C  \n",
       "890      0            370376   7.7500   NaN        Q  \n",
       "\n",
       "[714 rows x 12 columns]"
      ]
     },
     "execution_count": 12,
     "metadata": {},
     "output_type": "execute_result"
    }
   ],
   "source": [
    "df[df['Age'].isna()==False]"
   ]
  },
  {
   "cell_type": "markdown",
   "metadata": {
    "id": "CzRmJxf0R9wd"
   },
   "source": [
    "### Работа с пропусками"
   ]
  },
  {
   "cell_type": "markdown",
   "metadata": {
    "id": "Q9PfdsJ4Sj1O"
   },
   "source": [
    "-  Если в колонке пропусков больше, чем 40%:\n",
    " -   **колонку удаляем**\n",
    "\n",
    "-  Если в колонке пропущено меньше, чем 40% данных:\n",
    " - **удаляем** все **строчки**, в которых есть пропуски (когда данных много)\n",
    " - **заменяем** все **строчки**, в которых есть пропуски (когда данных не очень много)"
   ]
  },
  {
   "cell_type": "code",
   "execution_count": 13,
   "metadata": {
    "colab": {
     "base_uri": "https://localhost:8080/"
    },
    "id": "VgTh2ZbBWJ6e",
    "outputId": "935e3a68-4afc-4814-90dc-7867e85f5423"
   },
   "outputs": [
    {
     "data": {
      "text/plain": [
       "NaN      0.198653\n",
       "24.00    0.033670\n",
       "22.00    0.030303\n",
       "18.00    0.029181\n",
       "28.00    0.028058\n",
       "           ...   \n",
       "36.50    0.001122\n",
       "55.50    0.001122\n",
       "0.92     0.001122\n",
       "23.50    0.001122\n",
       "74.00    0.001122\n",
       "Name: Age, Length: 89, dtype: float64"
      ]
     },
     "execution_count": 13,
     "metadata": {},
     "output_type": "execute_result"
    }
   ],
   "source": [
    "df['Age'].value_counts(dropna=False, normalize = True)"
   ]
  },
  {
   "cell_type": "code",
   "execution_count": 14,
   "metadata": {
    "colab": {
     "base_uri": "https://localhost:8080/"
    },
    "id": "nL5K_OnAX03D",
    "outputId": "2b9b443d-cdcf-4c26-81e5-7e9e0895cc23"
   },
   "outputs": [
    {
     "data": {
      "text/plain": [
       "NaN            0.771044\n",
       "C23 C25 C27    0.004489\n",
       "G6             0.004489\n",
       "B96 B98        0.004489\n",
       "C22 C26        0.003367\n",
       "                 ...   \n",
       "E34            0.001122\n",
       "C7             0.001122\n",
       "C54            0.001122\n",
       "E36            0.001122\n",
       "C148           0.001122\n",
       "Name: Cabin, Length: 148, dtype: float64"
      ]
     },
     "execution_count": 14,
     "metadata": {},
     "output_type": "execute_result"
    }
   ],
   "source": [
    "df['Cabin'].value_counts(dropna=False, normalize = True)"
   ]
  },
  {
   "cell_type": "markdown",
   "metadata": {
    "id": "6MC2YgHdUhql"
   },
   "source": [
    "#### Пропусков больше, чем 40%"
   ]
  },
  {
   "cell_type": "markdown",
   "metadata": {
    "id": "WoYX7XA_T1GQ"
   },
   "source": [
    "Удаление колонки:"
   ]
  },
  {
   "cell_type": "markdown",
   "metadata": {
    "id": "1PS5k0W0UEL5"
   },
   "source": [
    "\n",
    "\n",
    "``` python\n",
    "датафрейм.drop('название колонки', axis=1) #просто покажет датасет без этой колонки (можно сохранить в новую переменную)\n",
    "```\n",
    "\n",
    "``` python\n",
    "датафрейм.drop('название колонки', axis=1, inplace=True) #правда удалит колонку из изначального датафрейма\n",
    "```"
   ]
  },
  {
   "cell_type": "code",
   "execution_count": 15,
   "metadata": {
    "colab": {
     "base_uri": "https://localhost:8080/",
     "height": 424
    },
    "id": "QwrZNtkvSBER",
    "outputId": "404f0a41-96bd-44d1-fb22-c56434ccf50e"
   },
   "outputs": [
    {
     "data": {
      "text/html": [
       "<div>\n",
       "<style scoped>\n",
       "    .dataframe tbody tr th:only-of-type {\n",
       "        vertical-align: middle;\n",
       "    }\n",
       "\n",
       "    .dataframe tbody tr th {\n",
       "        vertical-align: top;\n",
       "    }\n",
       "\n",
       "    .dataframe thead th {\n",
       "        text-align: right;\n",
       "    }\n",
       "</style>\n",
       "<table border=\"1\" class=\"dataframe\">\n",
       "  <thead>\n",
       "    <tr style=\"text-align: right;\">\n",
       "      <th></th>\n",
       "      <th>PassengerId</th>\n",
       "      <th>Survived</th>\n",
       "      <th>Pclass</th>\n",
       "      <th>Name</th>\n",
       "      <th>Sex</th>\n",
       "      <th>Age</th>\n",
       "      <th>SibSp</th>\n",
       "      <th>Parch</th>\n",
       "      <th>Ticket</th>\n",
       "      <th>Fare</th>\n",
       "      <th>Embarked</th>\n",
       "    </tr>\n",
       "  </thead>\n",
       "  <tbody>\n",
       "    <tr>\n",
       "      <th>0</th>\n",
       "      <td>1</td>\n",
       "      <td>0</td>\n",
       "      <td>3</td>\n",
       "      <td>Braund, Mr. Owen Harris</td>\n",
       "      <td>male</td>\n",
       "      <td>22.0</td>\n",
       "      <td>1</td>\n",
       "      <td>0</td>\n",
       "      <td>A/5 21171</td>\n",
       "      <td>7.2500</td>\n",
       "      <td>S</td>\n",
       "    </tr>\n",
       "    <tr>\n",
       "      <th>1</th>\n",
       "      <td>2</td>\n",
       "      <td>1</td>\n",
       "      <td>1</td>\n",
       "      <td>Cumings, Mrs. John Bradley (Florence Briggs Th...</td>\n",
       "      <td>female</td>\n",
       "      <td>38.0</td>\n",
       "      <td>1</td>\n",
       "      <td>0</td>\n",
       "      <td>PC 17599</td>\n",
       "      <td>71.2833</td>\n",
       "      <td>C</td>\n",
       "    </tr>\n",
       "    <tr>\n",
       "      <th>2</th>\n",
       "      <td>3</td>\n",
       "      <td>1</td>\n",
       "      <td>3</td>\n",
       "      <td>Heikkinen, Miss. Laina</td>\n",
       "      <td>female</td>\n",
       "      <td>26.0</td>\n",
       "      <td>0</td>\n",
       "      <td>0</td>\n",
       "      <td>STON/O2. 3101282</td>\n",
       "      <td>7.9250</td>\n",
       "      <td>S</td>\n",
       "    </tr>\n",
       "    <tr>\n",
       "      <th>3</th>\n",
       "      <td>4</td>\n",
       "      <td>1</td>\n",
       "      <td>1</td>\n",
       "      <td>Futrelle, Mrs. Jacques Heath (Lily May Peel)</td>\n",
       "      <td>female</td>\n",
       "      <td>35.0</td>\n",
       "      <td>1</td>\n",
       "      <td>0</td>\n",
       "      <td>113803</td>\n",
       "      <td>53.1000</td>\n",
       "      <td>S</td>\n",
       "    </tr>\n",
       "    <tr>\n",
       "      <th>4</th>\n",
       "      <td>5</td>\n",
       "      <td>0</td>\n",
       "      <td>3</td>\n",
       "      <td>Allen, Mr. William Henry</td>\n",
       "      <td>male</td>\n",
       "      <td>35.0</td>\n",
       "      <td>0</td>\n",
       "      <td>0</td>\n",
       "      <td>373450</td>\n",
       "      <td>8.0500</td>\n",
       "      <td>S</td>\n",
       "    </tr>\n",
       "    <tr>\n",
       "      <th>...</th>\n",
       "      <td>...</td>\n",
       "      <td>...</td>\n",
       "      <td>...</td>\n",
       "      <td>...</td>\n",
       "      <td>...</td>\n",
       "      <td>...</td>\n",
       "      <td>...</td>\n",
       "      <td>...</td>\n",
       "      <td>...</td>\n",
       "      <td>...</td>\n",
       "      <td>...</td>\n",
       "    </tr>\n",
       "    <tr>\n",
       "      <th>886</th>\n",
       "      <td>887</td>\n",
       "      <td>0</td>\n",
       "      <td>2</td>\n",
       "      <td>Montvila, Rev. Juozas</td>\n",
       "      <td>male</td>\n",
       "      <td>27.0</td>\n",
       "      <td>0</td>\n",
       "      <td>0</td>\n",
       "      <td>211536</td>\n",
       "      <td>13.0000</td>\n",
       "      <td>S</td>\n",
       "    </tr>\n",
       "    <tr>\n",
       "      <th>887</th>\n",
       "      <td>888</td>\n",
       "      <td>1</td>\n",
       "      <td>1</td>\n",
       "      <td>Graham, Miss. Margaret Edith</td>\n",
       "      <td>female</td>\n",
       "      <td>19.0</td>\n",
       "      <td>0</td>\n",
       "      <td>0</td>\n",
       "      <td>112053</td>\n",
       "      <td>30.0000</td>\n",
       "      <td>S</td>\n",
       "    </tr>\n",
       "    <tr>\n",
       "      <th>888</th>\n",
       "      <td>889</td>\n",
       "      <td>0</td>\n",
       "      <td>3</td>\n",
       "      <td>Johnston, Miss. Catherine Helen \"Carrie\"</td>\n",
       "      <td>female</td>\n",
       "      <td>NaN</td>\n",
       "      <td>1</td>\n",
       "      <td>2</td>\n",
       "      <td>W./C. 6607</td>\n",
       "      <td>23.4500</td>\n",
       "      <td>S</td>\n",
       "    </tr>\n",
       "    <tr>\n",
       "      <th>889</th>\n",
       "      <td>890</td>\n",
       "      <td>1</td>\n",
       "      <td>1</td>\n",
       "      <td>Behr, Mr. Karl Howell</td>\n",
       "      <td>male</td>\n",
       "      <td>26.0</td>\n",
       "      <td>0</td>\n",
       "      <td>0</td>\n",
       "      <td>111369</td>\n",
       "      <td>30.0000</td>\n",
       "      <td>C</td>\n",
       "    </tr>\n",
       "    <tr>\n",
       "      <th>890</th>\n",
       "      <td>891</td>\n",
       "      <td>0</td>\n",
       "      <td>3</td>\n",
       "      <td>Dooley, Mr. Patrick</td>\n",
       "      <td>male</td>\n",
       "      <td>32.0</td>\n",
       "      <td>0</td>\n",
       "      <td>0</td>\n",
       "      <td>370376</td>\n",
       "      <td>7.7500</td>\n",
       "      <td>Q</td>\n",
       "    </tr>\n",
       "  </tbody>\n",
       "</table>\n",
       "<p>891 rows × 11 columns</p>\n",
       "</div>"
      ],
      "text/plain": [
       "     PassengerId  Survived  Pclass  \\\n",
       "0              1         0       3   \n",
       "1              2         1       1   \n",
       "2              3         1       3   \n",
       "3              4         1       1   \n",
       "4              5         0       3   \n",
       "..           ...       ...     ...   \n",
       "886          887         0       2   \n",
       "887          888         1       1   \n",
       "888          889         0       3   \n",
       "889          890         1       1   \n",
       "890          891         0       3   \n",
       "\n",
       "                                                  Name     Sex   Age  SibSp  \\\n",
       "0                              Braund, Mr. Owen Harris    male  22.0      1   \n",
       "1    Cumings, Mrs. John Bradley (Florence Briggs Th...  female  38.0      1   \n",
       "2                               Heikkinen, Miss. Laina  female  26.0      0   \n",
       "3         Futrelle, Mrs. Jacques Heath (Lily May Peel)  female  35.0      1   \n",
       "4                             Allen, Mr. William Henry    male  35.0      0   \n",
       "..                                                 ...     ...   ...    ...   \n",
       "886                              Montvila, Rev. Juozas    male  27.0      0   \n",
       "887                       Graham, Miss. Margaret Edith  female  19.0      0   \n",
       "888           Johnston, Miss. Catherine Helen \"Carrie\"  female   NaN      1   \n",
       "889                              Behr, Mr. Karl Howell    male  26.0      0   \n",
       "890                                Dooley, Mr. Patrick    male  32.0      0   \n",
       "\n",
       "     Parch            Ticket     Fare Embarked  \n",
       "0        0         A/5 21171   7.2500        S  \n",
       "1        0          PC 17599  71.2833        C  \n",
       "2        0  STON/O2. 3101282   7.9250        S  \n",
       "3        0            113803  53.1000        S  \n",
       "4        0            373450   8.0500        S  \n",
       "..     ...               ...      ...      ...  \n",
       "886      0            211536  13.0000        S  \n",
       "887      0            112053  30.0000        S  \n",
       "888      2        W./C. 6607  23.4500        S  \n",
       "889      0            111369  30.0000        C  \n",
       "890      0            370376   7.7500        Q  \n",
       "\n",
       "[891 rows x 11 columns]"
      ]
     },
     "execution_count": 15,
     "metadata": {},
     "output_type": "execute_result"
    }
   ],
   "source": [
    "df.drop('Cabin', axis=1)"
   ]
  },
  {
   "cell_type": "code",
   "execution_count": 16,
   "metadata": {
    "colab": {
     "base_uri": "https://localhost:8080/",
     "height": 424
    },
    "id": "ojtxRbdlT5d2",
    "outputId": "c8232afb-9143-4e83-89f9-d140d1e982ad"
   },
   "outputs": [
    {
     "data": {
      "text/html": [
       "<div>\n",
       "<style scoped>\n",
       "    .dataframe tbody tr th:only-of-type {\n",
       "        vertical-align: middle;\n",
       "    }\n",
       "\n",
       "    .dataframe tbody tr th {\n",
       "        vertical-align: top;\n",
       "    }\n",
       "\n",
       "    .dataframe thead th {\n",
       "        text-align: right;\n",
       "    }\n",
       "</style>\n",
       "<table border=\"1\" class=\"dataframe\">\n",
       "  <thead>\n",
       "    <tr style=\"text-align: right;\">\n",
       "      <th></th>\n",
       "      <th>PassengerId</th>\n",
       "      <th>Survived</th>\n",
       "      <th>Pclass</th>\n",
       "      <th>Name</th>\n",
       "      <th>Sex</th>\n",
       "      <th>Age</th>\n",
       "      <th>SibSp</th>\n",
       "      <th>Parch</th>\n",
       "      <th>Ticket</th>\n",
       "      <th>Fare</th>\n",
       "      <th>Cabin</th>\n",
       "      <th>Embarked</th>\n",
       "    </tr>\n",
       "  </thead>\n",
       "  <tbody>\n",
       "    <tr>\n",
       "      <th>0</th>\n",
       "      <td>1</td>\n",
       "      <td>0</td>\n",
       "      <td>3</td>\n",
       "      <td>Braund, Mr. Owen Harris</td>\n",
       "      <td>male</td>\n",
       "      <td>22.0</td>\n",
       "      <td>1</td>\n",
       "      <td>0</td>\n",
       "      <td>A/5 21171</td>\n",
       "      <td>7.2500</td>\n",
       "      <td>NaN</td>\n",
       "      <td>S</td>\n",
       "    </tr>\n",
       "    <tr>\n",
       "      <th>1</th>\n",
       "      <td>2</td>\n",
       "      <td>1</td>\n",
       "      <td>1</td>\n",
       "      <td>Cumings, Mrs. John Bradley (Florence Briggs Th...</td>\n",
       "      <td>female</td>\n",
       "      <td>38.0</td>\n",
       "      <td>1</td>\n",
       "      <td>0</td>\n",
       "      <td>PC 17599</td>\n",
       "      <td>71.2833</td>\n",
       "      <td>C85</td>\n",
       "      <td>C</td>\n",
       "    </tr>\n",
       "    <tr>\n",
       "      <th>3</th>\n",
       "      <td>4</td>\n",
       "      <td>1</td>\n",
       "      <td>1</td>\n",
       "      <td>Futrelle, Mrs. Jacques Heath (Lily May Peel)</td>\n",
       "      <td>female</td>\n",
       "      <td>35.0</td>\n",
       "      <td>1</td>\n",
       "      <td>0</td>\n",
       "      <td>113803</td>\n",
       "      <td>53.1000</td>\n",
       "      <td>C123</td>\n",
       "      <td>S</td>\n",
       "    </tr>\n",
       "    <tr>\n",
       "      <th>4</th>\n",
       "      <td>5</td>\n",
       "      <td>0</td>\n",
       "      <td>3</td>\n",
       "      <td>Allen, Mr. William Henry</td>\n",
       "      <td>male</td>\n",
       "      <td>35.0</td>\n",
       "      <td>0</td>\n",
       "      <td>0</td>\n",
       "      <td>373450</td>\n",
       "      <td>8.0500</td>\n",
       "      <td>NaN</td>\n",
       "      <td>S</td>\n",
       "    </tr>\n",
       "    <tr>\n",
       "      <th>5</th>\n",
       "      <td>6</td>\n",
       "      <td>0</td>\n",
       "      <td>3</td>\n",
       "      <td>Moran, Mr. James</td>\n",
       "      <td>male</td>\n",
       "      <td>NaN</td>\n",
       "      <td>0</td>\n",
       "      <td>0</td>\n",
       "      <td>330877</td>\n",
       "      <td>8.4583</td>\n",
       "      <td>NaN</td>\n",
       "      <td>Q</td>\n",
       "    </tr>\n",
       "    <tr>\n",
       "      <th>...</th>\n",
       "      <td>...</td>\n",
       "      <td>...</td>\n",
       "      <td>...</td>\n",
       "      <td>...</td>\n",
       "      <td>...</td>\n",
       "      <td>...</td>\n",
       "      <td>...</td>\n",
       "      <td>...</td>\n",
       "      <td>...</td>\n",
       "      <td>...</td>\n",
       "      <td>...</td>\n",
       "      <td>...</td>\n",
       "    </tr>\n",
       "    <tr>\n",
       "      <th>886</th>\n",
       "      <td>887</td>\n",
       "      <td>0</td>\n",
       "      <td>2</td>\n",
       "      <td>Montvila, Rev. Juozas</td>\n",
       "      <td>male</td>\n",
       "      <td>27.0</td>\n",
       "      <td>0</td>\n",
       "      <td>0</td>\n",
       "      <td>211536</td>\n",
       "      <td>13.0000</td>\n",
       "      <td>NaN</td>\n",
       "      <td>S</td>\n",
       "    </tr>\n",
       "    <tr>\n",
       "      <th>887</th>\n",
       "      <td>888</td>\n",
       "      <td>1</td>\n",
       "      <td>1</td>\n",
       "      <td>Graham, Miss. Margaret Edith</td>\n",
       "      <td>female</td>\n",
       "      <td>19.0</td>\n",
       "      <td>0</td>\n",
       "      <td>0</td>\n",
       "      <td>112053</td>\n",
       "      <td>30.0000</td>\n",
       "      <td>B42</td>\n",
       "      <td>S</td>\n",
       "    </tr>\n",
       "    <tr>\n",
       "      <th>888</th>\n",
       "      <td>889</td>\n",
       "      <td>0</td>\n",
       "      <td>3</td>\n",
       "      <td>Johnston, Miss. Catherine Helen \"Carrie\"</td>\n",
       "      <td>female</td>\n",
       "      <td>NaN</td>\n",
       "      <td>1</td>\n",
       "      <td>2</td>\n",
       "      <td>W./C. 6607</td>\n",
       "      <td>23.4500</td>\n",
       "      <td>NaN</td>\n",
       "      <td>S</td>\n",
       "    </tr>\n",
       "    <tr>\n",
       "      <th>889</th>\n",
       "      <td>890</td>\n",
       "      <td>1</td>\n",
       "      <td>1</td>\n",
       "      <td>Behr, Mr. Karl Howell</td>\n",
       "      <td>male</td>\n",
       "      <td>26.0</td>\n",
       "      <td>0</td>\n",
       "      <td>0</td>\n",
       "      <td>111369</td>\n",
       "      <td>30.0000</td>\n",
       "      <td>C148</td>\n",
       "      <td>C</td>\n",
       "    </tr>\n",
       "    <tr>\n",
       "      <th>890</th>\n",
       "      <td>891</td>\n",
       "      <td>0</td>\n",
       "      <td>3</td>\n",
       "      <td>Dooley, Mr. Patrick</td>\n",
       "      <td>male</td>\n",
       "      <td>32.0</td>\n",
       "      <td>0</td>\n",
       "      <td>0</td>\n",
       "      <td>370376</td>\n",
       "      <td>7.7500</td>\n",
       "      <td>NaN</td>\n",
       "      <td>Q</td>\n",
       "    </tr>\n",
       "  </tbody>\n",
       "</table>\n",
       "<p>890 rows × 12 columns</p>\n",
       "</div>"
      ],
      "text/plain": [
       "     PassengerId  Survived  Pclass  \\\n",
       "0              1         0       3   \n",
       "1              2         1       1   \n",
       "3              4         1       1   \n",
       "4              5         0       3   \n",
       "5              6         0       3   \n",
       "..           ...       ...     ...   \n",
       "886          887         0       2   \n",
       "887          888         1       1   \n",
       "888          889         0       3   \n",
       "889          890         1       1   \n",
       "890          891         0       3   \n",
       "\n",
       "                                                  Name     Sex   Age  SibSp  \\\n",
       "0                              Braund, Mr. Owen Harris    male  22.0      1   \n",
       "1    Cumings, Mrs. John Bradley (Florence Briggs Th...  female  38.0      1   \n",
       "3         Futrelle, Mrs. Jacques Heath (Lily May Peel)  female  35.0      1   \n",
       "4                             Allen, Mr. William Henry    male  35.0      0   \n",
       "5                                     Moran, Mr. James    male   NaN      0   \n",
       "..                                                 ...     ...   ...    ...   \n",
       "886                              Montvila, Rev. Juozas    male  27.0      0   \n",
       "887                       Graham, Miss. Margaret Edith  female  19.0      0   \n",
       "888           Johnston, Miss. Catherine Helen \"Carrie\"  female   NaN      1   \n",
       "889                              Behr, Mr. Karl Howell    male  26.0      0   \n",
       "890                                Dooley, Mr. Patrick    male  32.0      0   \n",
       "\n",
       "     Parch      Ticket     Fare Cabin Embarked  \n",
       "0        0   A/5 21171   7.2500   NaN        S  \n",
       "1        0    PC 17599  71.2833   C85        C  \n",
       "3        0      113803  53.1000  C123        S  \n",
       "4        0      373450   8.0500   NaN        S  \n",
       "5        0      330877   8.4583   NaN        Q  \n",
       "..     ...         ...      ...   ...      ...  \n",
       "886      0      211536  13.0000   NaN        S  \n",
       "887      0      112053  30.0000   B42        S  \n",
       "888      2  W./C. 6607  23.4500   NaN        S  \n",
       "889      0      111369  30.0000  C148        C  \n",
       "890      0      370376   7.7500   NaN        Q  \n",
       "\n",
       "[890 rows x 12 columns]"
      ]
     },
     "execution_count": 16,
     "metadata": {},
     "output_type": "execute_result"
    }
   ],
   "source": [
    "df.drop(2, axis = 0) # если хотите удалить строку, то axis = 0"
   ]
  },
  {
   "cell_type": "markdown",
   "metadata": {
    "id": "PRj57bcLVZnK"
   },
   "source": [
    "Удаление колонок:"
   ]
  },
  {
   "cell_type": "markdown",
   "metadata": {
    "id": "OPMhVZU7VZnL"
   },
   "source": [
    "\n",
    "\n",
    "``` python\n",
    "датафрейм.drop(['название колонки 1', 'название колонки 2'], axis=1) #просто покажет датасет без этой колонки (можно сохранить в новую переменную)\n",
    "```\n",
    "\n",
    "``` python\n",
    "датафрейм.drop(['название колонки 1', 'название колонки 2'], axis=1, inplace=True) #действительно удалит\n",
    "```"
   ]
  },
  {
   "cell_type": "code",
   "execution_count": 17,
   "metadata": {
    "colab": {
     "base_uri": "https://localhost:8080/",
     "height": 424
    },
    "id": "KP4wIJt3Vb8y",
    "outputId": "d4c11a4c-c920-443a-9905-16f54a2640ff"
   },
   "outputs": [
    {
     "data": {
      "text/html": [
       "<div>\n",
       "<style scoped>\n",
       "    .dataframe tbody tr th:only-of-type {\n",
       "        vertical-align: middle;\n",
       "    }\n",
       "\n",
       "    .dataframe tbody tr th {\n",
       "        vertical-align: top;\n",
       "    }\n",
       "\n",
       "    .dataframe thead th {\n",
       "        text-align: right;\n",
       "    }\n",
       "</style>\n",
       "<table border=\"1\" class=\"dataframe\">\n",
       "  <thead>\n",
       "    <tr style=\"text-align: right;\">\n",
       "      <th></th>\n",
       "      <th>PassengerId</th>\n",
       "      <th>Survived</th>\n",
       "      <th>Pclass</th>\n",
       "      <th>Name</th>\n",
       "      <th>Sex</th>\n",
       "      <th>SibSp</th>\n",
       "      <th>Parch</th>\n",
       "      <th>Ticket</th>\n",
       "      <th>Fare</th>\n",
       "      <th>Embarked</th>\n",
       "    </tr>\n",
       "  </thead>\n",
       "  <tbody>\n",
       "    <tr>\n",
       "      <th>0</th>\n",
       "      <td>1</td>\n",
       "      <td>0</td>\n",
       "      <td>3</td>\n",
       "      <td>Braund, Mr. Owen Harris</td>\n",
       "      <td>male</td>\n",
       "      <td>1</td>\n",
       "      <td>0</td>\n",
       "      <td>A/5 21171</td>\n",
       "      <td>7.2500</td>\n",
       "      <td>S</td>\n",
       "    </tr>\n",
       "    <tr>\n",
       "      <th>1</th>\n",
       "      <td>2</td>\n",
       "      <td>1</td>\n",
       "      <td>1</td>\n",
       "      <td>Cumings, Mrs. John Bradley (Florence Briggs Th...</td>\n",
       "      <td>female</td>\n",
       "      <td>1</td>\n",
       "      <td>0</td>\n",
       "      <td>PC 17599</td>\n",
       "      <td>71.2833</td>\n",
       "      <td>C</td>\n",
       "    </tr>\n",
       "    <tr>\n",
       "      <th>2</th>\n",
       "      <td>3</td>\n",
       "      <td>1</td>\n",
       "      <td>3</td>\n",
       "      <td>Heikkinen, Miss. Laina</td>\n",
       "      <td>female</td>\n",
       "      <td>0</td>\n",
       "      <td>0</td>\n",
       "      <td>STON/O2. 3101282</td>\n",
       "      <td>7.9250</td>\n",
       "      <td>S</td>\n",
       "    </tr>\n",
       "    <tr>\n",
       "      <th>3</th>\n",
       "      <td>4</td>\n",
       "      <td>1</td>\n",
       "      <td>1</td>\n",
       "      <td>Futrelle, Mrs. Jacques Heath (Lily May Peel)</td>\n",
       "      <td>female</td>\n",
       "      <td>1</td>\n",
       "      <td>0</td>\n",
       "      <td>113803</td>\n",
       "      <td>53.1000</td>\n",
       "      <td>S</td>\n",
       "    </tr>\n",
       "    <tr>\n",
       "      <th>4</th>\n",
       "      <td>5</td>\n",
       "      <td>0</td>\n",
       "      <td>3</td>\n",
       "      <td>Allen, Mr. William Henry</td>\n",
       "      <td>male</td>\n",
       "      <td>0</td>\n",
       "      <td>0</td>\n",
       "      <td>373450</td>\n",
       "      <td>8.0500</td>\n",
       "      <td>S</td>\n",
       "    </tr>\n",
       "    <tr>\n",
       "      <th>...</th>\n",
       "      <td>...</td>\n",
       "      <td>...</td>\n",
       "      <td>...</td>\n",
       "      <td>...</td>\n",
       "      <td>...</td>\n",
       "      <td>...</td>\n",
       "      <td>...</td>\n",
       "      <td>...</td>\n",
       "      <td>...</td>\n",
       "      <td>...</td>\n",
       "    </tr>\n",
       "    <tr>\n",
       "      <th>886</th>\n",
       "      <td>887</td>\n",
       "      <td>0</td>\n",
       "      <td>2</td>\n",
       "      <td>Montvila, Rev. Juozas</td>\n",
       "      <td>male</td>\n",
       "      <td>0</td>\n",
       "      <td>0</td>\n",
       "      <td>211536</td>\n",
       "      <td>13.0000</td>\n",
       "      <td>S</td>\n",
       "    </tr>\n",
       "    <tr>\n",
       "      <th>887</th>\n",
       "      <td>888</td>\n",
       "      <td>1</td>\n",
       "      <td>1</td>\n",
       "      <td>Graham, Miss. Margaret Edith</td>\n",
       "      <td>female</td>\n",
       "      <td>0</td>\n",
       "      <td>0</td>\n",
       "      <td>112053</td>\n",
       "      <td>30.0000</td>\n",
       "      <td>S</td>\n",
       "    </tr>\n",
       "    <tr>\n",
       "      <th>888</th>\n",
       "      <td>889</td>\n",
       "      <td>0</td>\n",
       "      <td>3</td>\n",
       "      <td>Johnston, Miss. Catherine Helen \"Carrie\"</td>\n",
       "      <td>female</td>\n",
       "      <td>1</td>\n",
       "      <td>2</td>\n",
       "      <td>W./C. 6607</td>\n",
       "      <td>23.4500</td>\n",
       "      <td>S</td>\n",
       "    </tr>\n",
       "    <tr>\n",
       "      <th>889</th>\n",
       "      <td>890</td>\n",
       "      <td>1</td>\n",
       "      <td>1</td>\n",
       "      <td>Behr, Mr. Karl Howell</td>\n",
       "      <td>male</td>\n",
       "      <td>0</td>\n",
       "      <td>0</td>\n",
       "      <td>111369</td>\n",
       "      <td>30.0000</td>\n",
       "      <td>C</td>\n",
       "    </tr>\n",
       "    <tr>\n",
       "      <th>890</th>\n",
       "      <td>891</td>\n",
       "      <td>0</td>\n",
       "      <td>3</td>\n",
       "      <td>Dooley, Mr. Patrick</td>\n",
       "      <td>male</td>\n",
       "      <td>0</td>\n",
       "      <td>0</td>\n",
       "      <td>370376</td>\n",
       "      <td>7.7500</td>\n",
       "      <td>Q</td>\n",
       "    </tr>\n",
       "  </tbody>\n",
       "</table>\n",
       "<p>891 rows × 10 columns</p>\n",
       "</div>"
      ],
      "text/plain": [
       "     PassengerId  Survived  Pclass  \\\n",
       "0              1         0       3   \n",
       "1              2         1       1   \n",
       "2              3         1       3   \n",
       "3              4         1       1   \n",
       "4              5         0       3   \n",
       "..           ...       ...     ...   \n",
       "886          887         0       2   \n",
       "887          888         1       1   \n",
       "888          889         0       3   \n",
       "889          890         1       1   \n",
       "890          891         0       3   \n",
       "\n",
       "                                                  Name     Sex  SibSp  Parch  \\\n",
       "0                              Braund, Mr. Owen Harris    male      1      0   \n",
       "1    Cumings, Mrs. John Bradley (Florence Briggs Th...  female      1      0   \n",
       "2                               Heikkinen, Miss. Laina  female      0      0   \n",
       "3         Futrelle, Mrs. Jacques Heath (Lily May Peel)  female      1      0   \n",
       "4                             Allen, Mr. William Henry    male      0      0   \n",
       "..                                                 ...     ...    ...    ...   \n",
       "886                              Montvila, Rev. Juozas    male      0      0   \n",
       "887                       Graham, Miss. Margaret Edith  female      0      0   \n",
       "888           Johnston, Miss. Catherine Helen \"Carrie\"  female      1      2   \n",
       "889                              Behr, Mr. Karl Howell    male      0      0   \n",
       "890                                Dooley, Mr. Patrick    male      0      0   \n",
       "\n",
       "               Ticket     Fare Embarked  \n",
       "0           A/5 21171   7.2500        S  \n",
       "1            PC 17599  71.2833        C  \n",
       "2    STON/O2. 3101282   7.9250        S  \n",
       "3              113803  53.1000        S  \n",
       "4              373450   8.0500        S  \n",
       "..                ...      ...      ...  \n",
       "886            211536  13.0000        S  \n",
       "887            112053  30.0000        S  \n",
       "888        W./C. 6607  23.4500        S  \n",
       "889            111369  30.0000        C  \n",
       "890            370376   7.7500        Q  \n",
       "\n",
       "[891 rows x 10 columns]"
      ]
     },
     "execution_count": 17,
     "metadata": {},
     "output_type": "execute_result"
    }
   ],
   "source": [
    "df.drop(['Age', 'Cabin'], axis=1)"
   ]
  },
  {
   "cell_type": "code",
   "execution_count": 18,
   "metadata": {
    "colab": {
     "base_uri": "https://localhost:8080/",
     "height": 424
    },
    "id": "XWg4HV9zUKK0",
    "outputId": "11c7f3cc-10cb-4b74-966b-1ceb5d347b9d"
   },
   "outputs": [
    {
     "data": {
      "text/html": [
       "<div>\n",
       "<style scoped>\n",
       "    .dataframe tbody tr th:only-of-type {\n",
       "        vertical-align: middle;\n",
       "    }\n",
       "\n",
       "    .dataframe tbody tr th {\n",
       "        vertical-align: top;\n",
       "    }\n",
       "\n",
       "    .dataframe thead th {\n",
       "        text-align: right;\n",
       "    }\n",
       "</style>\n",
       "<table border=\"1\" class=\"dataframe\">\n",
       "  <thead>\n",
       "    <tr style=\"text-align: right;\">\n",
       "      <th></th>\n",
       "      <th>PassengerId</th>\n",
       "      <th>Survived</th>\n",
       "      <th>Pclass</th>\n",
       "      <th>Name</th>\n",
       "      <th>Sex</th>\n",
       "      <th>Age</th>\n",
       "      <th>SibSp</th>\n",
       "      <th>Parch</th>\n",
       "      <th>Ticket</th>\n",
       "      <th>Fare</th>\n",
       "      <th>Cabin</th>\n",
       "      <th>Embarked</th>\n",
       "    </tr>\n",
       "  </thead>\n",
       "  <tbody>\n",
       "    <tr>\n",
       "      <th>0</th>\n",
       "      <td>1</td>\n",
       "      <td>0</td>\n",
       "      <td>3</td>\n",
       "      <td>Braund, Mr. Owen Harris</td>\n",
       "      <td>male</td>\n",
       "      <td>22.0</td>\n",
       "      <td>1</td>\n",
       "      <td>0</td>\n",
       "      <td>A/5 21171</td>\n",
       "      <td>7.2500</td>\n",
       "      <td>NaN</td>\n",
       "      <td>S</td>\n",
       "    </tr>\n",
       "    <tr>\n",
       "      <th>1</th>\n",
       "      <td>2</td>\n",
       "      <td>1</td>\n",
       "      <td>1</td>\n",
       "      <td>Cumings, Mrs. John Bradley (Florence Briggs Th...</td>\n",
       "      <td>female</td>\n",
       "      <td>38.0</td>\n",
       "      <td>1</td>\n",
       "      <td>0</td>\n",
       "      <td>PC 17599</td>\n",
       "      <td>71.2833</td>\n",
       "      <td>C85</td>\n",
       "      <td>C</td>\n",
       "    </tr>\n",
       "    <tr>\n",
       "      <th>2</th>\n",
       "      <td>3</td>\n",
       "      <td>1</td>\n",
       "      <td>3</td>\n",
       "      <td>Heikkinen, Miss. Laina</td>\n",
       "      <td>female</td>\n",
       "      <td>26.0</td>\n",
       "      <td>0</td>\n",
       "      <td>0</td>\n",
       "      <td>STON/O2. 3101282</td>\n",
       "      <td>7.9250</td>\n",
       "      <td>NaN</td>\n",
       "      <td>S</td>\n",
       "    </tr>\n",
       "    <tr>\n",
       "      <th>3</th>\n",
       "      <td>4</td>\n",
       "      <td>1</td>\n",
       "      <td>1</td>\n",
       "      <td>Futrelle, Mrs. Jacques Heath (Lily May Peel)</td>\n",
       "      <td>female</td>\n",
       "      <td>35.0</td>\n",
       "      <td>1</td>\n",
       "      <td>0</td>\n",
       "      <td>113803</td>\n",
       "      <td>53.1000</td>\n",
       "      <td>C123</td>\n",
       "      <td>S</td>\n",
       "    </tr>\n",
       "    <tr>\n",
       "      <th>4</th>\n",
       "      <td>5</td>\n",
       "      <td>0</td>\n",
       "      <td>3</td>\n",
       "      <td>Allen, Mr. William Henry</td>\n",
       "      <td>male</td>\n",
       "      <td>35.0</td>\n",
       "      <td>0</td>\n",
       "      <td>0</td>\n",
       "      <td>373450</td>\n",
       "      <td>8.0500</td>\n",
       "      <td>NaN</td>\n",
       "      <td>S</td>\n",
       "    </tr>\n",
       "    <tr>\n",
       "      <th>...</th>\n",
       "      <td>...</td>\n",
       "      <td>...</td>\n",
       "      <td>...</td>\n",
       "      <td>...</td>\n",
       "      <td>...</td>\n",
       "      <td>...</td>\n",
       "      <td>...</td>\n",
       "      <td>...</td>\n",
       "      <td>...</td>\n",
       "      <td>...</td>\n",
       "      <td>...</td>\n",
       "      <td>...</td>\n",
       "    </tr>\n",
       "    <tr>\n",
       "      <th>886</th>\n",
       "      <td>887</td>\n",
       "      <td>0</td>\n",
       "      <td>2</td>\n",
       "      <td>Montvila, Rev. Juozas</td>\n",
       "      <td>male</td>\n",
       "      <td>27.0</td>\n",
       "      <td>0</td>\n",
       "      <td>0</td>\n",
       "      <td>211536</td>\n",
       "      <td>13.0000</td>\n",
       "      <td>NaN</td>\n",
       "      <td>S</td>\n",
       "    </tr>\n",
       "    <tr>\n",
       "      <th>887</th>\n",
       "      <td>888</td>\n",
       "      <td>1</td>\n",
       "      <td>1</td>\n",
       "      <td>Graham, Miss. Margaret Edith</td>\n",
       "      <td>female</td>\n",
       "      <td>19.0</td>\n",
       "      <td>0</td>\n",
       "      <td>0</td>\n",
       "      <td>112053</td>\n",
       "      <td>30.0000</td>\n",
       "      <td>B42</td>\n",
       "      <td>S</td>\n",
       "    </tr>\n",
       "    <tr>\n",
       "      <th>888</th>\n",
       "      <td>889</td>\n",
       "      <td>0</td>\n",
       "      <td>3</td>\n",
       "      <td>Johnston, Miss. Catherine Helen \"Carrie\"</td>\n",
       "      <td>female</td>\n",
       "      <td>NaN</td>\n",
       "      <td>1</td>\n",
       "      <td>2</td>\n",
       "      <td>W./C. 6607</td>\n",
       "      <td>23.4500</td>\n",
       "      <td>NaN</td>\n",
       "      <td>S</td>\n",
       "    </tr>\n",
       "    <tr>\n",
       "      <th>889</th>\n",
       "      <td>890</td>\n",
       "      <td>1</td>\n",
       "      <td>1</td>\n",
       "      <td>Behr, Mr. Karl Howell</td>\n",
       "      <td>male</td>\n",
       "      <td>26.0</td>\n",
       "      <td>0</td>\n",
       "      <td>0</td>\n",
       "      <td>111369</td>\n",
       "      <td>30.0000</td>\n",
       "      <td>C148</td>\n",
       "      <td>C</td>\n",
       "    </tr>\n",
       "    <tr>\n",
       "      <th>890</th>\n",
       "      <td>891</td>\n",
       "      <td>0</td>\n",
       "      <td>3</td>\n",
       "      <td>Dooley, Mr. Patrick</td>\n",
       "      <td>male</td>\n",
       "      <td>32.0</td>\n",
       "      <td>0</td>\n",
       "      <td>0</td>\n",
       "      <td>370376</td>\n",
       "      <td>7.7500</td>\n",
       "      <td>NaN</td>\n",
       "      <td>Q</td>\n",
       "    </tr>\n",
       "  </tbody>\n",
       "</table>\n",
       "<p>891 rows × 12 columns</p>\n",
       "</div>"
      ],
      "text/plain": [
       "     PassengerId  Survived  Pclass  \\\n",
       "0              1         0       3   \n",
       "1              2         1       1   \n",
       "2              3         1       3   \n",
       "3              4         1       1   \n",
       "4              5         0       3   \n",
       "..           ...       ...     ...   \n",
       "886          887         0       2   \n",
       "887          888         1       1   \n",
       "888          889         0       3   \n",
       "889          890         1       1   \n",
       "890          891         0       3   \n",
       "\n",
       "                                                  Name     Sex   Age  SibSp  \\\n",
       "0                              Braund, Mr. Owen Harris    male  22.0      1   \n",
       "1    Cumings, Mrs. John Bradley (Florence Briggs Th...  female  38.0      1   \n",
       "2                               Heikkinen, Miss. Laina  female  26.0      0   \n",
       "3         Futrelle, Mrs. Jacques Heath (Lily May Peel)  female  35.0      1   \n",
       "4                             Allen, Mr. William Henry    male  35.0      0   \n",
       "..                                                 ...     ...   ...    ...   \n",
       "886                              Montvila, Rev. Juozas    male  27.0      0   \n",
       "887                       Graham, Miss. Margaret Edith  female  19.0      0   \n",
       "888           Johnston, Miss. Catherine Helen \"Carrie\"  female   NaN      1   \n",
       "889                              Behr, Mr. Karl Howell    male  26.0      0   \n",
       "890                                Dooley, Mr. Patrick    male  32.0      0   \n",
       "\n",
       "     Parch            Ticket     Fare Cabin Embarked  \n",
       "0        0         A/5 21171   7.2500   NaN        S  \n",
       "1        0          PC 17599  71.2833   C85        C  \n",
       "2        0  STON/O2. 3101282   7.9250   NaN        S  \n",
       "3        0            113803  53.1000  C123        S  \n",
       "4        0            373450   8.0500   NaN        S  \n",
       "..     ...               ...      ...   ...      ...  \n",
       "886      0            211536  13.0000   NaN        S  \n",
       "887      0            112053  30.0000   B42        S  \n",
       "888      2        W./C. 6607  23.4500   NaN        S  \n",
       "889      0            111369  30.0000  C148        C  \n",
       "890      0            370376   7.7500   NaN        Q  \n",
       "\n",
       "[891 rows x 12 columns]"
      ]
     },
     "execution_count": 18,
     "metadata": {},
     "output_type": "execute_result"
    }
   ],
   "source": [
    "df"
   ]
  },
  {
   "cell_type": "markdown",
   "metadata": {
    "id": "Jz60LU4-V9ge"
   },
   "source": [
    "## Пропущено меньше 40% данных"
   ]
  },
  {
   "cell_type": "markdown",
   "metadata": {
    "id": "WwoYpz9PcUiT"
   },
   "source": [
    "##### **Удаление**"
   ]
  },
  {
   "cell_type": "markdown",
   "metadata": {
    "id": "qbBc920WXE4M"
   },
   "source": [
    "Удаляем все строчки хотя бы с одним пропуском"
   ]
  },
  {
   "cell_type": "markdown",
   "metadata": {
    "id": "S5JylfPTYjoD"
   },
   "source": [
    "\n",
    "\n",
    "``` python\n",
    "датафрейм.dropna(subset = ['название колонки']) #просто покажет датасет без nan (можно сохранить в новую переменную)\n",
    "```\n",
    "\n",
    "``` python\n",
    "датафрейм.dropna(subset = ['название колонки'], inplace=True) #правда удалит nan из изначального датафрейма\n",
    "```"
   ]
  },
  {
   "cell_type": "code",
   "execution_count": 19,
   "metadata": {
    "colab": {
     "base_uri": "https://localhost:8080/",
     "height": 424
    },
    "id": "i3B0zaWDV7JI",
    "outputId": "b496c7db-0aee-4a7a-af56-fa0ea28c3c8d"
   },
   "outputs": [
    {
     "data": {
      "text/html": [
       "<div>\n",
       "<style scoped>\n",
       "    .dataframe tbody tr th:only-of-type {\n",
       "        vertical-align: middle;\n",
       "    }\n",
       "\n",
       "    .dataframe tbody tr th {\n",
       "        vertical-align: top;\n",
       "    }\n",
       "\n",
       "    .dataframe thead th {\n",
       "        text-align: right;\n",
       "    }\n",
       "</style>\n",
       "<table border=\"1\" class=\"dataframe\">\n",
       "  <thead>\n",
       "    <tr style=\"text-align: right;\">\n",
       "      <th></th>\n",
       "      <th>PassengerId</th>\n",
       "      <th>Survived</th>\n",
       "      <th>Pclass</th>\n",
       "      <th>Name</th>\n",
       "      <th>Sex</th>\n",
       "      <th>Age</th>\n",
       "      <th>SibSp</th>\n",
       "      <th>Parch</th>\n",
       "      <th>Ticket</th>\n",
       "      <th>Fare</th>\n",
       "      <th>Cabin</th>\n",
       "      <th>Embarked</th>\n",
       "    </tr>\n",
       "  </thead>\n",
       "  <tbody>\n",
       "    <tr>\n",
       "      <th>1</th>\n",
       "      <td>2</td>\n",
       "      <td>1</td>\n",
       "      <td>1</td>\n",
       "      <td>Cumings, Mrs. John Bradley (Florence Briggs Th...</td>\n",
       "      <td>female</td>\n",
       "      <td>38.0</td>\n",
       "      <td>1</td>\n",
       "      <td>0</td>\n",
       "      <td>PC 17599</td>\n",
       "      <td>71.2833</td>\n",
       "      <td>C85</td>\n",
       "      <td>C</td>\n",
       "    </tr>\n",
       "    <tr>\n",
       "      <th>3</th>\n",
       "      <td>4</td>\n",
       "      <td>1</td>\n",
       "      <td>1</td>\n",
       "      <td>Futrelle, Mrs. Jacques Heath (Lily May Peel)</td>\n",
       "      <td>female</td>\n",
       "      <td>35.0</td>\n",
       "      <td>1</td>\n",
       "      <td>0</td>\n",
       "      <td>113803</td>\n",
       "      <td>53.1000</td>\n",
       "      <td>C123</td>\n",
       "      <td>S</td>\n",
       "    </tr>\n",
       "    <tr>\n",
       "      <th>6</th>\n",
       "      <td>7</td>\n",
       "      <td>0</td>\n",
       "      <td>1</td>\n",
       "      <td>McCarthy, Mr. Timothy J</td>\n",
       "      <td>male</td>\n",
       "      <td>54.0</td>\n",
       "      <td>0</td>\n",
       "      <td>0</td>\n",
       "      <td>17463</td>\n",
       "      <td>51.8625</td>\n",
       "      <td>E46</td>\n",
       "      <td>S</td>\n",
       "    </tr>\n",
       "    <tr>\n",
       "      <th>10</th>\n",
       "      <td>11</td>\n",
       "      <td>1</td>\n",
       "      <td>3</td>\n",
       "      <td>Sandstrom, Miss. Marguerite Rut</td>\n",
       "      <td>female</td>\n",
       "      <td>4.0</td>\n",
       "      <td>1</td>\n",
       "      <td>1</td>\n",
       "      <td>PP 9549</td>\n",
       "      <td>16.7000</td>\n",
       "      <td>G6</td>\n",
       "      <td>S</td>\n",
       "    </tr>\n",
       "    <tr>\n",
       "      <th>11</th>\n",
       "      <td>12</td>\n",
       "      <td>1</td>\n",
       "      <td>1</td>\n",
       "      <td>Bonnell, Miss. Elizabeth</td>\n",
       "      <td>female</td>\n",
       "      <td>58.0</td>\n",
       "      <td>0</td>\n",
       "      <td>0</td>\n",
       "      <td>113783</td>\n",
       "      <td>26.5500</td>\n",
       "      <td>C103</td>\n",
       "      <td>S</td>\n",
       "    </tr>\n",
       "    <tr>\n",
       "      <th>...</th>\n",
       "      <td>...</td>\n",
       "      <td>...</td>\n",
       "      <td>...</td>\n",
       "      <td>...</td>\n",
       "      <td>...</td>\n",
       "      <td>...</td>\n",
       "      <td>...</td>\n",
       "      <td>...</td>\n",
       "      <td>...</td>\n",
       "      <td>...</td>\n",
       "      <td>...</td>\n",
       "      <td>...</td>\n",
       "    </tr>\n",
       "    <tr>\n",
       "      <th>871</th>\n",
       "      <td>872</td>\n",
       "      <td>1</td>\n",
       "      <td>1</td>\n",
       "      <td>Beckwith, Mrs. Richard Leonard (Sallie Monypeny)</td>\n",
       "      <td>female</td>\n",
       "      <td>47.0</td>\n",
       "      <td>1</td>\n",
       "      <td>1</td>\n",
       "      <td>11751</td>\n",
       "      <td>52.5542</td>\n",
       "      <td>D35</td>\n",
       "      <td>S</td>\n",
       "    </tr>\n",
       "    <tr>\n",
       "      <th>872</th>\n",
       "      <td>873</td>\n",
       "      <td>0</td>\n",
       "      <td>1</td>\n",
       "      <td>Carlsson, Mr. Frans Olof</td>\n",
       "      <td>male</td>\n",
       "      <td>33.0</td>\n",
       "      <td>0</td>\n",
       "      <td>0</td>\n",
       "      <td>695</td>\n",
       "      <td>5.0000</td>\n",
       "      <td>B51 B53 B55</td>\n",
       "      <td>S</td>\n",
       "    </tr>\n",
       "    <tr>\n",
       "      <th>879</th>\n",
       "      <td>880</td>\n",
       "      <td>1</td>\n",
       "      <td>1</td>\n",
       "      <td>Potter, Mrs. Thomas Jr (Lily Alexenia Wilson)</td>\n",
       "      <td>female</td>\n",
       "      <td>56.0</td>\n",
       "      <td>0</td>\n",
       "      <td>1</td>\n",
       "      <td>11767</td>\n",
       "      <td>83.1583</td>\n",
       "      <td>C50</td>\n",
       "      <td>C</td>\n",
       "    </tr>\n",
       "    <tr>\n",
       "      <th>887</th>\n",
       "      <td>888</td>\n",
       "      <td>1</td>\n",
       "      <td>1</td>\n",
       "      <td>Graham, Miss. Margaret Edith</td>\n",
       "      <td>female</td>\n",
       "      <td>19.0</td>\n",
       "      <td>0</td>\n",
       "      <td>0</td>\n",
       "      <td>112053</td>\n",
       "      <td>30.0000</td>\n",
       "      <td>B42</td>\n",
       "      <td>S</td>\n",
       "    </tr>\n",
       "    <tr>\n",
       "      <th>889</th>\n",
       "      <td>890</td>\n",
       "      <td>1</td>\n",
       "      <td>1</td>\n",
       "      <td>Behr, Mr. Karl Howell</td>\n",
       "      <td>male</td>\n",
       "      <td>26.0</td>\n",
       "      <td>0</td>\n",
       "      <td>0</td>\n",
       "      <td>111369</td>\n",
       "      <td>30.0000</td>\n",
       "      <td>C148</td>\n",
       "      <td>C</td>\n",
       "    </tr>\n",
       "  </tbody>\n",
       "</table>\n",
       "<p>183 rows × 12 columns</p>\n",
       "</div>"
      ],
      "text/plain": [
       "     PassengerId  Survived  Pclass  \\\n",
       "1              2         1       1   \n",
       "3              4         1       1   \n",
       "6              7         0       1   \n",
       "10            11         1       3   \n",
       "11            12         1       1   \n",
       "..           ...       ...     ...   \n",
       "871          872         1       1   \n",
       "872          873         0       1   \n",
       "879          880         1       1   \n",
       "887          888         1       1   \n",
       "889          890         1       1   \n",
       "\n",
       "                                                  Name     Sex   Age  SibSp  \\\n",
       "1    Cumings, Mrs. John Bradley (Florence Briggs Th...  female  38.0      1   \n",
       "3         Futrelle, Mrs. Jacques Heath (Lily May Peel)  female  35.0      1   \n",
       "6                              McCarthy, Mr. Timothy J    male  54.0      0   \n",
       "10                     Sandstrom, Miss. Marguerite Rut  female   4.0      1   \n",
       "11                            Bonnell, Miss. Elizabeth  female  58.0      0   \n",
       "..                                                 ...     ...   ...    ...   \n",
       "871   Beckwith, Mrs. Richard Leonard (Sallie Monypeny)  female  47.0      1   \n",
       "872                           Carlsson, Mr. Frans Olof    male  33.0      0   \n",
       "879      Potter, Mrs. Thomas Jr (Lily Alexenia Wilson)  female  56.0      0   \n",
       "887                       Graham, Miss. Margaret Edith  female  19.0      0   \n",
       "889                              Behr, Mr. Karl Howell    male  26.0      0   \n",
       "\n",
       "     Parch    Ticket     Fare        Cabin Embarked  \n",
       "1        0  PC 17599  71.2833          C85        C  \n",
       "3        0    113803  53.1000         C123        S  \n",
       "6        0     17463  51.8625          E46        S  \n",
       "10       1   PP 9549  16.7000           G6        S  \n",
       "11       0    113783  26.5500         C103        S  \n",
       "..     ...       ...      ...          ...      ...  \n",
       "871      1     11751  52.5542          D35        S  \n",
       "872      0       695   5.0000  B51 B53 B55        S  \n",
       "879      1     11767  83.1583          C50        C  \n",
       "887      0    112053  30.0000          B42        S  \n",
       "889      0    111369  30.0000         C148        C  \n",
       "\n",
       "[183 rows x 12 columns]"
      ]
     },
     "execution_count": 19,
     "metadata": {},
     "output_type": "execute_result"
    }
   ],
   "source": [
    "df.dropna()"
   ]
  },
  {
   "cell_type": "markdown",
   "metadata": {
    "id": "B_0zg9rOXUvT"
   },
   "source": [
    "Удаляем все строчки, в которых есть пропуски в определенной колонке"
   ]
  },
  {
   "cell_type": "code",
   "execution_count": 20,
   "metadata": {
    "colab": {
     "base_uri": "https://localhost:8080/",
     "height": 424
    },
    "id": "yVKAE9rEXPG7",
    "outputId": "f035901a-4d7a-49cb-c618-9135374d0ea3"
   },
   "outputs": [
    {
     "data": {
      "text/html": [
       "<div>\n",
       "<style scoped>\n",
       "    .dataframe tbody tr th:only-of-type {\n",
       "        vertical-align: middle;\n",
       "    }\n",
       "\n",
       "    .dataframe tbody tr th {\n",
       "        vertical-align: top;\n",
       "    }\n",
       "\n",
       "    .dataframe thead th {\n",
       "        text-align: right;\n",
       "    }\n",
       "</style>\n",
       "<table border=\"1\" class=\"dataframe\">\n",
       "  <thead>\n",
       "    <tr style=\"text-align: right;\">\n",
       "      <th></th>\n",
       "      <th>PassengerId</th>\n",
       "      <th>Survived</th>\n",
       "      <th>Pclass</th>\n",
       "      <th>Name</th>\n",
       "      <th>Sex</th>\n",
       "      <th>Age</th>\n",
       "      <th>SibSp</th>\n",
       "      <th>Parch</th>\n",
       "      <th>Ticket</th>\n",
       "      <th>Fare</th>\n",
       "      <th>Cabin</th>\n",
       "      <th>Embarked</th>\n",
       "    </tr>\n",
       "  </thead>\n",
       "  <tbody>\n",
       "    <tr>\n",
       "      <th>0</th>\n",
       "      <td>1</td>\n",
       "      <td>0</td>\n",
       "      <td>3</td>\n",
       "      <td>Braund, Mr. Owen Harris</td>\n",
       "      <td>male</td>\n",
       "      <td>22.0</td>\n",
       "      <td>1</td>\n",
       "      <td>0</td>\n",
       "      <td>A/5 21171</td>\n",
       "      <td>7.2500</td>\n",
       "      <td>NaN</td>\n",
       "      <td>S</td>\n",
       "    </tr>\n",
       "    <tr>\n",
       "      <th>1</th>\n",
       "      <td>2</td>\n",
       "      <td>1</td>\n",
       "      <td>1</td>\n",
       "      <td>Cumings, Mrs. John Bradley (Florence Briggs Th...</td>\n",
       "      <td>female</td>\n",
       "      <td>38.0</td>\n",
       "      <td>1</td>\n",
       "      <td>0</td>\n",
       "      <td>PC 17599</td>\n",
       "      <td>71.2833</td>\n",
       "      <td>C85</td>\n",
       "      <td>C</td>\n",
       "    </tr>\n",
       "    <tr>\n",
       "      <th>2</th>\n",
       "      <td>3</td>\n",
       "      <td>1</td>\n",
       "      <td>3</td>\n",
       "      <td>Heikkinen, Miss. Laina</td>\n",
       "      <td>female</td>\n",
       "      <td>26.0</td>\n",
       "      <td>0</td>\n",
       "      <td>0</td>\n",
       "      <td>STON/O2. 3101282</td>\n",
       "      <td>7.9250</td>\n",
       "      <td>NaN</td>\n",
       "      <td>S</td>\n",
       "    </tr>\n",
       "    <tr>\n",
       "      <th>3</th>\n",
       "      <td>4</td>\n",
       "      <td>1</td>\n",
       "      <td>1</td>\n",
       "      <td>Futrelle, Mrs. Jacques Heath (Lily May Peel)</td>\n",
       "      <td>female</td>\n",
       "      <td>35.0</td>\n",
       "      <td>1</td>\n",
       "      <td>0</td>\n",
       "      <td>113803</td>\n",
       "      <td>53.1000</td>\n",
       "      <td>C123</td>\n",
       "      <td>S</td>\n",
       "    </tr>\n",
       "    <tr>\n",
       "      <th>4</th>\n",
       "      <td>5</td>\n",
       "      <td>0</td>\n",
       "      <td>3</td>\n",
       "      <td>Allen, Mr. William Henry</td>\n",
       "      <td>male</td>\n",
       "      <td>35.0</td>\n",
       "      <td>0</td>\n",
       "      <td>0</td>\n",
       "      <td>373450</td>\n",
       "      <td>8.0500</td>\n",
       "      <td>NaN</td>\n",
       "      <td>S</td>\n",
       "    </tr>\n",
       "    <tr>\n",
       "      <th>...</th>\n",
       "      <td>...</td>\n",
       "      <td>...</td>\n",
       "      <td>...</td>\n",
       "      <td>...</td>\n",
       "      <td>...</td>\n",
       "      <td>...</td>\n",
       "      <td>...</td>\n",
       "      <td>...</td>\n",
       "      <td>...</td>\n",
       "      <td>...</td>\n",
       "      <td>...</td>\n",
       "      <td>...</td>\n",
       "    </tr>\n",
       "    <tr>\n",
       "      <th>885</th>\n",
       "      <td>886</td>\n",
       "      <td>0</td>\n",
       "      <td>3</td>\n",
       "      <td>Rice, Mrs. William (Margaret Norton)</td>\n",
       "      <td>female</td>\n",
       "      <td>39.0</td>\n",
       "      <td>0</td>\n",
       "      <td>5</td>\n",
       "      <td>382652</td>\n",
       "      <td>29.1250</td>\n",
       "      <td>NaN</td>\n",
       "      <td>Q</td>\n",
       "    </tr>\n",
       "    <tr>\n",
       "      <th>886</th>\n",
       "      <td>887</td>\n",
       "      <td>0</td>\n",
       "      <td>2</td>\n",
       "      <td>Montvila, Rev. Juozas</td>\n",
       "      <td>male</td>\n",
       "      <td>27.0</td>\n",
       "      <td>0</td>\n",
       "      <td>0</td>\n",
       "      <td>211536</td>\n",
       "      <td>13.0000</td>\n",
       "      <td>NaN</td>\n",
       "      <td>S</td>\n",
       "    </tr>\n",
       "    <tr>\n",
       "      <th>887</th>\n",
       "      <td>888</td>\n",
       "      <td>1</td>\n",
       "      <td>1</td>\n",
       "      <td>Graham, Miss. Margaret Edith</td>\n",
       "      <td>female</td>\n",
       "      <td>19.0</td>\n",
       "      <td>0</td>\n",
       "      <td>0</td>\n",
       "      <td>112053</td>\n",
       "      <td>30.0000</td>\n",
       "      <td>B42</td>\n",
       "      <td>S</td>\n",
       "    </tr>\n",
       "    <tr>\n",
       "      <th>889</th>\n",
       "      <td>890</td>\n",
       "      <td>1</td>\n",
       "      <td>1</td>\n",
       "      <td>Behr, Mr. Karl Howell</td>\n",
       "      <td>male</td>\n",
       "      <td>26.0</td>\n",
       "      <td>0</td>\n",
       "      <td>0</td>\n",
       "      <td>111369</td>\n",
       "      <td>30.0000</td>\n",
       "      <td>C148</td>\n",
       "      <td>C</td>\n",
       "    </tr>\n",
       "    <tr>\n",
       "      <th>890</th>\n",
       "      <td>891</td>\n",
       "      <td>0</td>\n",
       "      <td>3</td>\n",
       "      <td>Dooley, Mr. Patrick</td>\n",
       "      <td>male</td>\n",
       "      <td>32.0</td>\n",
       "      <td>0</td>\n",
       "      <td>0</td>\n",
       "      <td>370376</td>\n",
       "      <td>7.7500</td>\n",
       "      <td>NaN</td>\n",
       "      <td>Q</td>\n",
       "    </tr>\n",
       "  </tbody>\n",
       "</table>\n",
       "<p>714 rows × 12 columns</p>\n",
       "</div>"
      ],
      "text/plain": [
       "     PassengerId  Survived  Pclass  \\\n",
       "0              1         0       3   \n",
       "1              2         1       1   \n",
       "2              3         1       3   \n",
       "3              4         1       1   \n",
       "4              5         0       3   \n",
       "..           ...       ...     ...   \n",
       "885          886         0       3   \n",
       "886          887         0       2   \n",
       "887          888         1       1   \n",
       "889          890         1       1   \n",
       "890          891         0       3   \n",
       "\n",
       "                                                  Name     Sex   Age  SibSp  \\\n",
       "0                              Braund, Mr. Owen Harris    male  22.0      1   \n",
       "1    Cumings, Mrs. John Bradley (Florence Briggs Th...  female  38.0      1   \n",
       "2                               Heikkinen, Miss. Laina  female  26.0      0   \n",
       "3         Futrelle, Mrs. Jacques Heath (Lily May Peel)  female  35.0      1   \n",
       "4                             Allen, Mr. William Henry    male  35.0      0   \n",
       "..                                                 ...     ...   ...    ...   \n",
       "885               Rice, Mrs. William (Margaret Norton)  female  39.0      0   \n",
       "886                              Montvila, Rev. Juozas    male  27.0      0   \n",
       "887                       Graham, Miss. Margaret Edith  female  19.0      0   \n",
       "889                              Behr, Mr. Karl Howell    male  26.0      0   \n",
       "890                                Dooley, Mr. Patrick    male  32.0      0   \n",
       "\n",
       "     Parch            Ticket     Fare Cabin Embarked  \n",
       "0        0         A/5 21171   7.2500   NaN        S  \n",
       "1        0          PC 17599  71.2833   C85        C  \n",
       "2        0  STON/O2. 3101282   7.9250   NaN        S  \n",
       "3        0            113803  53.1000  C123        S  \n",
       "4        0            373450   8.0500   NaN        S  \n",
       "..     ...               ...      ...   ...      ...  \n",
       "885      5            382652  29.1250   NaN        Q  \n",
       "886      0            211536  13.0000   NaN        S  \n",
       "887      0            112053  30.0000   B42        S  \n",
       "889      0            111369  30.0000  C148        C  \n",
       "890      0            370376   7.7500   NaN        Q  \n",
       "\n",
       "[714 rows x 12 columns]"
      ]
     },
     "execution_count": 20,
     "metadata": {},
     "output_type": "execute_result"
    }
   ],
   "source": [
    "df.dropna(subset = ['Age'])"
   ]
  },
  {
   "cell_type": "markdown",
   "metadata": {
    "id": "PJnrO9ktdWQM"
   },
   "source": [
    "## **Замена**"
   ]
  },
  {
   "cell_type": "markdown",
   "metadata": {
    "id": "x1usL3Aq8QvQ"
   },
   "source": [
    "Можно заменить пропуск данных на:\n",
    "- меру центральной тенденции по всему столбцу\n",
    "- меру центральной тенденции внутри группы\n",
    "- на случайный элемент"
   ]
  },
  {
   "cell_type": "markdown",
   "metadata": {
    "id": "eTAyZOdBd2HA"
   },
   "source": [
    "###### На меру центральной тенденции"
   ]
  },
  {
   "cell_type": "markdown",
   "metadata": {
    "id": "dzbPYO-Hermr"
   },
   "source": [
    "**Количественные данные**:\n",
    "- **Непрерывные**\n",
    " - Нормальное распределение:\n",
    "   - заменяем на медиану/среднее\n",
    " - НЕнормальное распределение:\n",
    "   - заменяем на медиану\n",
    "- **Дискретные**\n",
    " - заменяем на моду/среднее\n",
    "\n",
    "**Категориальные данные**:\n",
    " -  заменяем на моду"
   ]
  },
  {
   "cell_type": "markdown",
   "metadata": {
    "id": "wSx2l_IzBUlW"
   },
   "source": [
    "1. Определяем какая мера центральной тенденции лучше оценит типичное наблюдение из нашего распределения данных"
   ]
  },
  {
   "cell_type": "code",
   "execution_count": 21,
   "metadata": {
    "colab": {
     "base_uri": "https://localhost:8080/",
     "height": 447
    },
    "id": "I1Z3pIeJg4CG",
    "outputId": "a1aa2794-c1de-4c20-ce16-fbbfd56b11bb"
   },
   "outputs": [
    {
     "data": {
      "image/png": "[encoded data removed]",
      "text/plain": [
       "<Figure size 432x288 with 1 Axes>"
      ]
     },
     "metadata": {
      "needs_background": "light"
     },
     "output_type": "display_data"
    }
   ],
   "source": [
    "df['Age'].plot(kind = \"hist\");"
   ]
  },
  {
   "cell_type": "markdown",
   "metadata": {
    "id": "kwDEe1DcB0jO"
   },
   "source": [
    "2. Ищем эту меру центральной тенденции"
   ]
  },
  {
   "cell_type": "code",
   "execution_count": 22,
   "metadata": {
    "colab": {
     "base_uri": "https://localhost:8080/"
    },
    "id": "-dO4xCzzibU1",
    "outputId": "6a5f17bb-f1a6-4213-9d58-a8ae24ffd651"
   },
   "outputs": [
    {
     "data": {
      "text/plain": [
       "28.0"
      ]
     },
     "execution_count": 22,
     "metadata": {},
     "output_type": "execute_result"
    }
   ],
   "source": [
    "df['Age'].median()"
   ]
  },
  {
   "cell_type": "markdown",
   "metadata": {
    "id": "Ggvph-6qB55X"
   },
   "source": [
    "3. Заменяем на меру центральной тенденции"
   ]
  },
  {
   "cell_type": "code",
   "execution_count": 23,
   "metadata": {
    "id": "xedvCBPFXh2-"
   },
   "outputs": [],
   "source": [
    "df['Age_fillna'] = df['Age'].fillna(df['Age'].median()) #заменяем все пропуски в столбце возраст на Медиану"
   ]
  },
  {
   "cell_type": "markdown",
   "metadata": {
    "id": "YAooXBC9CHs9"
   },
   "source": [
    "4. Проверяем, что все пропуски заменились"
   ]
  },
  {
   "cell_type": "code",
   "execution_count": 24,
   "metadata": {
    "colab": {
     "base_uri": "https://localhost:8080/",
     "height": 424
    },
    "id": "WS3F3C6wCLwY",
    "outputId": "158897e6-f0e2-4172-91e2-c0b5c81be3cd"
   },
   "outputs": [
    {
     "data": {
      "text/html": [
       "<div>\n",
       "<style scoped>\n",
       "    .dataframe tbody tr th:only-of-type {\n",
       "        vertical-align: middle;\n",
       "    }\n",
       "\n",
       "    .dataframe tbody tr th {\n",
       "        vertical-align: top;\n",
       "    }\n",
       "\n",
       "    .dataframe thead th {\n",
       "        text-align: right;\n",
       "    }\n",
       "</style>\n",
       "<table border=\"1\" class=\"dataframe\">\n",
       "  <thead>\n",
       "    <tr style=\"text-align: right;\">\n",
       "      <th></th>\n",
       "      <th>PassengerId</th>\n",
       "      <th>Survived</th>\n",
       "      <th>Pclass</th>\n",
       "      <th>Name</th>\n",
       "      <th>Sex</th>\n",
       "      <th>Age</th>\n",
       "      <th>SibSp</th>\n",
       "      <th>Parch</th>\n",
       "      <th>Ticket</th>\n",
       "      <th>Fare</th>\n",
       "      <th>Cabin</th>\n",
       "      <th>Embarked</th>\n",
       "      <th>Age_fillna</th>\n",
       "    </tr>\n",
       "  </thead>\n",
       "  <tbody>\n",
       "    <tr>\n",
       "      <th>5</th>\n",
       "      <td>6</td>\n",
       "      <td>0</td>\n",
       "      <td>3</td>\n",
       "      <td>Moran, Mr. James</td>\n",
       "      <td>male</td>\n",
       "      <td>NaN</td>\n",
       "      <td>0</td>\n",
       "      <td>0</td>\n",
       "      <td>330877</td>\n",
       "      <td>8.4583</td>\n",
       "      <td>NaN</td>\n",
       "      <td>Q</td>\n",
       "      <td>28.0</td>\n",
       "    </tr>\n",
       "    <tr>\n",
       "      <th>17</th>\n",
       "      <td>18</td>\n",
       "      <td>1</td>\n",
       "      <td>2</td>\n",
       "      <td>Williams, Mr. Charles Eugene</td>\n",
       "      <td>male</td>\n",
       "      <td>NaN</td>\n",
       "      <td>0</td>\n",
       "      <td>0</td>\n",
       "      <td>244373</td>\n",
       "      <td>13.0000</td>\n",
       "      <td>NaN</td>\n",
       "      <td>S</td>\n",
       "      <td>28.0</td>\n",
       "    </tr>\n",
       "    <tr>\n",
       "      <th>19</th>\n",
       "      <td>20</td>\n",
       "      <td>1</td>\n",
       "      <td>3</td>\n",
       "      <td>Masselmani, Mrs. Fatima</td>\n",
       "      <td>female</td>\n",
       "      <td>NaN</td>\n",
       "      <td>0</td>\n",
       "      <td>0</td>\n",
       "      <td>2649</td>\n",
       "      <td>7.2250</td>\n",
       "      <td>NaN</td>\n",
       "      <td>C</td>\n",
       "      <td>28.0</td>\n",
       "    </tr>\n",
       "    <tr>\n",
       "      <th>26</th>\n",
       "      <td>27</td>\n",
       "      <td>0</td>\n",
       "      <td>3</td>\n",
       "      <td>Emir, Mr. Farred Chehab</td>\n",
       "      <td>male</td>\n",
       "      <td>NaN</td>\n",
       "      <td>0</td>\n",
       "      <td>0</td>\n",
       "      <td>2631</td>\n",
       "      <td>7.2250</td>\n",
       "      <td>NaN</td>\n",
       "      <td>C</td>\n",
       "      <td>28.0</td>\n",
       "    </tr>\n",
       "    <tr>\n",
       "      <th>28</th>\n",
       "      <td>29</td>\n",
       "      <td>1</td>\n",
       "      <td>3</td>\n",
       "      <td>O'Dwyer, Miss. Ellen \"Nellie\"</td>\n",
       "      <td>female</td>\n",
       "      <td>NaN</td>\n",
       "      <td>0</td>\n",
       "      <td>0</td>\n",
       "      <td>330959</td>\n",
       "      <td>7.8792</td>\n",
       "      <td>NaN</td>\n",
       "      <td>Q</td>\n",
       "      <td>28.0</td>\n",
       "    </tr>\n",
       "    <tr>\n",
       "      <th>...</th>\n",
       "      <td>...</td>\n",
       "      <td>...</td>\n",
       "      <td>...</td>\n",
       "      <td>...</td>\n",
       "      <td>...</td>\n",
       "      <td>...</td>\n",
       "      <td>...</td>\n",
       "      <td>...</td>\n",
       "      <td>...</td>\n",
       "      <td>...</td>\n",
       "      <td>...</td>\n",
       "      <td>...</td>\n",
       "      <td>...</td>\n",
       "    </tr>\n",
       "    <tr>\n",
       "      <th>859</th>\n",
       "      <td>860</td>\n",
       "      <td>0</td>\n",
       "      <td>3</td>\n",
       "      <td>Razi, Mr. Raihed</td>\n",
       "      <td>male</td>\n",
       "      <td>NaN</td>\n",
       "      <td>0</td>\n",
       "      <td>0</td>\n",
       "      <td>2629</td>\n",
       "      <td>7.2292</td>\n",
       "      <td>NaN</td>\n",
       "      <td>C</td>\n",
       "      <td>28.0</td>\n",
       "    </tr>\n",
       "    <tr>\n",
       "      <th>863</th>\n",
       "      <td>864</td>\n",
       "      <td>0</td>\n",
       "      <td>3</td>\n",
       "      <td>Sage, Miss. Dorothy Edith \"Dolly\"</td>\n",
       "      <td>female</td>\n",
       "      <td>NaN</td>\n",
       "      <td>8</td>\n",
       "      <td>2</td>\n",
       "      <td>CA. 2343</td>\n",
       "      <td>69.5500</td>\n",
       "      <td>NaN</td>\n",
       "      <td>S</td>\n",
       "      <td>28.0</td>\n",
       "    </tr>\n",
       "    <tr>\n",
       "      <th>868</th>\n",
       "      <td>869</td>\n",
       "      <td>0</td>\n",
       "      <td>3</td>\n",
       "      <td>van Melkebeke, Mr. Philemon</td>\n",
       "      <td>male</td>\n",
       "      <td>NaN</td>\n",
       "      <td>0</td>\n",
       "      <td>0</td>\n",
       "      <td>345777</td>\n",
       "      <td>9.5000</td>\n",
       "      <td>NaN</td>\n",
       "      <td>S</td>\n",
       "      <td>28.0</td>\n",
       "    </tr>\n",
       "    <tr>\n",
       "      <th>878</th>\n",
       "      <td>879</td>\n",
       "      <td>0</td>\n",
       "      <td>3</td>\n",
       "      <td>Laleff, Mr. Kristo</td>\n",
       "      <td>male</td>\n",
       "      <td>NaN</td>\n",
       "      <td>0</td>\n",
       "      <td>0</td>\n",
       "      <td>349217</td>\n",
       "      <td>7.8958</td>\n",
       "      <td>NaN</td>\n",
       "      <td>S</td>\n",
       "      <td>28.0</td>\n",
       "    </tr>\n",
       "    <tr>\n",
       "      <th>888</th>\n",
       "      <td>889</td>\n",
       "      <td>0</td>\n",
       "      <td>3</td>\n",
       "      <td>Johnston, Miss. Catherine Helen \"Carrie\"</td>\n",
       "      <td>female</td>\n",
       "      <td>NaN</td>\n",
       "      <td>1</td>\n",
       "      <td>2</td>\n",
       "      <td>W./C. 6607</td>\n",
       "      <td>23.4500</td>\n",
       "      <td>NaN</td>\n",
       "      <td>S</td>\n",
       "      <td>28.0</td>\n",
       "    </tr>\n",
       "  </tbody>\n",
       "</table>\n",
       "<p>177 rows × 13 columns</p>\n",
       "</div>"
      ],
      "text/plain": [
       "     PassengerId  Survived  Pclass                                      Name  \\\n",
       "5              6         0       3                          Moran, Mr. James   \n",
       "17            18         1       2              Williams, Mr. Charles Eugene   \n",
       "19            20         1       3                   Masselmani, Mrs. Fatima   \n",
       "26            27         0       3                   Emir, Mr. Farred Chehab   \n",
       "28            29         1       3             O'Dwyer, Miss. Ellen \"Nellie\"   \n",
       "..           ...       ...     ...                                       ...   \n",
       "859          860         0       3                          Razi, Mr. Raihed   \n",
       "863          864         0       3         Sage, Miss. Dorothy Edith \"Dolly\"   \n",
       "868          869         0       3               van Melkebeke, Mr. Philemon   \n",
       "878          879         0       3                        Laleff, Mr. Kristo   \n",
       "888          889         0       3  Johnston, Miss. Catherine Helen \"Carrie\"   \n",
       "\n",
       "        Sex  Age  SibSp  Parch      Ticket     Fare Cabin Embarked  Age_fillna  \n",
       "5      male  NaN      0      0      330877   8.4583   NaN        Q        28.0  \n",
       "17     male  NaN      0      0      244373  13.0000   NaN        S        28.0  \n",
       "19   female  NaN      0      0        2649   7.2250   NaN        C        28.0  \n",
       "26     male  NaN      0      0        2631   7.2250   NaN        C        28.0  \n",
       "28   female  NaN      0      0      330959   7.8792   NaN        Q        28.0  \n",
       "..      ...  ...    ...    ...         ...      ...   ...      ...         ...  \n",
       "859    male  NaN      0      0        2629   7.2292   NaN        C        28.0  \n",
       "863  female  NaN      8      2    CA. 2343  69.5500   NaN        S        28.0  \n",
       "868    male  NaN      0      0      345777   9.5000   NaN        S        28.0  \n",
       "878    male  NaN      0      0      349217   7.8958   NaN        S        28.0  \n",
       "888  female  NaN      1      2  W./C. 6607  23.4500   NaN        S        28.0  \n",
       "\n",
       "[177 rows x 13 columns]"
      ]
     },
     "execution_count": 24,
     "metadata": {},
     "output_type": "execute_result"
    }
   ],
   "source": [
    "df[df['Age'].isna()]"
   ]
  },
  {
   "cell_type": "code",
   "execution_count": 25,
   "metadata": {
    "colab": {
     "base_uri": "https://localhost:8080/",
     "height": 458
    },
    "id": "u8Fx-Eqz2WCl",
    "outputId": "c325075b-fc57-4803-c2d0-07cd68bd79b6"
   },
   "outputs": [
    {
     "data": {
      "text/html": [
       "<div>\n",
       "<style scoped>\n",
       "    .dataframe tbody tr th:only-of-type {\n",
       "        vertical-align: middle;\n",
       "    }\n",
       "\n",
       "    .dataframe tbody tr th {\n",
       "        vertical-align: top;\n",
       "    }\n",
       "\n",
       "    .dataframe thead th {\n",
       "        text-align: right;\n",
       "    }\n",
       "</style>\n",
       "<table border=\"1\" class=\"dataframe\">\n",
       "  <thead>\n",
       "    <tr style=\"text-align: right;\">\n",
       "      <th></th>\n",
       "      <th>PassengerId</th>\n",
       "      <th>Survived</th>\n",
       "      <th>Pclass</th>\n",
       "      <th>Name</th>\n",
       "      <th>Sex</th>\n",
       "      <th>Age</th>\n",
       "      <th>SibSp</th>\n",
       "      <th>Parch</th>\n",
       "      <th>Ticket</th>\n",
       "      <th>Fare</th>\n",
       "      <th>Cabin</th>\n",
       "      <th>Embarked</th>\n",
       "      <th>Age_fillna</th>\n",
       "    </tr>\n",
       "  </thead>\n",
       "  <tbody>\n",
       "    <tr>\n",
       "      <th>0</th>\n",
       "      <td>1</td>\n",
       "      <td>0</td>\n",
       "      <td>3</td>\n",
       "      <td>Braund, Mr. Owen Harris</td>\n",
       "      <td>male</td>\n",
       "      <td>22.0</td>\n",
       "      <td>1</td>\n",
       "      <td>0</td>\n",
       "      <td>A/5 21171</td>\n",
       "      <td>7.2500</td>\n",
       "      <td>NaN</td>\n",
       "      <td>S</td>\n",
       "      <td>22.0</td>\n",
       "    </tr>\n",
       "    <tr>\n",
       "      <th>1</th>\n",
       "      <td>2</td>\n",
       "      <td>1</td>\n",
       "      <td>1</td>\n",
       "      <td>Cumings, Mrs. John Bradley (Florence Briggs Th...</td>\n",
       "      <td>female</td>\n",
       "      <td>38.0</td>\n",
       "      <td>1</td>\n",
       "      <td>0</td>\n",
       "      <td>PC 17599</td>\n",
       "      <td>71.2833</td>\n",
       "      <td>C85</td>\n",
       "      <td>C</td>\n",
       "      <td>38.0</td>\n",
       "    </tr>\n",
       "    <tr>\n",
       "      <th>2</th>\n",
       "      <td>3</td>\n",
       "      <td>1</td>\n",
       "      <td>3</td>\n",
       "      <td>Heikkinen, Miss. Laina</td>\n",
       "      <td>female</td>\n",
       "      <td>26.0</td>\n",
       "      <td>0</td>\n",
       "      <td>0</td>\n",
       "      <td>STON/O2. 3101282</td>\n",
       "      <td>7.9250</td>\n",
       "      <td>NaN</td>\n",
       "      <td>S</td>\n",
       "      <td>26.0</td>\n",
       "    </tr>\n",
       "    <tr>\n",
       "      <th>3</th>\n",
       "      <td>4</td>\n",
       "      <td>1</td>\n",
       "      <td>1</td>\n",
       "      <td>Futrelle, Mrs. Jacques Heath (Lily May Peel)</td>\n",
       "      <td>female</td>\n",
       "      <td>35.0</td>\n",
       "      <td>1</td>\n",
       "      <td>0</td>\n",
       "      <td>113803</td>\n",
       "      <td>53.1000</td>\n",
       "      <td>C123</td>\n",
       "      <td>S</td>\n",
       "      <td>35.0</td>\n",
       "    </tr>\n",
       "    <tr>\n",
       "      <th>4</th>\n",
       "      <td>5</td>\n",
       "      <td>0</td>\n",
       "      <td>3</td>\n",
       "      <td>Allen, Mr. William Henry</td>\n",
       "      <td>male</td>\n",
       "      <td>35.0</td>\n",
       "      <td>0</td>\n",
       "      <td>0</td>\n",
       "      <td>373450</td>\n",
       "      <td>8.0500</td>\n",
       "      <td>NaN</td>\n",
       "      <td>S</td>\n",
       "      <td>35.0</td>\n",
       "    </tr>\n",
       "    <tr>\n",
       "      <th>...</th>\n",
       "      <td>...</td>\n",
       "      <td>...</td>\n",
       "      <td>...</td>\n",
       "      <td>...</td>\n",
       "      <td>...</td>\n",
       "      <td>...</td>\n",
       "      <td>...</td>\n",
       "      <td>...</td>\n",
       "      <td>...</td>\n",
       "      <td>...</td>\n",
       "      <td>...</td>\n",
       "      <td>...</td>\n",
       "      <td>...</td>\n",
       "    </tr>\n",
       "    <tr>\n",
       "      <th>885</th>\n",
       "      <td>886</td>\n",
       "      <td>0</td>\n",
       "      <td>3</td>\n",
       "      <td>Rice, Mrs. William (Margaret Norton)</td>\n",
       "      <td>female</td>\n",
       "      <td>39.0</td>\n",
       "      <td>0</td>\n",
       "      <td>5</td>\n",
       "      <td>382652</td>\n",
       "      <td>29.1250</td>\n",
       "      <td>NaN</td>\n",
       "      <td>Q</td>\n",
       "      <td>39.0</td>\n",
       "    </tr>\n",
       "    <tr>\n",
       "      <th>886</th>\n",
       "      <td>887</td>\n",
       "      <td>0</td>\n",
       "      <td>2</td>\n",
       "      <td>Montvila, Rev. Juozas</td>\n",
       "      <td>male</td>\n",
       "      <td>27.0</td>\n",
       "      <td>0</td>\n",
       "      <td>0</td>\n",
       "      <td>211536</td>\n",
       "      <td>13.0000</td>\n",
       "      <td>NaN</td>\n",
       "      <td>S</td>\n",
       "      <td>27.0</td>\n",
       "    </tr>\n",
       "    <tr>\n",
       "      <th>887</th>\n",
       "      <td>888</td>\n",
       "      <td>1</td>\n",
       "      <td>1</td>\n",
       "      <td>Graham, Miss. Margaret Edith</td>\n",
       "      <td>female</td>\n",
       "      <td>19.0</td>\n",
       "      <td>0</td>\n",
       "      <td>0</td>\n",
       "      <td>112053</td>\n",
       "      <td>30.0000</td>\n",
       "      <td>B42</td>\n",
       "      <td>S</td>\n",
       "      <td>19.0</td>\n",
       "    </tr>\n",
       "    <tr>\n",
       "      <th>889</th>\n",
       "      <td>890</td>\n",
       "      <td>1</td>\n",
       "      <td>1</td>\n",
       "      <td>Behr, Mr. Karl Howell</td>\n",
       "      <td>male</td>\n",
       "      <td>26.0</td>\n",
       "      <td>0</td>\n",
       "      <td>0</td>\n",
       "      <td>111369</td>\n",
       "      <td>30.0000</td>\n",
       "      <td>C148</td>\n",
       "      <td>C</td>\n",
       "      <td>26.0</td>\n",
       "    </tr>\n",
       "    <tr>\n",
       "      <th>890</th>\n",
       "      <td>891</td>\n",
       "      <td>0</td>\n",
       "      <td>3</td>\n",
       "      <td>Dooley, Mr. Patrick</td>\n",
       "      <td>male</td>\n",
       "      <td>32.0</td>\n",
       "      <td>0</td>\n",
       "      <td>0</td>\n",
       "      <td>370376</td>\n",
       "      <td>7.7500</td>\n",
       "      <td>NaN</td>\n",
       "      <td>Q</td>\n",
       "      <td>32.0</td>\n",
       "    </tr>\n",
       "  </tbody>\n",
       "</table>\n",
       "<p>714 rows × 13 columns</p>\n",
       "</div>"
      ],
      "text/plain": [
       "     PassengerId  Survived  Pclass  \\\n",
       "0              1         0       3   \n",
       "1              2         1       1   \n",
       "2              3         1       3   \n",
       "3              4         1       1   \n",
       "4              5         0       3   \n",
       "..           ...       ...     ...   \n",
       "885          886         0       3   \n",
       "886          887         0       2   \n",
       "887          888         1       1   \n",
       "889          890         1       1   \n",
       "890          891         0       3   \n",
       "\n",
       "                                                  Name     Sex   Age  SibSp  \\\n",
       "0                              Braund, Mr. Owen Harris    male  22.0      1   \n",
       "1    Cumings, Mrs. John Bradley (Florence Briggs Th...  female  38.0      1   \n",
       "2                               Heikkinen, Miss. Laina  female  26.0      0   \n",
       "3         Futrelle, Mrs. Jacques Heath (Lily May Peel)  female  35.0      1   \n",
       "4                             Allen, Mr. William Henry    male  35.0      0   \n",
       "..                                                 ...     ...   ...    ...   \n",
       "885               Rice, Mrs. William (Margaret Norton)  female  39.0      0   \n",
       "886                              Montvila, Rev. Juozas    male  27.0      0   \n",
       "887                       Graham, Miss. Margaret Edith  female  19.0      0   \n",
       "889                              Behr, Mr. Karl Howell    male  26.0      0   \n",
       "890                                Dooley, Mr. Patrick    male  32.0      0   \n",
       "\n",
       "     Parch            Ticket     Fare Cabin Embarked  Age_fillna  \n",
       "0        0         A/5 21171   7.2500   NaN        S        22.0  \n",
       "1        0          PC 17599  71.2833   C85        C        38.0  \n",
       "2        0  STON/O2. 3101282   7.9250   NaN        S        26.0  \n",
       "3        0            113803  53.1000  C123        S        35.0  \n",
       "4        0            373450   8.0500   NaN        S        35.0  \n",
       "..     ...               ...      ...   ...      ...         ...  \n",
       "885      5            382652  29.1250   NaN        Q        39.0  \n",
       "886      0            211536  13.0000   NaN        S        27.0  \n",
       "887      0            112053  30.0000   B42        S        19.0  \n",
       "889      0            111369  30.0000  C148        C        26.0  \n",
       "890      0            370376   7.7500   NaN        Q        32.0  \n",
       "\n",
       "[714 rows x 13 columns]"
      ]
     },
     "execution_count": 25,
     "metadata": {},
     "output_type": "execute_result"
    }
   ],
   "source": [
    "df[df['Age'].isna()==False]"
   ]
  },
  {
   "cell_type": "markdown",
   "metadata": {
    "id": "iDHcu-PZCRdt"
   },
   "source": [
    "Пример с категориальной:"
   ]
  },
  {
   "cell_type": "code",
   "execution_count": 26,
   "metadata": {
    "colab": {
     "base_uri": "https://localhost:8080/",
     "height": 36
    },
    "id": "72MG_0-Oiqsb",
    "outputId": "8cfeacfb-bbb8-4448-aa04-d5475a641857"
   },
   "outputs": [
    {
     "data": {
      "text/plain": [
       "'S'"
      ]
     },
     "execution_count": 26,
     "metadata": {},
     "output_type": "execute_result"
    }
   ],
   "source": [
    "df['Embarked'].mode()[0]"
   ]
  },
  {
   "cell_type": "code",
   "execution_count": 27,
   "metadata": {
    "colab": {
     "base_uri": "https://localhost:8080/",
     "height": 199
    },
    "id": "S4IyuoUYhMC1",
    "outputId": "edf4c8a4-53a2-43ad-c7a0-5325e4c73137"
   },
   "outputs": [
    {
     "data": {
      "text/html": [
       "<div>\n",
       "<style scoped>\n",
       "    .dataframe tbody tr th:only-of-type {\n",
       "        vertical-align: middle;\n",
       "    }\n",
       "\n",
       "    .dataframe tbody tr th {\n",
       "        vertical-align: top;\n",
       "    }\n",
       "\n",
       "    .dataframe thead th {\n",
       "        text-align: right;\n",
       "    }\n",
       "</style>\n",
       "<table border=\"1\" class=\"dataframe\">\n",
       "  <thead>\n",
       "    <tr style=\"text-align: right;\">\n",
       "      <th></th>\n",
       "      <th>PassengerId</th>\n",
       "      <th>Survived</th>\n",
       "      <th>Pclass</th>\n",
       "      <th>Name</th>\n",
       "      <th>Sex</th>\n",
       "      <th>Age</th>\n",
       "      <th>SibSp</th>\n",
       "      <th>Parch</th>\n",
       "      <th>Ticket</th>\n",
       "      <th>Fare</th>\n",
       "      <th>Cabin</th>\n",
       "      <th>Embarked</th>\n",
       "      <th>Age_fillna</th>\n",
       "      <th>Embarked_fillna</th>\n",
       "    </tr>\n",
       "  </thead>\n",
       "  <tbody>\n",
       "    <tr>\n",
       "      <th>61</th>\n",
       "      <td>62</td>\n",
       "      <td>1</td>\n",
       "      <td>1</td>\n",
       "      <td>Icard, Miss. Amelie</td>\n",
       "      <td>female</td>\n",
       "      <td>38.0</td>\n",
       "      <td>0</td>\n",
       "      <td>0</td>\n",
       "      <td>113572</td>\n",
       "      <td>80.0</td>\n",
       "      <td>B28</td>\n",
       "      <td>NaN</td>\n",
       "      <td>38.0</td>\n",
       "      <td>S</td>\n",
       "    </tr>\n",
       "    <tr>\n",
       "      <th>829</th>\n",
       "      <td>830</td>\n",
       "      <td>1</td>\n",
       "      <td>1</td>\n",
       "      <td>Stone, Mrs. George Nelson (Martha Evelyn)</td>\n",
       "      <td>female</td>\n",
       "      <td>62.0</td>\n",
       "      <td>0</td>\n",
       "      <td>0</td>\n",
       "      <td>113572</td>\n",
       "      <td>80.0</td>\n",
       "      <td>B28</td>\n",
       "      <td>NaN</td>\n",
       "      <td>62.0</td>\n",
       "      <td>S</td>\n",
       "    </tr>\n",
       "  </tbody>\n",
       "</table>\n",
       "</div>"
      ],
      "text/plain": [
       "     PassengerId  Survived  Pclass                                       Name  \\\n",
       "61            62         1       1                        Icard, Miss. Amelie   \n",
       "829          830         1       1  Stone, Mrs. George Nelson (Martha Evelyn)   \n",
       "\n",
       "        Sex   Age  SibSp  Parch  Ticket  Fare Cabin Embarked  Age_fillna  \\\n",
       "61   female  38.0      0      0  113572  80.0   B28      NaN        38.0   \n",
       "829  female  62.0      0      0  113572  80.0   B28      NaN        62.0   \n",
       "\n",
       "    Embarked_fillna  \n",
       "61                S  \n",
       "829               S  "
      ]
     },
     "execution_count": 27,
     "metadata": {},
     "output_type": "execute_result"
    }
   ],
   "source": [
    "df['Embarked_fillna'] = df['Embarked'].fillna(df['Embarked'].mode()[0]) #заменяем все пропуски в столбце порт на моду\n",
    "df[df['Embarked'].isna()] #проверяем, что замена случилась"
   ]
  },
  {
   "cell_type": "markdown",
   "metadata": {
    "id": "xD52ocsNEuRs"
   },
   "source": [
    "## **Выбросы**"
   ]
  },
  {
   "cell_type": "markdown",
   "metadata": {
    "id": "wN_HY6APFRTH"
   },
   "source": [
    "**Выброс** — это аномальное значение в данных, которое значительно отличается от значения, выраженного мерой центральной тенденции и в целом от распределения данных в выборке\n",
    "\n"
   ]
  },
  {
   "cell_type": "code",
   "execution_count": 28,
   "metadata": {
    "colab": {
     "base_uri": "https://localhost:8080/",
     "height": 284
    },
    "id": "YUpf5RniFaZb",
    "outputId": "cb56fb1f-f20f-4d6b-ca75-86f98926a1cf"
   },
   "outputs": [
    {
     "data": {
      "image/png": "[encoded data removed]",
      "text/plain": [
       "<Figure size 432x288 with 1 Axes>"
      ]
     },
     "metadata": {
      "needs_background": "light"
     },
     "output_type": "display_data"
    }
   ],
   "source": [
    "pd.Series([1,2,3,4,5,6,7,8,9,100]).hist(bins=100);"
   ]
  },
  {
   "cell_type": "code",
   "execution_count": 29,
   "metadata": {
    "colab": {
     "base_uri": "https://localhost:8080/",
     "height": 448
    },
    "id": "jzwQyypyEwOJ",
    "outputId": "3c3e486c-d50c-49af-953f-92f2bc4bef8a"
   },
   "outputs": [
    {
     "data": {
      "image/png": "[encoded data removed]",
      "text/plain": [
       "<Figure size 432x288 with 1 Axes>"
      ]
     },
     "metadata": {
      "needs_background": "light"
     },
     "output_type": "display_data"
    }
   ],
   "source": [
    "df['Age_fillna'].hist();"
   ]
  },
  {
   "cell_type": "markdown",
   "metadata": {
    "id": "tvHFlOcGGKP-"
   },
   "source": [
    "Два способа найти выбросы:\n",
    "- IQR*1.5\n",
    "- std/2 *std/3 *std"
   ]
  },
  {
   "cell_type": "markdown",
   "metadata": {
    "id": "g1xqtaL8GaU2"
   },
   "source": [
    "### 1.5*IQR"
   ]
  },
  {
   "cell_type": "markdown",
   "metadata": {
    "id": "ilAXhyn9MHSy"
   },
   "source": [
    "0. Построим ящик с усами и посмотрим на выбросы визуально"
   ]
  },
  {
   "cell_type": "markdown",
   "metadata": {
    "id": "lnl_P7p1MvGt"
   },
   "source": [
    "![image.png](data:image/png;base64,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)"
   ]
  },
  {
   "cell_type": "code",
   "execution_count": 30,
   "metadata": {
    "colab": {
     "base_uri": "https://localhost:8080/",
     "height": 447
    },
    "id": "rT20LhoZMNOQ",
    "outputId": "cdc8f3bf-cd73-4e4d-bdaa-695058b3cf59"
   },
   "outputs": [
    {
     "data": {
      "image/png": "[encoded data removed]",
      "text/plain": [
       "<Figure size 864x576 with 1 Axes>"
      ]
     },
     "metadata": {
      "needs_background": "light"
     },
     "output_type": "display_data"
    }
   ],
   "source": [
    "df['Age_fillna'].plot(kind = \"box\", vert=False, figsize=(12,8));"
   ]
  },
  {
   "cell_type": "markdown",
   "metadata": {
    "id": "H1hVR2IUHdwS"
   },
   "source": [
    "1. Находим межрквартильное расстояние"
   ]
  },
  {
   "cell_type": "code",
   "execution_count": 31,
   "metadata": {
    "colab": {
     "base_uri": "https://localhost:8080/"
    },
    "id": "1sZqCSshGFKH",
    "outputId": "5fc5cc1f-806a-45ab-9f1c-6696b2881e65"
   },
   "outputs": [
    {
     "data": {
      "text/plain": [
       "22.0"
      ]
     },
     "execution_count": 31,
     "metadata": {},
     "output_type": "execute_result"
    }
   ],
   "source": [
    "q1=df['Age_fillna'].quantile(0.25)\n",
    "q1"
   ]
  },
  {
   "cell_type": "code",
   "execution_count": 32,
   "metadata": {
    "colab": {
     "base_uri": "https://localhost:8080/"
    },
    "id": "Hlmg4af7H1Yi",
    "outputId": "ae52316e-9cbb-4d75-b1fc-b4fd44d2e9be"
   },
   "outputs": [
    {
     "data": {
      "text/plain": [
       "35.0"
      ]
     },
     "execution_count": 32,
     "metadata": {},
     "output_type": "execute_result"
    }
   ],
   "source": [
    "q3=df['Age_fillna'].quantile(0.75)\n",
    "q3"
   ]
  },
  {
   "cell_type": "code",
   "execution_count": 33,
   "metadata": {
    "colab": {
     "base_uri": "https://localhost:8080/"
    },
    "id": "lNCrgAsjH690",
    "outputId": "cb3f9c0a-04e2-447b-891e-a49f283a891c"
   },
   "outputs": [
    {
     "data": {
      "text/plain": [
       "13.0"
      ]
     },
     "execution_count": 33,
     "metadata": {},
     "output_type": "execute_result"
    }
   ],
   "source": [
    "iqr = q3-q1\n",
    "iqr"
   ]
  },
  {
   "cell_type": "markdown",
   "metadata": {
    "id": "5C2fV1M5IDQ1"
   },
   "source": [
    "2. Находим границы интервала, все значения за пределами которого буду считаться выбросами"
   ]
  },
  {
   "cell_type": "code",
   "execution_count": 34,
   "metadata": {
    "colab": {
     "base_uri": "https://localhost:8080/"
    },
    "id": "9tzke1rzISrB",
    "outputId": "506637d4-b544-407e-a259-5cb967b4a88f"
   },
   "outputs": [
    {
     "data": {
      "text/plain": [
       "2.5"
      ]
     },
     "execution_count": 34,
     "metadata": {},
     "output_type": "execute_result"
    }
   ],
   "source": [
    "low1 = q1 - iqr*1.5 #нижняя границы\n",
    "low1"
   ]
  },
  {
   "cell_type": "code",
   "execution_count": 35,
   "metadata": {
    "colab": {
     "base_uri": "https://localhost:8080/"
    },
    "id": "dgweWomaIY9Z",
    "outputId": "01df6524-2bcb-4f57-ad12-dd4b6f22265a"
   },
   "outputs": [
    {
     "data": {
      "text/plain": [
       "54.5"
      ]
     },
     "execution_count": 35,
     "metadata": {},
     "output_type": "execute_result"
    }
   ],
   "source": [
    "up1 = q3 + iqr*1.5 #верхняя граница\n",
    "up1"
   ]
  },
  {
   "cell_type": "code",
   "execution_count": 43,
   "metadata": {},
   "outputs": [
    {
     "data": {
      "image/png": "[encoded data removed]",
      "text/plain": [
       "<Figure size 432x288 with 1 Axes>"
      ]
     },
     "metadata": {
      "needs_background": "light"
     },
     "output_type": "display_data"
    }
   ],
   "source": [
    "plt.hist(df['Age_fillna'], bins=20)\n",
    "plt.axvline(low1, color='r', linewidth=2)\n",
    "plt.axvline(up1, color='r', linewidth=2);"
   ]
  },
  {
   "cell_type": "markdown",
   "metadata": {
    "id": "7IuyHqA1J7bX"
   },
   "source": [
    "3. Сделаем фильтрацию и посчитаем те значения, которые являются выбросами"
   ]
  },
  {
   "cell_type": "code",
   "execution_count": 41,
   "metadata": {
    "colab": {
     "base_uri": "https://localhost:8080/"
    },
    "id": "c0uok8HmKMG4",
    "outputId": "2cb90029-606f-4ce8-8ab8-5071e5277448"
   },
   "outputs": [
    {
     "data": {
      "text/plain": [
       "66"
      ]
     },
     "execution_count": 41,
     "metadata": {},
     "output_type": "execute_result"
    }
   ],
   "source": [
    "df[(df['Age_fillna']<low1) | (df['Age_fillna']>up1)].shape[0]"
   ]
  },
  {
   "cell_type": "markdown",
   "metadata": {
    "id": "V_3twxh-LQgQ"
   },
   "source": [
    "4. А теперь посмотрим на распределение данных без учета выбросов"
   ]
  },
  {
   "cell_type": "code",
   "execution_count": 49,
   "metadata": {
    "colab": {
     "base_uri": "https://localhost:8080/"
    },
    "id": "gVgyn35PK6A6",
    "outputId": "95e2332e-9579-42de-c500-77ecb9ee2890"
   },
   "outputs": [
    {
     "data": {
      "image/png": "[encoded data removed]",
      "text/plain": [
       "<Figure size 432x288 with 1 Axes>"
      ]
     },
     "metadata": {
      "needs_background": "light"
     },
     "output_type": "display_data"
    }
   ],
   "source": [
    "df[(df['Age_fillna']>=low1) & (df['Age_fillna']<=up1)]['Age_fillna'].plot(kind = \"hist\", bins=20);"
   ]
  },
  {
   "cell_type": "code",
   "execution_count": 46,
   "metadata": {},
   "outputs": [
    {
     "data": {
      "image/png": "[encoded data removed]",
      "text/plain": [
       "<Figure size 432x288 with 1 Axes>"
      ]
     },
     "metadata": {
      "needs_background": "light"
     },
     "output_type": "display_data"
    }
   ],
   "source": [
    "df['Age_fillna'].plot(kind = \"hist\", bins=20);"
   ]
  },
  {
   "cell_type": "markdown",
   "metadata": {
    "id": "dY3M-N3rGfRx"
   },
   "source": [
    "### std/2*std/3 *std"
   ]
  },
  {
   "cell_type": "markdown",
   "metadata": {
    "id": "9WECHGnReV-9"
   },
   "source": [
    "![Снимок экрана 2022-10-17 в 13.24.18.png](data:image/png;base64,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)"
   ]
  },
  {
   "cell_type": "markdown",
   "metadata": {
    "id": "7gP2-LVzetgZ"
   },
   "source": [
    "Если распределение данных нормальное:\n",
    "\n",
    "- если брать **1 стандартное отклонение** от среднего, то НЕ выбросами будут считаться **68,2%** центральных данных\n",
    "\n",
    "- если брать **2 стандартных отклонения** от среднего, то НЕ выбросами будут считаться **95,5%** центральных данных\n",
    "\n",
    "- если брать **3 стандартных отклонения** от среднего, то НЕ выбросами будут считаться **99,7%** центральных данных (а выбросами соответственно 0,2-0,3%)"
   ]
  },
  {
   "cell_type": "markdown",
   "metadata": {
    "id": "jVaS_XKVNndV"
   },
   "source": [
    "1. Находим среднее"
   ]
  },
  {
   "cell_type": "code",
   "execution_count": 45,
   "metadata": {
    "colab": {
     "base_uri": "https://localhost:8080/"
    },
    "id": "1E4YaGOoGgnt",
    "outputId": "15b5bd6b-d59a-4900-8c50-09b17ca20cb2"
   },
   "outputs": [
    {
     "data": {
      "text/plain": [
       "29.36158249158249"
      ]
     },
     "execution_count": 45,
     "metadata": {},
     "output_type": "execute_result"
    }
   ],
   "source": [
    "avg = df['Age_fillna'].mean()\n",
    "avg"
   ]
  },
  {
   "cell_type": "markdown",
   "metadata": {
    "id": "uaMh5HwmNw47"
   },
   "source": [
    "2. Находим стандартное отклонение"
   ]
  },
  {
   "cell_type": "code",
   "execution_count": 46,
   "metadata": {
    "colab": {
     "base_uri": "https://localhost:8080/"
    },
    "id": "GejV6XLUNvSK",
    "outputId": "9ff22f12-06a3-4e88-c1ed-4cb9847e2f28"
   },
   "outputs": [
    {
     "data": {
      "text/plain": [
       "13.019696550973194"
      ]
     },
     "execution_count": 46,
     "metadata": {},
     "output_type": "execute_result"
    }
   ],
   "source": [
    "std = df['Age_fillna'].std()\n",
    "std"
   ]
  },
  {
   "cell_type": "markdown",
   "metadata": {
    "id": "BGB4v9KkOF0z"
   },
   "source": [
    "3. Находим границы интервала, все значения за пределами которого буду считаться выбросами"
   ]
  },
  {
   "cell_type": "code",
   "execution_count": 47,
   "metadata": {
    "colab": {
     "base_uri": "https://localhost:8080/"
    },
    "id": "89jybWlkN_Md",
    "outputId": "5f874839-405a-4d6f-dedf-e1d833a3bc47"
   },
   "outputs": [
    {
     "data": {
      "text/plain": [
       "-9.697507161337093"
      ]
     },
     "execution_count": 47,
     "metadata": {},
     "output_type": "execute_result"
    }
   ],
   "source": [
    "low2 = avg - 3 * std #можно посчитать отклонение и на одно, и на два, и на три\n",
    "low2"
   ]
  },
  {
   "cell_type": "code",
   "execution_count": 48,
   "metadata": {
    "colab": {
     "base_uri": "https://localhost:8080/"
    },
    "id": "JL2XN1otOVu3",
    "outputId": "e2e40cec-25f6-45c6-a4ab-6722e8776993"
   },
   "outputs": [
    {
     "data": {
      "text/plain": [
       "68.42067214450208"
      ]
     },
     "execution_count": 48,
     "metadata": {},
     "output_type": "execute_result"
    }
   ],
   "source": [
    "up2 = avg + 3 * std\n",
    "up2"
   ]
  },
  {
   "cell_type": "code",
   "execution_count": 49,
   "metadata": {},
   "outputs": [
    {
     "data": {
      "image/png": "[encoded data removed]",
      "text/plain": [
       "<Figure size 432x288 with 1 Axes>"
      ]
     },
     "metadata": {
      "needs_background": "light"
     },
     "output_type": "display_data"
    }
   ],
   "source": [
    "plt.hist(df['Age_fillna'], bins=20)\n",
    "plt.axvline(low2, color='g', linewidth=2)\n",
    "plt.axvline(up2, color='g', linewidth=2);"
   ]
  },
  {
   "cell_type": "markdown",
   "metadata": {
    "id": "cYcuyi2pPGCb"
   },
   "source": [
    "3. Сделаем фильтрацию и посчитаем те значения, которые являются выбросами"
   ]
  },
  {
   "cell_type": "code",
   "execution_count": 50,
   "metadata": {
    "colab": {
     "base_uri": "https://localhost:8080/"
    },
    "id": "hWh5VAN8PBO2",
    "outputId": "f89fdd06-e451-4cc9-f082-3f146fa55901"
   },
   "outputs": [
    {
     "data": {
      "text/plain": [
       "7"
      ]
     },
     "execution_count": 50,
     "metadata": {},
     "output_type": "execute_result"
    }
   ],
   "source": [
    "df[(df['Age_fillna']<low2) | (df['Age_fillna']>up2)].shape[0]"
   ]
  },
  {
   "cell_type": "markdown",
   "metadata": {
    "id": "pzuhyoqBPdf_"
   },
   "source": [
    "4. А теперь посмотрим на распределение данных без учета выбросов"
   ]
  },
  {
   "cell_type": "code",
   "execution_count": 51,
   "metadata": {
    "colab": {
     "base_uri": "https://localhost:8080/",
     "height": 447
    },
    "id": "LZRLu2qxPblI",
    "outputId": "bfa9c204-92d4-4f17-e56a-cc6b6d7d41a2"
   },
   "outputs": [
    {
     "data": {
      "image/png": "[encoded data removed]",
      "text/plain": [
       "<Figure size 432x288 with 1 Axes>"
      ]
     },
     "metadata": {
      "needs_background": "light"
     },
     "output_type": "display_data"
    }
   ],
   "source": [
    "df[(df['Age_fillna']>=low2) & (df['Age_fillna']<=up2)]['Age_fillna'].plot(kind = \"hist\", bins=20);"
   ]
  },
  {
   "cell_type": "markdown",
   "metadata": {
    "id": "EjjYgyEmQpmW"
   },
   "source": [
    "### 1.5*IQR vs 3std"
   ]
  },
  {
   "cell_type": "code",
   "execution_count": 52,
   "metadata": {
    "colab": {
     "base_uri": "https://localhost:8080/",
     "height": 449
    },
    "id": "bLA-QNlaP2kQ",
    "outputId": "e582995b-fee6-4a4f-ee05-5fddabe57f47"
   },
   "outputs": [
    {
     "data": {
      "image/png": "[encoded data removed]",
      "text/plain": [
       "<Figure size 432x288 with 1 Axes>"
      ]
     },
     "metadata": {
      "needs_background": "light"
     },
     "output_type": "display_data"
    }
   ],
   "source": [
    "plt.hist(df[\"Age_fillna\"], bins = 20) #строим гистограмму\n",
    "plt.axvline(x=low1, color = 'r', label = '1.5*IQR') #помещаем на него линию нижней границы\n",
    "plt.axvline(x=up1, color = 'r') #помещаем на него линию верхней границы\n",
    "plt.axvline(x=low2, color = 'g', label = '3*std') #помещаем на него линию нижней границы\n",
    "plt.axvline(x=up2, color = 'g') #помещаем на него линию верхней границы\n",
    "plt.legend();"
   ]
  },
  {
   "cell_type": "code",
   "execution_count": 53,
   "metadata": {
    "colab": {
     "base_uri": "https://localhost:8080/"
    },
    "id": "3GCKGgSGRdc4",
    "outputId": "631d6077-3fd4-4a85-c839-ce419df965ef"
   },
   "outputs": [
    {
     "name": "stdout",
     "output_type": "stream",
     "text": [
      "Среднее в изначальной выборке: 29.36158249158249\n",
      "Среднее после 1.5*IQR: 28.515151515151516\n",
      "Среднее после 3*std: 29.02111990950226\n"
     ]
    }
   ],
   "source": [
    "print(f\"Среднее в изначальной выборке: {df['Age_fillna'].mean()}\")\n",
    "print(f\"Среднее после 1.5*IQR: {df[(df['Age_fillna']>=low1) & (df['Age_fillna']<=up1)]['Age_fillna'].mean()}\")\n",
    "print(f\"Среднее после 3*std: {df[(df['Age_fillna']>=low2) & (df['Age_fillna']<=up2)]['Age_fillna'].mean()}\")"
   ]
  },
  {
   "cell_type": "code",
   "execution_count": 54,
   "metadata": {
    "colab": {
     "base_uri": "https://localhost:8080/"
    },
    "id": "UoghRfhsSbWn",
    "outputId": "a2ece671-293b-4718-a67f-36bb4e9acf38",
    "scrolled": true
   },
   "outputs": [
    {
     "name": "stdout",
     "output_type": "stream",
     "text": [
      "Медиана в изначальной выборке: 28.0\n",
      "Медиана после 1.5*IQR: 28.0\n",
      "Медиана после 3*std: 28.0\n"
     ]
    }
   ],
   "source": [
    "print(f\"Медиана в изначальной выборке: {df['Age_fillna'].median()}\")\n",
    "print(f\"Медиана после 1.5*IQR: {df[(df['Age_fillna']>=low1) & (df['Age_fillna']<=up1)]['Age_fillna'].median()}\")\n",
    "print(f\"Медиана после 3*std: {df[(df['Age_fillna']>=low2) & (df['Age_fillna']<=up2)]['Age_fillna'].median()}\")"
   ]
  }
 ],
 "metadata": {
  "colab": {
   "provenance": []
  },
  "kernelspec": {
   "display_name": "Python 3 (ipykernel)",
   "language": "python",
   "name": "python3"
  },
  "language_info": {
   "codemirror_mode": {
    "name": "ipython",
    "version": 3
   },
   "file_extension": ".py",
   "mimetype": "text/x-python",
   "name": "python",
   "nbconvert_exporter": "python",
   "pygments_lexer": "ipython3",
   "version": "3.9.18"
  }
 },
 "nbformat": 4,
 "nbformat_minor": 1
}
