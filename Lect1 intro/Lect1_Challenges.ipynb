{
 "cells": [
  {
   "cell_type": "markdown",
   "metadata": {},
   "source": [
    "# Занятие 1. Задачи"
   ]
  },
  {
   "cell_type": "markdown",
   "metadata": {
    "id": "DkeJhbQq0-9j"
   },
   "source": [
    "## 1. Самая первая задача\n",
    "\n",
    "Напишите программу, которая пригласит человека забрать готовую пиццу из зоны выдачи, написав `“Имя, Ваша пицца готова!”`."
   ]
  },
  {
   "cell_type": "code",
   "execution_count": null,
   "metadata": {},
   "outputs": [],
   "source": [
    "# ваш код"
   ]
  },
  {
   "cell_type": "markdown",
   "metadata": {
    "id": "MO78tXXx6wlt"
   },
   "source": [
    "## 2. Признание\n",
    "\n",
    "Решительный Владимир пообещал своей возлюбленной Лиле написать слово `“ЛЮБ”` 1000 раз. Помогите ему, написав программу, которая выведет на экран строчку `“ЛЮБ”` нужное количество раз."
   ]
  },
  {
   "cell_type": "code",
   "execution_count": null,
   "metadata": {},
   "outputs": [],
   "source": [
    "# ваш код"
   ]
  },
  {
   "cell_type": "markdown",
   "metadata": {
    "id": "7_9YkkUDcfEi"
   },
   "source": [
    "## 3. Налоги\n",
    "\n",
    "Вася открыл собственное кафе и сейчас заполняет налоговую декларацию по упрощённой системе налогообложения “доходы минус расходы”.\n",
    "\n",
    "Посчитайте сумму налогов за год, зная доходы кафе, расходы кафе и процент налоговой ставки, принятой в Васином регионе (этот код уже написан)."
   ]
  },
  {
   "cell_type": "code",
   "execution_count": null,
   "metadata": {},
   "outputs": [],
   "source": [
    "income = 2500000\n",
    "expenses = 1000000\n",
    "tax = 10\n",
    "# ваш код"
   ]
  },
  {
   "cell_type": "markdown",
   "metadata": {},
   "source": [
    "## 4. Долг\n",
    "\n",
    "Алеша постоянно берет у Маши деньги в долг и потом возвращает их с процентами. Помогите Маше написать программу, которая будет высчитывать, сколько денег получит Маша от очередного займа. \n",
    "\n",
    "**ФОРМАТ ВВОДА** \\\n",
    "На первой строке вводится целое число — сумма, которую дала Маша в долг. \\\n",
    "На второй строке вводится целое число — проценты, с которыми Алеша обещал вернуть долг. \n",
    "\n",
    "**ФОРМАТ ВЫВОДА** \\\n",
    "Целое число рублей — сумма денег, которую Даша должна получить от Алеши. Без копеек. "
   ]
  },
  {
   "cell_type": "code",
   "execution_count": null,
   "metadata": {},
   "outputs": [],
   "source": [
    "# ваш код"
   ]
  },
  {
   "cell_type": "markdown",
   "metadata": {},
   "source": [
    "## 5. Контактные данные\n",
    "\n",
    "Вы составляете базу данных контактов. Пользователь вводит имя, e-mail и номер телефона, а ваша программа должна напечатать `Пользователь: <ИМЯ>. E-mail: <E-MAIL>. Контактный номер телефона: <НОМЕР ТЕЛЕФОНА>.`"
   ]
  },
  {
   "cell_type": "code",
   "execution_count": null,
   "metadata": {},
   "outputs": [],
   "source": [
    "# ваш код"
   ]
  }
 ],
 "metadata": {
  "kernelspec": {
   "display_name": "Python 3 (ipykernel)",
   "language": "python",
   "name": "python3"
  },
  "language_info": {
   "codemirror_mode": {
    "name": "ipython",
    "version": 3
   },
   "file_extension": ".py",
   "mimetype": "text/x-python",
   "name": "python",
   "nbconvert_exporter": "python",
   "pygments_lexer": "ipython3",
   "version": "3.9.7"
  }
 },
 "nbformat": 4,
 "nbformat_minor": 4
}
