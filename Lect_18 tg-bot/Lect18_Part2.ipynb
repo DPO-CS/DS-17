{
 "cells": [
  {
   "cell_type": "markdown",
   "id": "a26fbb88",
   "metadata": {},
   "source": [
    "# Деплоим бота на Яндекс.Облаке\n",
    "\n",
    "*Дарья Касьяненко, НИУ ВШЭ*"
   ]
  },
  {
   "cell_type": "markdown",
   "id": "568c69e2",
   "metadata": {},
   "source": [
    "Чтобы код работал автономно, его можно поместить в Cloud Functions в Yandex Cloud. Это модель serverless computing (модель предоставления серверных услуг без аренды или покупки оборудования). Подробнее про бессерверную архитектуру можно прочитать [здесь](https://habr.com/ru/articles/551298/)."
   ]
  },
  {
   "cell_type": "markdown",
   "id": "e9f2c148",
   "metadata": {},
   "source": [
    "## Регистрация и подготовка функции\n",
    "\n",
    "Для начала войдем в Yandex Cloud с помощью Яндекс ID.\n",
    "\n",
    "https://cloud.yandex.ru/"
   ]
  },
  {
   "cell_type": "markdown",
   "id": "816b253d",
   "metadata": {},
   "source": [
    "Войдите в консоль управления. Подтвердите создание своего первого облака и переходите к созданию платежного аккаунта. В консоли управления перейдите в раздел [Биллинг](https://console.cloud.yandex.ru/billing).\n",
    "\n",
    "На странице **Аккаунты** нажмите в правом верхнем углу кнопку **Создать аккаунт**. Заполните данные (страну плательщика, имя платежного аккаунта). Предоставьте данные для создания платежного аккаунта (ФИО, номер карты, почту и телефон).\n",
    "\n",
    "[Подробнее о платежном аккауте](https://cloud.yandex.ru/docs/getting-started/individuals/registration#qa)"
   ]
  },
  {
   "cell_type": "markdown",
   "id": "1a42abad",
   "metadata": {},
   "source": [
    "Зайдите в [консоль](https://console.cloud.yandex.ru/) и нажмите Cloud Functions.\n",
    "\n",
    "<img src=\"img/func.png\">"
   ]
  },
  {
   "cell_type": "markdown",
   "id": "9385c7c2",
   "metadata": {},
   "source": [
    "Справа наверху нажмите **Создать функцию** и задайте имя для вашего будущего бота (например, telegram-bot).\n",
    "\n",
    "<img src=\"img/func_name.png\" width = 50% height = 50%>"
   ]
  },
  {
   "cell_type": "markdown",
   "id": "b0dbf4bb",
   "metadata": {},
   "source": [
    "Выберите язык программирования Python. Откроется редактор кода, куда мы и положим код нашего бота.\n",
    "\n",
    "<img src=\"img/red.png\">"
   ]
  },
  {
   "cell_type": "markdown",
   "id": "ca64482c",
   "metadata": {},
   "source": [
    "## Бакет для хранения мемов\n",
    "\n",
    "У нас будет простой бот, который будет присылать пользователю по нажатию кнопки мемы про программистов. Давайте для начала подготовим бакет с мемами (по сути облачная папка для хранения файлов – в нашем случае картинок).\n",
    "\n",
    "Для этого в консоли выберем **Object Storage**.\n",
    "\n",
    "<img src=\"img/obj_storage.png\">"
   ]
  },
  {
   "cell_type": "markdown",
   "id": "8fb5d7ba",
   "metadata": {},
   "source": [
    "В правом верхнем углу нажмем **Создать бакет**. Зададим имя и выберем публичный доступ на чтение объектов. После создания зайдем внутрь бакета и загрузим наши 10 картинок-мемов.\n",
    "\n",
    "После загрузки откройте первую картинку и скопируйте ссылку на нее.\n",
    "\n",
    "<img src=\"img/bucket_link.png\">"
   ]
  },
  {
   "cell_type": "markdown",
   "id": "43ef2e6a",
   "metadata": {},
   "source": [
    "Вы получите ссылку типа `https://storage.yandexcloud.net/ИМЯБАКЕТА/ИМЯМЕМА.jpeg`\n",
    "\n",
    "Внутри нашей программы мы будем обращаться к бакету через ссылку `https://storage.yandexcloud.net/ИМЯБАКЕТА/`, а потом добавлять к ней `рандомное число` (наши картинки названы от 1 до 10) и расширение файла `.jpeg`."
   ]
  },
  {
   "cell_type": "markdown",
   "id": "f40a174c",
   "metadata": {},
   "source": [
    "https://storage.yandexcloud.net/progmemes/"
   ]
  },
  {
   "cell_type": "code",
   "execution_count": null,
   "id": "81d99b12",
   "metadata": {},
   "outputs": [],
   "source": [
    "# https://storage.yandexcloud.net/progmemes-3/1.jpeg"
   ]
  },
  {
   "cell_type": "markdown",
   "id": "df09da07",
   "metadata": {},
   "source": [
    "## Редактор кода"
   ]
  },
  {
   "cell_type": "markdown",
   "id": "3d768656",
   "metadata": {},
   "source": [
    "Сразу добавим файл `requirements.txt`, внутри которого запишем внешнюю библиотеку `pyTelegramBotAPI`, которая установится при сборке нашей функции.\n",
    "\n",
    "<img src=\"img/req.png\" height = 50% width = 50%>"
   ]
  },
  {
   "cell_type": "markdown",
   "id": "6c189d47",
   "metadata": {},
   "source": [
    "Меняем код в index.py на код ниже."
   ]
  },
  {
   "cell_type": "code",
   "execution_count": null,
   "id": "9ab8ffb8",
   "metadata": {},
   "outputs": [],
   "source": [
    "import telebot\n",
    "from telebot import types\n",
    "import json\n",
    "import random\n",
    "\n",
    "bot = telebot.TeleBot(\"TOKEN\") # нужен токен вашего бота\n",
    "\n",
    "def handler(event,context): # основная функция для обработки действий бота\n",
    "    body = json.loads(event['body'])\n",
    "    update = telebot.types.Update.de_json(body)\n",
    "    bot.process_new_updates([update])\n",
    "\n",
    "# делаем кнопки\n",
    "button_start = types.KeyboardButton('Хочу смотреть мемы про программистов')\n",
    "button_more = types.KeyboardButton('Неси еще')\n",
    "button_stop = types.KeyboardButton('Хватит, пойду кодить')\n",
    "\n",
    "# делаем две клавиатуры\n",
    "keyboard_start = types.ReplyKeyboardMarkup(row_width=1, resize_keyboard=True)\n",
    "keyboard_start.add(button_start)\n",
    "keyboard_continue = types.ReplyKeyboardMarkup(row_width=2, resize_keyboard=True)\n",
    "keyboard_continue.add(button_more, button_stop)\n",
    "\n",
    "# обрабатываем /start\n",
    "@bot.message_handler(commands=['start'])\n",
    "def start(message):\n",
    "    start_text = \"Привет! Опять прокрастинируешь?\"\n",
    "    bot.send_message(message.chat.id, start_text, reply_markup=keyboard_start)\n",
    "\n",
    "# отправляем мемы\n",
    "@bot.message_handler(regexp=\"Хочу смотреть мемы про программистов|Неси еще\")\n",
    "def send_meme(message):\n",
    "    photo = 'https://storage.yandexcloud.net/progmemes-3/' + str(random.randint(1,10))+'.jpeg' # добавьте полученную выше ссылку бакета\n",
    "    bot.send_photo(message.chat.id, photo, reply_markup=keyboard_continue)\n",
    "\n",
    "# завершаем слать мемы\n",
    "@bot.message_handler(regexp=\"Хватит, пойду кодить\")\n",
    "def bye(message):\n",
    "    end_text = 'Удачи! Захочешь еще мемов, нажми /start'\n",
    "    bot.send_message(message.chat.id, end_text, reply_markup=keyboard_start)\n",
    "\n",
    "# обрабатываем другие сообщения\n",
    "@bot.message_handler(content_types=[\"text\"])\n",
    "def repeat_all_messages(message):\n",
    "    bot.send_message(message.chat.id, \"Я тебя не понимаю\" , reply_markup=keyboard_start)"
   ]
  },
  {
   "cell_type": "markdown",
   "id": "68fd6444",
   "metadata": {},
   "source": [
    "Нажимаем **Создать версию**. Проверяем, наш тг-бот пока не работает :) Необходимо доделать вебхук."
   ]
  },
  {
   "cell_type": "markdown",
   "id": "af12b9e7",
   "metadata": {},
   "source": [
    "## Webhook\n",
    "\n",
    "Webhook - это URL-адрес, который передается API Telegram. Каждый раз, когда приходит новое обновление для бота, сервер Telegram отправляет это обновление на указанный URL. Аналогично происходит отправка сообщений.\n",
    "\n",
    "Достанем URL нашей функции. Для этого внутри нашей функции telegram-bot зайдем в раздел **Обзор**.\n",
    "\n",
    "<img src=\"img/func_link.png\">"
   ]
  },
  {
   "cell_type": "markdown",
   "id": "33dc375e",
   "metadata": {},
   "source": [
    "А теперь используем метод [`.set_webhook()`](https://core.telegram.org/bots/api#setwebhook) для нашего бота. Делаем это прямо в этой тетрадке."
   ]
  },
  {
   "cell_type": "code",
   "execution_count": null,
   "id": "17378fb7",
   "metadata": {},
   "outputs": [],
   "source": [
    "import telebot"
   ]
  },
  {
   "cell_type": "code",
   "execution_count": null,
   "id": "ab6b5df3",
   "metadata": {},
   "outputs": [],
   "source": [
    "bot = telebot.TeleBot(\"TOKEN\")\n",
    "\n",
    "bot.remove_webhook()\n",
    "bot.set_webhook(\"FUNCTION\")"
   ]
  },
  {
   "cell_type": "code",
   "execution_count": null,
   "id": "c076ca3f",
   "metadata": {
    "scrolled": true
   },
   "outputs": [],
   "source": [
    "print(bot.get_webhook_info())"
   ]
  }
 ],
 "metadata": {
  "kernelspec": {
   "display_name": "Python 3 (ipykernel)",
   "language": "python",
   "name": "python3"
  },
  "language_info": {
   "codemirror_mode": {
    "name": "ipython",
    "version": 3
   },
   "file_extension": ".py",
   "mimetype": "text/x-python",
   "name": "python",
   "nbconvert_exporter": "python",
   "pygments_lexer": "ipython3",
   "version": "3.9.18"
  }
 },
 "nbformat": 4,
 "nbformat_minor": 5
}
